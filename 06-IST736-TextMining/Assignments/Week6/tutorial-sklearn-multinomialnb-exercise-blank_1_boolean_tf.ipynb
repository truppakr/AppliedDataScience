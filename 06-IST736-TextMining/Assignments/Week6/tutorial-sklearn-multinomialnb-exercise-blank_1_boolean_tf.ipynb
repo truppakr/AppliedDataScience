{
 "cells": [
  {
   "cell_type": "markdown",
   "metadata": {},
   "source": [
    "# Tutorial - build MNB with sklearn"
   ]
  },
  {
   "cell_type": "markdown",
   "metadata": {},
   "source": [
    "This tutorial demonstrates how to use the Sci-kit Learn (sklearn) package to build Multinomial Naive Bayes model, rank features, and use the model for prediction. \n",
    "\n",
    "The data from the Kaggle Sentiment Analysis on Movie Review Competition are used in this tutorial. Check out the details of the data and the competition on Kaggle.\n",
    "https://www.kaggle.com/c/sentiment-analysis-on-movie-reviews\n",
    "\n",
    "The tutorial also includes sample code to prepare your prediction result for submission to Kaggle. Although the competition is over, you can still submit your prediction to get an evaluation score."
   ]
  },
  {
   "cell_type": "markdown",
   "metadata": {},
   "source": [
    "# Step 1: Read in data"
   ]
  },
  {
   "cell_type": "code",
   "execution_count": 18,
   "metadata": {},
   "outputs": [],
   "source": [
    "# read in the training data\n",
    "\n",
    "# the data set includes four columns: PhraseId, SentenceId, Phrase, Sentiment\n",
    "# In this data set a sentence is further split into phrases \n",
    "# in order to build a sentiment classification model\n",
    "# that can not only predict sentiment of sentences but also shorter phrases\n",
    "\n",
    "# A data example:\n",
    "# PhraseId SentenceId Phrase Sentiment\n",
    "# 1 1 A series of escapades demonstrating the adage that what is good for the goose is also good for the gander , some of which occasionally amuses but none of which amounts to much of a story .1\n",
    "\n",
    "# the Phrase column includes the training examples\n",
    "# the Sentiment column includes the training labels\n",
    "# \"0\" for very negative\n",
    "# \"1\" for negative\n",
    "# \"2\" for neutral\n",
    "# \"3\" for positive\n",
    "# \"4\" for very positive\n",
    "\n",
    "import numpy as np\n",
    "import pandas as p\n",
    "import re\n",
    "\n",
    "train=p.read_csv(\"C:\\\\Users\\\\rkrishnan\\\\Documents\\\\01 Personal\\\\MS\\\\IST 736\\\\Week6\\\\kaggle-sentiment\\\\kaggle-sentiment\\\\train.tsv\", delimiter='\\t')\n",
    "\n",
    "y=train['Sentiment'].values\n",
    "X=p.DataFrame()\n",
    "X['Phrase']=train['Phrase'].apply(lambda x: \" \".join(re.sub('n\\'t',' not',x) for x in x.split()))\n",
    "X=X['Phrase'].values"
   ]
  },
  {
   "cell_type": "markdown",
   "metadata": {},
   "source": [
    "# Step 2: Split train/test data for hold-out test"
   ]
  },
  {
   "cell_type": "code",
   "execution_count": 19,
   "metadata": {},
   "outputs": [
    {
     "name": "stdout",
     "output_type": "stream",
     "text": [
      "(93636,) (93636,) (62424,) (62424,)\n",
      "almost in a class with that of Wilde\n",
      "3\n",
      "escape movie\n",
      "2\n"
     ]
    }
   ],
   "source": [
    "# check the sklearn documentation for train_test_split\n",
    "# http://scikit-learn.org/stable/modules/generated/sklearn.model_selection.train_test_split.html\n",
    "# \"test_size\" : float, int, None, optional\n",
    "# If float, should be between 0.0 and 1.0 and represent the proportion of the dataset to include in the test split. \n",
    "# If int, represents the absolute number of test samples. \n",
    "# If None, the value is set to the complement of the train size. \n",
    "# By default, the value is set to 0.25. The default will change in version 0.21. It will remain 0.25 only if train_size is unspecified, otherwise it will complement the specified train_size.    \n",
    "\n",
    "from sklearn.model_selection import train_test_split\n",
    "X_train, X_test, y_train, y_test = train_test_split(X, y, test_size=0.4, random_state=0)\n",
    "\n",
    "print(X_train.shape, y_train.shape, X_test.shape, y_test.shape)\n",
    "print(X_train[0])\n",
    "print(y_train[0])\n",
    "print(X_test[0])\n",
    "print(y_test[0])"
   ]
  },
  {
   "cell_type": "markdown",
   "metadata": {},
   "source": [
    "Sample output from the code above:\n",
    "\n",
    "(93636,) (93636,) (62424,) (62424,)\n",
    "almost in a class with that of Wilde\n",
    "3\n",
    "escape movie\n",
    "2"
   ]
  },
  {
   "cell_type": "markdown",
   "metadata": {},
   "source": [
    "# Step 2.1 Data Checking"
   ]
  },
  {
   "cell_type": "code",
   "execution_count": 20,
   "metadata": {},
   "outputs": [
    {
     "name": "stdout",
     "output_type": "stream",
     "text": [
      "[[    0     1     2     3     4]\n",
      " [ 4141 16449 47718 19859  5469]]\n"
     ]
    }
   ],
   "source": [
    "# Check how many training examples in each category\n",
    "# this is important to see whether the data set is balanced or skewed\n",
    "\n",
    "unique, counts = np.unique(y_train, return_counts=True)\n",
    "print(np.asarray((unique, counts)))"
   ]
  },
  {
   "cell_type": "markdown",
   "metadata": {},
   "source": [
    "The sample output shows that the data set is skewed with 47718/93636=51% \"neutral\" examples. All other categories are smaller.\n",
    "\n",
    "{0, 1, 2, 3, 4}\n",
    "[[    0  4141]\n",
    " [    1 16449]\n",
    " [    2 47718]\n",
    " [    3 19859]\n",
    " [    4  5469]]"
   ]
  },
  {
   "cell_type": "markdown",
   "metadata": {},
   "source": [
    "# Step 3: Vectorization"
   ]
  },
  {
   "cell_type": "code",
   "execution_count": 24,
   "metadata": {},
   "outputs": [],
   "source": [
    "# sklearn contains two vectorizers\n",
    "\n",
    "# CountVectorizer can give you Boolean or TF vectors\n",
    "# http://scikit-learn.org/stable/modules/generated/sklearn.feature_extraction.text.CountVectorizer.html\n",
    "\n",
    "# TfidfVectorizer can give you TF or TFIDF vectors\n",
    "# http://scikit-learn.org/stable/modules/generated/sklearn.feature_extraction.text.TfidfVectorizer.html\n",
    "\n",
    "# Read the sklearn documentation to understand all vectorization options\n",
    "\n",
    "from sklearn.feature_extraction.text import CountVectorizer\n",
    "from sklearn.feature_extraction.text import TfidfVectorizer\n",
    "\n",
    "# several commonly used vectorizer setting\n",
    "\n",
    "#  unigram boolean vectorizer, set minimum document frequency to 5\n",
    "gram13_bool_vectorizer = CountVectorizer(encoding='latin-1',ngram_range=(1,3), binary=True, min_df=3, stop_words='english')\n",
    "\n",
    "\n",
    "#  unigram tfidf vectorizer, set minimum document frequency to 5\n",
    "gram13_tf_vectorizer = TfidfVectorizer(encoding='latin-1', ngram_range=(1,3),use_idf=False, min_df=3, stop_words='english')\n"
   ]
  },
  {
   "cell_type": "markdown",
   "metadata": {},
   "source": [
    "## Step 3.1: Vectorize the training data"
   ]
  },
  {
   "cell_type": "code",
   "execution_count": 25,
   "metadata": {},
   "outputs": [
    {
     "name": "stdout",
     "output_type": "stream",
     "text": [
      "(93636, 85729)\n",
      "(93636, 85729)\n",
      "[[0 0 0 ... 0 0 0]]\n",
      "[[0. 0. 0. ... 0. 0. 0.]]\n",
      "85729\n",
      "85729\n",
      "[('class', 11969), ('wilde', 83607), ('class wilde', 12002), ('derring', 18116), ('chilling', 11393), ('affecting', 1936), ('chilling affecting', 11395), ('meanspirited', 47731), ('personal', 55853), ('low', 45268)]\n",
      "[('class', 11969), ('wilde', 83607), ('class wilde', 12002), ('derring', 18116), ('chilling', 11393), ('affecting', 1936), ('chilling affecting', 11395), ('meanspirited', 47731), ('personal', 55853), ('low', 45268)]\n",
      "36780\n",
      "36780\n"
     ]
    }
   ],
   "source": [
    "# The vectorizer can do \"fit\" and \"transform\"\n",
    "# fit is a process to collect unique tokens into the vocabulary\n",
    "# transform is a process to convert each document to vector based on the vocabulary\n",
    "# These two processes can be done together using fit_transform(), or used individually: fit() or transform()\n",
    "\n",
    "# fit vocabulary in training documents and transform the training documents into vectors\n",
    "X_train_vec = gram13_bool_vectorizer.fit_transform(X_train)\n",
    "X2_train_vec = gram13_tf_vectorizer.fit_transform(X_train)\n",
    "\n",
    "# check the content of a document vector\n",
    "print(X_train_vec.shape)\n",
    "print(X2_train_vec.shape)\n",
    "print(X_train_vec[0].toarray())\n",
    "print(X2_train_vec[0].toarray())\n",
    "\n",
    "# check the size of the constructed vocabulary\n",
    "print(len(gram13_bool_vectorizer.vocabulary_))\n",
    "print(len(gram13_tf_vectorizer.vocabulary_))\n",
    "\n",
    "# print out the first 10 items in the vocabulary\n",
    "print(list(gram13_bool_vectorizer.vocabulary_.items())[:10])\n",
    "print(list(gram13_tf_vectorizer.vocabulary_.items())[:10])\n",
    "\n",
    "# check word index in vocabulary\n",
    "print(gram13_bool_vectorizer.vocabulary_.get('imaginative'))\n",
    "print(gram13_tf_vectorizer.vocabulary_.get('imaginative'))"
   ]
  },
  {
   "cell_type": "markdown",
   "metadata": {},
   "source": [
    "Sample output:\n",
    "\n",
    "(93636, 11967)\n",
    "[[0 0 0 ..., 0 0 0]]\n",
    "11967\n",
    "[('imaginative', 5224), ('tom', 10809), ('smiling', 9708), ('easy', 3310), ('diversity', 3060), ('impossibly', 5279), ('buy', 1458), ('sentiments', 9305), ('households', 5095), ('deteriorates', 2843)]\n",
    "5224"
   ]
  },
  {
   "cell_type": "markdown",
   "metadata": {},
   "source": [
    "## Step 3.2: Vectorize the test data"
   ]
  },
  {
   "cell_type": "code",
   "execution_count": 28,
   "metadata": {},
   "outputs": [
    {
     "name": "stdout",
     "output_type": "stream",
     "text": [
      "(62424, 85729)\n",
      "(62424, 85729)\n"
     ]
    }
   ],
   "source": [
    "# use the vocabulary constructed from the training data to vectorize the test data. \n",
    "# Therefore, use \"transform\" only, not \"fit_transform\", \n",
    "# otherwise \"fit\" would generate a new vocabulary from the test data\n",
    "\n",
    "X_test_vec = gram13_bool_vectorizer.transform(X_test)\n",
    "X2_test_vec = gram13_tf_vectorizer.transform(X_test)\n",
    "\n",
    "# print out #examples and #features in the test set\n",
    "print(X_test_vec.shape)\n",
    "print(X2_test_vec.shape)"
   ]
  },
  {
   "cell_type": "markdown",
   "metadata": {},
   "source": [
    "Sample output:\n",
    "\n",
    "(62424, 14324)"
   ]
  },
  {
   "cell_type": "markdown",
   "metadata": {},
   "source": [
    "# Step 4: Train a MNB classifier"
   ]
  },
  {
   "cell_type": "code",
   "execution_count": 30,
   "metadata": {},
   "outputs": [
    {
     "data": {
      "text/plain": [
       "MultinomialNB(alpha=1.0, class_prior=None, fit_prior=True)"
      ]
     },
     "execution_count": 30,
     "metadata": {},
     "output_type": "execute_result"
    }
   ],
   "source": [
    "# import the MNB module\n",
    "from sklearn.naive_bayes import MultinomialNB\n",
    "\n",
    "# initialize the MNB model\n",
    "nb_clf= MultinomialNB()\n",
    "nb_clf2= MultinomialNB()\n",
    "\n",
    "# use the training data to train the MNB model\n",
    "nb_clf.fit(X_train_vec,y_train)\n",
    "nb_clf2.fit(X2_train_vec,y_train)"
   ]
  },
  {
   "cell_type": "markdown",
   "metadata": {},
   "source": [
    "# Step 4.1 Interpret a trained MNB model"
   ]
  },
  {
   "cell_type": "code",
   "execution_count": 31,
   "metadata": {},
   "outputs": [
    {
     "name": "stdout",
     "output_type": "stream",
     "text": [
      "-9.907899235308593\n",
      "-11.720427320294482\n",
      "-12.73906281095762\n",
      "-12.511566394061187\n",
      "-11.930259853648483\n",
      "-10.360839306109007\n",
      "-11.330199696953395\n",
      "-12.1004955845386\n",
      "-11.84682515952192\n",
      "-11.54243932936044\n"
     ]
    }
   ],
   "source": [
    "## interpreting naive Bayes models\n",
    "## by consulting the sklearn documentation you can also find out feature_log_prob_, \n",
    "## which are the conditional probabilities\n",
    "## http://scikit-learn.org/stable/modules/generated/sklearn.naive_bayes.MultinomialNB.html\n",
    "\n",
    "# the code below will print out the conditional prob of the word \"worthless\" in each category\n",
    "# sample output\n",
    "# -8.98942647599 -> logP('worthless'|very negative')\n",
    "# -11.1864401922 -> logP('worthless'|negative')\n",
    "# -12.3637684625 -> logP('worthless'|neutral')\n",
    "# -11.9886066961 -> logP('worthless'|positive')\n",
    "# -11.0504454621 -> logP('worthless'|very positive')\n",
    "# the above output means the word feature \"worthless\" is indicating \"very negative\" \n",
    "# because P('worthless'|very negative) is the greatest among all conditional probs\n",
    "\n",
    "gram13_bool_vectorizer.vocabulary_.get('worthless')\n",
    "for i in range(0,5):\n",
    "  print(nb_clf.feature_log_prob_[i][gram13_bool_vectorizer.vocabulary_.get('worthless')])\n",
    "\n",
    "gram13_tf_vectorizer.vocabulary_.get('worthless')\n",
    "for i in range(0,5):\n",
    "  print(nb_clf2.feature_log_prob_[i][gram13_tf_vectorizer.vocabulary_.get('worthless')])"
   ]
  },
  {
   "cell_type": "markdown",
   "metadata": {},
   "source": [
    "Sample output:\n",
    "\n",
    "-8.5389826392\n",
    "-10.6436375867\n",
    "-11.8419845779\n",
    "-11.4778370023\n",
    "-10.6297551464"
   ]
  },
  {
   "cell_type": "code",
   "execution_count": 32,
   "metadata": {},
   "outputs": [
    {
     "name": "stdout",
     "output_type": "stream",
     "text": [
      "[(-7.32120989121065, 'time'), (-7.310514602093902, 'minutes'), (-7.299932492763365, 'characters'), (-7.299932492763365, 'story'), (-7.279098405860523, 'comedy'), (-7.0746858912523765, 'just'), (-6.570605655625918, 'like'), (-6.446637612903787, 'bad'), (-6.222597602542541, 'film'), (-5.696830398778351, 'movie')]\n",
      "[(-8.257702847868414, 'comedy'), (-8.248067810832744, 'time'), (-8.245228677625189, 'dull'), (-8.171230086956076, 'story'), (-8.003065879893871, 'worst'), (-7.967377045940337, 'just'), (-7.548007605951835, 'like'), (-7.150240233551399, 'film'), (-7.073899309532065, 'bad'), (-6.5584756273655005, 'movie')]\n"
     ]
    }
   ],
   "source": [
    "# sort the conditional probability for category 0 \"very negative\"\n",
    "# print the words with highest conditional probs\n",
    "# these can be words popular in the \"very negative\" category alone, or words popular in all cateogires\n",
    "\n",
    "feature_ranks = sorted(zip(nb_clf.feature_log_prob_[0], gram13_bool_vectorizer.get_feature_names()))\n",
    "very_negative_features = feature_ranks[-10:]\n",
    "print(very_negative_features)\n",
    "\n",
    "feature_ranks2 = sorted(zip(nb_clf2.feature_log_prob_[0], gram13_tf_vectorizer.get_feature_names()))\n",
    "very_negative_features2 = feature_ranks2[-10:]\n",
    "print(very_negative_features2)"
   ]
  },
  {
   "cell_type": "markdown",
   "metadata": {},
   "source": [
    "# Exercise C"
   ]
  },
  {
   "cell_type": "code",
   "execution_count": 33,
   "metadata": {},
   "outputs": [
    {
     "name": "stdout",
     "output_type": "stream",
     "text": [
      "[(-7.32120989121065, 'time'), (-7.310514602093902, 'minutes'), (-7.299932492763365, 'characters'), (-7.299932492763365, 'story'), (-7.279098405860523, 'comedy'), (-7.0746858912523765, 'just'), (-6.570605655625918, 'like'), (-6.446637612903787, 'bad'), (-6.222597602542541, 'film'), (-5.696830398778351, 'movie')]\n",
      "[(-8.257702847868414, 'comedy'), (-8.248067810832744, 'time'), (-8.245228677625189, 'dull'), (-8.171230086956076, 'story'), (-8.003065879893871, 'worst'), (-7.967377045940337, 'just'), (-7.548007605951835, 'like'), (-7.150240233551399, 'film'), (-7.073899309532065, 'bad'), (-6.5584756273655005, 'movie')]\n",
      "[(-11.853809384363906, '000 leagues sea'), (-11.853809384363906, '10 course'), (-11.853809384363906, '10 course banquet'), (-11.853809384363906, '10 minutes prior'), (-11.853809384363906, '10 minutes trombone'), (-11.853809384363906, '10 year'), (-11.853809384363906, '10 year delay'), (-11.853809384363906, '10 year old'), (-11.853809384363906, '100 minute')]\n",
      "[(-11.507619989550962, '000 leagues sea'), (-11.507619989550962, '10 course'), (-11.507619989550962, '10 course banquet'), (-11.507619989550962, '10 minutes prior'), (-11.507619989550962, '10 minutes trombone'), (-11.507619989550962, '10 year'), (-11.507619989550962, '10 year delay'), (-11.507619989550962, '10 year old'), (-11.507619989550962, '100 minute')]\n",
      "[(-7.118075498276066, 'performance'), (-7.078229589728866, 'comedy'), (-7.032420053697572, 'great'), (-6.9957859205177915, 'story'), (-6.946653231940147, 'performances'), (-6.771204554433954, 'good'), (-6.541188123831982, 'funny'), (-6.453796301716972, 'best'), (-6.080935073701624, 'movie'), (-5.563789405917045, 'film')]\n",
      "[(-11.54243932936044, '000 leagues'), (-11.54243932936044, '000 leagues sea'), (-11.54243932936044, '000 times'), (-11.54243932936044, '10 000'), (-11.54243932936044, '10 000 times'), (-11.54243932936044, '10 15'), (-11.54243932936044, '10 15 minutes'), (-11.54243932936044, '10 minutes'), (-11.54243932936044, '10 minutes prior')]\n",
      "[(-7.118075498276066, 'performance'), (-7.078229589728866, 'comedy'), (-7.032420053697572, 'great'), (-6.9957859205177915, 'story'), (-6.946653231940147, 'performances'), (-6.771204554433954, 'good'), (-6.541188123831982, 'funny'), (-6.453796301716972, 'best'), (-6.080935073701624, 'movie'), (-5.563789405917045, 'film')]\n",
      "[(-11.54243932936044, '000 leagues'), (-11.54243932936044, '000 leagues sea'), (-11.54243932936044, '000 times'), (-11.54243932936044, '10 000'), (-11.54243932936044, '10 000 times'), (-11.54243932936044, '10 15'), (-11.54243932936044, '10 15 minutes'), (-11.54243932936044, '10 minutes'), (-11.54243932936044, '10 minutes prior')]\n",
      "\t-11.8538\t000 leagues    \t\t-7.3212\ttime           \n",
      "\t-11.8538\t000 leagues sea\t\t-7.3105\tminutes        \n",
      "\t-11.8538\t10 course      \t\t-7.2999\tcharacters     \n",
      "\t-11.8538\t10 course banquet\t\t-7.2999\tstory          \n",
      "\t-11.8538\t10 minutes prior\t\t-7.2791\tcomedy         \n",
      "\t-11.8538\t10 minutes trombone\t\t-7.0747\tjust           \n",
      "\t-11.8538\t10 year        \t\t-6.5706\tlike           \n",
      "\t-11.8538\t10 year delay  \t\t-6.4466\tbad            \n",
      "\t-11.8538\t10 year old    \t\t-6.2226\tfilm           \n",
      "\t-11.8538\t100 minute     \t\t-5.6968\tmovie          \n",
      "\t-11.9303\t000            \t\t-7.1181\tperformance    \n",
      "\t-11.9303\t000 leagues    \t\t-7.0782\tcomedy         \n",
      "\t-11.9303\t000 leagues sea\t\t-7.0324\tgreat          \n",
      "\t-11.9303\t000 times      \t\t-6.9958\tstory          \n",
      "\t-11.9303\t10 000         \t\t-6.9467\tperformances   \n",
      "\t-11.9303\t10 000 times   \t\t-6.7712\tgood           \n",
      "\t-11.9303\t10 15          \t\t-6.5412\tfunny          \n",
      "\t-11.9303\t10 15 minutes  \t\t-6.4538\tbest           \n",
      "\t-11.9303\t10 minutes     \t\t-6.0809\tmovie          \n",
      "\t-11.9303\t10 minutes prior\t\t-5.5638\tfilm           \n",
      "\t-11.8538\t000 leagues    \t\t-7.3212\ttime           \n",
      "\t-11.8538\t000 leagues sea\t\t-7.3105\tminutes        \n",
      "\t-11.8538\t10 course      \t\t-7.2999\tcharacters     \n",
      "\t-11.8538\t10 course banquet\t\t-7.2999\tstory          \n",
      "\t-11.8538\t10 minutes prior\t\t-7.2791\tcomedy         \n",
      "\t-11.8538\t10 minutes trombone\t\t-7.0747\tjust           \n",
      "\t-11.8538\t10 year        \t\t-6.5706\tlike           \n",
      "\t-11.8538\t10 year delay  \t\t-6.4466\tbad            \n",
      "\t-11.8538\t10 year old    \t\t-6.2226\tfilm           \n",
      "\t-11.8538\t100 minute     \t\t-5.6968\tmovie          \n",
      "\t-11.9303\t000            \t\t-7.1181\tperformance    \n",
      "\t-11.9303\t000 leagues    \t\t-7.0782\tcomedy         \n",
      "\t-11.9303\t000 leagues sea\t\t-7.0324\tgreat          \n",
      "\t-11.9303\t000 times      \t\t-6.9958\tstory          \n",
      "\t-11.9303\t10 000         \t\t-6.9467\tperformances   \n",
      "\t-11.9303\t10 000 times   \t\t-6.7712\tgood           \n",
      "\t-11.9303\t10 15          \t\t-6.5412\tfunny          \n",
      "\t-11.9303\t10 15 minutes  \t\t-6.4538\tbest           \n",
      "\t-11.9303\t10 minutes     \t\t-6.0809\tmovie          \n",
      "\t-11.9303\t10 minutes prior\t\t-5.5638\tfilm           \n"
     ]
    }
   ],
   "source": [
    "def show_most_and_least_informative_features(vectorizer,clf,class_idx=0,n=10):\n",
    "    feature_names=vectorizer.get_feature_names()\n",
    "    coefs_with_fns=sorted(zip(clf.coef_[class_idx],feature_names))\n",
    "    top=zip(coefs_with_fns[:n],coefs_with_fns[-n:])\n",
    "    for (coef_1,fn_1),(coef_2,fn_2) in top:\n",
    "        print(\"\\t%.4f\\t%-15s\\t\\t%.4f\\t%-15s\" % (coef_1,fn_1,coef_2,fn_2))\n",
    "\n",
    "\n",
    "# calculate log ratio of conditional probs\n",
    "\n",
    "# In this exercise you will calculate the log ratio \n",
    "# between conditional probs in the \"very negative\" category\n",
    "# and conditional probs in the \"very positive\" category,\n",
    "# and then sort and print out the top and bottom 10 words\n",
    "\n",
    "# the conditional probs for the \"very negative\" category is stored in nb_clf.feature_log_prob_[0]\n",
    "# the conditional probs for the \"very positive\" category is stored in nb_clf.feature_log_prob_[4]\n",
    "\n",
    "# You can consult with similar code in week 4's sample script on feature weighting\n",
    "# Note that in sklearn's MultinomialNB the conditional probs have been converted to log values.\n",
    "\n",
    "# Your code starts here\n",
    "# Top 10 Very Negative features\n",
    "feature_ranks = sorted(zip(nb_clf.feature_log_prob_[0], gram13_bool_vectorizer.get_feature_names()))\n",
    "very_negative_features = feature_ranks[-10:]\n",
    "print(very_negative_features)\n",
    "\n",
    "feature_ranks2 = sorted(zip(nb_clf2.feature_log_prob_[0], gram13_tf_vectorizer.get_feature_names()))\n",
    "very_negative_features2 = feature_ranks2[-10:]\n",
    "print(very_negative_features2)\n",
    "\n",
    "# Bottom 10 Very Negative features\n",
    "feature_ranks = sorted(zip(nb_clf.feature_log_prob_[0], gram13_bool_vectorizer.get_feature_names()))\n",
    "least_negative_features = feature_ranks[1:10:]\n",
    "print(least_negative_features)\n",
    "\n",
    "feature_ranks2 = sorted(zip(nb_clf2.feature_log_prob_[0], gram13_tf_vectorizer.get_feature_names()))\n",
    "least_negative_features2 = feature_ranks2[1:10:]\n",
    "print(least_negative_features2)\n",
    "\n",
    "\n",
    "# Top 10 Very Positive features\n",
    "feature_ranks = sorted(zip(nb_clf.feature_log_prob_[4], gram13_bool_vectorizer.get_feature_names()))\n",
    "very_positive_features = feature_ranks[-10:]\n",
    "print(very_positive_features)\n",
    "\n",
    "feature_ranks2 = sorted(zip(nb_clf2.feature_log_prob_[4], gram13_tf_vectorizer.get_feature_names()))\n",
    "very_positive_features2 = feature_ranks2[1:10:]\n",
    "print(very_positive_features2)\n",
    "\n",
    "# Top 10 Very Positive features\n",
    "feature_ranks = sorted(zip(nb_clf.feature_log_prob_[4], gram13_bool_vectorizer.get_feature_names()))\n",
    "least_positive_features = feature_ranks[-10:]\n",
    "print(least_positive_features)\n",
    "\n",
    "feature_ranks2 = sorted(zip(nb_clf2.feature_log_prob_[4], gram13_tf_vectorizer.get_feature_names()))\n",
    "least_positive_features2 = feature_ranks2[1:10:]\n",
    "print(least_positive_features2)\n",
    "\n",
    "show_most_and_least_informative_features(gram13_bool_vectorizer,nb_clf,class_idx=0,n=10)\n",
    "show_most_and_least_informative_features(gram13_bool_vectorizer,nb_clf,class_idx=4,n=10)\n",
    "show_most_and_least_informative_features(gram13_tf_vectorizer,nb_clf,class_idx=0,n=10)\n",
    "show_most_and_least_informative_features(gram13_tf_vectorizer,nb_clf,class_idx=4,n=10)\n",
    "# Your code ends here"
   ]
  },
  {
   "cell_type": "markdown",
   "metadata": {},
   "source": [
    "Sample output for print(log_ratios[0])\n",
    "\n",
    "-0.838009538739"
   ]
  },
  {
   "cell_type": "markdown",
   "metadata": {},
   "source": [
    "# Step 5: Test the MNB classifier"
   ]
  },
  {
   "cell_type": "code",
   "execution_count": 35,
   "metadata": {},
   "outputs": [
    {
     "data": {
      "text/plain": [
       "0.5989523260284506"
      ]
     },
     "execution_count": 35,
     "metadata": {},
     "output_type": "execute_result"
    }
   ],
   "source": [
    "# test the classifier on the test data set, print accuracy score\n",
    "\n",
    "nb_clf.score(X_test_vec,y_test)\n"
   ]
  },
  {
   "cell_type": "code",
   "execution_count": 36,
   "metadata": {},
   "outputs": [
    {
     "data": {
      "text/plain": [
       "0.5934095860566448"
      ]
     },
     "execution_count": 36,
     "metadata": {},
     "output_type": "execute_result"
    }
   ],
   "source": [
    "nb_clf2.score(X2_test_vec,y_test)"
   ]
  },
  {
   "cell_type": "code",
   "execution_count": 39,
   "metadata": {},
   "outputs": [
    {
     "name": "stdout",
     "output_type": "stream",
     "text": [
      "[[ 1010  1243   612    55    11]\n",
      " [ 1039  4746  4473   513    53]\n",
      " [  471  3236 23866  3844   447]\n",
      " [   61   513  4755  6415  1324]\n",
      " [    7    37   504  1837  1352]]\n"
     ]
    }
   ],
   "source": [
    "# print confusion matrix (row: ground truth; col: prediction)\n",
    "\n",
    "from sklearn.metrics import confusion_matrix\n",
    "y_pred = nb_clf.fit(X_train_vec, y_train).predict(X_test_vec)\n",
    "cm=confusion_matrix(y_test, y_pred, labels=[0,1,2,3,4])\n",
    "print(cm)\n",
    "\n"
   ]
  },
  {
   "cell_type": "code",
   "execution_count": 40,
   "metadata": {},
   "outputs": [
    {
     "name": "stdout",
     "output_type": "stream",
     "text": [
      "[[  117  1058  1718    38     0]\n",
      " [   46  2458  8095   225     0]\n",
      " [    9   893 29504  1454     4]\n",
      " [    0    78  8157  4765    68]\n",
      " [    0     7  1437  2094   199]]\n"
     ]
    }
   ],
   "source": [
    "y_pred2 = nb_clf2.fit(X2_train_vec, y_train).predict(X2_test_vec)\n",
    "cm2=confusion_matrix(y_test, y_pred2, labels=[0,1,2,3,4])\n",
    "print(cm2)"
   ]
  },
  {
   "cell_type": "code",
   "execution_count": 41,
   "metadata": {},
   "outputs": [
    {
     "name": "stdout",
     "output_type": "stream",
     "text": [
      "[0.39026275 0.4855243  0.69763227 0.50655401 0.42422341]\n",
      "[0.34459229 0.43847007 0.74899573 0.49089379 0.36178753]\n",
      "[0.68023256 0.54695149 0.60321809 0.55562034 0.73431734]\n",
      "[0.03991812 0.22708795 0.92593522 0.36463116 0.05325127]\n",
      "              precision    recall  f1-score   support\n",
      "\n",
      "           0       0.39      0.34      0.37      2931\n",
      "           1       0.49      0.44      0.46     10824\n",
      "           2       0.70      0.75      0.72     31864\n",
      "           3       0.51      0.49      0.50     13068\n",
      "           4       0.42      0.36      0.39      3737\n",
      "\n",
      "    accuracy                           0.60     62424\n",
      "   macro avg       0.50      0.48      0.49     62424\n",
      "weighted avg       0.59      0.60      0.59     62424\n",
      "\n",
      "              precision    recall  f1-score   support\n",
      "\n",
      "           0       0.68      0.04      0.08      2931\n",
      "           1       0.55      0.23      0.32     10824\n",
      "           2       0.60      0.93      0.73     31864\n",
      "           3       0.56      0.36      0.44     13068\n",
      "           4       0.73      0.05      0.10      3737\n",
      "\n",
      "    accuracy                           0.59     62424\n",
      "   macro avg       0.62      0.32      0.33     62424\n",
      "weighted avg       0.59      0.59      0.53     62424\n",
      "\n"
     ]
    }
   ],
   "source": [
    "# print classification report\n",
    "\n",
    "from sklearn.metrics import precision_score\n",
    "from sklearn.metrics import recall_score\n",
    "print(precision_score(y_test, y_pred, average=None))\n",
    "print(recall_score(y_test, y_pred, average=None))\n",
    "print(precision_score(y_test, y_pred2, average=None))\n",
    "print(recall_score(y_test, y_pred2, average=None))\n",
    "\n",
    "from sklearn.metrics import classification_report\n",
    "target_names = ['0','1','2','3','4']\n",
    "print(classification_report(y_test, y_pred, target_names=target_names))\n",
    "print(classification_report(y_test, y_pred2, target_names=target_names))"
   ]
  },
  {
   "cell_type": "markdown",
   "metadata": {},
   "source": [
    "# Step 5.1 Interpret the prediction result"
   ]
  },
  {
   "cell_type": "code",
   "execution_count": 42,
   "metadata": {},
   "outputs": [
    {
     "name": "stdout",
     "output_type": "stream",
     "text": [
      "[0.03065103 0.16491852 0.75441523 0.03424136 0.01577386]\n",
      "[0.02425665 0.17822079 0.66685966 0.10818064 0.02248227]\n",
      "2\n",
      "2\n",
      "2\n"
     ]
    }
   ],
   "source": [
    "## find the calculated posterior probability\n",
    "posterior_probs = nb_clf.predict_proba(X_test_vec)\n",
    "posterior_probs2= nb_clf2.predict_proba(X2_test_vec)\n",
    "\n",
    "## find the posterior probabilities for the first test example\n",
    "print(posterior_probs[0])\n",
    "print(posterior_probs2[0])\n",
    "\n",
    "# find the category prediction for the first test example\n",
    "y_pred = nb_clf.predict(X_test_vec)\n",
    "print(y_pred[0])\n",
    "\n",
    "y_pred2 = nb_clf2.predict(X2_test_vec)\n",
    "print(y_pred2[0])\n",
    "\n",
    "# check the actual label for the first test example\n",
    "print(y_test[0])"
   ]
  },
  {
   "cell_type": "markdown",
   "metadata": {},
   "source": [
    "sample output array([ 0.06434628  0.34275846  0.50433091  0.07276319  0.01580115]\n",
    "\n",
    "Because the posterior probability for category 2 (neutral) is the greatest, 0.50, the prediction should be \"2\". Because the actual label is also \"2\", this is a correct prediction\n"
   ]
  },
  {
   "cell_type": "markdown",
   "metadata": {},
   "source": [
    "# Step 5.2 Error Analysis"
   ]
  },
  {
   "cell_type": "code",
   "execution_count": 45,
   "metadata": {},
   "outputs": [
    {
     "name": "stdout",
     "output_type": "stream",
     "text": [
      "there 's no way you wo  not be talking about the film once you exit the theater .\n",
      "two fine actors , Morgan Freeman and Ashley Judd\n",
      "What John does is heroic , but we do  not condone it , '' one of the film 's stars recently said , a tortuous comment that perfectly illustrates the picture 's moral schizophrenia .\n",
      "of healthy eccentric inspiration and ambition\n",
      "exceptionally good idea\n",
      "distinguished actor\n",
      "Spy Kids a surprising winner with both adults and younger audiences\n",
      "errors: 7\n"
     ]
    }
   ],
   "source": [
    "# print out specific type of error for further analysis\n",
    "\n",
    "# print out the very positive examples that are mistakenly predicted as negative\n",
    "# according to the confusion matrix, there should be 53 such examples\n",
    "# note if you use a different vectorizer option, your result might be different\n",
    "\n",
    "err_cnt = 0\n",
    "for i in range(0, len(y_test)):\n",
    "    if(y_test[i]==4 and y_pred[i]==0):\n",
    "        print(X_test[i])\n",
    "        err_cnt = err_cnt+1\n",
    "print(\"errors:\", err_cnt)"
   ]
  },
  {
   "cell_type": "markdown",
   "metadata": {},
   "source": [
    "# Exercise D"
   ]
  },
  {
   "cell_type": "code",
   "execution_count": 46,
   "metadata": {},
   "outputs": [
    {
     "name": "stdout",
     "output_type": "stream",
     "text": [
      "rude and profane\n",
      "this is the opposite of a truly magical movie .\n",
      "it would be a shame if this was your introduction to one of the greatest plays of the last 100 years\n",
      "The most horrific movie experience\n",
      "emotionally belittle a cinema classic .\n",
      "But if the essence of magic is its make-believe promise of life that soars above the material realm , this is the opposite of a truly magical movie .\n",
      "is not Edward Burns ' best film\n",
      "It may not be a great piece of filmmaking ,\n",
      "is the opposite of a truly magical movie .\n",
      "would be a shame if this was your introduction to one of the greatest plays of the last 100 years\n",
      "to this shocking testament to anti-Semitism and neo-fascism\n",
      "errors: 11\n"
     ]
    }
   ],
   "source": [
    "# Can you find linguistic patterns in the above errors? \n",
    "# What kind of very positive examples were mistakenly predicted as negative?\n",
    "\n",
    "# Negations are being considered as negative \n",
    "# words like grief and loss , evil are negative keywords but it's is non-negative in this contextual\n",
    "# terrifically entertaining and spectacularly outrageous are highly positive in this context\n",
    "\n",
    "# Can you write code to print out the errors that very negative examples were mistakenly predicted as very positive?\n",
    "# Your code starts here\n",
    "err_cnt = 0\n",
    "for i in range(0, len(y_test)):\n",
    "    if(y_test[i]==0 and y_pred[i]==4):\n",
    "        print(X_test[i])\n",
    "        err_cnt = err_cnt+1\n",
    "print(\"errors:\", err_cnt)\n",
    "# Your code ends here\n",
    "# Can you find lingustic patterns for this kind of errors?\n",
    "\n",
    "\n",
    "# Again negation is not linked to the right bucket like \"not the great american comedy\", \"never achieve the popularity\" and \"may not be a great piece of filmmaking\"\n",
    "# phrases like \"cleverly crafted but ultimately hollow mockumentary\"  , \"beautifully shot but dull and ankle-deep ` epic . '\" are very negative in nature but categorized as positive\n",
    "\n",
    "# Based on the above error analysis, what suggestions would you give to improve the current model?\n",
    "\n",
    "# One option is to use ngram to train the model which can assess the sentiment score of a phrases rather than just using individual keywords.\n",
    "# consider negation while training the model, negation followed by positive keywords and negation followed by negative keywaords are opposite in nature."
   ]
  },
  {
   "cell_type": "markdown",
   "metadata": {},
   "source": [
    "# Step 6: write the prediction output to file"
   ]
  },
  {
   "cell_type": "code",
   "execution_count": 60,
   "metadata": {},
   "outputs": [],
   "source": [
    "y_pred=nb_clf.predict(X_test_vec)\n",
    "output = open('C:\\\\Users\\\\rkrishnan\\\\Documents\\\\01 Personal\\\\MS\\\\IST 736\\\\Week6\\\\kaggle-sentiment\\\\kaggle-sentiment\\\\prediction_output.csv', 'w')\n",
    "for x, value in enumerate(y_pred):\n",
    "  output.write(str(value) + '\\n') \n",
    "output.close()"
   ]
  },
  {
   "cell_type": "markdown",
   "metadata": {},
   "source": [
    "# Step 6.1 Prepare submission to Kaggle sentiment classification competition"
   ]
  },
  {
   "cell_type": "code",
   "execution_count": 61,
   "metadata": {
    "scrolled": false
   },
   "outputs": [],
   "source": [
    "########## submit to Kaggle submission\n",
    "\n",
    "# we are still using the model trained on 60% of the training data\n",
    "# you can re-train the model on the entire data set \n",
    "#   and use the new model to predict the Kaggle test data\n",
    "# below is sample code for using a trained model to predict Kaggle test data \n",
    "#    and format the prediction output for Kaggle submission\n",
    "\n",
    "# read in the test data\n",
    "kaggle_test=p.read_csv(\"C:\\\\Users\\\\rkrishnan\\\\Documents\\\\01 Personal\\\\MS\\\\IST 736\\\\Week6\\\\kaggle-sentiment\\\\kaggle-sentiment\\\\test.tsv\", delimiter='\\t') \n",
    "\n",
    "# preserve the id column of the test examples\n",
    "kaggle_ids=kaggle_test['PhraseId'].values\n",
    "\n",
    "# read in the text content of the examples\n",
    "kaggle_X_test=kaggle_test['Phrase'].values\n",
    "\n",
    "# vectorize the test examples using the vocabulary fitted from the 60% training data\n",
    "kaggle_X_test_vec=gram13_bool_vectorizer.transform(kaggle_X_test)\n",
    "kaggle_X2_test_vec=gram13_tf_vectorizer.transform(kaggle_X_test)\n",
    "\n",
    "# predict using the NB classifier that we built\n",
    "kaggle_pred=nb_clf.fit(X_train_vec, y_train).predict(kaggle_X_test_vec)\n",
    "kaggle_pred2=nb_clf2.fit(X2_train_vec, y_train).predict(kaggle_X2_test_vec)\n",
    "\n",
    "# combine the test example ids with their predictions\n",
    "kaggle_submission=zip(kaggle_ids, kaggle_pred)\n",
    "kaggle_submission2=zip(kaggle_ids, kaggle_pred2)\n",
    "\n",
    "# prepare output file\n",
    "outf=open('C:\\\\Users\\\\rkrishnan\\\\Documents\\\\01 Personal\\\\MS\\\\IST 736\\\\Week6\\\\kaggle-sentiment\\\\kaggle-sentiment\\\\kaggle_submission.csv', 'w')\n",
    "outf2=open('C:\\\\Users\\\\rkrishnan\\\\Documents\\\\01 Personal\\\\MS\\\\IST 736\\\\Week6\\\\kaggle-sentiment\\\\kaggle-sentiment\\\\kaggle_submission2.csv', 'w')\n",
    "\n",
    "# write header\n",
    "outf.write('PhraseId,Sentiment\\n')\n",
    "outf2.write('PhraseId,Sentiment\\n')\n",
    "\n",
    "# write predictions with ids to the output file\n",
    "for x, value in enumerate(kaggle_submission): outf.write(str(value[0]) + ',' + str(value[1]) + '\\n')\n",
    "for x, value in enumerate(kaggle_submission2): outf2.write(str(value[0]) + ',' + str(value[1]) + '\\n')\n",
    "\n",
    "# close the output file\n",
    "outf.close()\n",
    "outf2.close()"
   ]
  },
  {
   "cell_type": "code",
   "execution_count": 42,
   "metadata": {},
   "outputs": [
    {
     "data": {
      "text/plain": [
       "<66292x11967 sparse matrix of type '<class 'numpy.int64'>'\n",
       "\twith 194704 stored elements in Compressed Sparse Row format>"
      ]
     },
     "execution_count": 42,
     "metadata": {},
     "output_type": "execute_result"
    }
   ],
   "source": [
    "kaggle_X_test_vec\n",
    "\n"
   ]
  },
  {
   "cell_type": "code",
   "execution_count": 43,
   "metadata": {},
   "outputs": [
    {
     "data": {
      "text/plain": [
       "<93636x34579 sparse matrix of type '<class 'numpy.int64'>'\n",
       "\twith 501197 stored elements in Compressed Sparse Row format>"
      ]
     },
     "execution_count": 43,
     "metadata": {},
     "output_type": "execute_result"
    }
   ],
   "source": [
    "X_train_vec"
   ]
  },
  {
   "cell_type": "code",
   "execution_count": 45,
   "metadata": {},
   "outputs": [
    {
     "data": {
      "text/plain": [
       "93636"
      ]
     },
     "execution_count": 45,
     "metadata": {},
     "output_type": "execute_result"
    }
   ],
   "source": [
    "len(y_train)"
   ]
  },
  {
   "cell_type": "markdown",
   "metadata": {},
   "source": [
    "# Exercise E"
   ]
  },
  {
   "cell_type": "code",
   "execution_count": null,
   "metadata": {
    "collapsed": true
   },
   "outputs": [],
   "source": [
    "# generate your Kaggle submissions with boolean representation and TF representation\n",
    "# submit to Kaggle\n",
    "# report your scores here\n",
    "# which model gave better performance in the hold-out test\n",
    "# which model gave better performance in the Kaggle test"
   ]
  },
  {
   "cell_type": "markdown",
   "metadata": {},
   "source": [
    "Sample output:\n",
    "\n",
    "(93636, 9968)\n",
    "[[0 0 0 ..., 0 0 0]]\n",
    "9968\n",
    "[('disloc', 2484), ('surgeon', 8554), ('camaraderi', 1341), ('sketchiest', 7943), ('dedic', 2244), ('impud', 4376), ('adopt', 245), ('worker', 9850), ('buy', 1298), ('systemat', 8623)]\n",
    "245"
   ]
  },
  {
   "cell_type": "markdown",
   "metadata": {},
   "source": [
    "# BernoulliNB"
   ]
  },
  {
   "cell_type": "code",
   "execution_count": 30,
   "metadata": {},
   "outputs": [],
   "source": [
    "from sklearn.naive_bayes import BernoulliNB\n",
    "X_train_vec_bool = unigram_bool_vectorizer.fit_transform(X_train)\n",
    "bernoulliNB_clf = BernoulliNB(X_train_vec_bool, y_train)"
   ]
  },
  {
   "cell_type": "markdown",
   "metadata": {},
   "source": [
    "# Cross Validation"
   ]
  },
  {
   "cell_type": "code",
   "execution_count": 31,
   "metadata": {},
   "outputs": [
    {
     "name": "stdout",
     "output_type": "stream",
     "text": [
      "0.559547456968\n"
     ]
    }
   ],
   "source": [
    "# cross validation\n",
    "\n",
    "from sklearn.pipeline import Pipeline\n",
    "from sklearn.model_selection import cross_val_score\n",
    "nb_clf_pipe = Pipeline([('vect', CountVectorizer(encoding='latin-1', binary=False)),('nb', MultinomialNB())])\n",
    "scores = cross_val_score(nb_clf_pipe, X, y, cv=3)\n",
    "avg=sum(scores)/len(scores)\n",
    "print(avg)"
   ]
  },
  {
   "cell_type": "markdown",
   "metadata": {
    "collapsed": true
   },
   "source": [
    "# Exercise F"
   ]
  },
  {
   "cell_type": "code",
   "execution_count": 33,
   "metadata": {},
   "outputs": [
    {
     "name": "stdout",
     "output_type": "stream",
     "text": [
      "0.55315243657\n",
      "0.553844611375\n",
      "0.552306763002\n",
      "0.560136963721\n"
     ]
    }
   ],
   "source": [
    "# run 3-fold cross validation to compare the performance of \n",
    "# (1) BernoulliNB (2) MultinomialNB with TF vectors (3) MultinomialNB with boolean vectors\n",
    "\n",
    "# Your code starts here\n",
    "\n",
    "\n",
    "# Your code ends here"
   ]
  },
  {
   "cell_type": "markdown",
   "metadata": {},
   "source": [
    "# Optional: use external linguistic resources such as stemmer"
   ]
  },
  {
   "cell_type": "code",
   "execution_count": 204,
   "metadata": {},
   "outputs": [],
   "source": [
    "from sklearn.feature_extraction.text import CountVectorizer\n",
    "import nltk.stem\n",
    "\n",
    "english_stemmer = nltk.stem.SnowballStemmer('english')\n",
    "class StemmedCountVectorizer(CountVectorizer):\n",
    "    def build_analyzer(self):\n",
    "        analyzer = super(StemmedCountVectorizer, self).build_analyzer()\n",
    "        return lambda doc: ([english_stemmer.stem(w) for w in analyzer(doc)])\n",
    "\n",
    "stem_vectorizer = StemmedCountVectorizer(min_df=3, analyzer=\"word\")\n",
    "X_train_stem_vec = stem_vectorizer.fit_transform(X_train)"
   ]
  },
  {
   "cell_type": "code",
   "execution_count": 194,
   "metadata": {},
   "outputs": [
    {
     "name": "stdout",
     "output_type": "stream",
     "text": [
      "(93636, 9968)\n",
      "[[0 0 0 ..., 0 0 0]]\n",
      "9968\n",
      "[('disloc', 2484), ('surgeon', 8554), ('camaraderi', 1341), ('sketchiest', 7943), ('dedic', 2244), ('impud', 4376), ('adopt', 245), ('worker', 9850), ('buy', 1298), ('systemat', 8623)]\n",
      "245\n"
     ]
    }
   ],
   "source": [
    "# check the content of a document vector\n",
    "print(X_train_stem_vec.shape)\n",
    "print(X_train_stem_vec[0].toarray())\n",
    "\n",
    "# check the size of the constructed vocabulary\n",
    "print(len(stem_vectorizer.vocabulary_))\n",
    "\n",
    "# print out the first 10 items in the vocabulary\n",
    "print(list(stem_vectorizer.vocabulary_.items())[:10])\n",
    "\n",
    "# check word index in vocabulary\n",
    "print(stem_vectorizer.vocabulary_.get('adopt'))"
   ]
  },
  {
   "cell_type": "code",
   "execution_count": null,
   "metadata": {
    "collapsed": true
   },
   "outputs": [],
   "source": []
  }
 ],
 "metadata": {
  "kernelspec": {
   "display_name": "Python 3",
   "language": "python",
   "name": "python3"
  },
  "language_info": {
   "codemirror_mode": {
    "name": "ipython",
    "version": 3
   },
   "file_extension": ".py",
   "mimetype": "text/x-python",
   "name": "python",
   "nbconvert_exporter": "python",
   "pygments_lexer": "ipython3",
   "version": "3.7.3"
  }
 },
 "nbformat": 4,
 "nbformat_minor": 2
}
