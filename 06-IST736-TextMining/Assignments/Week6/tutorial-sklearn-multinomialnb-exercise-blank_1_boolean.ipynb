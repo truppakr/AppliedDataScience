{
 "cells": [
  {
   "cell_type": "markdown",
   "metadata": {},
   "source": [
    "# Tutorial - build MNB with sklearn"
   ]
  },
  {
   "cell_type": "markdown",
   "metadata": {},
   "source": [
    "This tutorial demonstrates how to use the Sci-kit Learn (sklearn) package to build Multinomial Naive Bayes model, rank features, and use the model for prediction. \n",
    "\n",
    "The data from the Kaggle Sentiment Analysis on Movie Review Competition are used in this tutorial. Check out the details of the data and the competition on Kaggle.\n",
    "https://www.kaggle.com/c/sentiment-analysis-on-movie-reviews\n",
    "\n",
    "The tutorial also includes sample code to prepare your prediction result for submission to Kaggle. Although the competition is over, you can still submit your prediction to get an evaluation score."
   ]
  },
  {
   "cell_type": "markdown",
   "metadata": {},
   "source": [
    "# Step 1: Read in data"
   ]
  },
  {
   "cell_type": "code",
   "execution_count": 18,
   "metadata": {},
   "outputs": [],
   "source": [
    "# read in the training data\n",
    "\n",
    "# the data set includes four columns: PhraseId, SentenceId, Phrase, Sentiment\n",
    "# In this data set a sentence is further split into phrases \n",
    "# in order to build a sentiment classification model\n",
    "# that can not only predict sentiment of sentences but also shorter phrases\n",
    "\n",
    "# A data example:\n",
    "# PhraseId SentenceId Phrase Sentiment\n",
    "# 1 1 A series of escapades demonstrating the adage that what is good for the goose is also good for the gander , some of which occasionally amuses but none of which amounts to much of a story .1\n",
    "\n",
    "# the Phrase column includes the training examples\n",
    "# the Sentiment column includes the training labels\n",
    "# \"0\" for very negative\n",
    "# \"1\" for negative\n",
    "# \"2\" for neutral\n",
    "# \"3\" for positive\n",
    "# \"4\" for very positive\n",
    "\n",
    "import numpy as np\n",
    "import pandas as p\n",
    "import re\n",
    "\n",
    "train=p.read_csv(\"C:\\\\Users\\\\rkrishnan\\\\Documents\\\\01 Personal\\\\MS\\\\IST 736\\\\Week6\\\\kaggle-sentiment\\\\kaggle-sentiment\\\\train.tsv\", delimiter='\\t')\n",
    "\n",
    "y=train['Sentiment'].values\n",
    "X=p.DataFrame()\n",
    "X['Phrase']=train['Phrase'].apply(lambda x: \" \".join(re.sub('n\\'t',' not',x) for x in x.split()))\n",
    "X=X['Phrase'].values"
   ]
  },
  {
   "cell_type": "markdown",
   "metadata": {},
   "source": [
    "# Step 2: Split train/test data for hold-out test"
   ]
  },
  {
   "cell_type": "code",
   "execution_count": 19,
   "metadata": {},
   "outputs": [
    {
     "name": "stdout",
     "output_type": "stream",
     "text": [
      "(93636,) (93636,) (62424,) (62424,)\n",
      "almost in a class with that of Wilde\n",
      "3\n",
      "escape movie\n",
      "2\n"
     ]
    }
   ],
   "source": [
    "# check the sklearn documentation for train_test_split\n",
    "# http://scikit-learn.org/stable/modules/generated/sklearn.model_selection.train_test_split.html\n",
    "# \"test_size\" : float, int, None, optional\n",
    "# If float, should be between 0.0 and 1.0 and represent the proportion of the dataset to include in the test split. \n",
    "# If int, represents the absolute number of test samples. \n",
    "# If None, the value is set to the complement of the train size. \n",
    "# By default, the value is set to 0.25. The default will change in version 0.21. It will remain 0.25 only if train_size is unspecified, otherwise it will complement the specified train_size.    \n",
    "\n",
    "from sklearn.model_selection import train_test_split\n",
    "X_train, X_test, y_train, y_test = train_test_split(X, y, test_size=0.4, random_state=0)\n",
    "\n",
    "print(X_train.shape, y_train.shape, X_test.shape, y_test.shape)\n",
    "print(X_train[0])\n",
    "print(y_train[0])\n",
    "print(X_test[0])\n",
    "print(y_test[0])"
   ]
  },
  {
   "cell_type": "markdown",
   "metadata": {},
   "source": [
    "Sample output from the code above:\n",
    "\n",
    "(93636,) (93636,) (62424,) (62424,)\n",
    "almost in a class with that of Wilde\n",
    "3\n",
    "escape movie\n",
    "2"
   ]
  },
  {
   "cell_type": "markdown",
   "metadata": {},
   "source": [
    "# Step 2.1 Data Checking"
   ]
  },
  {
   "cell_type": "code",
   "execution_count": 20,
   "metadata": {},
   "outputs": [
    {
     "name": "stdout",
     "output_type": "stream",
     "text": [
      "[[    0     1     2     3     4]\n",
      " [ 4141 16449 47718 19859  5469]]\n"
     ]
    }
   ],
   "source": [
    "# Check how many training examples in each category\n",
    "# this is important to see whether the data set is balanced or skewed\n",
    "\n",
    "unique, counts = np.unique(y_train, return_counts=True)\n",
    "print(np.asarray((unique, counts)))"
   ]
  },
  {
   "cell_type": "markdown",
   "metadata": {},
   "source": [
    "The sample output shows that the data set is skewed with 47718/93636=51% \"neutral\" examples. All other categories are smaller.\n",
    "\n",
    "{0, 1, 2, 3, 4}\n",
    "[[    0  4141]\n",
    " [    1 16449]\n",
    " [    2 47718]\n",
    " [    3 19859]\n",
    " [    4  5469]]"
   ]
  },
  {
   "cell_type": "markdown",
   "metadata": {},
   "source": [
    "# Step 3: Vectorization"
   ]
  },
  {
   "cell_type": "code",
   "execution_count": 49,
   "metadata": {},
   "outputs": [],
   "source": [
    "# sklearn contains two vectorizers\n",
    "\n",
    "# CountVectorizer can give you Boolean or TF vectors\n",
    "# http://scikit-learn.org/stable/modules/generated/sklearn.feature_extraction.text.CountVectorizer.html\n",
    "\n",
    "# TfidfVectorizer can give you TF or TFIDF vectors\n",
    "# http://scikit-learn.org/stable/modules/generated/sklearn.feature_extraction.text.TfidfVectorizer.html\n",
    "\n",
    "# Read the sklearn documentation to understand all vectorization options\n",
    "\n",
    "from sklearn.feature_extraction.text import CountVectorizer\n",
    "from sklearn.feature_extraction.text import TfidfVectorizer\n",
    "\n",
    "# several commonly used vectorizer setting\n",
    "\n",
    "#  unigram boolean vectorizer, set minimum document frequency to 5\n",
    "gram13_bool_vectorizer = CountVectorizer(encoding='latin-1',ngram_range=(1,3), binary=True, min_df=3, stop_words='english')\n",
    "\n",
    "\n",
    "#  unigram tfidf vectorizer, set minimum document frequency to 5\n",
    "gram13_tf_vectorizer = TfidfVectorizer(encoding='latin-1', ngram_range=(1,3),use_idf=False, min_df=3, stop_words='english')\n"
   ]
  },
  {
   "cell_type": "markdown",
   "metadata": {},
   "source": [
    "## Step 3.1: Vectorize the training data"
   ]
  },
  {
   "cell_type": "code",
   "execution_count": 50,
   "metadata": {},
   "outputs": [
    {
     "name": "stdout",
     "output_type": "stream",
     "text": [
      "(93636, 14113)\n",
      "(93636, 14113)\n",
      "[[0 0 0 ... 0 0 0]]\n",
      "[[0. 0. 0. ... 0. 0. 0.]]\n",
      "14113\n",
      "14113\n",
      "[('class', 2207), ('wilde', 13849), ('derring', 3309), ('chilling', 2103), ('affecting', 363), ('meanspirited', 7770), ('personal', 9061), ('low', 7463), ('involved', 6654), ('worth', 13991)]\n",
      "[('class', 2207), ('wilde', 13849), ('derring', 3309), ('chilling', 2103), ('affecting', 363), ('meanspirited', 7770), ('personal', 9061), ('low', 7463), ('involved', 6654), ('worth', 13991)]\n",
      "6195\n",
      "6195\n"
     ]
    }
   ],
   "source": [
    "# The vectorizer can do \"fit\" and \"transform\"\n",
    "# fit is a process to collect unique tokens into the vocabulary\n",
    "# transform is a process to convert each document to vector based on the vocabulary\n",
    "# These two processes can be done together using fit_transform(), or used individually: fit() or transform()\n",
    "\n",
    "# fit vocabulary in training documents and transform the training documents into vectors\n",
    "X_train_vec = gram13_bool_vectorizer.fit_transform(X_train)\n",
    "X2_train_vec = gram13_tf_vectorizer.fit_transform(X_train)\n",
    "\n",
    "# check the content of a document vector\n",
    "print(X_train_vec.shape)\n",
    "print(X2_train_vec.shape)\n",
    "print(X_train_vec[0].toarray())\n",
    "print(X2_train_vec[0].toarray())\n",
    "\n",
    "# check the size of the constructed vocabulary\n",
    "print(len(gram13_bool_vectorizer.vocabulary_))\n",
    "print(len(gram13_tf_vectorizer.vocabulary_))\n",
    "\n",
    "# print out the first 10 items in the vocabulary\n",
    "print(list(gram13_bool_vectorizer.vocabulary_.items())[:10])\n",
    "print(list(gram13_tf_vectorizer.vocabulary_.items())[:10])\n",
    "\n",
    "# check word index in vocabulary\n",
    "print(gram13_bool_vectorizer.vocabulary_.get('imaginative'))\n",
    "print(gram13_tf_vectorizer.vocabulary_.get('imaginative'))"
   ]
  },
  {
   "cell_type": "markdown",
   "metadata": {},
   "source": [
    "Sample output:\n",
    "\n",
    "(93636, 11967)\n",
    "[[0 0 0 ..., 0 0 0]]\n",
    "11967\n",
    "[('imaginative', 5224), ('tom', 10809), ('smiling', 9708), ('easy', 3310), ('diversity', 3060), ('impossibly', 5279), ('buy', 1458), ('sentiments', 9305), ('households', 5095), ('deteriorates', 2843)]\n",
    "5224"
   ]
  },
  {
   "cell_type": "markdown",
   "metadata": {},
   "source": [
    "## Step 3.2: Vectorize the test data"
   ]
  },
  {
   "cell_type": "code",
   "execution_count": 51,
   "metadata": {},
   "outputs": [
    {
     "name": "stdout",
     "output_type": "stream",
     "text": [
      "(62424, 14113)\n",
      "(62424, 14113)\n"
     ]
    }
   ],
   "source": [
    "# use the vocabulary constructed from the training data to vectorize the test data. \n",
    "# Therefore, use \"transform\" only, not \"fit_transform\", \n",
    "# otherwise \"fit\" would generate a new vocabulary from the test data\n",
    "\n",
    "X_test_vec = gram13_bool_vectorizer.transform(X_test)\n",
    "X2_test_vec = gram13_tf_vectorizer.transform(X_test)\n",
    "\n",
    "# print out #examples and #features in the test set\n",
    "print(X_test_vec.shape)\n",
    "print(X2_test_vec.shape)"
   ]
  },
  {
   "cell_type": "markdown",
   "metadata": {},
   "source": [
    "Sample output:\n",
    "\n",
    "(62424, 14324)"
   ]
  },
  {
   "cell_type": "markdown",
   "metadata": {},
   "source": [
    "# Step 4: Train a MNB classifier"
   ]
  },
  {
   "cell_type": "code",
   "execution_count": 52,
   "metadata": {},
   "outputs": [
    {
     "data": {
      "text/plain": [
       "MultinomialNB(alpha=1.0, class_prior=None, fit_prior=True)"
      ]
     },
     "execution_count": 52,
     "metadata": {},
     "output_type": "execute_result"
    }
   ],
   "source": [
    "# import the MNB module\n",
    "from sklearn.naive_bayes import MultinomialNB\n",
    "\n",
    "# initialize the MNB model\n",
    "nb_clf= MultinomialNB()\n",
    "nb_clf2= MultinomialNB()\n",
    "\n",
    "# use the training data to train the MNB model\n",
    "nb_clf.fit(X_train_vec,y_train)\n",
    "nb_clf2.fit(X2_train_vec,y_train)"
   ]
  },
  {
   "cell_type": "markdown",
   "metadata": {},
   "source": [
    "# Step 4.1 Interpret a trained MNB model"
   ]
  },
  {
   "cell_type": "code",
   "execution_count": 53,
   "metadata": {},
   "outputs": [
    {
     "name": "stdout",
     "output_type": "stream",
     "text": [
      "-8.60402598103152\n",
      "-10.682066738534797\n",
      "-11.877908798454563\n",
      "-11.510241867341026\n",
      "-10.686315460863419\n",
      "-8.697119005821374\n",
      "-10.208564336094662\n",
      "-11.362984109746867\n",
      "-10.867265879535756\n",
      "-10.168804206399354\n"
     ]
    }
   ],
   "source": [
    "## interpreting naive Bayes models\n",
    "## by consulting the sklearn documentation you can also find out feature_log_prob_, \n",
    "## which are the conditional probabilities\n",
    "## http://scikit-learn.org/stable/modules/generated/sklearn.naive_bayes.MultinomialNB.html\n",
    "\n",
    "# the code below will print out the conditional prob of the word \"worthless\" in each category\n",
    "# sample output\n",
    "# -8.98942647599 -> logP('worthless'|very negative')\n",
    "# -11.1864401922 -> logP('worthless'|negative')\n",
    "# -12.3637684625 -> logP('worthless'|neutral')\n",
    "# -11.9886066961 -> logP('worthless'|positive')\n",
    "# -11.0504454621 -> logP('worthless'|very positive')\n",
    "# the above output means the word feature \"worthless\" is indicating \"very negative\" \n",
    "# because P('worthless'|very negative) is the greatest among all conditional probs\n",
    "\n",
    "gram13_bool_vectorizer.vocabulary_.get('worthless')\n",
    "for i in range(0,5):\n",
    "  print(nb_clf.feature_log_prob_[i][gram13_bool_vectorizer.vocabulary_.get('worthless')])\n",
    "\n",
    "gram13_tf_vectorizer.vocabulary_.get('worthless')\n",
    "for i in range(0,5):\n",
    "  print(nb_clf2.feature_log_prob_[i][gram13_tf_vectorizer.vocabulary_.get('worthless')])"
   ]
  },
  {
   "cell_type": "markdown",
   "metadata": {},
   "source": [
    "Sample output:\n",
    "\n",
    "-8.5389826392\n",
    "-10.6436375867\n",
    "-11.8419845779\n",
    "-11.4778370023\n",
    "-10.6297551464"
   ]
  },
  {
   "cell_type": "code",
   "execution_count": 54,
   "metadata": {},
   "outputs": [
    {
     "name": "stdout",
     "output_type": "stream",
     "text": [
      "[(-6.017336636933576, 'time'), (-6.006641347816829, 'minutes'), (-5.996059238486292, 'characters'), (-5.996059238486292, 'story'), (-5.97522515158345, 'comedy'), (-5.770812636975303, 'just'), (-5.266732401348844, 'like'), (-5.142764358626714, 'bad'), (-4.918724348265467, 'film'), (-4.392957144501278, 'movie')]\n",
      "[(-6.475600982412516, 'does'), (-6.442282568848196, 'comedy'), (-6.439464260205117, 'time'), (-6.399933511246903, 'story'), (-6.252171108650741, 'worst'), (-6.187991455812202, 'just'), (-5.720173171370445, 'like'), (-5.355650138858941, 'film'), (-5.344139370002233, 'bad'), (-4.783066126023934, 'movie')]\n"
     ]
    }
   ],
   "source": [
    "# sort the conditional probability for category 0 \"very negative\"\n",
    "# print the words with highest conditional probs\n",
    "# these can be words popular in the \"very negative\" category alone, or words popular in all cateogires\n",
    "\n",
    "feature_ranks = sorted(zip(nb_clf.feature_log_prob_[0], gram13_bool_vectorizer.get_feature_names()))\n",
    "very_negative_features = feature_ranks[-10:]\n",
    "print(very_negative_features)\n",
    "\n",
    "feature_ranks2 = sorted(zip(nb_clf2.feature_log_prob_[0], gram13_tf_vectorizer.get_feature_names()))\n",
    "very_negative_features2 = feature_ranks2[-10:]\n",
    "print(very_negative_features2)"
   ]
  },
  {
   "cell_type": "markdown",
   "metadata": {},
   "source": [
    "# Exercise C"
   ]
  },
  {
   "cell_type": "code",
   "execution_count": 55,
   "metadata": {},
   "outputs": [
    {
     "name": "stdout",
     "output_type": "stream",
     "text": [
      "[(-6.017336636933576, 'time'), (-6.006641347816829, 'minutes'), (-5.996059238486292, 'characters'), (-5.996059238486292, 'story'), (-5.97522515158345, 'comedy'), (-5.770812636975303, 'just'), (-5.266732401348844, 'like'), (-5.142764358626714, 'bad'), (-4.918724348265467, 'film'), (-4.392957144501278, 'movie')]\n",
      "[(-6.475600982412516, 'does'), (-6.442282568848196, 'comedy'), (-6.439464260205117, 'time'), (-6.399933511246903, 'story'), (-6.252171108650741, 'worst'), (-6.187991455812202, 'just'), (-5.720173171370445, 'like'), (-5.355650138858941, 'film'), (-5.344139370002233, 'bad'), (-4.783066126023934, 'movie')]\n",
      "[(-10.549936130086833, '10th'), (-10.549936130086833, '127'), (-10.549936130086833, '129'), (-10.549936130086833, '12th'), (-10.549936130086833, '13th'), (-10.549936130086833, '14'), (-10.549936130086833, '15th'), (-10.549936130086833, '16'), (-10.549936130086833, '163')]\n",
      "[(-10.064921450665372, '10th'), (-10.064921450665372, '127'), (-10.064921450665372, '129'), (-10.064921450665372, '12th'), (-10.064921450665372, '13th'), (-10.064921450665372, '14'), (-10.064921450665372, '15th'), (-10.064921450665372, '16'), (-10.064921450665372, '163')]\n",
      "[(-5.874131105491002, 'performance'), (-5.834285196943802, 'comedy'), (-5.788475660912508, 'great'), (-5.7518415277327275, 'story'), (-5.702708839155083, 'performances'), (-5.52726016164889, 'good'), (-5.297243731046918, 'funny'), (-5.209851908931908, 'best'), (-4.83699068091656, 'movie'), (-4.319845013131981, 'film')]\n",
      "[(-10.168804206399354, '101'), (-10.168804206399354, '102'), (-10.168804206399354, '103'), (-10.168804206399354, '104'), (-10.168804206399354, '105'), (-10.168804206399354, '10th'), (-10.168804206399354, '110'), (-10.168804206399354, '112'), (-10.168804206399354, '12')]\n",
      "[(-5.874131105491002, 'performance'), (-5.834285196943802, 'comedy'), (-5.788475660912508, 'great'), (-5.7518415277327275, 'story'), (-5.702708839155083, 'performances'), (-5.52726016164889, 'good'), (-5.297243731046918, 'funny'), (-5.209851908931908, 'best'), (-4.83699068091656, 'movie'), (-4.319845013131981, 'film')]\n",
      "[(-10.168804206399354, '101'), (-10.168804206399354, '102'), (-10.168804206399354, '103'), (-10.168804206399354, '104'), (-10.168804206399354, '105'), (-10.168804206399354, '10th'), (-10.168804206399354, '110'), (-10.168804206399354, '112'), (-10.168804206399354, '12')]\n",
      "\t-10.5499\t102            \t\t-6.0173\ttime           \n",
      "\t-10.5499\t10th           \t\t-6.0066\tminutes        \n",
      "\t-10.5499\t127            \t\t-5.9961\tcharacters     \n",
      "\t-10.5499\t129            \t\t-5.9961\tstory          \n",
      "\t-10.5499\t12th           \t\t-5.9752\tcomedy         \n",
      "\t-10.5499\t13th           \t\t-5.7708\tjust           \n",
      "\t-10.5499\t14             \t\t-5.2667\tlike           \n",
      "\t-10.5499\t15th           \t\t-5.1428\tbad            \n",
      "\t-10.5499\t16             \t\t-4.9187\tfilm           \n",
      "\t-10.5499\t163            \t\t-4.3930\tmovie          \n",
      "\t-10.6863\t000            \t\t-5.8741\tperformance    \n",
      "\t-10.6863\t101            \t\t-5.8343\tcomedy         \n",
      "\t-10.6863\t102            \t\t-5.7885\tgreat          \n",
      "\t-10.6863\t103            \t\t-5.7518\tstory          \n",
      "\t-10.6863\t104            \t\t-5.7027\tperformances   \n",
      "\t-10.6863\t105            \t\t-5.5273\tgood           \n",
      "\t-10.6863\t10th           \t\t-5.2972\tfunny          \n",
      "\t-10.6863\t110            \t\t-5.2099\tbest           \n",
      "\t-10.6863\t112            \t\t-4.8370\tmovie          \n",
      "\t-10.6863\t12             \t\t-4.3198\tfilm           \n",
      "\t-10.5499\t102            \t\t-6.0173\ttime           \n",
      "\t-10.5499\t10th           \t\t-6.0066\tminutes        \n",
      "\t-10.5499\t127            \t\t-5.9961\tcharacters     \n",
      "\t-10.5499\t129            \t\t-5.9961\tstory          \n",
      "\t-10.5499\t12th           \t\t-5.9752\tcomedy         \n",
      "\t-10.5499\t13th           \t\t-5.7708\tjust           \n",
      "\t-10.5499\t14             \t\t-5.2667\tlike           \n",
      "\t-10.5499\t15th           \t\t-5.1428\tbad            \n",
      "\t-10.5499\t16             \t\t-4.9187\tfilm           \n",
      "\t-10.5499\t163            \t\t-4.3930\tmovie          \n",
      "\t-10.6863\t000            \t\t-5.8741\tperformance    \n",
      "\t-10.6863\t101            \t\t-5.8343\tcomedy         \n",
      "\t-10.6863\t102            \t\t-5.7885\tgreat          \n",
      "\t-10.6863\t103            \t\t-5.7518\tstory          \n",
      "\t-10.6863\t104            \t\t-5.7027\tperformances   \n",
      "\t-10.6863\t105            \t\t-5.5273\tgood           \n",
      "\t-10.6863\t10th           \t\t-5.2972\tfunny          \n",
      "\t-10.6863\t110            \t\t-5.2099\tbest           \n",
      "\t-10.6863\t112            \t\t-4.8370\tmovie          \n",
      "\t-10.6863\t12             \t\t-4.3198\tfilm           \n"
     ]
    }
   ],
   "source": [
    "def show_most_and_least_informative_features(vectorizer,clf,class_idx=0,n=10):\n",
    "    feature_names=vectorizer.get_feature_names()\n",
    "    coefs_with_fns=sorted(zip(clf.coef_[class_idx],feature_names))\n",
    "    top=zip(coefs_with_fns[:n],coefs_with_fns[-n:])\n",
    "    for (coef_1,fn_1),(coef_2,fn_2) in top:\n",
    "        print(\"\\t%.4f\\t%-15s\\t\\t%.4f\\t%-15s\" % (coef_1,fn_1,coef_2,fn_2))\n",
    "\n",
    "\n",
    "# calculate log ratio of conditional probs\n",
    "\n",
    "# In this exercise you will calculate the log ratio \n",
    "# between conditional probs in the \"very negative\" category\n",
    "# and conditional probs in the \"very positive\" category,\n",
    "# and then sort and print out the top and bottom 10 words\n",
    "\n",
    "# the conditional probs for the \"very negative\" category is stored in nb_clf.feature_log_prob_[0]\n",
    "# the conditional probs for the \"very positive\" category is stored in nb_clf.feature_log_prob_[4]\n",
    "\n",
    "# You can consult with similar code in week 4's sample script on feature weighting\n",
    "# Note that in sklearn's MultinomialNB the conditional probs have been converted to log values.\n",
    "\n",
    "# Your code starts here\n",
    "# Top 10 Very Negative features\n",
    "feature_ranks = sorted(zip(nb_clf.feature_log_prob_[0], gram13_bool_vectorizer.get_feature_names()))\n",
    "very_negative_features = feature_ranks[-10:]\n",
    "print(very_negative_features)\n",
    "\n",
    "feature_ranks2 = sorted(zip(nb_clf2.feature_log_prob_[0], gram13_tf_vectorizer.get_feature_names()))\n",
    "very_negative_features2 = feature_ranks2[-10:]\n",
    "print(very_negative_features2)\n",
    "\n",
    "# Bottom 10 Very Negative features\n",
    "feature_ranks = sorted(zip(nb_clf.feature_log_prob_[0], gram13_bool_vectorizer.get_feature_names()))\n",
    "least_negative_features = feature_ranks[1:10:]\n",
    "print(least_negative_features)\n",
    "\n",
    "feature_ranks2 = sorted(zip(nb_clf2.feature_log_prob_[0], gram13_tf_vectorizer.get_feature_names()))\n",
    "least_negative_features2 = feature_ranks2[1:10:]\n",
    "print(least_negative_features2)\n",
    "\n",
    "\n",
    "# Top 10 Very Positive features\n",
    "feature_ranks = sorted(zip(nb_clf.feature_log_prob_[4], gram13_bool_vectorizer.get_feature_names()))\n",
    "very_positive_features = feature_ranks[-10:]\n",
    "print(very_positive_features)\n",
    "\n",
    "feature_ranks2 = sorted(zip(nb_clf2.feature_log_prob_[4], gram13_tf_vectorizer.get_feature_names()))\n",
    "very_positive_features2 = feature_ranks2[1:10:]\n",
    "print(very_positive_features2)\n",
    "\n",
    "# Top 10 Very Positive features\n",
    "feature_ranks = sorted(zip(nb_clf.feature_log_prob_[4], gram13_bool_vectorizer.get_feature_names()))\n",
    "least_positive_features = feature_ranks[-10:]\n",
    "print(least_positive_features)\n",
    "\n",
    "feature_ranks2 = sorted(zip(nb_clf2.feature_log_prob_[4], gram13_tf_vectorizer.get_feature_names()))\n",
    "least_positive_features2 = feature_ranks2[1:10:]\n",
    "print(least_positive_features2)\n",
    "\n",
    "show_most_and_least_informative_features(gram13_bool_vectorizer,nb_clf,class_idx=0,n=10)\n",
    "show_most_and_least_informative_features(gram13_bool_vectorizer,nb_clf,class_idx=4,n=10)\n",
    "show_most_and_least_informative_features(gram13_tf_vectorizer,nb_clf,class_idx=0,n=10)\n",
    "show_most_and_least_informative_features(gram13_tf_vectorizer,nb_clf,class_idx=4,n=10)\n",
    "# Your code ends here"
   ]
  },
  {
   "cell_type": "markdown",
   "metadata": {},
   "source": [
    "Sample output for print(log_ratios[0])\n",
    "\n",
    "-0.838009538739"
   ]
  },
  {
   "cell_type": "markdown",
   "metadata": {},
   "source": [
    "# Step 5: Test the MNB classifier"
   ]
  },
  {
   "cell_type": "code",
   "execution_count": 56,
   "metadata": {},
   "outputs": [
    {
     "data": {
      "text/plain": [
       "0.6049756503908753"
      ]
     },
     "execution_count": 56,
     "metadata": {},
     "output_type": "execute_result"
    }
   ],
   "source": [
    "# test the classifier on the test data set, print accuracy score\n",
    "\n",
    "nb_clf.score(X_test_vec,y_test)\n"
   ]
  },
  {
   "cell_type": "code",
   "execution_count": 57,
   "metadata": {},
   "outputs": [
    {
     "data": {
      "text/plain": [
       "0.5803537101114956"
      ]
     },
     "execution_count": 57,
     "metadata": {},
     "output_type": "execute_result"
    }
   ],
   "source": [
    "nb_clf2.score(X2_test_vec,y_test)"
   ]
  },
  {
   "cell_type": "code",
   "execution_count": 58,
   "metadata": {},
   "outputs": [
    {
     "name": "stdout",
     "output_type": "stream",
     "text": [
      "[[  728  1334   751   106    12]\n",
      " [  621  4347  5175   648    33]\n",
      " [  265  2534 25297  3516   252]\n",
      " [   22   473  5371  6430   772]\n",
      " [    1    50   691  2032   963]]\n"
     ]
    }
   ],
   "source": [
    "# print confusion matrix (row: ground truth; col: prediction)\n",
    "\n",
    "from sklearn.metrics import confusion_matrix\n",
    "y_pred = nb_clf.fit(X_train_vec, y_train).predict(X_test_vec)\n",
    "cm=confusion_matrix(y_test, y_pred, labels=[0,1,2,3,4])\n",
    "print(cm)\n",
    "\n"
   ]
  },
  {
   "cell_type": "code",
   "execution_count": 59,
   "metadata": {},
   "outputs": [
    {
     "name": "stdout",
     "output_type": "stream",
     "text": [
      "[[   70  1105  1685    71     0]\n",
      " [   40  2435  7997   352     0]\n",
      " [   10  1107 28773  1958    16]\n",
      " [    0   138  8058  4814    58]\n",
      " [    0     9  1424  2168   136]]\n"
     ]
    }
   ],
   "source": [
    "y_pred2 = nb_clf2.fit(X2_train_vec, y_train).predict(X2_test_vec)\n",
    "cm2=confusion_matrix(y_test, y_pred2, labels=[0,1,2,3,4])\n",
    "print(cm2)"
   ]
  },
  {
   "cell_type": "code",
   "execution_count": 60,
   "metadata": {},
   "outputs": [
    {
     "name": "stdout",
     "output_type": "stream",
     "text": [
      "[0.44471594 0.49748226 0.6784766  0.5050267  0.47391732]\n",
      "[0.24837939 0.40160754 0.79390535 0.49204163 0.25769334]\n",
      "[0.58333333 0.50792657 0.6002253  0.51415145 0.64761905]\n",
      "[0.02388263 0.22496305 0.90299397 0.36838078 0.03639283]\n",
      "              precision    recall  f1-score   support\n",
      "\n",
      "           0       0.44      0.25      0.32      2931\n",
      "           1       0.50      0.40      0.44     10824\n",
      "           2       0.68      0.79      0.73     31864\n",
      "           3       0.51      0.49      0.50     13068\n",
      "           4       0.47      0.26      0.33      3737\n",
      "\n",
      "    accuracy                           0.60     62424\n",
      "   macro avg       0.52      0.44      0.47     62424\n",
      "weighted avg       0.59      0.60      0.59     62424\n",
      "\n",
      "              precision    recall  f1-score   support\n",
      "\n",
      "           0       0.58      0.02      0.05      2931\n",
      "           1       0.51      0.22      0.31     10824\n",
      "           2       0.60      0.90      0.72     31864\n",
      "           3       0.51      0.37      0.43     13068\n",
      "           4       0.65      0.04      0.07      3737\n",
      "\n",
      "    accuracy                           0.58     62424\n",
      "   macro avg       0.57      0.31      0.32     62424\n",
      "weighted avg       0.57      0.58      0.52     62424\n",
      "\n"
     ]
    }
   ],
   "source": [
    "# print classification report\n",
    "\n",
    "from sklearn.metrics import precision_score\n",
    "from sklearn.metrics import recall_score\n",
    "print(precision_score(y_test, y_pred, average=None))\n",
    "print(recall_score(y_test, y_pred, average=None))\n",
    "print(precision_score(y_test, y_pred2, average=None))\n",
    "print(recall_score(y_test, y_pred2, average=None))\n",
    "\n",
    "from sklearn.metrics import classification_report\n",
    "target_names = ['0','1','2','3','4']\n",
    "print(classification_report(y_test, y_pred, target_names=target_names))\n",
    "print(classification_report(y_test, y_pred2, target_names=target_names))"
   ]
  },
  {
   "cell_type": "markdown",
   "metadata": {},
   "source": [
    "# Step 5.1 Interpret the prediction result"
   ]
  },
  {
   "cell_type": "code",
   "execution_count": 42,
   "metadata": {},
   "outputs": [
    {
     "name": "stdout",
     "output_type": "stream",
     "text": [
      "[0.03065103 0.16491852 0.75441523 0.03424136 0.01577386]\n",
      "[0.02425665 0.17822079 0.66685966 0.10818064 0.02248227]\n",
      "2\n",
      "2\n",
      "2\n"
     ]
    }
   ],
   "source": [
    "## find the calculated posterior probability\n",
    "posterior_probs = nb_clf.predict_proba(X_test_vec)\n",
    "posterior_probs2= nb_clf2.predict_proba(X2_test_vec)\n",
    "\n",
    "## find the posterior probabilities for the first test example\n",
    "print(posterior_probs[0])\n",
    "print(posterior_probs2[0])\n",
    "\n",
    "# find the category prediction for the first test example\n",
    "y_pred = nb_clf.predict(X_test_vec)\n",
    "print(y_pred[0])\n",
    "\n",
    "y_pred2 = nb_clf2.predict(X2_test_vec)\n",
    "print(y_pred2[0])\n",
    "\n",
    "# check the actual label for the first test example\n",
    "print(y_test[0])"
   ]
  },
  {
   "cell_type": "markdown",
   "metadata": {},
   "source": [
    "sample output array([ 0.06434628  0.34275846  0.50433091  0.07276319  0.01580115]\n",
    "\n",
    "Because the posterior probability for category 2 (neutral) is the greatest, 0.50, the prediction should be \"2\". Because the actual label is also \"2\", this is a correct prediction\n"
   ]
  },
  {
   "cell_type": "markdown",
   "metadata": {},
   "source": [
    "# Step 5.2 Error Analysis"
   ]
  },
  {
   "cell_type": "code",
   "execution_count": 45,
   "metadata": {},
   "outputs": [
    {
     "name": "stdout",
     "output_type": "stream",
     "text": [
      "there 's no way you wo  not be talking about the film once you exit the theater .\n",
      "two fine actors , Morgan Freeman and Ashley Judd\n",
      "What John does is heroic , but we do  not condone it , '' one of the film 's stars recently said , a tortuous comment that perfectly illustrates the picture 's moral schizophrenia .\n",
      "of healthy eccentric inspiration and ambition\n",
      "exceptionally good idea\n",
      "distinguished actor\n",
      "Spy Kids a surprising winner with both adults and younger audiences\n",
      "errors: 7\n"
     ]
    }
   ],
   "source": [
    "# print out specific type of error for further analysis\n",
    "\n",
    "# print out the very positive examples that are mistakenly predicted as negative\n",
    "# according to the confusion matrix, there should be 53 such examples\n",
    "# note if you use a different vectorizer option, your result might be different\n",
    "\n",
    "err_cnt = 0\n",
    "for i in range(0, len(y_test)):\n",
    "    if(y_test[i]==4 and y_pred[i]==0):\n",
    "        print(X_test[i])\n",
    "        err_cnt = err_cnt+1\n",
    "print(\"errors:\", err_cnt)"
   ]
  },
  {
   "cell_type": "markdown",
   "metadata": {},
   "source": [
    "# Exercise D"
   ]
  },
  {
   "cell_type": "code",
   "execution_count": 46,
   "metadata": {},
   "outputs": [
    {
     "name": "stdout",
     "output_type": "stream",
     "text": [
      "rude and profane\n",
      "this is the opposite of a truly magical movie .\n",
      "it would be a shame if this was your introduction to one of the greatest plays of the last 100 years\n",
      "The most horrific movie experience\n",
      "emotionally belittle a cinema classic .\n",
      "But if the essence of magic is its make-believe promise of life that soars above the material realm , this is the opposite of a truly magical movie .\n",
      "is not Edward Burns ' best film\n",
      "It may not be a great piece of filmmaking ,\n",
      "is the opposite of a truly magical movie .\n",
      "would be a shame if this was your introduction to one of the greatest plays of the last 100 years\n",
      "to this shocking testament to anti-Semitism and neo-fascism\n",
      "errors: 11\n"
     ]
    }
   ],
   "source": [
    "# Can you find linguistic patterns in the above errors? \n",
    "# What kind of very positive examples were mistakenly predicted as negative?\n",
    "\n",
    "# Negations are being considered as negative \n",
    "# words like grief and loss , evil are negative keywords but it's is non-negative in this contextual\n",
    "# terrifically entertaining and spectacularly outrageous are highly positive in this context\n",
    "\n",
    "# Can you write code to print out the errors that very negative examples were mistakenly predicted as very positive?\n",
    "# Your code starts here\n",
    "err_cnt = 0\n",
    "for i in range(0, len(y_test)):\n",
    "    if(y_test[i]==0 and y_pred[i]==4):\n",
    "        print(X_test[i])\n",
    "        err_cnt = err_cnt+1\n",
    "print(\"errors:\", err_cnt)\n",
    "# Your code ends here\n",
    "# Can you find lingustic patterns for this kind of errors?\n",
    "\n",
    "\n",
    "# Again negation is not linked to the right bucket like \"not the great american comedy\", \"never achieve the popularity\" and \"may not be a great piece of filmmaking\"\n",
    "# phrases like \"cleverly crafted but ultimately hollow mockumentary\"  , \"beautifully shot but dull and ankle-deep ` epic . '\" are very negative in nature but categorized as positive\n",
    "\n",
    "# Based on the above error analysis, what suggestions would you give to improve the current model?\n",
    "\n",
    "# One option is to use ngram to train the model which can assess the sentiment score of a phrases rather than just using individual keywords.\n",
    "# consider negation while training the model, negation followed by positive keywords and negation followed by negative keywaords are opposite in nature."
   ]
  },
  {
   "cell_type": "markdown",
   "metadata": {},
   "source": [
    "# Step 6: write the prediction output to file"
   ]
  },
  {
   "cell_type": "code",
   "execution_count": 60,
   "metadata": {},
   "outputs": [],
   "source": [
    "y_pred=nb_clf.predict(X_test_vec)\n",
    "output = open('C:\\\\Users\\\\rkrishnan\\\\Documents\\\\01 Personal\\\\MS\\\\IST 736\\\\Week6\\\\kaggle-sentiment\\\\kaggle-sentiment\\\\prediction_output.csv', 'w')\n",
    "for x, value in enumerate(y_pred):\n",
    "  output.write(str(value) + '\\n') \n",
    "output.close()"
   ]
  },
  {
   "cell_type": "markdown",
   "metadata": {},
   "source": [
    "# Step 6.1 Prepare submission to Kaggle sentiment classification competition"
   ]
  },
  {
   "cell_type": "code",
   "execution_count": 61,
   "metadata": {
    "scrolled": false
   },
   "outputs": [],
   "source": [
    "########## submit to Kaggle submission\n",
    "\n",
    "# we are still using the model trained on 60% of the training data\n",
    "# you can re-train the model on the entire data set \n",
    "#   and use the new model to predict the Kaggle test data\n",
    "# below is sample code for using a trained model to predict Kaggle test data \n",
    "#    and format the prediction output for Kaggle submission\n",
    "\n",
    "# read in the test data\n",
    "kaggle_test=p.read_csv(\"C:\\\\Users\\\\rkrishnan\\\\Documents\\\\01 Personal\\\\MS\\\\IST 736\\\\Week6\\\\kaggle-sentiment\\\\kaggle-sentiment\\\\test.tsv\", delimiter='\\t') \n",
    "\n",
    "# preserve the id column of the test examples\n",
    "kaggle_ids=kaggle_test['PhraseId'].values\n",
    "\n",
    "# read in the text content of the examples\n",
    "kaggle_X_test=kaggle_test['Phrase'].values\n",
    "\n",
    "# vectorize the test examples using the vocabulary fitted from the 60% training data\n",
    "kaggle_X_test_vec=gram13_bool_vectorizer.transform(kaggle_X_test)\n",
    "kaggle_X2_test_vec=gram13_tf_vectorizer.transform(kaggle_X_test)\n",
    "\n",
    "# predict using the NB classifier that we built\n",
    "kaggle_pred=nb_clf.fit(X_train_vec, y_train).predict(kaggle_X_test_vec)\n",
    "kaggle_pred2=nb_clf2.fit(X2_train_vec, y_train).predict(kaggle_X2_test_vec)\n",
    "\n",
    "# combine the test example ids with their predictions\n",
    "kaggle_submission=zip(kaggle_ids, kaggle_pred)\n",
    "kaggle_submission2=zip(kaggle_ids, kaggle_pred2)\n",
    "\n",
    "# prepare output file\n",
    "outf=open('C:\\\\Users\\\\rkrishnan\\\\Documents\\\\01 Personal\\\\MS\\\\IST 736\\\\Week6\\\\kaggle-sentiment\\\\kaggle-sentiment\\\\kaggle_submission.csv', 'w')\n",
    "outf2=open('C:\\\\Users\\\\rkrishnan\\\\Documents\\\\01 Personal\\\\MS\\\\IST 736\\\\Week6\\\\kaggle-sentiment\\\\kaggle-sentiment\\\\kaggle_submission2.csv', 'w')\n",
    "\n",
    "# write header\n",
    "outf.write('PhraseId,Sentiment\\n')\n",
    "outf2.write('PhraseId,Sentiment\\n')\n",
    "\n",
    "# write predictions with ids to the output file\n",
    "for x, value in enumerate(kaggle_submission): outf.write(str(value[0]) + ',' + str(value[1]) + '\\n')\n",
    "for x, value in enumerate(kaggle_submission2): outf2.write(str(value[0]) + ',' + str(value[1]) + '\\n')\n",
    "\n",
    "# close the output file\n",
    "outf.close()\n",
    "outf2.close()"
   ]
  },
  {
   "cell_type": "code",
   "execution_count": 42,
   "metadata": {},
   "outputs": [
    {
     "data": {
      "text/plain": [
       "<66292x11967 sparse matrix of type '<class 'numpy.int64'>'\n",
       "\twith 194704 stored elements in Compressed Sparse Row format>"
      ]
     },
     "execution_count": 42,
     "metadata": {},
     "output_type": "execute_result"
    }
   ],
   "source": [
    "kaggle_X_test_vec\n",
    "\n"
   ]
  },
  {
   "cell_type": "code",
   "execution_count": 43,
   "metadata": {},
   "outputs": [
    {
     "data": {
      "text/plain": [
       "<93636x34579 sparse matrix of type '<class 'numpy.int64'>'\n",
       "\twith 501197 stored elements in Compressed Sparse Row format>"
      ]
     },
     "execution_count": 43,
     "metadata": {},
     "output_type": "execute_result"
    }
   ],
   "source": [
    "X_train_vec"
   ]
  },
  {
   "cell_type": "code",
   "execution_count": 45,
   "metadata": {},
   "outputs": [
    {
     "data": {
      "text/plain": [
       "93636"
      ]
     },
     "execution_count": 45,
     "metadata": {},
     "output_type": "execute_result"
    }
   ],
   "source": [
    "len(y_train)"
   ]
  },
  {
   "cell_type": "markdown",
   "metadata": {},
   "source": [
    "# Exercise E"
   ]
  },
  {
   "cell_type": "code",
   "execution_count": null,
   "metadata": {
    "collapsed": true
   },
   "outputs": [],
   "source": [
    "# generate your Kaggle submissions with boolean representation and TF representation\n",
    "# submit to Kaggle\n",
    "# report your scores here\n",
    "# which model gave better performance in the hold-out test\n",
    "# which model gave better performance in the Kaggle test"
   ]
  },
  {
   "cell_type": "markdown",
   "metadata": {},
   "source": [
    "Sample output:\n",
    "\n",
    "(93636, 9968)\n",
    "[[0 0 0 ..., 0 0 0]]\n",
    "9968\n",
    "[('disloc', 2484), ('surgeon', 8554), ('camaraderi', 1341), ('sketchiest', 7943), ('dedic', 2244), ('impud', 4376), ('adopt', 245), ('worker', 9850), ('buy', 1298), ('systemat', 8623)]\n",
    "245"
   ]
  },
  {
   "cell_type": "markdown",
   "metadata": {},
   "source": [
    "# BernoulliNB"
   ]
  },
  {
   "cell_type": "code",
   "execution_count": 30,
   "metadata": {},
   "outputs": [],
   "source": [
    "from sklearn.naive_bayes import BernoulliNB\n",
    "X_train_vec_bool = unigram_bool_vectorizer.fit_transform(X_train)\n",
    "bernoulliNB_clf = BernoulliNB(X_train_vec_bool, y_train)"
   ]
  },
  {
   "cell_type": "markdown",
   "metadata": {},
   "source": [
    "# Cross Validation"
   ]
  },
  {
   "cell_type": "code",
   "execution_count": 31,
   "metadata": {},
   "outputs": [
    {
     "name": "stdout",
     "output_type": "stream",
     "text": [
      "0.559547456968\n"
     ]
    }
   ],
   "source": [
    "# cross validation\n",
    "\n",
    "from sklearn.pipeline import Pipeline\n",
    "from sklearn.model_selection import cross_val_score\n",
    "nb_clf_pipe = Pipeline([('vect', CountVectorizer(encoding='latin-1', binary=False)),('nb', MultinomialNB())])\n",
    "scores = cross_val_score(nb_clf_pipe, X, y, cv=3)\n",
    "avg=sum(scores)/len(scores)\n",
    "print(avg)"
   ]
  },
  {
   "cell_type": "markdown",
   "metadata": {
    "collapsed": true
   },
   "source": [
    "# Exercise F"
   ]
  },
  {
   "cell_type": "code",
   "execution_count": 33,
   "metadata": {},
   "outputs": [
    {
     "name": "stdout",
     "output_type": "stream",
     "text": [
      "0.55315243657\n",
      "0.553844611375\n",
      "0.552306763002\n",
      "0.560136963721\n"
     ]
    }
   ],
   "source": [
    "# run 3-fold cross validation to compare the performance of \n",
    "# (1) BernoulliNB (2) MultinomialNB with TF vectors (3) MultinomialNB with boolean vectors\n",
    "\n",
    "# Your code starts here\n",
    "\n",
    "\n",
    "# Your code ends here"
   ]
  },
  {
   "cell_type": "markdown",
   "metadata": {},
   "source": [
    "# Optional: use external linguistic resources such as stemmer"
   ]
  },
  {
   "cell_type": "code",
   "execution_count": 204,
   "metadata": {},
   "outputs": [],
   "source": [
    "from sklearn.feature_extraction.text import CountVectorizer\n",
    "import nltk.stem\n",
    "\n",
    "english_stemmer = nltk.stem.SnowballStemmer('english')\n",
    "class StemmedCountVectorizer(CountVectorizer):\n",
    "    def build_analyzer(self):\n",
    "        analyzer = super(StemmedCountVectorizer, self).build_analyzer()\n",
    "        return lambda doc: ([english_stemmer.stem(w) for w in analyzer(doc)])\n",
    "\n",
    "stem_vectorizer = StemmedCountVectorizer(min_df=3, analyzer=\"word\")\n",
    "X_train_stem_vec = stem_vectorizer.fit_transform(X_train)"
   ]
  },
  {
   "cell_type": "code",
   "execution_count": 194,
   "metadata": {},
   "outputs": [
    {
     "name": "stdout",
     "output_type": "stream",
     "text": [
      "(93636, 9968)\n",
      "[[0 0 0 ..., 0 0 0]]\n",
      "9968\n",
      "[('disloc', 2484), ('surgeon', 8554), ('camaraderi', 1341), ('sketchiest', 7943), ('dedic', 2244), ('impud', 4376), ('adopt', 245), ('worker', 9850), ('buy', 1298), ('systemat', 8623)]\n",
      "245\n"
     ]
    }
   ],
   "source": [
    "# check the content of a document vector\n",
    "print(X_train_stem_vec.shape)\n",
    "print(X_train_stem_vec[0].toarray())\n",
    "\n",
    "# check the size of the constructed vocabulary\n",
    "print(len(stem_vectorizer.vocabulary_))\n",
    "\n",
    "# print out the first 10 items in the vocabulary\n",
    "print(list(stem_vectorizer.vocabulary_.items())[:10])\n",
    "\n",
    "# check word index in vocabulary\n",
    "print(stem_vectorizer.vocabulary_.get('adopt'))"
   ]
  },
  {
   "cell_type": "code",
   "execution_count": null,
   "metadata": {
    "collapsed": true
   },
   "outputs": [],
   "source": []
  }
 ],
 "metadata": {
  "kernelspec": {
   "display_name": "Python 3",
   "language": "python",
   "name": "python3"
  },
  "language_info": {
   "codemirror_mode": {
    "name": "ipython",
    "version": 3
   },
   "file_extension": ".py",
   "mimetype": "text/x-python",
   "name": "python",
   "nbconvert_exporter": "python",
   "pygments_lexer": "ipython3",
   "version": "3.7.3"
  }
 },
 "nbformat": 4,
 "nbformat_minor": 2
}
