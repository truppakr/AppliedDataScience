{
 "cells": [
  {
   "cell_type": "markdown",
   "metadata": {},
   "source": [
    "### Lab Week 5 - Context Free Grammars and Parsing in the NLTK"
   ]
  },
  {
   "cell_type": "code",
   "execution_count": 1,
   "metadata": {},
   "outputs": [],
   "source": [
    "# Lab Week 5 - Context Free Grammars and Parsing in the NLTK\n",
    "# This file has small examples that are meant to be run individually\n",
    "#   in the Python shell\n",
    "\n",
    "import nltk"
   ]
  },
  {
   "cell_type": "code",
   "execution_count": 2,
   "metadata": {},
   "outputs": [],
   "source": [
    "\n",
    "## write your own grammars\n",
    "grammar = nltk.CFG.fromstring(\"\"\"\n",
    "  S -> NP VP\n",
    "  VP -> V NP | V NP PP\n",
    "  PP -> P NP\n",
    "  V -> \"saw\" | \"ate\" | \"walked\"\n",
    "  NP -> Prop | Det N | Det N PP\n",
    "  Prop -> \"John\" | \"Mary\" | \"Bob\" \n",
    "  Det -> \"a\" | \"an\" | \"the\" | \"my\"\n",
    "  N -> \"man\" | \"dog\" | \"cat\" | \"telescope\" | \"park\"\n",
    "  P -> \"in\" | \"on\" | \"by\" | \"with\"\n",
    "  \"\"\")\n",
    "\n",
    "# top-down method: recursive descent parsing\n",
    "# create the parser from a grammar\n",
    "rd_parser = nltk.RecursiveDescentParser(grammar)\n"
   ]
  },
  {
   "cell_type": "code",
   "execution_count": 3,
   "metadata": {},
   "outputs": [
    {
     "name": "stdout",
     "output_type": "stream",
     "text": [
      "['Mary', 'saw', 'Bob']\n"
     ]
    }
   ],
   "source": [
    "\n",
    "\n",
    "# make an example sentence text\n",
    "senttext = \"Mary saw Bob\"\n",
    "# tokenize the sentence by splitting on white space\n",
    "#      use nltk.word_tokenize() for more complex example sentences\n",
    "sentlist = senttext.split()\n",
    "print(sentlist)\n"
   ]
  },
  {
   "cell_type": "code",
   "execution_count": 4,
   "metadata": {},
   "outputs": [
    {
     "name": "stdout",
     "output_type": "stream",
     "text": [
      "<class 'nltk.tree.Tree'>\n",
      "(S (NP (Prop Mary)) (VP (V saw) (NP (Prop Bob))))\n"
     ]
    }
   ],
   "source": [
    "\n",
    "# run the parse function on the list of tokens\n",
    "trees = rd_parser.parse(sentlist)\n",
    "# convert the generator to a list\n",
    "treelist = list(trees)\n",
    "\n",
    "# what type is an individual tree?\n",
    "print(type(treelist[0]))\n",
    "# print the tree structures\n",
    "for tree in treelist:\n",
    "\tprint (tree)\n"
   ]
  },
  {
   "cell_type": "code",
   "execution_count": 6,
   "metadata": {},
   "outputs": [
    {
     "name": "stdout",
     "output_type": "stream",
     "text": [
      "(S\n",
      "  (NP (Prop John))\n",
      "  (VP\n",
      "    (V saw)\n",
      "    (NP\n",
      "      (Det the)\n",
      "      (N man)\n",
      "      (PP\n",
      "        (P in)\n",
      "        (NP\n",
      "          (Det the)\n",
      "          (N park)\n",
      "          (PP (P with) (NP (Det a) (N telescope))))))))\n",
      "(S\n",
      "  (NP (Prop John))\n",
      "  (VP\n",
      "    (V saw)\n",
      "    (NP (Det the) (N man))\n",
      "    (PP\n",
      "      (P in)\n",
      "      (NP\n",
      "        (Det the)\n",
      "        (N park)\n",
      "        (PP (P with) (NP (Det a) (N telescope)))))))\n",
      "(S\n",
      "  (NP (Prop John))\n",
      "  (VP\n",
      "    (V saw)\n",
      "    (NP (Det the) (N man) (PP (P in) (NP (Det the) (N park))))\n",
      "    (PP (P with) (NP (Det a) (N telescope)))))\n"
     ]
    }
   ],
   "source": [
    "\n",
    "# try an ambiguous sentence\n",
    "sent2list = \"John saw the man in the park with a telescope\".split()\n",
    "for tree in rd_parser.parse(sent2list):\n",
    "\tprint (tree)\n",
    "\n",
    "\n"
   ]
  },
  {
   "cell_type": "code",
   "execution_count": 7,
   "metadata": {},
   "outputs": [
    {
     "name": "stdout",
     "output_type": "stream",
     "text": [
      "(S\n",
      "  (NP (Prop I))\n",
      "  (VP\n",
      "    (V shot)\n",
      "    (NP (Det an) (N elephant) (PP (P in) (NP (Det my) (N pajamas))))))\n",
      "(S\n",
      "  (NP (Prop I))\n",
      "  (VP\n",
      "    (V shot)\n",
      "    (NP (Det an) (N elephant))\n",
      "    (PP (P in) (NP (Det my) (N pajamas)))))\n"
     ]
    }
   ],
   "source": [
    "# extend the grammar with more words (I, elephant, pajamas)\n",
    "groucho_grammar = nltk.CFG.fromstring(\"\"\"\n",
    "  S -> NP VP\n",
    "  VP -> V NP | V NP PP\n",
    "  PP -> P NP\n",
    "  V -> \"saw\" | \"ate\" | \"walked\" | \"shot\"\n",
    "  NP -> Prop | Det N | Det N PP\n",
    "  Prop -> \"John\" | \"Mary\" | \"Bob\" | \"I\"\n",
    "  Det -> \"a\" | \"an\" | \"the\" | \"my\"\n",
    "  N -> \"man\" | \"dog\" | \"cat\" | \"telescope\" | \"park\" | \"elephant\" | \"pajamas\"\n",
    "  P -> \"in\" | \"on\" | \"by\" | \"with\"\n",
    "  \"\"\")\n",
    "\n",
    "# if we change the grammar, we create a new parser\n",
    "rd_parser = nltk.RecursiveDescentParser(groucho_grammar)\n",
    "\n",
    "# try sent4 with the recursive descent parser on groucho grammar\n",
    "sent4list = \"I shot an elephant in my pajamas\".split()\n",
    "for tree in rd_parser.parse(sent4list):\n",
    "\tprint (tree)"
   ]
  },
  {
   "cell_type": "code",
   "execution_count": 8,
   "metadata": {},
   "outputs": [
    {
     "name": "stdout",
     "output_type": "stream",
     "text": [
      "(S (VP (V book) (NP (Det that) (N flight))))\n"
     ]
    }
   ],
   "source": [
    "\n",
    "# extend the grammar for the flight grammar:  adding a rule to S and some words\n",
    "flight_grammar = nltk.CFG.fromstring(\"\"\"\n",
    "  S -> NP VP | VP\n",
    "  VP -> V NP | V NP PP\n",
    "  PP -> P NP\n",
    "  V -> \"saw\" | \"ate\" | \"walked\" | \"shot\" | \"book\"\n",
    "  NP -> Prop | Det N | Det N PP\n",
    "  Prop -> \"John\" | \"Mary\" | \"Bob\" | \"I\"\n",
    "  Det -> \"a\" | \"an\" | \"the\" | \"my\" | \"that\"\n",
    "  N -> \"man\" | \"dog\" | \"cat\" | \"telescope\" | \"park\" | \"elephant\" | \"pajamas\" | \"flight\"\n",
    "  P -> \"in\" | \"on\" | \"by\" | \"with\"\n",
    "  \"\"\")\n",
    "\n",
    "# make a recursive descent parser and parse the sentence\n",
    "rd_parser = nltk.RecursiveDescentParser(flight_grammar)\n",
    "sent5list = 'book that flight'.split()\n",
    "for tree in rd_parser.parse(sent5list):\n",
    "\tprint (tree)\n"
   ]
  },
  {
   "cell_type": "markdown",
   "metadata": {},
   "source": [
    "Lab Week 5 \n",
    "Text for Lab Question"
   ]
  },
  {
   "cell_type": "code",
   "execution_count": 20,
   "metadata": {},
   "outputs": [
    {
     "name": "stdout",
     "output_type": "stream",
     "text": [
      "(S\n",
      "  (NP (Prop I))\n",
      "  (VP\n",
      "    (V prefer)\n",
      "    (NP (Det a) (N flight) (PP (P through) (NP (Prop Houston))))))\n",
      "(S\n",
      "  (NP (Prop I))\n",
      "  (VP\n",
      "    (V prefer)\n",
      "    (NP (Det a) (N flight))\n",
      "    (PP (P through) (NP (Prop Houston)))))\n",
      "(S\n",
      "  (NP (Prop Jack))\n",
      "  (VP (V walked) (PP (P with) (NP (Det the) (N dog)))))\n",
      "(S\n",
      "  (NP (Prop John))\n",
      "  (VP (V gave) (NP (Det the) (N dog)) (NP (Det a) (N bone))))\n",
      "(S\n",
      "  (NP (Prop I))\n",
      "  (VP (V want) (TO to) (VP (V book) (NP (Det that) (N flight)))))\n"
     ]
    }
   ],
   "source": [
    "# Define sentences for the question\n",
    "sentex1 = \"I prefer a flight through Houston\".split()\n",
    "sentex2 = \"Jack walked with the dog\".split()\n",
    "sentex3 = \"John gave the dog a bone\".split()\n",
    "sentex4 = \"I want to book that flight\".split()\n",
    "\n",
    "# extend the flight grammar:\n",
    "flight_grammar = nltk.CFG.fromstring(\"\"\"\n",
    "  S -> NP VP | VP\n",
    "  VP -> V NP | V NP PP | V PP | V NP NP | V TO VP\n",
    "  PP -> P NP\n",
    "  V -> \"saw\" | \"ate\" | \"walked\" | \"shot\" | \"book\" | \"prefer\" | \"gave\" | \"want\"\n",
    "  NP -> Prop | Det N | Det N PP \n",
    "  Prop -> \"John\" | \"Mary\" | \"Bob\" | \"I\" | \"Jack\" | \"Houston\"\n",
    "  Det -> \"a\" | \"an\" | \"the\" | \"my\" | \"that\"\n",
    "  N -> \"man\" | \"dog\" | \"cat\" | \"telescope\" | \"park\" | \"elephant\" | \"pajamas\" | \"flight\" | \"bone\" \n",
    "  P -> \"in\" | \"on\" | \"by\" | \"with\" | \"through\"\n",
    "  TO -> \"to\"\n",
    "  \"\"\")\n",
    "\n",
    "# redefine rd_parser when you change the flight grammar\n",
    "rd_parser = nltk.RecursiveDescentParser(flight_grammar)\n",
    "for tree in rd_parser.parse(sentex1):   print (tree)\n",
    "for tree in rd_parser.parse(sentex2):   print (tree)\n",
    "for tree in rd_parser.parse(sentex3):   print (tree)\n",
    "for tree in rd_parser.parse(sentex4):   print (tree)"
   ]
  },
  {
   "cell_type": "code",
   "execution_count": null,
   "metadata": {},
   "outputs": [],
   "source": [
    "\n",
    "## Probabilistic CFG with verb subcategories\n",
    "#    for transitive (TranV), intransitive (InV) and dative (DatV) verbs\n",
    "prob_grammar = nltk.PCFG.fromstring(\"\"\"\n",
    "  S -> NP VP [0.9]| VP  [0.1]\n",
    "  VP -> TranV NP [0.3]\n",
    "  VP -> InV  [0.3]\n",
    "  VP -> DatV NP PP  [0.4]\n",
    "  PP -> P NP   [1.0]\n",
    "  TranV -> \"saw\" [0.2] | \"ate\" [0.2] | \"walked\" [0.2] | \"shot\" [0.2] | \"book\" [0.2]\n",
    "  InV -> \"ate\" [0.5] | \"walked\" [0.5]\n",
    "  DatV -> \"gave\" [0.2] | \"ate\" [0.2] | \"saw\" [0.2] | \"walked\" [0.2] | \"shot\" [0.2]\n",
    "  NP -> Prop [0.2]| Det N [0.4] | Det N PP [0.4]\n",
    "  Prop -> \"John\" [0.25]| \"Mary\" [0.25] | \"Bob\" [0.25] | \"I\" [0.25] \n",
    "  Det -> \"a\" [0.2] | \"an\" [0.2] | \"the\" [0.2] | \"my\" [0.2] | \"that\" [0.2]\n",
    "  N -> \"man\" [0.15] | \"dog\" [0.15] | \"cat\" [0.15] | \"park\" [0.15] | \"telescope\" [0.1] | \"flight\" [0.1] | \"elephant\" [0.1] | \"pajamas\" [0.1]\n",
    "  P -> \"in\" [0.2] | \"on\" [0.2] | \"by\" [0.2] | \"with\" [0.2] | \"through\" [0.2]\n",
    "  \"\"\")\n",
    "\n",
    "# create a viterbi parser, a parser that expects a PCFG\n",
    "viterbi_parser = nltk.ViterbiParser(prob_grammar)\n",
    "# use its parse function on a list of tokens\n",
    "for tree in viterbi_parser.parse(['John', 'saw', 'a', 'telescope']):\n",
    "    print (tree)\n",
    "\n",
    "# parse some other sentences\n",
    "# this parser chooses to return the highest probability tree\n",
    "for tree in viterbi_parser.parse(sent2list):\n",
    "    print (tree)\n",
    "\n",
    "for tree in viterbi_parser.parse(sent4list):\n",
    "    print (tree)\n",
    "\n",
    "\n",
    "## Look at Dependency grammars in the NLTK book, section 8.5\n",
    "# a dependency grammar for the groucho example\n",
    "# note difficulty of writing rules for every word dependency\n",
    "groucho_dep_grammar = nltk.DependencyGrammar.fromstring(\"\"\"\n",
    "  'shot' -> 'I' | 'elephant' | 'in'\n",
    "  'elephant' -> 'an' | 'in'\n",
    "  'in' -> 'pajamas'\n",
    "  'pajamas' -> 'my'\n",
    "  \"\"\")\n",
    "print (groucho_dep_grammar)\n",
    "\n",
    "\n",
    "# create a dependency parser, assumes sentence is projective\n",
    "pdp = nltk.ProjectiveDependencyParser(groucho_dep_grammar)\n",
    "glist = 'I shot an elephant in my pajamas'.split()\n",
    "# use the parse function to parse a list of tokens\n",
    "trees = pdp.parse(glist)\n",
    "for tree in trees:\n",
    "    print (tree)\n"
   ]
  }
 ],
 "metadata": {
  "kernelspec": {
   "display_name": "Python 3",
   "language": "python",
   "name": "python3"
  },
  "language_info": {
   "codemirror_mode": {
    "name": "ipython",
    "version": 3
   },
   "file_extension": ".py",
   "mimetype": "text/x-python",
   "name": "python",
   "nbconvert_exporter": "python",
   "pygments_lexer": "ipython3",
   "version": "3.7.3"
  }
 },
 "nbformat": 4,
 "nbformat_minor": 2
}
