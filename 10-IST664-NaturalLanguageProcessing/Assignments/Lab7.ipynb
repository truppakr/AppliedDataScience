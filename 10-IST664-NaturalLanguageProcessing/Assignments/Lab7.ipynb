{
 "cells": [
  {
   "cell_type": "markdown",
   "metadata": {},
   "source": [
    "## NLP Lab Session Week 7\n",
    "## Classification and Feature Sets in NLTK\n",
    "## Part 1:  Classifying names for gender\n",
    "\n",
    "### Getting Started\n"
   ]
  },
  {
   "cell_type": "markdown",
   "metadata": {},
   "source": [
    "For this lab session download the examples:  LabWk7.classifybasics.txt put it in your class folder for copy/pasting examples.  Start your Jupyter notebook session."
   ]
  },
  {
   "cell_type": "code",
   "execution_count": 1,
   "metadata": {},
   "outputs": [],
   "source": [
    "import nltk"
   ]
  },
  {
   "cell_type": "markdown",
   "metadata": {},
   "source": [
    "These examples and others appear in Chapter 6 of the NLTK book.\n",
    "\n",
    "The goal of this week’s lab is to show how to set up a variety of text classification problems in the NLTK.\n",
    "\n",
    "Learning to Classify Text\n",
    "We have seen that many NLP tasks, particularly the semantic tasks such as WSD (Word Sense Disambiguation) and SRL (Semantic Role Labeling) are typically solved used machine learning techniques to classify text.  The WSD classification is to take each word in text and label it with one of the word senses from WordNet.  The SRL problem is to take each verb in a sentence and label each constituent phrase in the sentence with a semantic role label or not, thus finding phrases in the sentence that can be labeled with one of the semantic roles of that verb.\n",
    "\n",
    "For these types of classification problems, we need to represent the input text by a set of features for the classifier algorithm.  Now you may have seen in some machine learning tools such as Weka or SKLearn that there are text processing functions – Weka’s is called StringToWordVector – that can obtain a set of features that represent a piece of text by the frequencies of the words that it contains.  These functions may also have filters such as stop words or minimum frequencies.  But with more advanced text processing, we can define many more types of features from text that are required for some text classification tasks.  In the next weeks, we will look at several ways to define text features for classification, ending with sentiment classification.\n",
    "\n",
    "In this first lab using NLP for classification, we look at how to prepare data for classification in the NLTK.  These examples and others appear in Chapter 6 of the NLTK book. For each example, or instance, of the classification problem, we prepare a set of features that will represent that example to the machine learning algorithm.  (Look at the diagram in Section 1, Figure 1.1)  In the NLTK terminology, our focus in this class will be to write feature extractors that take advantage of our knowledge of NLP to design good features to represent text problems.\n",
    "\n",
    "Name Gender Classifier\n",
    "We start with a simple problem that will illustrate the process of preparing text data for classification and training and using classifiers.  This problem is based on the idea that male and female first names (in English) have distinctive characteristics.  For example, names ending in a, e, and i are likely to be female, while names ending in k, o, r, s and t are likely to be male.  We will build a classifier that will label any name with its gender.\n",
    "\n",
    "For each item to be classified, in this case a single word, in NLTK we build the features of that item as a dictionary that maps each feature name to a value, which can be a Boolean, a number or a string.  A feature set is the feature dictionary together with the label of the item to be classified, in this case the gender. \n",
    "\n",
    " \n",
    "We first define a function that will extract or build the features for a single instance of the problem, in this case a single name.  To start with, we will generate a single feature which consists of the last letter of the name.  Note that the function returns a dictionary with a single item.\n"
   ]
  },
  {
   "cell_type": "code",
   "execution_count": 51,
   "metadata": {},
   "outputs": [],
   "source": [
    "def gender_features(word):\n",
    "    return{'last_letter': word[-1]}\n",
    "\n",
    "def gender_features2(word):\n",
    "    return{'last_letter': word[-2:]}\n",
    "\n",
    "def gender_features3(word):\n",
    "    return{'first_letter': word[:2]}\n",
    "\n",
    "def gender_features4(word):\n",
    "    return{'first_last_letter': word[:2]+word[-2:]}"
   ]
  },
  {
   "cell_type": "code",
   "execution_count": 52,
   "metadata": {},
   "outputs": [
    {
     "name": "stdout",
     "output_type": "stream",
     "text": [
      "{'last_letter': 'k'}\n",
      "{'last_letter': 'ek'}\n",
      "{'first_letter': 'Sh'}\n",
      "{'first_last_letter': 'Shek'}\n"
     ]
    }
   ],
   "source": [
    "# We can apply this function to any name:\n",
    "print(gender_features('Shrek'))\n",
    "print(gender_features2('Shrek'))\n",
    "print(gender_features3('Shrek'))\n",
    "print(gender_features4('Shrek'))"
   ]
  },
  {
   "cell_type": "markdown",
   "metadata": {},
   "source": [
    "Now that we’ve defined our features, we need to construct the training data, or “gold standard” data.  This will be a list of first names, each of which will be labeled either male or female.  So we want a list of names with known gender where we can construct the feature set for each name.  For example, if the gender of Shrek is known to be “male”, we could have:\n",
    "\n",
    " \n",
    "\n",
    "\n",
    "The NLTK corpus contains a names corpus which has a list of male first names and another list of female first names, so we can use this data to create a list of all the first names, but where each is labeled with its gender.\n"
   ]
  },
  {
   "cell_type": "code",
   "execution_count": 5,
   "metadata": {},
   "outputs": [],
   "source": [
    "from nltk.corpus import names"
   ]
  },
  {
   "cell_type": "markdown",
   "metadata": {},
   "source": [
    "The names corpus has a function words that will return either the names identified by the string ‘male.txt’ or ‘female.txt’.  Here we look at the first 20 male names."
   ]
  },
  {
   "cell_type": "code",
   "execution_count": 6,
   "metadata": {},
   "outputs": [
    {
     "data": {
      "text/plain": [
       "['Aamir',\n",
       " 'Aaron',\n",
       " 'Abbey',\n",
       " 'Abbie',\n",
       " 'Abbot',\n",
       " 'Abbott',\n",
       " 'Abby',\n",
       " 'Abdel',\n",
       " 'Abdul',\n",
       " 'Abdulkarim',\n",
       " 'Abdullah',\n",
       " 'Abe',\n",
       " 'Abel',\n",
       " 'Abelard',\n",
       " 'Abner',\n",
       " 'Abraham',\n",
       " 'Abram',\n",
       " 'Ace',\n",
       " 'Adair',\n",
       " 'Adam']"
      ]
     },
     "execution_count": 6,
     "metadata": {},
     "output_type": "execute_result"
    }
   ],
   "source": [
    "names.words('male.txt')[:20]"
   ]
  },
  {
   "cell_type": "markdown",
   "metadata": {},
   "source": [
    "From the male and female names lists, we will create one long list with (name, gender) pairs to create the labeled data."
   ]
  },
  {
   "cell_type": "code",
   "execution_count": 7,
   "metadata": {},
   "outputs": [],
   "source": [
    "namesgender = ([(name, 'male') for name in names.words('male.txt')] +\n",
    "          [(name, 'female') for name in names.words('female.txt')])\n"
   ]
  },
  {
   "cell_type": "code",
   "execution_count": 8,
   "metadata": {},
   "outputs": [
    {
     "name": "stdout",
     "output_type": "stream",
     "text": [
      "7944\n",
      "[('Aamir', 'male'), ('Aaron', 'male'), ('Abbey', 'male'), ('Abbie', 'male'), ('Abbot', 'male'), ('Abbott', 'male'), ('Abby', 'male'), ('Abdel', 'male'), ('Abdul', 'male'), ('Abdulkarim', 'male'), ('Abdullah', 'male'), ('Abe', 'male'), ('Abel', 'male'), ('Abelard', 'male'), ('Abner', 'male'), ('Abraham', 'male'), ('Abram', 'male'), ('Ace', 'male'), ('Adair', 'male'), ('Adam', 'male')]\n",
      "[('Zena', 'female'), ('Zenia', 'female'), ('Zia', 'female'), ('Zilvia', 'female'), ('Zita', 'female'), ('Zitella', 'female'), ('Zoe', 'female'), ('Zola', 'female'), ('Zonda', 'female'), ('Zondra', 'female'), ('Zonnya', 'female'), ('Zora', 'female'), ('Zorah', 'female'), ('Zorana', 'female'), ('Zorina', 'female'), ('Zorine', 'female'), ('Zsa Zsa', 'female'), ('Zsazsa', 'female'), ('Zulema', 'female'), ('Zuzana', 'female')]\n"
     ]
    }
   ],
   "source": [
    "# Take a look at this list with the first 20 names and the last 20 names.\n",
    "print(len(namesgender))\n",
    "\n",
    "print(namesgender[:20])\n",
    "print(namesgender[7924:])\n"
   ]
  },
  {
   "cell_type": "code",
   "execution_count": 9,
   "metadata": {},
   "outputs": [
    {
     "name": "stdout",
     "output_type": "stream",
     "text": [
      "[('Marjie', 'female'), ('Eustacia', 'female'), ('Bubba', 'male'), ('Kraig', 'male'), ('Sherlock', 'male'), ('Gwenette', 'female'), ('Larina', 'female'), ('Dawn', 'female'), ('Lura', 'female'), ('Mathew', 'male'), ('Cherry', 'female'), ('Corilla', 'female'), ('Eliott', 'male'), ('Er', 'male'), ('Sanders', 'male'), ('Miriam', 'female'), ('Marissa', 'female'), ('Carley', 'female'), ('Rory', 'female'), ('Starla', 'female')]\n"
     ]
    }
   ],
   "source": [
    "# Now we create a random shuffle of the namesgender list so that we can easily split it into a training and test set.\n",
    "import random\n",
    "random.shuffle(namesgender)\n",
    "print(namesgender[:20])\n"
   ]
  },
  {
   "cell_type": "code",
   "execution_count": 10,
   "metadata": {},
   "outputs": [],
   "source": [
    "# We split this list into training and test sets and run the Naïve Bayes classifier algorithm to create a trained classifier.  \n",
    "# (The training set is the last 7444 examples and the test set is the first 500 examples.)  What do you think will happen if \n",
    "# some of the examples with last letter = “n” are female and some of them are male?\n",
    "\n",
    "train_names = namesgender[500:]\n",
    "test_names = namesgender[:500]\n"
   ]
  },
  {
   "cell_type": "code",
   "execution_count": 12,
   "metadata": {},
   "outputs": [
    {
     "name": "stdout",
     "output_type": "stream",
     "text": [
      "[({'last_letter': 'y'}, 'male'), ({'last_letter': 'a'}, 'female'), ({'last_letter': 'i'}, 'female'), ({'last_letter': 'y'}, 'female'), ({'last_letter': 'r'}, 'male'), ({'last_letter': 'a'}, 'female'), ({'last_letter': 'e'}, 'female'), ({'last_letter': 'e'}, 'female'), ({'last_letter': 'a'}, 'female'), ({'last_letter': 'a'}, 'female'), ({'last_letter': 'n'}, 'male'), ({'last_letter': 'b'}, 'male'), ({'last_letter': 'e'}, 'female'), ({'last_letter': 'a'}, 'female'), ({'last_letter': 'a'}, 'female'), ({'last_letter': 'e'}, 'male'), ({'last_letter': 'l'}, 'male'), ({'last_letter': 'n'}, 'male'), ({'last_letter': 'a'}, 'female'), ({'last_letter': 'e'}, 'female')]\n"
     ]
    }
   ],
   "source": [
    "# Next we use the feature extractor function to create the list of instances of the problem that consists only of the features \n",
    "# and the gender label.  (This is the equivalent of the spread sheet for structured data in a classification problem.)  But \n",
    "# this example is unusual in that most of the actual text is ignored in the features!  \n",
    "\n",
    "train_set = [(gender_features(n), g) for (n,g) in train_names]\n",
    "test_set = [(gender_features(n), g) for (n,g) in test_names]\n",
    "print(train_set[:20])\n",
    "classifier = nltk.NaiveBayesClassifier.train(train_set)"
   ]
  },
  {
   "cell_type": "markdown",
   "metadata": {},
   "source": [
    "We can the compute the accuracy of the classifier on the test set.  The accuracy function for each classifier:\n",
    "\n",
    "•\tfirst removes the gender labels from the test set,\n",
    "\n",
    "•\truns the classifier on each name in the test set to get a predicted gender, and \n",
    "\n",
    "•\tcompares the predicted gender with each actual gender from the test set to get the evaluation score.  \n",
    "\n",
    "In this case, it just produces an accuracy score, instead of precision and recall.\n",
    "\n"
   ]
  },
  {
   "cell_type": "code",
   "execution_count": 14,
   "metadata": {},
   "outputs": [
    {
     "name": "stdout",
     "output_type": "stream",
     "text": [
      "0.756\n"
     ]
    }
   ],
   "source": [
    "print(nltk.classify.accuracy(classifier, test_set))"
   ]
  },
  {
   "cell_type": "code",
   "execution_count": 15,
   "metadata": {},
   "outputs": [
    {
     "name": "stdout",
     "output_type": "stream",
     "text": [
      "male\n",
      "female\n"
     ]
    }
   ],
   "source": [
    "# One of the things that we can use a classifier for is to label totally new instances of the problem, in this case, names that \n",
    "# come from the future:\n",
    "\n",
    "print(classifier.classify(gender_features('Neo')))\n",
    "print(classifier.classify(gender_features('Trinity')))\n"
   ]
  },
  {
   "cell_type": "code",
   "execution_count": 16,
   "metadata": {},
   "outputs": [
    {
     "name": "stdout",
     "output_type": "stream",
     "text": [
      "Most Informative Features\n",
      "             last_letter = 'k'              male : female =     44.8 : 1.0\n",
      "             last_letter = 'a'            female : male   =     39.6 : 1.0\n",
      "             last_letter = 'f'              male : female =     15.4 : 1.0\n",
      "             last_letter = 'p'              male : female =     12.0 : 1.0\n",
      "             last_letter = 'm'              male : female =     11.8 : 1.0\n",
      "             last_letter = 'v'              male : female =     10.6 : 1.0\n",
      "             last_letter = 'd'              male : female =      9.1 : 1.0\n",
      "             last_letter = 'o'              male : female =      8.0 : 1.0\n",
      "             last_letter = 'r'              male : female =      6.9 : 1.0\n",
      "             last_letter = 'g'              male : female =      5.0 : 1.0\n",
      "             last_letter = 'w'              male : female =      4.8 : 1.0\n",
      "             last_letter = 'z'              male : female =      4.4 : 1.0\n",
      "             last_letter = 't'              male : female =      4.1 : 1.0\n",
      "             last_letter = 's'              male : female =      4.1 : 1.0\n",
      "             last_letter = 'i'            female : male   =      3.9 : 1.0\n",
      "             last_letter = 'b'              male : female =      3.7 : 1.0\n",
      "             last_letter = 'u'              male : female =      3.3 : 1.0\n",
      "             last_letter = 'j'              male : female =      2.8 : 1.0\n",
      "             last_letter = 'n'              male : female =      2.1 : 1.0\n",
      "             last_letter = 'l'              male : female =      1.8 : 1.0\n"
     ]
    }
   ],
   "source": [
    "# Finally, the classifier class for Naïve Bayes has a function that shows the feature values that were most important in \n",
    "# doing the classification.\n",
    "classifier.show_most_informative_features(20)"
   ]
  },
  {
   "cell_type": "markdown",
   "metadata": {},
   "source": [
    "When the output of this function shows a line like:\n",
    "             last_letter = 'a'            female : male   =     35.4 : 1.0\n",
    "it means that when an example has the feature last_letter = ‘a’, it is 35.4 times more likely to be classified as female than male.\n"
   ]
  },
  {
   "cell_type": "markdown",
   "metadata": {},
   "source": [
    "### Choosing Good Features\n",
    "\n",
    "Selecting relevant features can usually be the most important part of training a classifier.  Often the approach is to throw in as many features as possible and then try to figure out which ones were important.  For most machine learning algorithms, throwing in too many features can cause a problem known as “overfitting”, which is that the classifier is trained on so many of the exact details of the training set that it is not as good on new examples.\n",
    "\n",
    "In developing a classifier for a classification problem, we will want to do some error analysis of the test set and then perhaps change our features and retrain the classifier.  This is known as the development process.  In the real world, it would be important to keep a separate test set that was not used in the error analysis for our final evaluation.  So we would actually divide our labeled data into a training set, a development test set, and a test set.  But for this lab, we will continue to just use a training and a test set.\n"
   ]
  },
  {
   "cell_type": "code",
   "execution_count": 17,
   "metadata": {},
   "outputs": [],
   "source": [
    "def geterrors(test):\n",
    "    errors = []\n",
    "    for (name, tag) in test:\n",
    "        guess = classifier.classify(gender_features(name))\n",
    "        if guess != tag:\n",
    "            errors.append( (tag, guess, name) )\n",
    "    return errors\n"
   ]
  },
  {
   "cell_type": "code",
   "execution_count": 18,
   "metadata": {},
   "outputs": [
    {
     "data": {
      "text/plain": [
       "122"
      ]
     },
     "execution_count": 18,
     "metadata": {},
     "output_type": "execute_result"
    }
   ],
   "source": [
    "errors = geterrors(test_names)\n",
    "len(errors)"
   ]
  },
  {
   "cell_type": "code",
   "execution_count": 42,
   "metadata": {},
   "outputs": [
    {
     "name": "stdout",
     "output_type": "stream",
     "text": [
      "correct=female   guess=male     name=Aleen                         \n",
      "correct=female   guess=male     name=Allis                         \n",
      "correct=female   guess=male     name=Ambur                         \n",
      "correct=female   guess=male     name=Aurel                         \n",
      "correct=female   guess=male     name=Beret                         \n",
      "correct=female   guess=male     name=Betteann                      \n",
      "correct=female   guess=male     name=Bidget                        \n",
      "correct=female   guess=male     name=Blair                         \n",
      "correct=female   guess=male     name=Bridgett                      \n",
      "correct=female   guess=male     name=Caren                         \n",
      "correct=female   guess=male     name=Ceil                          \n",
      "correct=female   guess=male     name=Charmain                      \n",
      "correct=female   guess=male     name=Christal                      \n",
      "correct=female   guess=male     name=Clem                          \n",
      "correct=female   guess=male     name=Coleen                        \n",
      "correct=female   guess=male     name=Cristin                       \n",
      "correct=female   guess=male     name=Cyb                           \n",
      "correct=female   guess=male     name=Dareen                        \n",
      "correct=female   guess=male     name=Dawn                          \n",
      "correct=female   guess=male     name=Deeann                        \n",
      "correct=female   guess=male     name=Denys                         \n",
      "correct=female   guess=male     name=Esther                        \n",
      "correct=female   guess=male     name=Ethelyn                       \n",
      "correct=female   guess=male     name=Fleur                         \n",
      "correct=female   guess=male     name=Fran                          \n",
      "correct=female   guess=male     name=Glen                          \n",
      "correct=female   guess=male     name=Guendolen                     \n",
      "correct=female   guess=male     name=Hannibal                      \n",
      "correct=female   guess=male     name=Isobel                        \n",
      "correct=female   guess=male     name=Jessalyn                      \n",
      "correct=female   guess=male     name=Jocelyn                       \n",
      "correct=female   guess=male     name=Jourdan                       \n",
      "correct=female   guess=male     name=Kara-Lynn                     \n",
      "correct=female   guess=male     name=Karyl                         \n",
      "correct=female   guess=male     name=Katleen                       \n",
      "correct=female   guess=male     name=Kerrill                       \n",
      "correct=female   guess=male     name=Kerstin                       \n",
      "correct=female   guess=male     name=Kim                           \n",
      "correct=female   guess=male     name=Kristan                       \n",
      "correct=female   guess=male     name=Kym                           \n",
      "correct=female   guess=male     name=Lark                          \n",
      "correct=female   guess=male     name=Laurel                        \n",
      "correct=female   guess=male     name=LeeAnn                        \n",
      "correct=female   guess=male     name=Madel                         \n",
      "correct=female   guess=male     name=Marillin                      \n",
      "correct=female   guess=male     name=Maureen                       \n",
      "correct=female   guess=male     name=Mehetabel                     \n",
      "correct=female   guess=male     name=Mel                           \n",
      "correct=female   guess=male     name=Mellisent                     \n",
      "correct=female   guess=male     name=Miriam                        \n",
      "correct=female   guess=male     name=Muriel                        \n",
      "correct=female   guess=male     name=Noelyn                        \n",
      "correct=female   guess=male     name=Pearl                         \n",
      "correct=female   guess=male     name=Raven                         \n",
      "correct=female   guess=male     name=Rhiamon                       \n",
      "correct=female   guess=male     name=Robyn                         \n",
      "correct=female   guess=male     name=Rosabel                       \n",
      "correct=female   guess=male     name=Roselyn                       \n",
      "correct=female   guess=male     name=Scarlett                      \n",
      "correct=female   guess=male     name=Sibel                         \n",
      "correct=female   guess=male     name=Sibyl                         \n",
      "correct=female   guess=male     name=Tamar                         \n",
      "correct=female   guess=male     name=Vivian                        \n",
      "correct=female   guess=male     name=Wileen                        \n",
      "correct=male     guess=female   name=Aditya                        \n",
      "correct=male     guess=female   name=Adlai                         \n",
      "correct=male     guess=female   name=Adolph                        \n",
      "correct=male     guess=female   name=Alaa                          \n",
      "correct=male     guess=female   name=Antony                        \n",
      "correct=male     guess=female   name=Arie                          \n",
      "correct=male     guess=female   name=Artie                         \n",
      "correct=male     guess=female   name=Bubba                         \n",
      "correct=male     guess=female   name=Carlyle                       \n",
      "correct=male     guess=female   name=Cary                          \n",
      "correct=male     guess=female   name=Casey                         \n",
      "correct=male     guess=female   name=Conway                        \n",
      "correct=male     guess=female   name=Costa                         \n",
      "correct=male     guess=female   name=Davy                          \n",
      "correct=male     guess=female   name=Donny                         \n",
      "correct=male     guess=female   name=Duffy                         \n",
      "correct=male     guess=female   name=Earle                         \n",
      "correct=male     guess=female   name=Ellsworth                     \n",
      "correct=male     guess=female   name=Ely                           \n",
      "correct=male     guess=female   name=Gayle                         \n",
      "correct=male     guess=female   name=Georgy                        \n",
      "correct=male     guess=female   name=Gerri                         \n",
      "correct=male     guess=female   name=Giavani                       \n",
      "correct=male     guess=female   name=Giovanne                      \n",
      "correct=male     guess=female   name=Godfree                       \n",
      "correct=male     guess=female   name=Hasty                         \n",
      "correct=male     guess=female   name=Jeremy                        \n",
      "correct=male     guess=female   name=Krishna                       \n",
      "correct=male     guess=female   name=Lee                           \n",
      "correct=male     guess=female   name=Lorrie                        \n",
      "correct=male     guess=female   name=Meade                         \n",
      "correct=male     guess=female   name=Morry                         \n",
      "correct=male     guess=female   name=Nickie                        \n",
      "correct=male     guess=female   name=Obadiah                       \n",
      "correct=male     guess=female   name=Parke                         \n",
      "correct=male     guess=female   name=Prentice                      \n",
      "correct=male     guess=female   name=Prince                        \n",
      "correct=male     guess=female   name=Reggie                        \n",
      "correct=male     guess=female   name=Rikki                         \n",
      "correct=male     guess=female   name=Ritch                         \n",
      "correct=male     guess=female   name=Rocky                         \n",
      "correct=male     guess=female   name=Ronny                         \n",
      "correct=male     guess=female   name=Sarge                         \n",
      "correct=male     guess=female   name=Scotty                        \n",
      "correct=male     guess=female   name=Shelby                        \n",
      "correct=male     guess=female   name=Skippie                       \n",
      "correct=male     guess=female   name=Sky                           \n",
      "correct=male     guess=female   name=Steve                         \n",
      "correct=male     guess=female   name=Tabby                         \n",
      "correct=male     guess=female   name=Tanny                         \n",
      "correct=male     guess=female   name=Terry                         \n",
      "correct=male     guess=female   name=Tore                          \n",
      "correct=male     guess=female   name=Tracy                         \n",
      "correct=male     guess=female   name=Tulley                        \n",
      "correct=male     guess=female   name=Vasili                        \n",
      "correct=male     guess=female   name=Vassily                       \n",
      "correct=male     guess=female   name=Wallace                       \n",
      "correct=male     guess=female   name=Zane                          \n"
     ]
    }
   ],
   "source": [
    "# Then we define a function to print all the errors, sorted by the correct labels, so that we can look at the differences \n",
    "# (with even more string formatting).\n",
    "\n",
    "def printerrors(errors):\n",
    "    for (tag, guess, name) in sorted(errors):\n",
    "        print('correct={:<8s} guess={:<8s} name={:<30s}'.format(tag, guess, name))\n",
    "printerrors(errors)\n"
   ]
  },
  {
   "cell_type": "markdown",
   "metadata": {},
   "source": [
    "Looking through the list of errors, we observe cases where using the last two letters of each name might be more informative.  As observed in the book, “For example, names ending in yn appear to be predominantly female, despite the fact that names ending in n tend to be male; and names ending in ch are usually male, even though names that end in h tend to be female.”"
   ]
  },
  {
   "cell_type": "code",
   "execution_count": 54,
   "metadata": {},
   "outputs": [
    {
     "name": "stdout",
     "output_type": "stream",
     "text": [
      "[({'last_letter': 'ey'}, 'male'), ({'last_letter': 'ra'}, 'female'), ({'last_letter': 'di'}, 'female'), ({'last_letter': 'ey'}, 'female'), ({'last_letter': 'ar'}, 'male'), ({'last_letter': 'na'}, 'female'), ({'last_letter': 'ie'}, 'female'), ({'last_letter': 'ne'}, 'female'), ({'last_letter': 'ca'}, 'female'), ({'last_letter': 'ra'}, 'female'), ({'last_letter': 'en'}, 'male'), ({'last_letter': 'eb'}, 'male'), ({'last_letter': 'ie'}, 'female'), ({'last_letter': 'na'}, 'female'), ({'last_letter': 'na'}, 'female'), ({'last_letter': 'ie'}, 'male'), ({'last_letter': 'el'}, 'male'), ({'last_letter': 'an'}, 'male'), ({'last_letter': 'ea'}, 'female'), ({'last_letter': 'ye'}, 'female')]\n",
      "0.78\n",
      "female\n",
      "female\n",
      "Most Informative Features\n",
      "             last_letter = 'na'           female : male   =    166.3 : 1.0\n",
      "             last_letter = 'la'           female : male   =     74.5 : 1.0\n",
      "             last_letter = 'ia'           female : male   =     40.1 : 1.0\n",
      "             last_letter = 'sa'           female : male   =     34.8 : 1.0\n",
      "             last_letter = 'ta'           female : male   =     32.3 : 1.0\n",
      "             last_letter = 'us'             male : female =     30.0 : 1.0\n",
      "             last_letter = 'do'             male : female =     26.3 : 1.0\n",
      "             last_letter = 'ra'           female : male   =     26.1 : 1.0\n",
      "             last_letter = 'rd'             male : female =     24.1 : 1.0\n",
      "             last_letter = 'ld'             male : female =     23.8 : 1.0\n",
      "             last_letter = 'rt'             male : female =     22.3 : 1.0\n",
      "             last_letter = 'os'             male : female =     19.6 : 1.0\n",
      "             last_letter = 'im'             male : female =     16.2 : 1.0\n",
      "             last_letter = 'io'             male : female =     15.8 : 1.0\n",
      "             last_letter = 'ka'           female : male   =     15.3 : 1.0\n",
      "             last_letter = 'ch'             male : female =     15.1 : 1.0\n",
      "             last_letter = 'ns'             male : female =     11.7 : 1.0\n",
      "             last_letter = 'ti'           female : male   =     10.9 : 1.0\n",
      "             last_letter = 'ip'             male : female =     10.6 : 1.0\n",
      "             last_letter = 'rn'             male : female =     10.6 : 1.0\n"
     ]
    }
   ],
   "source": [
    "train_set = [(gender_features2(n), g) for (n,g) in train_names]\n",
    "test_set = [(gender_features2(n), g) for (n,g) in test_names]\n",
    "print(train_set[:20])\n",
    "classifier = nltk.NaiveBayesClassifier.train(train_set)\n",
    "print(nltk.classify.accuracy(classifier, test_set))\n",
    "print(classifier.classify(gender_features('Neo')))\n",
    "print(classifier.classify(gender_features('Trinity')))\n",
    "classifier.show_most_informative_features(20)"
   ]
  },
  {
   "cell_type": "markdown",
   "metadata": {},
   "source": [
    "## NLP Lab Session Week 7\n",
    "## Classification and Feature Sets in NLTK\n",
    "## Part 2:  POS Tagging\n",
    "\n",
    "\n",
    "### POS Tagging Classifier\n"
   ]
  },
  {
   "cell_type": "markdown",
   "metadata": {},
   "source": [
    "We next use the example of POS tagging in order to show how to build a feature set in the NLTK and to run a classifier.  We will set up the POS tagging problem as a classification problem that tries to label each word with the correct POS tag.  From our previous discussions of POS tagging in the lectures, we know that the best POS taggers use a combination of an HMM sequential tagger that can use the previous tag and a feature-based classifier similar to the one that we’ll set up here.\n",
    "\n",
    "As we saw last week, for each item to be classified, in this case a single word, in NLTK we build the features of that item as a dictionary that maps each feature name to a value, which can be a Boolean, a number or a string.  A feature set is the feature dictionary together with the label of the item to be classified, in this case the POS tag.\n",
    "\n",
    " \n",
    "\n",
    "One source of information for POS tagging is the morphology of the word, and we can start by looking at suffixes of words and building features.\n",
    "\n",
    "We also know that we can improve POS tagging if we take account of the context of the word.  So we define a POS feature function that takes an entire sentence and can use the previous word in the sentence.  We will use feature names of ‘suffix(1)’, ‘suffix(2)’, and ‘suffix(3)’ and the values of the these features will be the string that contains the suffix letters of lengths 1, 2, and 3.  \n"
   ]
  },
  {
   "cell_type": "code",
   "execution_count": 59,
   "metadata": {},
   "outputs": [],
   "source": [
    "# the pos features function takes the sentence and the index of a word i\n",
    "#   it creates features for word i, including the previous word i-1\n",
    "def pos_features(sentence, i):\n",
    "\tfeatures = {\"suffix(1)\": sentence[i][-1:],\n",
    "\t\t    \"suffix(2)\": sentence[i][-2:],\n",
    "\t\t    \"suffix(3)\": sentence[i][-3:]}\n",
    "\tif i == 0:\n",
    "\t\tfeatures[\"prev-word\"] = \"<START>\"\n",
    "\telse:\n",
    "\t\tfeatures[\"prev-word\"] = sentence[i-1]\n",
    "\treturn features\n"
   ]
  },
  {
   "cell_type": "code",
   "execution_count": 61,
   "metadata": {},
   "outputs": [
    {
     "name": "stdout",
     "output_type": "stream",
     "text": [
      "['The', 'Fulton', 'County', 'Grand', 'Jury', 'said', 'Friday', 'an', 'investigation', 'of', \"Atlanta's\", 'recent', 'primary', 'election', 'produced', '``', 'no', 'evidence', \"''\", 'that', 'any', 'irregularities', 'took', 'place', '.']\n",
      "investigation\n",
      "{'suffix(1)': 'n', 'suffix(2)': 'on', 'suffix(3)': 'ion', 'prev-word': 'an'}\n"
     ]
    }
   ],
   "source": [
    "# Recall that the corpus function “sents” returns a list of sentences, where each sentence is a list of tokens.  \n",
    "# Look at the features of the word at index 8 of the first sentence in the Brown corpus:\n",
    "from nltk.corpus import brown\n",
    "\n",
    "sentence0 = brown.sents()[0]\n",
    "sentence0\n",
    "print(sentence0)\n",
    "print(sentence0[8])\n",
    "print(pos_features(sentence0, 8))\n"
   ]
  },
  {
   "cell_type": "markdown",
   "metadata": {},
   "source": [
    "For this word, our POS_features function gives the feature dictionary.  Now we need to apply our feature function to all words in the training corpus and to pair it with the correct tag.\n",
    "\n",
    " \n",
    "\n",
    "Now we take all the sentences in the news portion of Brown and apply our function to get the POS features, as a dictionary, of each (untagged) word.  In order to apply the pos_features function, we use the nltk.tag.untag function to get an untagged sentence, e.g. here is the untag function applied to the first sentence.\n"
   ]
  },
  {
   "cell_type": "code",
   "execution_count": 63,
   "metadata": {},
   "outputs": [
    {
     "data": {
      "text/plain": [
       "['The',\n",
       " 'Fulton',\n",
       " 'County',\n",
       " 'Grand',\n",
       " 'Jury',\n",
       " 'said',\n",
       " 'Friday',\n",
       " 'an',\n",
       " 'investigation',\n",
       " 'of',\n",
       " \"Atlanta's\",\n",
       " 'recent',\n",
       " 'primary',\n",
       " 'election',\n",
       " 'produced',\n",
       " '``',\n",
       " 'no',\n",
       " 'evidence',\n",
       " \"''\",\n",
       " 'that',\n",
       " 'any',\n",
       " 'irregularities',\n",
       " 'took',\n",
       " 'place',\n",
       " '.']"
      ]
     },
     "execution_count": 63,
     "metadata": {},
     "output_type": "execute_result"
    }
   ],
   "source": [
    "tagged_sents = brown.tagged_sents(categories='news')\n",
    "tag_sent0 = tagged_sents[0]\n",
    "nltk.tag.untag(tag_sent0)\n"
   ]
  },
  {
   "cell_type": "markdown",
   "metadata": {},
   "source": [
    "In order to apply the POS_features function to the untagged sentence, we need an index number for each word, and the python enumerate function will return a list that pairs the index number of each word with the word and tag.  "
   ]
  },
  {
   "cell_type": "code",
   "execution_count": 64,
   "metadata": {},
   "outputs": [
    {
     "name": "stdout",
     "output_type": "stream",
     "text": [
      "0 The AT\n",
      "1 Fulton NP-TL\n",
      "2 County NN-TL\n",
      "3 Grand JJ-TL\n",
      "4 Jury NN-TL\n",
      "5 said VBD\n",
      "6 Friday NR\n",
      "7 an AT\n",
      "8 investigation NN\n",
      "9 of IN\n",
      "10 Atlanta's NP$\n",
      "11 recent JJ\n",
      "12 primary NN\n",
      "13 election NN\n",
      "14 produced VBD\n",
      "15 `` ``\n",
      "16 no AT\n",
      "17 evidence NN\n",
      "18 '' ''\n",
      "19 that CS\n",
      "20 any DTI\n",
      "21 irregularities NNS\n",
      "22 took VBD\n",
      "23 place NN\n",
      "24 . .\n"
     ]
    }
   ],
   "source": [
    "for i,(word,tag) in enumerate(tag_sent0):\n",
    "    print (i, word, tag)\n"
   ]
  },
  {
   "cell_type": "code",
   "execution_count": 65,
   "metadata": {},
   "outputs": [
    {
     "name": "stdout",
     "output_type": "stream",
     "text": [
      "({'suffix(1)': 'e', 'suffix(2)': 'he', 'suffix(3)': 'The', 'prev-word': '<START>'}, 'AT')\n",
      "({'suffix(1)': 'n', 'suffix(2)': 'on', 'suffix(3)': 'ton', 'prev-word': 'The'}, 'NP-TL')\n",
      "({'suffix(1)': 'y', 'suffix(2)': 'ty', 'suffix(3)': 'nty', 'prev-word': 'Fulton'}, 'NN-TL')\n",
      "({'suffix(1)': 'd', 'suffix(2)': 'nd', 'suffix(3)': 'and', 'prev-word': 'County'}, 'JJ-TL')\n",
      "({'suffix(1)': 'y', 'suffix(2)': 'ry', 'suffix(3)': 'ury', 'prev-word': 'Grand'}, 'NN-TL')\n",
      "({'suffix(1)': 'd', 'suffix(2)': 'id', 'suffix(3)': 'aid', 'prev-word': 'Jury'}, 'VBD')\n",
      "({'suffix(1)': 'y', 'suffix(2)': 'ay', 'suffix(3)': 'day', 'prev-word': 'said'}, 'NR')\n",
      "({'suffix(1)': 'n', 'suffix(2)': 'an', 'suffix(3)': 'an', 'prev-word': 'Friday'}, 'AT')\n",
      "({'suffix(1)': 'n', 'suffix(2)': 'on', 'suffix(3)': 'ion', 'prev-word': 'an'}, 'NN')\n",
      "({'suffix(1)': 'f', 'suffix(2)': 'of', 'suffix(3)': 'of', 'prev-word': 'investigation'}, 'IN')\n"
     ]
    }
   ],
   "source": [
    "# After applying the pos_features function to get features for the word, we pair the features with the correct (gold) \n",
    "# tag to get a feature set for each word.\n",
    "\n",
    "featuresets = []\n",
    "for tagged_sent in tagged_sents:\n",
    "\tuntagged_sent = nltk.tag.untag(tagged_sent)\n",
    "\tfor i, (word, tag) in enumerate(tagged_sent):\n",
    "\t\tfeaturesets.append( (pos_features(untagged_sent, i), tag) )\n",
    "\n",
    "# Look at the feature sets of the first 10 words.\n",
    "for f in featuresets[:10]:\n",
    "\tprint (f)\n"
   ]
  },
  {
   "cell_type": "markdown",
   "metadata": {},
   "source": [
    "Finally we separate our corpus into training and test sets and use these feature sets to train a Naïve Bayes classifier and look at the accuracy.  The training and test sets are created using a 90%/10% split of the data, which is typical for problems with large enough data.  Remember that the nltk.classify.accuracy function uses the classifier to classify the unlabeled words from the test set and then compares those tags with the gold tags.  "
   ]
  },
  {
   "cell_type": "code",
   "execution_count": 66,
   "metadata": {},
   "outputs": [
    {
     "name": "stdout",
     "output_type": "stream",
     "text": [
      "90499\n",
      "10055\n",
      "0.7891596220785678\n"
     ]
    }
   ],
   "source": [
    "size = int(len(featuresets) * 0.1)\n",
    "train_set, test_set = featuresets[size:], featuresets[:size]\n",
    "print(len(train_set))\n",
    "print(len(test_set)) \n",
    "\n",
    "classifier = nltk.NaiveBayesClassifier.train(train_set)\n",
    "print(nltk.classify.accuracy(classifier, test_set))\n"
   ]
  },
  {
   "cell_type": "markdown",
   "metadata": {},
   "source": [
    "Note that we have not incorporated other features from the surrounding words, so this classifier accuracy is not bad for this amount of feature information.  And, of course, the feature-based classifier should be combined with a sequential classifier, such as HMM, to achieve the highest performance. "
   ]
  },
  {
   "cell_type": "markdown",
   "metadata": {},
   "source": [
    "## NLP Lab Session Week 7\n",
    "## Classification and Feature Sets in NLTK\n",
    "## Part 3:  Text Categorization\n",
    "\n",
    "### Text Classification (aka Text Categorization)\n"
   ]
  },
  {
   "cell_type": "markdown",
   "metadata": {},
   "source": [
    "For a different type of classification problem, we next look at text classification.  In this problem, the items to be classified are documents.  Most widely known are datasets that label each document with a topic category (hence the name categorization), but we will look at documents from the NLTK Movie Review corpus, where each document is labeled either ‘pos’ for positive or ‘neg’ for negative, according to the opinion of the review.  There are 1000 positive reviews and 1000 negative reviews in the part of the corpus in NLTK.\n",
    "\n",
    "The features of each document will be the words contained in the document, but limited to a set of words that are frequent in the whole document collection.\n"
   ]
  },
  {
   "cell_type": "code",
   "execution_count": 67,
   "metadata": {},
   "outputs": [],
   "source": [
    "from nltk.corpus import movie_reviews\n",
    "import random\n"
   ]
  },
  {
   "cell_type": "code",
   "execution_count": 68,
   "metadata": {},
   "outputs": [
    {
     "name": "stdout",
     "output_type": "stream",
     "text": [
      "['neg', 'pos']\n"
     ]
    }
   ],
   "source": [
    "print(movie_reviews.categories())"
   ]
  },
  {
   "cell_type": "markdown",
   "metadata": {},
   "source": [
    "The movie review documents are not labeled individually, but are separated into file directories by category.  We first create the list of documents where each document is paired with its label."
   ]
  },
  {
   "cell_type": "code",
   "execution_count": 69,
   "metadata": {},
   "outputs": [
    {
     "name": "stdout",
     "output_type": "stream",
     "text": [
      "2000\n"
     ]
    }
   ],
   "source": [
    "documents = [(list(movie_reviews.words(fileid)), category)\n",
    "              for category in movie_reviews.categories()\n",
    "              for fileid in movie_reviews.fileids(category)]\n",
    "print(len(documents))\n"
   ]
  },
  {
   "cell_type": "markdown",
   "metadata": {},
   "source": [
    "Since the documents are in order by label, we mix them up for later separation into training and test sets.\n",
    "\n"
   ]
  },
  {
   "cell_type": "code",
   "execution_count": 71,
   "metadata": {},
   "outputs": [
    {
     "name": "stdout",
     "output_type": "stream",
     "text": [
      "(['ironically', ',', 'one', 'of', 'the', 'themes', 'of', '200', 'cigarettes', 'is', 'that', 'you', 'should', 'try', 'to', 'make', 'the', 'best', 'of', 'every', 'moment', 'in', 'life', '.', 'unfortunately', 'i', 'will', 'no', 'longer', 'be', 'able', 'to', 'say', 'that', 'i', 'lived', 'every', 'moment', 'of', 'my', 'life', 'to', 'the', 'fullest', ',', 'because', 'i', 'spent', '95', 'otherwise', 'perfectly', 'good', 'minutes', ',', 'watching', 'this', 'sad', 'excuse', 'for', 'a', 'movie', '.', 'actually', 'smoking', '200', 'cigarettes', 'in', 'the', 'same', '95', 'minutes', 'couldn', \"'\", 't', 'be', 'any', 'worse', 'for', 'you', 'than', 'it', 'is', 'to', 'watch', 'the', 'movie', '.', 'not', 'only', 'is', 'it', 'a', 'pathetically', 'bad', 'film', 'overall', ',', 'but', '200', 'cigarettes', 'actually', 'has', 'no', 'redeeming', 'qualities', 'whatsoever', '.', 'the', 'plot', 'is', 'scattered', ',', 'thin', 'and', 'predictable', ';', 'the', 'acting', 'is', 'monumentally', 'bad', ';', 'and', 'the', 'style', 'of', 'film', 'making', 'resembles', 'a', 'home', 'video', '.', 'it', 'is', 'december', '31', ',', '1981', 'and', 'the', 'big', 'party', 'is', 'at', 'monica', \"'\", 's', '(', 'martha', 'plimpton', ')', 'house', '.', 'but', 'no', 'one', 'has', 'arrived', 'yet', '.', 'her', '8', 'invited', 'guests', 'and', 'several', 'people', 'that', 'they', 'have', 'picked', 'throughout', 'the', 'evening', 'are', 'wandering', 'the', 'streets', 'of', 'new', 'york', 'city', 'in', 'various', 'groups', '.', 'some', 'of', 'them', 'know', 'each', 'other', 'through', 'their', 'common', 'bond', 'of', 'having', 'slept', 'with', 'monica', ',', 'and', 'some', 'are', 'total', 'strangers', '.', 'but', 'they', 'all', 'are', 'to', 'face', 'their', 'own', 'personal', 'neuroses', 'before', 'night', \"'\", 's', 'end', '.', 'those', 'who', 'are', 'invited', 'are', 'the', 'ones', 'that', 'have', 'the', 'issues', '.', 'it', 'is', 'up', 'to', 'those', 'who', 'aren', \"'\", 't', 'to', 'help', 'them', 'come', 'to', 'terms', '.', 'first', 'there', 'is', 'eric', '(', 'brian', 'mccardie', ')', 'who', 'is', 'a', 'former', 'boyfriend', 'of', 'monica', \"'\", 's', 'and', 'is', 'just', 'getting', 'over', 'the', 'heartbreak', 'of', 'their', 'relationship', 'terminating', 'prematurely', 'because', 'of', 'his', 'sexual', 'performance', ',', 'or', 'lack', 'thereof', '.', 'he', 'is', 'one', 'of', 'the', 'most', 'bland', 'characters', ',', 'in', 'a', 'film', 'full', 'of', 'dullness', ',', 'because', 'he', 'is', 'so', 'utterly', 'predictable', 'and', 'stereotypical', ',', 'a', 'common', 'trait', 'of', 'this', 'poor', 'production', '.', 'bridget', '(', 'nicole', 'parker', ')', 'and', 'caitlyn', '(', 'angela', 'featherstone', ')', 'who', 'are', 'both', 'extremely', 'sensuous', 'young', 'women', 'looking', 'for', 'someone', 'to', 'handle', 'their', 'desires', 'on', 'new', 'year', \"'\", 's', 'eve', 'and', 'tag', 'along', 'to', 'the', 'party', 'with', 'them', '.', 'they', 'stumble', 'across', 'a', 'nameless', 'bartender', '(', 'ben', 'affleck', ')', 'who', 'is', 'the', 'one', 'truly', 'perfect', 'character', 'in', 'a', 'film', 'of', 'imperfections', '.', 'he', 'is', 'nether', 'sexually', 'deprived', ',', 'nor', 'uncertain', 'about', 'his', 'future', ',', 'as', 'he', 'is', 'in', 'law', 'school', '.', 'his', 'lack', 'of', 'flaws', 'is', 'both', 'boring', ',', 'unrealistic', 'and', 'painful', 'to', 'watch', '.', 'as', 'bridget', 'and', 'caitlyn', 'make', 'passes', 'at', 'him', 'you', 'are', 'neither', 'entertained', 'nor', 'humored', 'by', 'the', 'sub', '-', 'standard', 'comedy', '.', 'moving', 'on', ',', 'there', 'is', 'val', '(', 'christina', 'ricci', ')', 'and', 'stephie', ',', '(', 'gabby', 'hoffman', ')', '2', 'teenage', 'girls', 'with', 'fake', 'identification', 'and', 'very', 'different', 'thoughts', '.', 'val', 'is', 'monica', \"'\", 's', 'cousin', 'and', 'a', 'true', 'fan', 'of', 'the', 'new', 'york', 'scene', '.', 'on', 'the', 'other', 'hand', ',', 'stephie', 'is', 'convinced', 'that', 'she', 'is', 'vulnerable', 'to', 'crime', 'when', 'the', 'two', 'venture', 'out', 'of', 'their', 'usual', 'locations', 'in', 'search', 'of', 'the', 'party', 'that', 'they', 'just', 'can', \"'\", 't', 'find', '.', 'paradoxically', ',', 'it', 'is', '2', 'punks', 'that', 'they', 'meet', 'at', 'a', 'bar', '(', 'actually', 'they', 'attempt', 'to', 'flee', 'from', 'their', 'presence', ',', 'but', 'aren', \"'\", 't', 'successful', ')', 'who', 'guide', 'them', 'through', 'their', 'fears', 'and', 'force', 'a', 'level', 'of', 'relaxation', 'upon', 'their', 'warped', 'minds', '.', 'of', 'all', 'the', 'insanely', 'dull', 'and', 'uninteresting', 'couples', ',', 'only', 'one', 'approaches', 'a', 'level', 'of', 'decency', 'in', 'both', 'acting', 'and', 'plot', '.', 'wisely', ',', 'the', 'movie', \"'\", 's', 'creators', 'have', 'put', 'heavy', 'emphasis', 'on', 'lucy', '(', 'courtney', 'love', ')', 'and', 'kevin', '(', 'paul', 'rudd', ')', 'who', 'are', 'best', 'friends', 'and', 'share', 'the', 'common', 'bond', 'of', 'being', 'dateless', '.', 'paul', 'has', 'just', 'broken', 'up', 'with', 'long', 'time', 'steady', 'ellie', '(', 'janeane', 'garofalo', ')', 'and', 'is', 'starting', 'to', 'come', 'to', 'terms', 'with', 'his', 'loss', 'when', 'lucy', 'informs', 'him', 'that', 'ellie', 'had', 'been', 'sleeping', 'around', 'during', 'their', 'relationship', '.', 'however', ',', 'the', 'only', 'complexity', 'to', 'these', 'two', 'characters', 'is', 'that', 'they', 'seem', 'to', 'want', 'to', 'be', 'more', 'than', 'friends', ',', 'and', 'that', 'is', 'reiterated', 'when', 'they', 'attempt', 'sexual', 'intercourse', 'in', 'a', 'bathroom', 'stall', 'on', 'more', 'than', 'one', 'occasion', 'during', 'this', 'strange', 'evening', '.', 'finally', ',', 'there', 'are', 'the', 'two', 'worst', 'performances', 'and', 'worst', 'sub', '-', 'plot', 'of', 'the', 'film', '.', 'jack', '(', 'jay', 'mohr', ')', 'and', 'cindy', '(', 'kate', 'hudson', ')', 'have', 'been', 'going', 'out', 'for', 'a', 'short', 'period', 'of', 'time', 'and', 'jack', 'just', 'learned', 'that', 'he', 'took', 'cindy', \"'\", 's', 'virginity', 'the', 'night', 'before', '.', 'while', 'she', 'attempts', 'to', 'play', 'this', 'down', 'and', 'be', 'her', 'usual', 'self', ',', 'he', 'is', 'a', 'predictably', 'self', 'loathing', 'male', 'as', 'he', 'attempts', 'to', 'deal', 'with', 'a', 'string', 'of', 'one', 'night', 'stands', 'that', 'includes', 'the', 'recently', 'deflowered', 'cindy', '.', 'very', 'often', ',', 'when', 'a', 'film', 'is', 'as', 'putrid', 'as', 'this', 'production', ',', 'there', 'will', 'at', 'least', 'be', 'a', 'decent', 'quality', 'of', 'film', 'making', 'to', 'reveal', 'an', 'occasional', 'moment', 'of', 'glory', '.', 'however', ',', 'this', 'film', 'has', 'neither', 'the', 'quality', 'of', 'cinematography', 'nor', 'the', 'moments', 'of', 'glory', 'to', 'be', 'highlighted', '.', 'instead', ',', 'what', 'you', 'get', 'is', 'a', 'collection', 'of', 'rough', 'and', 'inconsistent', 'cuts', ',', 'bad', 'continuity', 'and', 'inaccuracies', '.', 'first', ',', 'and', 'most', 'noticeable', 'is', 'that', 'as', 'the', 'film', 'goes', 'from', 'one', 'subplot', 'to', 'another', ',', 'there', 'is', 'no', 'apparent', 'order', 'that', 'it', 'follows', ',', 'and', 'it', 'is', 'also', 'weekened', 'by', 'unnecessarily', 'edgy', 'edits', 'from', 'scene', 'to', 'scene', 'and', 'shot', 'to', 'shot', '.', 'at', 'other', 'times', ',', 'objects', 'seem', 'to', 'get', 'up', 'and', 'move', 'and', 'hairstyles', 'and', 'costumes', 'change', 'from', 'shot', 'to', 'shot', '.', 'there', 'are', 'also', 'at', 'least', '4', 'scenes', 'in', 'a', 'taxi', 'cab', 'that', 'go', 'from', 'start', 'to', 'finish', '.', 'not', 'in', 'a', 'single', 'one', 'of', 'them', 'does', 'anybody', 'pay', 'the', 'driver', '.', 'and', 'yet', ',', 'no', 'matter', 'how', 'miserable', 'this', 'film', 'may', 'be', ',', 'and', 'no', 'matter', 'how', 'poor', 'the', 'acting', 'is', 'all', 'around', ',', 'there', 'was', 'a', 'ray', 'of', 'a', 'hope', 'for', 'these', 'many', 'bad', 'plots', '.', 'perhaps', ',', 'if', 'the', 'makers', 'had', 'just', 'decided', 'to', 'concentrate', 'on', 'one', 'or', 'two', 'or', ',', 'perhaps', ',', 'even', 'three', ',', 'there', 'might', 'have', 'been', 'the', 'time', 'and', 'opportunity', 'for', 'some', 'character', 'development', ',', 'or', 'quality', 'acting', ',', 'or', 'even', 'a', 'decent', 'plot', 'payoff', 'at', 'the', 'end', '.', 'but', 'it', 'didn', \"'\", 't', 'happen', 'that', 'way', '.', 'the', 'cast', 'of', 'quality', 'name', 'actors', 'was', 'forced', 'into', 'roles', 'that', 'not', 'even', 'one', 'of', 'them', 'could', 'convert', 'into', 'a', 'mediocre', 'performance', ',', 'and', 'every', 'story', 'line', 'crashed', 'and', 'burned', 'quicker', 'than', 'it', 'takes', 'for', 'the', 'ball', 'to', 'drop', 'at', 'midnight', '.'], 'neg')\n"
     ]
    }
   ],
   "source": [
    "random.shuffle(documents)\n",
    "# We look at the first document, which will consist of all the words in the review, followed by the label.  Since we did \n",
    "# independent shuffles, each person should have a different document.\n",
    "\n",
    "print(documents[0])"
   ]
  },
  {
   "cell_type": "markdown",
   "metadata": {},
   "source": [
    "We need to define the set of words that will be used for features.  This is essentially all the words in the entire document collection, except that we will limit it to the 2000 most frequent words"
   ]
  },
  {
   "cell_type": "code",
   "execution_count": 88,
   "metadata": {},
   "outputs": [],
   "source": [
    "all_words = nltk.FreqDist(w.lower() for w in movie_reviews.words())\n",
    "word_items = all_words.most_common(2500)\n"
   ]
  },
  {
   "cell_type": "code",
   "execution_count": 89,
   "metadata": {},
   "outputs": [],
   "source": [
    "# And then, the word features is the list of just the words, without frequencies.\n",
    "word_features = [word for (word, freq) in word_items]"
   ]
  },
  {
   "cell_type": "code",
   "execution_count": 90,
   "metadata": {},
   "outputs": [
    {
     "name": "stdout",
     "output_type": "stream",
     "text": [
      "[',', 'the', '.', 'a', 'and', 'of', 'to', \"'\", 'is', 'in', 's', '\"', 'it', 'that', '-', ')', '(', 'as', 'with', 'for', 'his', 'this', 'film', 'i', 'he', 'but', 'on', 'are', 't', 'by', 'be', 'one', 'movie', 'an', 'who', 'not', 'you', 'from', 'at', 'was', 'have', 'they', 'has', 'her', 'all', '?', 'there', 'like', 'so', 'out', 'about', 'up', 'more', 'what', 'when', 'which', 'or', 'she', 'their', ':', 'some', 'just', 'can', 'if', 'we', 'him', 'into', 'even', 'only', 'than', 'no', 'good', 'time', 'most', 'its', 'will', 'story', 'would', 'been', 'much', 'character', 'also', 'get', 'other', 'do', 'two', 'well', 'them', 'very', 'characters', ';', 'first', '--', 'after', 'see', '!', 'way', 'because', 'make', 'life']\n"
     ]
    }
   ],
   "source": [
    "# Look at the first 100 words in the word_features list.\n",
    "\n",
    "print(word_features[:100])\n",
    "\n",
    "# Now we can define the features for each document.  The feature label will be ‘V_keyword’ for each keyword (aka word) \n",
    "# in the word_features set, and the value of the feature will be Boolean, according to whether the word is contained in that \n",
    "# document.\n",
    "\n",
    "# (For topic categorization, it is better to represent each word feature by its frequency (or a related score) in the document, \n",
    "# but for sentiment classification, it is better to just use True of False depending on whether the word is present.)\n",
    "\n",
    "def document_features(document):\n",
    "\tdocument_words = set(document)\n",
    "\tfeatures = {}\n",
    "\tfor word in word_features:\n",
    "\t\tfeatures['V_{}'.format( word)] = (word in document_words)\n",
    "\treturn features\n",
    "\n"
   ]
  },
  {
   "cell_type": "markdown",
   "metadata": {},
   "source": [
    "The feature dictionary has 2000 features, each with the value True or False.\n",
    "\n",
    " \n",
    "\n",
    "Define the feature sets for the documents.  We can look at the first one, but remember that it contains 2000 words.\n"
   ]
  },
  {
   "cell_type": "code",
   "execution_count": 91,
   "metadata": {},
   "outputs": [
    {
     "name": "stdout",
     "output_type": "stream",
     "text": [
      "({'V_,': True, 'V_the': True, 'V_.': True, 'V_a': True, 'V_and': True, 'V_of': True, 'V_to': True, \"V_'\": True, 'V_is': True, 'V_in': True, 'V_s': True, 'V_\"': False, 'V_it': True, 'V_that': True, 'V_-': True, 'V_)': True, 'V_(': True, 'V_as': True, 'V_with': True, 'V_for': True, 'V_his': True, 'V_this': True, 'V_film': True, 'V_i': True, 'V_he': True, 'V_but': True, 'V_on': True, 'V_are': True, 'V_t': True, 'V_by': True, 'V_be': True, 'V_one': True, 'V_movie': True, 'V_an': True, 'V_who': True, 'V_not': True, 'V_you': True, 'V_from': True, 'V_at': True, 'V_was': True, 'V_have': True, 'V_they': True, 'V_has': True, 'V_her': True, 'V_all': True, 'V_?': False, 'V_there': True, 'V_like': False, 'V_so': True, 'V_out': True, 'V_about': True, 'V_up': True, 'V_more': True, 'V_what': True, 'V_when': True, 'V_which': False, 'V_or': True, 'V_she': True, 'V_their': True, 'V_:': False, 'V_some': True, 'V_just': True, 'V_can': True, 'V_if': True, 'V_we': False, 'V_him': True, 'V_into': True, 'V_even': True, 'V_only': True, 'V_than': True, 'V_no': True, 'V_good': True, 'V_time': True, 'V_most': True, 'V_its': False, 'V_will': True, 'V_story': True, 'V_would': False, 'V_been': True, 'V_much': False, 'V_character': True, 'V_also': True, 'V_get': True, 'V_other': True, 'V_do': False, 'V_two': True, 'V_well': False, 'V_them': True, 'V_very': True, 'V_characters': True, 'V_;': True, 'V_first': True, 'V_--': False, 'V_after': False, 'V_see': False, 'V_!': False, 'V_way': True, 'V_because': True, 'V_make': True, 'V_life': True, 'V_off': False, 'V_too': False, 'V_any': True, 'V_does': True, 'V_really': False, 'V_had': True, 'V_while': True, 'V_films': False, 'V_how': True, 'V_plot': True, 'V_little': False, 'V_where': False, 'V_people': True, 'V_over': True, 'V_could': True, 'V_then': False, 'V_me': False, 'V_scene': True, 'V_man': False, 'V_bad': True, 'V_my': True, 'V_never': False, 'V_being': True, 'V_best': True, 'V_these': True, 'V_don': False, 'V_new': True, 'V_doesn': False, 'V_scenes': True, 'V_many': True, 'V_director': False, 'V_such': False, 'V_know': True, 'V_were': False, 'V_movies': False, 'V_through': True, 'V_here': False, 'V_action': False, 'V_great': False, 'V_re': False, 'V_another': True, 'V_love': True, 'V_go': True, 'V_made': False, 'V_us': False, 'V_big': True, 'V_end': True, 'V_something': False, 'V_back': False, 'V_*': False, 'V_still': False, 'V_world': False, 'V_seems': False, 'V_work': False, 'V_those': True, 'V_makes': False, 'V_now': False, 'V_before': True, 'V_however': True, 'V_between': False, 'V_few': False, 'V_/': False, 'V_down': True, 'V_every': True, 'V_though': False, 'V_better': False, 'V_real': False, 'V_audience': False, 'V_enough': False, 'V_seen': False, 'V_take': False, 'V_around': True, 'V_both': True, 'V_going': True, 'V_year': True, 'V_performance': True, 'V_why': False, 'V_should': True, 'V_role': False, 'V_isn': False, 'V_same': True, 'V_old': False, 'V_gets': False, 'V_your': False, 'V_may': True, 'V_things': False, 'V_think': False, 'V_years': False, 'V_last': False, 'V_comedy': True, 'V_funny': False, 'V_actually': True, 'V_ve': False, 'V_long': True, 'V_look': False, 'V_almost': False, 'V_own': True, 'V_thing': False, 'V_fact': False, 'V_nothing': False, 'V_say': True, 'V_right': False, 'V_john': False, 'V_although': False, 'V_played': False, 'V_find': True, 'V_script': False, 'V_come': True, 'V_ever': False, 'V_cast': True, 'V_since': False, 'V_did': False, 'V_star': False, 'V_plays': False, 'V_young': True, 'V_show': False, 'V_comes': False, 'V_m': False, 'V_part': False, 'V_original': False, 'V_actors': True, 'V_screen': False, 'V_without': False, 'V_again': False, 'V_acting': True, 'V_three': True, 'V_day': False, 'V_each': True, 'V_point': False, 'V_lot': False, 'V_least': True, 'V_takes': True, 'V_guy': False, 'V_quite': False, 'V_himself': False, 'V_away': False, 'V_during': True, 'V_family': False, 'V_effects': False, 'V_course': False, 'V_goes': True, 'V_minutes': True, 'V_interesting': False, 'V_might': True, 'V_far': False, 'V_high': False, 'V_rather': False, 'V_once': False, 'V_must': False, 'V_anything': False, 'V_place': False, 'V_set': False, 'V_yet': True, 'V_watch': True, 'V_d': False, 'V_making': True, 'V_our': False, 'V_wife': False, 'V_hard': False, 'V_always': False, 'V_fun': False, 'V_didn': True, 'V_ll': False, 'V_seem': True, 'V_special': False, 'V_bit': False, 'V_times': True, 'V_trying': False, 'V_hollywood': False, 'V_instead': True, 'V_give': False, 'V_want': True, 'V_picture': False, 'V_kind': False, 'V_american': False, 'V_job': False, 'V_sense': False, 'V_woman': False, 'V_home': True, 'V_having': True, 'V_series': False, 'V_actor': False, 'V_probably': False, 'V_help': True, 'V_half': False, 'V_along': True, 'V_men': False, 'V_everything': False, 'V_pretty': False, 'V_becomes': False, 'V_sure': False, 'V_black': False, 'V_together': False, 'V_dialogue': False, 'V_money': False, 'V_become': False, 'V_gives': False, 'V_given': False, 'V_looking': True, 'V_whole': False, 'V_watching': True, 'V_father': False, 'V_`': False, 'V_feel': False, 'V_everyone': False, 'V_music': False, 'V_wants': False, 'V_sex': False, 'V_less': False, 'V_done': False, 'V_horror': False, 'V_got': False, 'V_death': False, 'V_perhaps': True, 'V_city': True, 'V_next': False, 'V_especially': False, 'V_play': True, 'V_girl': False, 'V_mind': False, 'V_10': False, 'V_moments': True, 'V_looks': False, 'V_completely': False, 'V_2': True, 'V_reason': False, 'V_mother': False, 'V_whose': False, 'V_line': True, 'V_night': True, 'V_human': False, 'V_until': False, 'V_rest': False, 'V_performances': True, 'V_different': True, 'V_evil': False, 'V_small': False, 'V_james': False, 'V_simply': False, 'V_couple': False, 'V_put': True, 'V_let': False, 'V_anyone': False, 'V_ending': False, 'V_case': False, 'V_several': True, 'V_dead': False, 'V_michael': False, 'V_left': False, 'V_thought': False, 'V_school': True, 'V_shows': False, 'V_humor': False, 'V_true': True, 'V_lost': False, 'V_written': False, 'V_itself': False, 'V_friend': False, 'V_entire': False, 'V_getting': True, 'V_town': False, 'V_turns': False, 'V_soon': False, 'V_someone': True, 'V_second': False, 'V_main': False, 'V_stars': False, 'V_found': False, 'V_use': False, 'V_problem': False, 'V_friends': True, 'V_tv': False, 'V_top': False, 'V_name': True, 'V_begins': False, 'V_called': False, 'V_based': False, 'V_comic': False, 'V_david': False, 'V_head': False, 'V_else': False, 'V_idea': False, 'V_either': False, 'V_wrong': False, 'V_unfortunately': True, 'V_later': False, 'V_final': False, 'V_hand': True, 'V_alien': False, 'V_house': True, 'V_group': False, 'V_full': True, 'V_used': False, 'V_tries': False, 'V_often': True, 'V_against': False, 'V_war': False, 'V_sequence': False, 'V_keep': False, 'V_turn': False, 'V_playing': False, 'V_boy': False, 'V_behind': False, 'V_named': False, 'V_certainly': False, 'V_live': False, 'V_believe': False, 'V_under': False, 'V_works': False, 'V_relationship': True, 'V_face': True, 'V_hour': False, 'V_run': False, 'V_style': True, 'V_said': False, 'V_despite': False, 'V_person': False, 'V_finally': True, 'V_shot': True, 'V_book': False, 'V_doing': False, 'V_tell': False, 'V_maybe': False, 'V_nice': False, 'V_son': False, 'V_perfect': True, 'V_side': False, 'V_seeing': False, 'V_able': True, 'V_finds': False, 'V_children': False, 'V_days': False, 'V_past': False, 'V_summer': False, 'V_camera': False, 'V_won': False, 'V_including': False, 'V_mr': False, 'V_kids': False, 'V_lives': False, 'V_directed': False, 'V_moment': True, 'V_game': False, 'V_running': False, 'V_fight': False, 'V_supposed': False, 'V_video': True, 'V_car': False, 'V_matter': True, 'V_kevin': True, 'V_joe': False, 'V_lines': False, 'V_worth': False, 'V_=': False, 'V_daughter': False, 'V_earth': False, 'V_starts': False, 'V_need': False, 'V_entertaining': False, 'V_white': False, 'V_start': True, 'V_writer': False, 'V_dark': False, 'V_short': True, 'V_self': True, 'V_worst': True, 'V_nearly': False, 'V_opening': False, 'V_try': True, 'V_upon': True, 'V_care': False, 'V_early': False, 'V_violence': False, 'V_throughout': True, 'V_team': False, 'V_production': True, 'V_example': False, 'V_beautiful': False, 'V_title': False, 'V_exactly': False, 'V_jack': True, 'V_review': False, 'V_major': False, 'V_drama': False, 'V_&': False, 'V_problems': False, 'V_sequences': False, 'V_obvious': False, 'V_version': False, 'V_screenplay': False, 'V_known': False, 'V_killer': False, 'V_wasn': False, 'V_robert': False, 'V_disney': False, 'V_already': False, 'V_close': False, 'V_classic': False, 'V_others': False, 'V_hit': False, 'V_kill': False, 'V_deep': False, 'V_five': False, 'V_order': True, 'V_act': False, 'V_simple': False, 'V_fine': False, 'V_themselves': False, 'V_heart': False, 'V_roles': True, 'V_jackie': False, 'V_direction': False, 'V_eyes': False, 'V_four': False, 'V_question': False, 'V_sort': False, 'V_sometimes': False, 'V_knows': False, 'V_supporting': False, 'V_coming': False, 'V_voice': False, 'V_women': True, 'V_truly': True, 'V_save': False, 'V_jokes': False, 'V_computer': False, 'V_child': False, 'V_o': False, 'V_boring': True, 'V_tom': False, 'V_level': True, 'V_1': False, 'V_body': False, 'V_guys': False, 'V_genre': False, 'V_brother': False, 'V_strong': False, 'V_stop': False, 'V_room': False, 'V_space': False, 'V_lee': False, 'V_ends': False, 'V_beginning': False, 'V_ship': False, 'V_york': True, 'V_attempt': True, 'V_thriller': False, 'V_scream': False, 'V_peter': False, 'V_aren': True, 'V_husband': False, 'V_fiction': False, 'V_happens': False, 'V_hero': False, 'V_novel': False, 'V_note': False, 'V_hope': True, 'V_king': False, 'V_yes': False, 'V_says': False, 'V_tells': False, 'V_quickly': False, 'V_romantic': False, 'V_dog': False, 'V_oscar': False, 'V_stupid': False, 'V_possible': False, 'V_saw': False, 'V_lead': False, 'V_career': False, 'V_murder': False, 'V_extremely': True, 'V_manages': False, 'V_god': False, 'V_mostly': False, 'V_wonder': False, 'V_particularly': False, 'V_future': True, 'V_fans': False, 'V_sound': False, 'V_worse': True, 'V_piece': False, 'V_involving': False, 'V_de': False, 'V_appears': False, 'V_planet': False, 'V_paul': True, 'V_involved': False, 'V_mean': False, 'V_none': False, 'V_taking': False, 'V_hours': False, 'V_laugh': False, 'V_police': False, 'V_sets': False, 'V_attention': False, 'V_co': False, 'V_hell': False, 'V_eventually': False, 'V_single': True, 'V_fall': False, 'V_falls': False, 'V_material': False, 'V_emotional': False, 'V_power': False, 'V_late': False, 'V_lack': True, 'V_dr': False, 'V_van': False, 'V_result': False, 'V_elements': False, 'V_meet': True, 'V_smith': False, 'V_science': False, 'V_experience': False, 'V_bring': False, 'V_wild': False, 'V_living': False, 'V_theater': False, 'V_interest': False, 'V_leads': False, 'V_word': False, 'V_feature': False, 'V_battle': False, 'V_girls': True, 'V_alone': False, 'V_obviously': False, 'V_george': False, 'V_within': False, 'V_usually': False, 'V_enjoy': False, 'V_guess': False, 'V_among': False, 'V_taken': False, 'V_feeling': False, 'V_laughs': False, 'V_aliens': False, 'V_talk': False, 'V_chance': False, 'V_talent': False, 'V_3': False, 'V_middle': False, 'V_number': False, 'V_easy': False, 'V_across': True, 'V_needs': False, 'V_attempts': True, 'V_happen': True, 'V_television': False, 'V_chris': False, 'V_deal': True, 'V_poor': True, 'V_form': False, 'V_girlfriend': False, 'V_viewer': False, 'V_release': False, 'V_killed': False, 'V_forced': True, 'V_whether': False, 'V_wonderful': False, 'V_feels': False, 'V_oh': False, 'V_tale': False, 'V_serious': False, 'V_expect': False, 'V_except': False, 'V_light': False, 'V_success': False, 'V_features': False, 'V_premise': False, 'V_happy': False, 'V_words': False, 'V_leave': False, 'V_important': False, 'V_meets': False, 'V_history': False, 'V_giving': False, 'V_crew': False, 'V_type': False, 'V_call': False, 'V_turned': False, 'V_released': False, 'V_parents': False, 'V_art': False, 'V_impressive': False, 'V_mission': False, 'V_working': False, 'V_seemed': False, 'V_score': False, 'V_told': False, 'V_recent': False, 'V_robin': False, 'V_basically': False, 'V_entertainment': False, 'V_america': False, 'V_$': False, 'V_surprise': False, 'V_apparently': False, 'V_easily': False, 'V_ryan': False, 'V_cool': False, 'V_stuff': False, 'V_cop': False, 'V_change': True, 'V_williams': False, 'V_crime': True, 'V_office': False, 'V_parts': False, 'V_somehow': False, 'V_sequel': False, 'V_william': False, 'V_cut': False, 'V_die': False, 'V_jones': False, 'V_credits': False, 'V_batman': False, 'V_suspense': False, 'V_brings': False, 'V_events': False, 'V_reality': False, 'V_whom': False, 'V_local': False, 'V_talking': False, 'V_difficult': False, 'V_using': False, 'V_went': False, 'V_writing': False, 'V_remember': False, 'V_near': False, 'V_straight': False, 'V_hilarious': False, 'V_ago': False, 'V_certain': False, 'V_ben': True, 'V_kid': False, 'V_wouldn': False, 'V_slow': False, 'V_blood': False, 'V_mystery': False, 'V_complete': False, 'V_red': False, 'V_popular': False, 'V_effective': False, 'V_am': False, 'V_fast': False, 'V_flick': False, 'V_due': False, 'V_runs': False, 'V_gone': False, 'V_return': False, 'V_presence': True, 'V_quality': True, 'V_dramatic': False, 'V_filmmakers': False, 'V_age': False, 'V_brothers': False, 'V_business': False, 'V_general': False, 'V_rock': False, 'V_sexual': True, 'V_present': False, 'V_surprisingly': False, 'V_anyway': False, 'V_uses': False, 'V_4': True, 'V_personal': True, 'V_figure': False, 'V_smart': False, 'V_ways': False, 'V_decides': False, 'V_annoying': False, 'V_begin': False, 'V_couldn': True, 'V_somewhat': False, 'V_shots': False, 'V_rich': False, 'V_minute': False, 'V_law': True, 'V_previous': False, 'V_jim': False, 'V_successful': True, 'V_harry': False, 'V_water': False, 'V_similar': False, 'V_absolutely': False, 'V_motion': False, 'V_former': True, 'V_strange': True, 'V_came': False, 'V_follow': False, 'V_read': False, 'V_project': False, 'V_million': False, 'V_secret': False, 'V_starring': False, 'V_clear': False, 'V_familiar': False, 'V_romance': False, 'V_intelligent': False, 'V_third': False, 'V_excellent': False, 'V_amazing': False, 'V_party': True, 'V_budget': False, 'V_eye': False, 'V_actress': False, 'V_prison': False, 'V_latest': False, 'V_means': False, 'V_company': False, 'V_towards': False, 'V_predictable': True, 'V_powerful': False, 'V_nor': True, 'V_bob': False, 'V_beyond': False, 'V_visual': False, 'V_leaves': False, 'V_r': False, 'V_nature': False, 'V_following': False, 'V_villain': False, 'V_leaving': False, 'V_animated': False, 'V_low': False, 'V_myself': False, 'V_b': False, 'V_bill': False, 'V_sam': False, 'V_filled': False, 'V_wars': False, 'V_questions': False, 'V_cinema': False, 'V_message': False, 'V_box': False, 'V_moving': True, 'V_herself': False, 'V_country': False, 'V_usual': True, 'V_martin': False, 'V_definitely': False, 'V_add': False, 'V_large': False, 'V_clever': False, 'V_create': False, 'V_felt': False, 'V_stories': False, 'V_brilliant': False, 'V_ones': True, 'V_giant': False, 'V_situation': False, 'V_murphy': False, 'V_break': False, 'V_opens': False, 'V_scary': False, 'V_doubt': False, 'V_drug': False, 'V_bunch': False, 'V_thinking': False, 'V_solid': False, 'V_effect': False, 'V_learn': False, 'V_move': True, 'V_force': True, 'V_potential': False, 'V_seriously': False, 'V_follows': True, 'V_above': False, 'V_saying': False, 'V_huge': False, 'V_class': False, 'V_plan': False, 'V_agent': False, 'V_created': False, 'V_unlike': False, 'V_pay': True, 'V_non': False, 'V_married': False, 'V_mark': False, 'V_sweet': False, 'V_perfectly': True, 'V_ex': False, 'V_realize': False, 'V_audiences': False, 'V_took': True, 'V_decent': True, 'V_likely': False, 'V_dream': False, 'V_view': False, 'V_scott': False, 'V_subject': False, 'V_understand': False, 'V_happened': False, 'V_enjoyable': False, 'V_studio': False, 'V_immediately': False, 'V_open': False, 'V_e': False, 'V_points': False, 'V_heard': False, 'V_viewers': False, 'V_cameron': False, 'V_truman': False, 'V_bruce': False, 'V_frank': False, 'V_private': False, 'V_stay': False, 'V_fails': False, 'V_impossible': False, 'V_cold': False, 'V_richard': False, 'V_overall': True, 'V_merely': False, 'V_exciting': False, 'V_mess': False, 'V_chase': False, 'V_free': False, 'V_ten': False, 'V_neither': True, 'V_wanted': False, 'V_gun': False, 'V_appear': False, 'V_carter': False, 'V_escape': False, 'V_ultimately': False, 'V_+': False, 'V_fan': True, 'V_inside': False, 'V_favorite': False, 'V_haven': False, 'V_modern': False, 'V_l': False, 'V_wedding': False, 'V_stone': False, 'V_trek': False, 'V_brought': False, 'V_trouble': False, 'V_otherwise': True, 'V_tim': False, 'V_5': False, 'V_allen': False, 'V_bond': True, 'V_society': False, 'V_liked': False, 'V_dumb': False, 'V_musical': False, 'V_stand': False, 'V_political': False, 'V_various': True, 'V_talented': False, 'V_particular': False, 'V_west': False, 'V_state': False, 'V_keeps': False, 'V_english': False, 'V_silly': False, 'V_u': False, 'V_situations': False, 'V_park': False, 'V_teen': False, 'V_rating': False, 'V_slightly': False, 'V_steve': False, 'V_truth': False, 'V_air': False, 'V_element': False, 'V_joke': False, 'V_spend': False, 'V_key': False, 'V_biggest': False, 'V_members': False, 'V_effort': False, 'V_government': False, 'V_focus': False, 'V_eddie': False, 'V_soundtrack': False, 'V_hands': False, 'V_earlier': False, 'V_chan': False, 'V_purpose': False, 'V_today': False, 'V_showing': False, 'V_memorable': False, 'V_six': False, 'V_cannot': False, 'V_max': False, 'V_offers': False, 'V_rated': False, 'V_mars': False, 'V_heavy': True, 'V_totally': False, 'V_control': False, 'V_credit': False, 'V_fi': False, 'V_woody': False, 'V_ideas': False, 'V_sci': False, 'V_wait': False, 'V_sit': False, 'V_female': False, 'V_ask': False, 'V_waste': False, 'V_terrible': False, 'V_depth': False, 'V_simon': False, 'V_aspect': False, 'V_list': False, 'V_mary': False, 'V_sister': False, 'V_animation': False, 'V_entirely': False, 'V_fear': False, 'V_steven': False, 'V_moves': False, 'V_actual': False, 'V_army': False, 'V_british': False, 'V_constantly': False, 'V_fire': False, 'V_convincing': False, 'V_setting': False, 'V_gave': False, 'V_tension': False, 'V_street': False, 'V_8': True, 'V_brief': False, 'V_ridiculous': False, 'V_cinematography': True, 'V_typical': False, 'V_nick': False, 'V_screenwriter': False, 'V_ability': False, 'V_spent': True, 'V_quick': False, 'V_violent': False, 'V_atmosphere': False, 'V_subtle': False, 'V_expected': False, 'V_fairly': False, 'V_seven': False, 'V_killing': False, 'V_tone': False, 'V_master': False, 'V_disaster': False, 'V_lots': False, 'V_thinks': False, 'V_song': False, 'V_cheap': False, 'V_suddenly': False, 'V_background': False, 'V_club': False, 'V_willis': False, 'V_whatever': False, 'V_highly': False, 'V_sees': False, 'V_complex': False, 'V_greatest': False, 'V_impact': False, 'V_beauty': False, 'V_front': False, 'V_humans': False, 'V_indeed': False, 'V_flat': False, 'V_grace': False, 'V_wrote': False, 'V_amusing': False, 'V_ii': False, 'V_mike': False, 'V_further': False, 'V_cute': False, 'V_dull': True, 'V_minor': False, 'V_recently': True, 'V_hate': False, 'V_outside': False, 'V_plenty': False, 'V_wish': False, 'V_godzilla': False, 'V_college': False, 'V_titanic': False, 'V_sounds': False, 'V_telling': False, 'V_sight': False, 'V_double': False, 'V_cinematic': False, 'V_queen': False, 'V_hold': False, 'V_meanwhile': False, 'V_awful': False, 'V_clearly': False, 'V_theme': False, 'V_hear': False, 'V_x': False, 'V_amount': False, 'V_baby': False, 'V_approach': False, 'V_dreams': False, 'V_shown': False, 'V_island': False, 'V_reasons': False, 'V_charm': False, 'V_miss': False, 'V_longer': True, 'V_common': True, 'V_sean': False, 'V_carry': False, 'V_believable': False, 'V_realistic': False, 'V_chemistry': False, 'V_possibly': False, 'V_casting': False, 'V_carrey': False, 'V_french': False, 'V_trailer': False, 'V_tough': False, 'V_produced': False, 'V_imagine': False, 'V_choice': False, 'V_ride': False, 'V_somewhere': False, 'V_hot': False, 'V_race': False, 'V_road': False, 'V_leader': False, 'V_thin': True, 'V_jerry': False, 'V_slowly': False, 'V_delivers': False, 'V_detective': False, 'V_brown': False, 'V_jackson': False, 'V_member': False, 'V_provide': False, 'V_president': False, 'V_puts': False, 'V_asks': False, 'V_critics': False, 'V_appearance': False, 'V_famous': False, 'V_okay': False, 'V_intelligence': False, 'V_energy': False, 'V_sent': False, 'V_spielberg': False, 'V_development': True, 'V_etc': False, 'V_language': False, 'V_blue': False, 'V_proves': False, 'V_vampire': False, 'V_seemingly': False, 'V_basic': False, 'V_caught': False, 'V_decide': False, 'V_opportunity': True, 'V_incredibly': False, 'V_images': False, 'V_band': False, 'V_j': False, 'V_writers': False, 'V_knew': False, 'V_interested': False, 'V_considering': False, 'V_boys': False, 'V_thanks': False, 'V_remains': False, 'V_climax': False, 'V_event': False, 'V_directing': False, 'V_conclusion': False, 'V_leading': False, 'V_ground': False, 'V_lies': False, 'V_forget': False, 'V_alive': False, 'V_tarzan': False, 'V_century': False, 'V_provides': False, 'V_trip': False, 'V_partner': False, 'V_central': False, 'V_tarantino': False, 'V_period': True, 'V_pace': False, 'V_yourself': False, 'V_worked': False, 'V_ready': False, 'V_date': False, 'V_thus': False, 'V_1998': False, 'V_terrific': False, 'V_write': False, 'V_average': False, 'V_onto': False, 'V_songs': False, 'V_occasionally': False, 'V_doctor': False, 'V_stands': True, 'V_hardly': False, 'V_monster': False, 'V_led': False, 'V_mysterious': False, 'V_details': False, 'V_wasted': False, 'V_apart': False, 'V_aside': False, 'V_store': False, 'V_billy': False, 'V_boss': False, 'V_travolta': False, 'V_producer': False, 'V_pull': False, 'V_consider': False, 'V_pictures': False, 'V_becoming': False, 'V_cage': False, 'V_loud': False, 'V_looked': False, 'V_officer': False, 'V_twenty': False, 'V_system': False, 'V_contains': False, 'V_julia': False, 'V_subplot': True, 'V_missing': False, 'V_personality': False, 'V_building': False, 'V_learns': False, 'V_hong': False, 'V_la': False, 'V_apartment': False, 'V_7': False, 'V_bizarre': False, 'V_powers': False, 'V_flaws': True, 'V_catch': False, 'V_lawyer': False, 'V_shoot': False, 'V_student': False, 'V_unique': False, 'V_000': False, 'V_admit': False, 'V_concept': False, 'V_needed': False, 'V_thrown': False, 'V_christopher': False, 'V_laughing': False, 'V_green': False, 'V_twists': False, 'V_matthew': False, 'V_touch': False, 'V_waiting': False, 'V_victim': False, 'V_cover': False, 'V_machine': False, 'V_danny': False, 'V_mention': False, 'V_search': True, 'V_1997': False, 'V_win': False, 'V_door': False, 'V_manner': False, 'V_train': False, 'V_saving': False, 'V_share': True, 'V_image': False, 'V_discovers': False, 'V_normal': False, 'V_cross': False, 'V_fox': False, 'V_returns': False, 'V_adult': False, 'V_adds': False, 'V_answer': False, 'V_adventure': False, 'V_lame': False, 'V_male': True, 'V_odd': False, 'V_singer': False, 'V_deserves': False, 'V_gore': False, 'V_states': False, 'V_include': False, 'V_equally': False, 'V_months': False, 'V_barely': False, 'V_directors': False, 'V_introduced': False, 'V_fashion': False, 'V_social': False, 'V_1999': False, 'V_news': False, 'V_hair': False, 'V_dance': False, 'V_innocent': False, 'V_camp': False, 'V_teacher': False, 'V_became': False, 'V_sad': True, 'V_witch': False, 'V_includes': True, 'V_nights': False, 'V_jason': False, 'V_julie': False, 'V_latter': False, 'V_food': False, 'V_jennifer': False, 'V_land': False, 'V_menace': False, 'V_rate': False, 'V_storyline': False, 'V_contact': False, 'V_jean': False, 'V_elizabeth': False, 'V_fellow': False, 'V_changes': False, 'V_henry': False, 'V_hill': False, 'V_pulp': False, 'V_gay': False, 'V_tried': False, 'V_surprised': False, 'V_literally': False, 'V_walk': False, 'V_standard': True, 'V_90': False, 'V_forward': False, 'V_wise': False, 'V_enjoyed': False, 'V_discover': False, 'V_pop': False, 'V_anderson': False, 'V_offer': False, 'V_recommend': False, 'V_public': False, 'V_drive': False, 'V_c': False, 'V_toy': False, 'V_charming': False, 'V_fair': False, 'V_chinese': False, 'V_rescue': False, 'V_terms': True, 'V_mouth': False, 'V_lucas': False, 'V_accident': False, 'V_dies': False, 'V_decided': True, 'V_edge': False, 'V_footage': False, 'V_culture': False, 'V_weak': False, 'V_presented': False, 'V_blade': False, 'V_younger': False, 'V_douglas': False, 'V_natural': False, 'V_born': False, 'V_generally': False, 'V_teenage': True, 'V_older': False, 'V_horrible': False, 'V_addition': False, 'V_sadly': False, 'V_creates': False, 'V_disturbing': False, 'V_roger': False, 'V_detail': False, 'V_devil': False, 'V_debut': False, 'V_track': False, 'V_developed': False, 'V_week': False, 'V_russell': False, 'V_attack': False, 'V_explain': False, 'V_rarely': False, 'V_fully': False, 'V_prove': False, 'V_exception': False, 'V_jeff': False, 'V_twist': False, 'V_gang': False, 'V_winning': False, 'V_jr': False, 'V_species': False, 'V_issues': True, 'V_fresh': False, 'V_rules': False, 'V_meaning': False, 'V_inspired': False, 'V_heroes': False, 'V_desperate': False, 'V_fighting': False, 'V_filmed': False, 'V_faces': False, 'V_alan': False, 'V_bright': False, 'V_ass': False, 'V_flying': False, 'V_kong': False, 'V_rush': False, 'V_forces': False, 'V_charles': False, 'V_numerous': False, 'V_emotions': False, 'V_involves': False, 'V_patrick': False, 'V_weird': False, 'V_apparent': True, 'V_information': False, 'V_revenge': False, 'V_jay': True, 'V_toward': False, 'V_surprising': False, 'V_twice': False, 'V_editing': False, 'V_calls': False, 'V_lose': False, 'V_vegas': False, 'V_stage': False, 'V_intended': False, 'V_gags': False, 'V_opinion': False, 'V_likes': False, 'V_crazy': False, 'V_owner': False, 'V_places': False, 'V_pair': False, 'V_genuine': False, 'V_epic': False, 'V_speak': False, 'V_throw': False, 'V_appeal': False, 'V_gibson': False, 'V_captain': False, 'V_military': False, 'V_20': False, 'V_blair': False, 'V_nowhere': False, 'V_length': False, 'V_nicely': False, 'V_cause': False, 'V_pass': False, 'V_episode': False, 'V_kiss': False, 'V_arnold': False, 'V_please': False, 'V_hasn': False, 'V_phone': False, 'V_filmmaking': False, 'V_formula': False, 'V_boyfriend': True, 'V_talents': False, 'V_creating': False, 'V_kelly': False, 'V_buy': False, 'V_wide': False, 'V_fantasy': False, 'V_mood': False, 'V_heads': False, 'V_pathetic': False, 'V_lacks': False, 'V_loved': False, 'V_asked': False, 'V_mrs': False, 'V_witty': False, 'V_shakespeare': False, 'V_mulan': False, 'V_generation': False, 'V_affair': False, 'V_pieces': False, 'V_task': False, 'V_rare': False, 'V_kept': False, 'V_cameo': False, 'V_fascinating': False, 'V_ed': False, 'V_fbi': False, 'V_burton': False, 'V_incredible': False, 'V_accent': False, 'V_artist': False, 'V_superior': False, 'V_academy': False, 'V_thomas': False, 'V_spirit': False, 'V_technical': False, 'V_confusing': False, 'V_poorly': False, 'V_target': False, 'V_lover': False, 'V_woo': False, 'V_mentioned': False, 'V_theaters': False, 'V_plane': False, 'V_confused': False, 'V_dennis': False, 'V_rob': False, 'V_appropriate': False, 'V_christmas': False, 'V_considered': False, 'V_legend': False, 'V_shame': False, 'V_soul': False, 'V_matt': False, 'V_campbell': False, 'V_process': False, 'V_bottom': False, 'V_sitting': False, 'V_brain': False, 'V_creepy': False, 'V_13': False, 'V_forever': False, 'V_dude': False, 'V_crap': False, 'V_superb': False, 'V_speech': False, 'V_ice': False, 'V_journey': False, 'V_masterpiece': False, 'V_intriguing': False, 'V_names': False, 'V_pick': False, 'V_speaking': False, 'V_virtually': False, 'V_award': False, 'V_worthy': False, 'V_marriage': False, 'V_deliver': False, 'V_cash': False, 'V_magic': False, 'V_respect': False, 'V_product': False, 'V_necessary': False, 'V_suppose': False, 'V_silent': False, 'V_pointless': False, 'V_station': False, 'V_affleck': True, 'V_dimensional': False, 'V_charlie': False, 'V_allows': False, 'V_avoid': False, 'V_meant': False, 'V_cops': False, 'V_attitude': False, 'V_relationships': False, 'V_hits': False, 'V_stephen': False, 'V_spends': False, 'V_relief': False, 'V_physical': False, 'V_count': False, 'V_reviews': False, 'V_appreciate': False, 'V_cliches': False, 'V_holds': False, 'V_pure': False, 'V_plans': False, 'V_limited': False, 'V_failed': False, 'V_pain': False, 'V_impression': False, 'V_unless': False, 'V_sub': True, 'V_[': False, 'V_total': True, 'V_creature': False, 'V_viewing': False, 'V_loves': False, 'V_princess': False, 'V_kate': True, 'V_rising': False, 'V_woods': False, 'V_baldwin': False, 'V_angry': False, 'V_drawn': False, 'V_step': False, 'V_matrix': False, 'V_themes': True, 'V_satire': False, 'V_arts': False, 'V_]': False, 'V_remake': False, 'V_wall': False, 'V_moral': False, 'V_color': False, 'V_ray': True, 'V_stuck': False, 'V_touching': False, 'V_wit': False, 'V_tony': False, 'V_hanks': False, 'V_continues': False, 'V_damn': False, 'V_nobody': False, 'V_cartoon': False, 'V_keeping': False, 'V_realized': False, 'V_criminal': False, 'V_unfunny': False, 'V_comedic': False, 'V_martial': False, 'V_disappointing': False, 'V_anti': False, 'V_graphic': False, 'V_stunning': False, 'V_actions': False, 'V_floor': False, 'V_emotion': False, 'V_soldiers': False, 'V_edward': False, 'V_comedies': False, 'V_driver': True, 'V_expectations': False, 'V_added': False, 'V_mad': False, 'V_angels': False, 'V_shallow': False, 'V_suspect': False, 'V_humorous': False, 'V_phantom': False, 'V_appealing': False, 'V_device': False, 'V_design': False, 'V_industry': False, 'V_reach': False, 'V_fat': False, 'V_blame': False, 'V_united': False, 'V_sign': False, 'V_portrayal': False, 'V_rocky': False, 'V_finale': False, 'V_grand': False, 'V_opposite': False, 'V_hotel': False, 'V_match': False, 'V_damme': False, 'V_speed': False, 'V_ok': False, 'V_loving': False, 'V_field': False, 'V_larry': False, 'V_urban': False, 'V_troopers': False, 'V_compared': False, 'V_apes': False, 'V_rose': False, 'V_falling': False, 'V_era': False, 'V_loses': False, 'V_adults': False, 'V_managed': False, 'V_dad': False, 'V_therefore': False, 'V_pg': False, 'V_results': False, 'V_guns': False, 'V_radio': False, 'V_lady': False, 'V_manage': False, 'V_spice': False, 'V_naked': False, 'V_started': False, 'V_intense': False, 'V_humanity': False, 'V_wonderfully': False, 'V_slasher': False, 'V_bland': True, 'V_imagination': False, 'V_walking': False, 'V_willing': False, 'V_horse': False, 'V_rent': False, 'V_mix': False, 'V_generated': False, 'V_g': False, 'V_utterly': True, 'V_scientist': False, 'V_washington': False, 'V_notice': False, 'V_players': False, 'V_teenagers': False, 'V_moore': False, 'V_board': False, 'V_price': False, 'V_frightening': False, 'V_tommy': False, 'V_spectacular': False, 'V_bored': False, 'V_jane': False, 'V_join': False, 'V_producers': False, 'V_johnny': False, 'V_zero': False, 'V_vampires': False, 'V_adaptation': False, 'V_dollars': False, 'V_parody': False, 'V_documentary': False, 'V_dvd': False, 'V_wayne': False, 'V_post': False, 'V_exist': False, 'V_matters': False, 'V_chosen': False, 'V_mel': False, 'V_attractive': False, 'V_plain': False, 'V_trust': False, 'V_safe': False, 'V_reading': False, 'V_hoping': False, 'V_protagonist': False, 'V_feelings': False, 'V_fate': False, 'V_finding': False, 'V_feet': False, 'V_visuals': False, 'V_spawn': False, 'V_compelling': False, 'V_hall': False, 'V_sympathetic': False, 'V_featuring': False, 'V_difference': False, 'V_professional': False, 'V_drugs': False, 'V_ford': False, 'V_shooting': False, 'V_gold': False, 'V_patch': False, 'V_build': False, 'V_boat': False, 'V_cruise': False, 'V_honest': False, 'V_media': False, 'V_flicks': False, 'V_bug': False, 'V_bringing': False, 'V_dangerous': False, 'V_watched': False, 'V_grant': False, 'V_smile': False, 'V_plus': False, 'V_shouldn': False, 'V_decision': False, 'V_visually': False, 'V_allow': False, 'V_starship': False, 'V_roberts': False, 'V_dying': False, 'V_portrayed': False, 'V_turning': False, 'V_believes': False, 'V_changed': False, 'V_shock': False, 'V_destroy': False, 'V_30': False, 'V_crowd': False, 'V_broken': True, 'V_tired': False, 'V_fail': False, 'V_south': False, 'V_died': False, 'V_cult': False, 'V_fake': True, 'V_vincent': False, 'V_identity': False, 'V_sexy': False, 'V_hunt': False, 'V_jedi': False, 'V_flynt': False, 'V_alex': False, 'V_engaging': False, 'V_serve': False, 'V_snake': False, 'V_yeah': False, 'V_expecting': False, 'V_100': False, 'V_decade': False, 'V_ups': False, 'V_constant': False, 'V_current': False, 'V_survive': False, 'V_jimmy': False, 'V_buddy': False, 'V_send': False, 'V_brooks': False, 'V_goofy': False, 'V_likable': False, 'V_humour': False, 'V_technology': False, 'V_files': False, 'V_babe': False, 'V_aspects': False, 'V_presents': False, 'V_kills': False, 'V_supposedly': False, 'V_eight': False, 'V_sandler': False, 'V_hospital': False, 'V_test': False, 'V_hidden': False, 'V_brian': True, 'V_books': False, 'V_promise': False, 'V_determined': False, 'V_professor': False, 'V_welcome': False, 'V_pleasure': False, 'V_succeeds': False, 'V_individual': False, 'V_annie': False, 'V_mob': False, 'V_ted': False, 'V_virus': False, 'V_content': False, 'V_gary': False, 'V_direct': False, 'V_contrived': False, 'V_carpenter': False, 'V_scale': False, 'V_sick': False, 'V_nasty': False, 'V_conflict': False, 'V_haunting': False, 'V_ghost': False, 'V_filmmaker': False, 'V_japanese': False, 'V_helps': False, 'V_fare': False, 'V_lucky': False, 'V_ultimate': False, 'V_window': False, 'V_support': False, 'V_goal': False, 'V_provided': False, 'V_genius': False, 'V_winner': False, 'V_taylor': False, 'V_fantastic': False, 'V_faith': False, 'V_lynch': False, 'V_fit': False, 'V_catherine': False, 'V_ms': False, 'V_paced': False, 'V_breaks': False, 'V_al': False, 'V_frame': False, 'V_travel': False, 'V_badly': False, 'V_available': False, 'V_cares': False, 'V_reeves': False, 'V_crash': False, 'V_driving': False, 'V_press': False, 'V_seagal': False, 'V_amy': False, 'V_9': False, 'V_headed': False, 'V_instance': False, 'V_excuse': True, 'V_offensive': False, 'V_narrative': False, 'V_fault': False, 'V_bus': False, 'V_f': False, 'V_extreme': False, 'V_miller': False, 'V_guilty': False, 'V_grows': False, 'V_overly': False, 'V_liners': False, 'V_forgotten': False, 'V_ahead': False, 'V_accept': False, 'V_porn': False, 'V_directly': False, 'V_helen': False, 'V_began': False, 'V_lord': False, 'V_folks': False, 'V_mediocre': True, 'V_bar': True, 'V_surface': False, 'V_super': False, 'V_failure': False, 'V_6': False, 'V_acted': False, 'V_quiet': False, 'V_laughable': False, 'V_sheer': False, 'V_security': False, 'V_emotionally': False, 'V_season': False, 'V_stuart': False, 'V_jail': False, 'V_deals': False, 'V_cheesy': False, 'V_court': False, 'V_beach': False, 'V_austin': False, 'V_model': False, 'V_outstanding': False, 'V_substance': False, 'V_nudity': False, 'V_slapstick': False, 'V_joan': False, 'V_reveal': True, 'V_placed': False, 'V_check': False, 'V_beast': False, 'V_hurt': False, 'V_bloody': False, 'V_acts': False, 'V_fame': False, 'V_meeting': False, 'V_nuclear': False, 'V_1996': False, 'V_strength': False, 'V_center': False, 'V_funniest': False, 'V_standing': False, 'V_damon': False, 'V_clich': False, 'V_position': False, 'V_desire': False, 'V_driven': False, 'V_seat': False, 'V_stock': False, 'V_wondering': False, 'V_realizes': False, 'V_dealing': False, 'V_taste': False, 'V_routine': False, 'V_comparison': False, 'V_cinematographer': False, 'V_seconds': False, 'V_singing': False, 'V_gangster': False, 'V_responsible': False, 'V_football': False, 'V_remarkable': False, 'V_hunting': False, 'V_adams': False, 'V_fly': False, 'V_suspects': False, 'V_treat': False, 'V_hopes': False, 'V_heaven': False, 'V_myers': False, 'V_struggle': False, 'V_costumes': True, 'V_beat': False, 'V_happening': False, 'V_skills': False, 'V_ugly': False, 'V_figures': False, 'V_thoroughly': False, 'V_ill': False, 'V_surprises': False, 'V_player': False, 'V_rival': False, 'V_guard': False, 'V_anthony': False, 'V_strike': False, 'V_community': False, 'V_streets': True, 'V_hopkins': False, 'V_ended': False, 'V_originally': False, 'V_sarah': False, 'V_creative': False, 'V_characterization': False, 'V_thankfully': False, 'V_growing': False, 'V_sharp': False, 'V_williamson': False, 'V_eccentric': False, 'V_explained': False, 'V_hey': False, 'V_claire': False, 'V_steal': False, 'V_inevitable': False, 'V_joel': False, 'V_core': False, 'V_weren': False, 'V_sorry': False, 'V_built': False, 'V_anne': False, 'V_breaking': False, 'V_villains': False, 'V_critic': False, 'V_lets': False, 'V_visit': False, 'V_followed': False, 'V_serial': False, 'V_value': False, 'V_missed': False, 'V_oliver': False, 'V_hollow': False, 'V_sea': False, 'V_animal': False, 'V_freeman': False, 'V_animals': False, 'V_crystal': False, 'V_sidney': False, 'V_lacking': False, 'V_students': False, 'V_continue': False, 'V_extra': False, 'V_scorsese': False, 'V_church': False, 'V_stick': False, 'V_explanation': False, 'V_below': False, 'V_hip': False, 'V_quest': False, 'V_mistake': False, 'V_jump': False, 'V_fights': False, 'V_cusack': False, 'V_included': False, 'V_draw': False, 'V_15': False, 'V_games': False, 'V_1995': False, 'V_judge': False, 'V_gotten': False, 'V_chief': False, 'V_derek': False, 'V_thirty': False, 'V_record': False, 'V_everybody': False, 'V_veteran': False, 'V_develop': False, 'V_knowledge': False, 'V_serves': False, 'V_boogie': False, 'V_arrives': False, 'V_clooney': False, 'V_enter': False, 'V_russian': False, 'V_obsessed': False, 'V_vision': False, 'V_screenwriters': False, 'V_luck': False, 'V_holes': False, 'V_religious': False, 'V_witness': False, 'V_flashbacks': False, 'V_heavily': False, 'V_frequently': False, 'V_capable': False, 'V_armageddon': False, 'V_pacing': False, 'V_rise': False, 'V_mainly': False, 'V_fill': False, 'V_barry': False, 'V_schwarzenegger': False, 'V_clean': False, 'V_previously': False, 'V_grow': False, 'V_keaton': False, 'V_empty': False, 'V_synopsis': False, 'V_victims': False, 'V_adam': False, 'V_bed': False, 'V_lawrence': False, 'V_stallone': False, 'V_hunter': False, 'V_memory': False, 'V_suit': False, 'V_bobby': False, 'V_tragedy': False, 'V_saved': False, 'V_spot': False, 'V_unexpected': False, 'V_encounter': False, 'V_hearted': False, 'V_bacon': False, 'V_disappointment': False, 'V_bigger': False, 'V_noir': False, 'V_nicholson': False, 'V_evidence': False, 'V_relatively': False, 'V_morning': False, 'V_andrew': False, 'V_range': False, 'V_numbers': False, 'V_walter': False, 'V_vehicle': False, 'V_pulled': False, 'V_describe': False, 'V_cliched': False, 'V_sky': False, 'V_efforts': False, 'V_logic': False, 'V_verhoeven': False, 'V_assistant': False, 'V_existence': False, 'V_worker': False, 'V_freedom': False, 'V_theatre': False, 'V_wood': False, 'V_warm': False, 'V_fish': False, 'V_ripley': False, 'V_mental': False, 'V_study': False, 'V_justice': False, 'V_cliche': False, 'V_foot': False, 'V_jonathan': False, 'V_grown': False, 'V_unnecessary': False, 'V_rip': False, 'V_learned': True, 'V_skin': False, 'V_talks': False, 'V_ball': True, 'V_alice': False, 'V_roll': False, 'V_weeks': False, 'V_jon': False, 'V_courtroom': False, 'V_positive': False, 'V_putting': False, 'V_connection': False, 'V_london': False, 'V_angel': False, 'V_contrast': False, 'V_exact': False, 'V_fifteen': False, 'V_eric': True, 'V_prince': False, 'V_bound': False, 'V_traditional': False, 'V_regular': False, 'V_eve': True, 'V_niro': False, 'V_las': False, 'V_remain': False, 'V_anna': False, 'V_moved': False, 'V_asking': False, 'V_genuinely': False, 'V_rain': False, 'V_path': False, 'V_aware': False, 'V_causes': False, 'V_international': False, 'V_naturally': False, 'V_bank': False, 'V_faced': False, 'V_elaborate': False, 'V_shocking': False, 'V_besides': False, 'V_trash': False, 'V_paris': False, 'V_captured': False, 'V_concerned': False, 'V_rule': False, 'V_held': False, 'V_claims': False, 'V_cell': False, 'V_daniel': False, 'V_pilot': False, 'V_independence': False, 'V_ocean': False, 'V_eat': False, 'V_punch': False, 'V_desperately': False, 'V_reminiscent': False, 'V_knowing': False, 'V_greater': False, 'V_largely': False, 'V_hundred': False, 'V_shrek': False, 'V_flash': False, 'V_occasional': True, 'V_danger': False, 'V_thrillers': False, 'V_essentially': False, 'V_terror': False, 'V_whenever': False, 'V_suggest': False, 'V_baseball': False, 'V_blockbuster': False, 'V_pie': False, 'V_starting': True, 'V_satisfying': False, 'V_allowed': False, 'V_minds': True, 'V_neil': False, 'V_hank': False, 'V_storm': False, 'V_disappointed': False, 'V_jake': False, 'V_wearing': False, 'V_explains': False, 'V_marry': False, 'V_national': False, 'V_psychological': False, 'V_pig': False, 'V_nomination': False, 'V_critique': False, 'V_theatrical': False, 'V_psycho': False, 'V_necessarily': False, 'V_threatening': False, 'V_fallen': False, 'V_dogs': False, 'V_painful': True, 'V_plots': True, 'V_sends': False, 'V_department': False, 'V_agrees': False, 'V_league': False, 'V_covered': False, 'V_source': False, 'V_revealed': False, 'V_historical': False, 'V_perspective': False, 'V_patient': False, 'V_17': False, 'V_arquette': False, 'V_successfully': False, 'V_n': False, 'V_afraid': False, 'V_mom': False, 'V_murders': False, 'V_jar': False, 'V_suicide': False, 'V_joy': False, 'V_nightmare': False, 'V_halloween': False, 'V_cuts': True, 'V_wilson': False, 'V_nine': False, 'V_80': False, 'V_drunken': False, 'V_painfully': False, 'V_opera': False, 'V_wrestling': False, 'V_references': False, 'V_cars': False, 'V_bomb': False, 'V_luke': False, 'V_pulls': False, 'V_passion': False, 'V_sleep': False, 'V_structure': False, 'V_agree': False, 'V_occur': False, 'V_brad': False, 'V_chicago': False, 'V_con': False, 'V_attacks': False, 'V_service': False, 'V_stunts': False, 'V_bulworth': False, 'V_murray': False, 'V_trilogy': False, 'V_intensity': False, 'V_tradition': False, 'V_unfortunate': False, 'V_seth': False, 'V_stiller': False, 'V_suspenseful': False, 'V_steals': False, 'V_cat': False, 'V_investigation': False, 'V_lovely': False, 'V_stops': False, 'V_hanging': False, 'V_oddly': False, 'V_choices': False, 'V_warning': False, 'V_climactic': False, 'V_ape': False, 'V_jungle': False, 'V_england': False, 'V_sole': False, 'V_conspiracy': False, 'V_surely': False, 'V_author': False, 'V_50': False, 'V_program': False, 'V_broderick': False, 'V_china': False, 'V_weapon': False, 'V_unbelievable': False, 'V_quaid': False, 'V_gross': False, 'V_ensemble': False, 'V_dinner': False, 'V_dirty': False, 'V_soft': False, 'V_loose': False, 'V_memories': False, 'V_harris': False, 'V_laughter': False, 'V_nevertheless': False, 'V_suffering': False, 'V_initially': False, 'V_narration': False, 'V_terribly': False, 'V_stolen': False, 'V_answers': False, 'V_wealthy': False, 'V_originality': False, 'V_reaction': False, 'V_foreign': False, 'V_significant': False, 'V_donnell': False, 'V_fu': False, 'V_reminded': False, 'V_subplots': False, 'V_risk': False, 'V_creatures': False, 'V_12': False, 'V_african': False, 'V_convinced': True, 'V_lewis': False, 'V_capture': False, 'V_makers': True, 'V_requires': False, 'V_friendship': False, 'V_spy': False, 'V_met': False, 'V_uninteresting': True, 'V_christian': False, 'V_deadly': False, 'V_critical': False, 'V_behavior': False, 'V_slave': False, 'V_thrills': False, 'V_duvall': False, 'V_segment': False, 'V_monkey': False, 'V_bitter': False, 'V_status': False, 'V_refuses': False, 'V_nbsp': False, 'V_understanding': False, 'V_described': False, 'V_voiced': False, 'V_accidentally': False, 'V_endless': False, 'V_showed': False, 'V_schumacher': False, 'V_hired': False, 'V_2001': False, 'V_terry': False, 'V_walks': False, 'V_li': False, 'V_complicated': False, 'V_weekend': False, 'V_sequels': False, 'V_excitement': False, 'V_commercial': False, 'V_performers': False, 'V_rick': False, 'V_beloved': False, 'V_unlikely': False, 'V_bag': False, 'V_keanu': False, 'V_tight': False, 'V_terminator': False, 'V_desert': False, 'V_german': False, 'V_wears': False, 'V_effectively': False, 'V_flaw': False, 'V_meg': False, 'V_thoughts': True, 'V_scare': False, 'V_prime': False, 'V_soldier': False, 'V_todd': False, 'V_suffers': False, 'V_greg': False, 'V_p': False, 'V_shop': False, 'V_discovered': False, 'V_bear': False, 'V_melvin': False, 'V_dragon': False, 'V_heroine': False, 'V_sudden': False, 'V_gag': False, 'V_killers': False, 'V_halfway': False, 'V_strikes': False, 'V_root': False, 'V_handled': False, 'V_handle': True, 'V_explosions': False, 'V_mickey': False, 'V_extraordinary': False, 'V_sports': False, 'V_collection': True, 'V_photography': False, 'V_speaks': False, 'V_issue': False, 'V_mid': False, 'V_proceedings': False, 'V_ethan': False, 'V_delightful': False, 'V_laughed': False, 'V_vacation': False, 'V_pitt': False, 'V_lebowski': False, 'V_lovers': False, 'V_quirky': False, 'V_texas': False, 'V_flesh': False, 'V_dean': False, 'V_crisis': False, 'V_touches': False, 'V_crow': False, 'V_dollar': False, 'V_attempting': False, 'V_murdered': False, 'V_0': False, 'V_fugitive': False, 'V_values': False, 'V_loser': False, 'V_unable': False, 'V_drunk': False, 'V_kung': False, 'V_western': False, 'V_childhood': False, 'V_anywhere': False, 'V_gift': False, 'V_destroyed': False, 'V_chicken': False, 'V_tense': False, 'V_gonna': False, 'V_embarrassing': False, 'V_selling': False, 'V_sing': False, 'V_tragic': False, 'V_irritating': False, 'V_wind': False, 'V_barrymore': False, 'V_extended': False, 'V_dozen': False, 'V_enemy': False, 'V_frankly': False, 'V_drop': True, 'V_norton': False, 'V_hype': False, 'V_unusual': False, 'V_ordinary': False, 'V_finest': False, 'V_losing': False, 'V_ian': False, 'V_phil': False, 'V_cole': False, 'V_goodman': False, 'V_insight': False, 'V_promising': False, 'V_loss': True, 'V_weapons': False, 'V_twisted': False, 'V_deeper': False, 'V_nonetheless': False, 'V_advice': False, 'V_lake': False, 'V_campaign': False, 'V_lonely': False, 'V_karen': False, 'V_unknown': False, 'V_knock': False, 'V_blow': False, 'V_%': False, 'V_80s': False, 'V_magazine': False, 'V_instinct': False, 'V_italian': False, 'V_throwing': False, 'V_costume': False, 'V_friendly': False, 'V_fairy': False, 'V_voices': False, 'V_helped': False, 'V_lived': True, 'V_universe': False, 'V_entertain': False, 'V_adventures': False, 'V_table': False}, 'neg')\n"
     ]
    }
   ],
   "source": [
    "featuresets = [(document_features(d), c) for (d,c) in documents]\n",
    "# (optional – very long)\n",
    "print(featuresets[0])\n"
   ]
  },
  {
   "cell_type": "code",
   "execution_count": 92,
   "metadata": {},
   "outputs": [
    {
     "name": "stdout",
     "output_type": "stream",
     "text": [
      "0.82\n"
     ]
    }
   ],
   "source": [
    "# We create the training and test sets, train a Naïve Bayes classifier, and look at the accuracy.\n",
    "\n",
    "train_set, test_set = featuresets[100:], featuresets[:100]\n",
    "classifier = nltk.NaiveBayesClassifier.train(train_set)\n",
    "print (nltk.classify.accuracy(classifier, test_set))\n",
    "\n",
    "# The function show_most_informative_features shows the top ranked features according to the ratio of one label to the other \n",
    "# one.  For example, if there are 20 times as many positive documents containing this word as negative ones, then the ratio will be reported as     20.00: 1.00   pos:neg."
   ]
  },
  {
   "cell_type": "code",
   "execution_count": 82,
   "metadata": {},
   "outputs": [
    {
     "name": "stdout",
     "output_type": "stream",
     "text": [
      "Most Informative Features\n",
      "           V_outstanding = True              pos : neg    =     10.9 : 1.0\n",
      "                 V_mulan = True              pos : neg    =      8.4 : 1.0\n",
      "           V_wonderfully = True              pos : neg    =      7.9 : 1.0\n",
      "                V_seagal = True              neg : pos    =      6.6 : 1.0\n",
      "                V_wasted = True              neg : pos    =      6.1 : 1.0\n",
      "                 V_damon = True              pos : neg    =      6.1 : 1.0\n",
      "                 V_flynt = True              pos : neg    =      5.7 : 1.0\n",
      "                 V_awful = True              neg : pos    =      5.7 : 1.0\n",
      "                   V_era = True              pos : neg    =      5.4 : 1.0\n",
      "                V_poorly = True              neg : pos    =      5.3 : 1.0\n",
      "            V_ridiculous = True              neg : pos    =      5.2 : 1.0\n",
      "                  V_lame = True              neg : pos    =      4.9 : 1.0\n",
      "                 V_waste = True              neg : pos    =      4.9 : 1.0\n",
      "                 V_worst = True              neg : pos    =      4.5 : 1.0\n",
      "                V_allows = True              pos : neg    =      4.4 : 1.0\n",
      "                 V_bland = True              neg : pos    =      4.3 : 1.0\n",
      "                  V_jedi = True              pos : neg    =      4.1 : 1.0\n",
      "                 V_hanks = True              pos : neg    =      4.1 : 1.0\n",
      "               V_unfunny = True              neg : pos    =      4.0 : 1.0\n",
      "              V_terrific = True              pos : neg    =      3.9 : 1.0\n",
      "                  V_dull = True              neg : pos    =      3.9 : 1.0\n",
      "                V_subtle = True              pos : neg    =      3.9 : 1.0\n",
      "             V_portrayal = True              pos : neg    =      3.9 : 1.0\n",
      "             V_pointless = True              neg : pos    =      3.8 : 1.0\n",
      "                  V_mess = True              neg : pos    =      3.8 : 1.0\n",
      "             V_fantastic = True              pos : neg    =      3.8 : 1.0\n",
      "             V_laughable = True              neg : pos    =      3.7 : 1.0\n",
      "                V_stupid = True              neg : pos    =      3.7 : 1.0\n",
      "                 V_damme = True              neg : pos    =      3.7 : 1.0\n",
      "             V_portrayed = True              pos : neg    =      3.6 : 1.0\n",
      "None\n"
     ]
    }
   ],
   "source": [
    "print(classifier.show_most_informative_features(30))"
   ]
  },
  {
   "cell_type": "code",
   "execution_count": null,
   "metadata": {},
   "outputs": [],
   "source": []
  }
 ],
 "metadata": {
  "kernelspec": {
   "display_name": "Python 3",
   "language": "python",
   "name": "python3"
  },
  "language_info": {
   "codemirror_mode": {
    "name": "ipython",
    "version": 3
   },
   "file_extension": ".py",
   "mimetype": "text/x-python",
   "name": "python",
   "nbconvert_exporter": "python",
   "pygments_lexer": "ipython3",
   "version": "3.7.3"
  }
 },
 "nbformat": 4,
 "nbformat_minor": 2
}
