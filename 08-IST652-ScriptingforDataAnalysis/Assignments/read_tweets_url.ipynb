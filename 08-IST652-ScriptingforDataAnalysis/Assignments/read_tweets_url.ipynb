{
 "cells": [
  {
   "cell_type": "code",
   "execution_count": 44,
   "metadata": {},
   "outputs": [],
   "source": [
    "import json\n",
    "import pymongo\n",
    "import re\n",
    "import pandas as pd"
   ]
  },
  {
   "cell_type": "code",
   "execution_count": 45,
   "metadata": {},
   "outputs": [
    {
     "name": "stdout",
     "output_type": "stream",
     "text": [
      "****************************************************************************************************\n",
      "Tweet_Number: 1,Tweet:  The final seconds of the Kentucky-North Carolina game was an emotional roller coaster for Big Blue fans. #marchmadness #WKY…, url_count: 19\n",
      "****************************************************************************************************\n",
      "****************************************************************************************************\n",
      "Tweet_Number: 2,Tweet:  When you perfectly time the #UNC buzzer beater 😱🏀 #MarchMadness\n",
      "\n",
      "(via:@SamuelGrubbs1 ) https://t.co/Ol2ibpZjB4, url_count: 42\n",
      "****************************************************************************************************\n",
      "****************************************************************************************************\n",
      "Tweet_Number: 3,Tweet:  The final seconds of the Kentucky-North Carolina game was an emotional roller coaster for Big Blue fans. #marchmadness #WKY…, url_count: 19\n",
      "****************************************************************************************************\n",
      "****************************************************************************************************\n",
      "Tweet_Number: 4,Tweet:  And then there were four... #MarchMadness https://t.co/0MbxpgAuUC, url_count: 55\n",
      "****************************************************************************************************\n",
      "****************************************************************************************************\n",
      "Tweet_Number: 5,Tweet:  RT if you'll be cheering on @GamecockWBB and @dawnstaley tonight. Let's Go Gamecocks! #MarchMadness, url_count: 18\n",
      "****************************************************************************************************\n"
     ]
    }
   ],
   "source": [
    "client=pymongo.MongoClient('localhost', 27017)\n",
    "twitterdb = client.twitter_db\n",
    "tweetscoll = twitterdb.tweets\n",
    "docs=tweetscoll.find()\n",
    "\n",
    "url_cnt=0\n",
    "\n",
    "\n",
    "for ix,doc in zip(range(5),docs):\n",
    "    #print(str(doc.items()))\n",
    "    print(100*'*')\n",
    "    pattern=re.compile(r\"(?:(?:https?):\\/\\/)[\\w\\d/\\-?=%.]+\\.[\\w\\d/\\-?=%.]+\")\n",
    "    matches=pattern.finditer(str(doc.items()))\n",
    "    url_cnt=0\n",
    "    for match in matches:\n",
    "        url_cnt+=1\n",
    "    print('Tweet_Number: {},Tweet: {}, url_count: {}'.format(ix+1,re.sub('RT\\s@[^\\s]+','',doc['text']),url_cnt))\n",
    "    print(100*'*')\n"
   ]
  },
  {
   "cell_type": "code",
   "execution_count": 54,
   "metadata": {},
   "outputs": [
    {
     "data": {
      "text/plain": [
       "[]"
      ]
     },
     "execution_count": 54,
     "metadata": {},
     "output_type": "execute_result"
    }
   ],
   "source": [
    "tweet_dict={}\n",
    "tweet_dict['user']=list()\n",
    "tweet_dict['text']=list()\n",
    "tweet_dict['friends_count']=list()\n",
    "tweet_dict['followers_count']=list()\n",
    "tweet_dict['favourites_count']=list()\n",
    "tweet_dict['statuses_count']=list()\n",
    "tweet_dict['retweet_count']=list()\n",
    "tweet_dict['user']"
   ]
  },
  {
   "cell_type": "code",
   "execution_count": 53,
   "metadata": {},
   "outputs": [
    {
     "name": "stdout",
     "output_type": "stream",
     "text": [
      "0\n"
     ]
    },
    {
     "ename": "AttributeError",
     "evalue": "'NoneType' object has no attribute 'append'",
     "output_type": "error",
     "traceback": [
      "\u001b[1;31m---------------------------------------------------------------------------\u001b[0m",
      "\u001b[1;31mAttributeError\u001b[0m                            Traceback (most recent call last)",
      "\u001b[1;32m<ipython-input-53-3e595a3a1010>\u001b[0m in \u001b[0;36m<module>\u001b[1;34m\u001b[0m\n\u001b[0;32m      1\u001b[0m \u001b[1;32mfor\u001b[0m \u001b[0mix\u001b[0m\u001b[1;33m,\u001b[0m\u001b[0mdoc\u001b[0m \u001b[1;32min\u001b[0m \u001b[0mzip\u001b[0m\u001b[1;33m(\u001b[0m\u001b[0mrange\u001b[0m\u001b[1;33m(\u001b[0m\u001b[1;36m5\u001b[0m\u001b[1;33m)\u001b[0m\u001b[1;33m,\u001b[0m\u001b[0mdocs\u001b[0m\u001b[1;33m)\u001b[0m\u001b[1;33m:\u001b[0m\u001b[1;33m\u001b[0m\u001b[1;33m\u001b[0m\u001b[0m\n\u001b[1;32m----> 2\u001b[1;33m     \u001b[0mtweet_dict\u001b[0m\u001b[1;33m[\u001b[0m\u001b[1;34m'user'\u001b[0m\u001b[1;33m]\u001b[0m\u001b[1;33m=\u001b[0m\u001b[0mtweet_dict\u001b[0m\u001b[1;33m[\u001b[0m\u001b[1;34m'user'\u001b[0m\u001b[1;33m]\u001b[0m\u001b[1;33m.\u001b[0m\u001b[0mappend\u001b[0m\u001b[1;33m(\u001b[0m\u001b[0mdoc\u001b[0m\u001b[1;33m[\u001b[0m\u001b[1;34m'user'\u001b[0m\u001b[1;33m]\u001b[0m\u001b[1;33m[\u001b[0m\u001b[1;34m'name'\u001b[0m\u001b[1;33m]\u001b[0m\u001b[1;33m)\u001b[0m\u001b[1;33m\u001b[0m\u001b[1;33m\u001b[0m\u001b[0m\n\u001b[0m\u001b[0;32m      3\u001b[0m     \u001b[0mtweet_dict\u001b[0m\u001b[1;33m[\u001b[0m\u001b[1;34m'text'\u001b[0m\u001b[1;33m]\u001b[0m\u001b[1;33m=\u001b[0m\u001b[0mtweet_dict\u001b[0m\u001b[1;33m[\u001b[0m\u001b[1;34m'text'\u001b[0m\u001b[1;33m]\u001b[0m\u001b[1;33m.\u001b[0m\u001b[0mappend\u001b[0m\u001b[1;33m(\u001b[0m\u001b[0mre\u001b[0m\u001b[1;33m.\u001b[0m\u001b[0msub\u001b[0m\u001b[1;33m(\u001b[0m\u001b[1;34m'RT\\s@[^\\s]+'\u001b[0m\u001b[1;33m,\u001b[0m\u001b[1;34m''\u001b[0m\u001b[1;33m,\u001b[0m\u001b[0mdoc\u001b[0m\u001b[1;33m[\u001b[0m\u001b[1;34m'text'\u001b[0m\u001b[1;33m]\u001b[0m\u001b[1;33m)\u001b[0m\u001b[1;33m)\u001b[0m\u001b[1;33m\u001b[0m\u001b[1;33m\u001b[0m\u001b[0m\n\u001b[0;32m      4\u001b[0m     \u001b[0mtweet_dict\u001b[0m\u001b[1;33m[\u001b[0m\u001b[1;34m'friends_count'\u001b[0m\u001b[1;33m]\u001b[0m\u001b[1;33m=\u001b[0m\u001b[0mtweet_dict\u001b[0m\u001b[1;33m[\u001b[0m\u001b[1;34m'friends_count'\u001b[0m\u001b[1;33m]\u001b[0m\u001b[1;33m.\u001b[0m\u001b[0mappend\u001b[0m\u001b[1;33m(\u001b[0m\u001b[0mdoc\u001b[0m\u001b[1;33m[\u001b[0m\u001b[1;34m'user'\u001b[0m\u001b[1;33m]\u001b[0m\u001b[1;33m[\u001b[0m\u001b[1;34m'friends_count'\u001b[0m\u001b[1;33m]\u001b[0m\u001b[1;33m)\u001b[0m\u001b[1;33m\u001b[0m\u001b[1;33m\u001b[0m\u001b[0m\n\u001b[0;32m      5\u001b[0m     \u001b[0mtweet_dict\u001b[0m\u001b[1;33m[\u001b[0m\u001b[1;34m'followers_count'\u001b[0m\u001b[1;33m]\u001b[0m\u001b[1;33m=\u001b[0m\u001b[0mtweet_dict\u001b[0m\u001b[1;33m[\u001b[0m\u001b[1;34m'followers_count'\u001b[0m\u001b[1;33m]\u001b[0m\u001b[1;33m.\u001b[0m\u001b[0mappend\u001b[0m\u001b[1;33m(\u001b[0m\u001b[0mdoc\u001b[0m\u001b[1;33m[\u001b[0m\u001b[1;34m'user'\u001b[0m\u001b[1;33m]\u001b[0m\u001b[1;33m[\u001b[0m\u001b[1;34m'followers_count'\u001b[0m\u001b[1;33m]\u001b[0m\u001b[1;33m)\u001b[0m\u001b[1;33m\u001b[0m\u001b[1;33m\u001b[0m\u001b[0m\n",
      "\u001b[1;31mAttributeError\u001b[0m: 'NoneType' object has no attribute 'append'"
     ]
    }
   ],
   "source": [
    "for ix,doc in zip(range(5),docs):\n",
    "    tweet_dict['user']=tweet_dict['user'].append(doc['user']['name'])\n",
    "    tweet_dict['text']=tweet_dict['text'].append(re.sub('RT\\s@[^\\s]+','',doc['text']))\n",
    "    tweet_dict['friends_count']=tweet_dict['friends_count'].append(doc['user']['friends_count'])\n",
    "    tweet_dict['followers_count']=tweet_dict['followers_count'].append(doc['user']['followers_count'])\n",
    "    tweet_dict['favourites_count']=tweet_dict['favourites_count'].append(doc['user']['favourites_count'])\n",
    "    tweet_dict['statuses_count']=tweet_dict['statuses_count'].append(doc['user']['statuses_count'])\n",
    "    tweet_dict['retweet_count']=tweet_dict['retweet_count'].append(doc['retweet_count'])\n",
    "    print(ix)\n",
    "print(tweet_dict)"
   ]
  },
  {
   "cell_type": "code",
   "execution_count": 48,
   "metadata": {},
   "outputs": [
    {
     "data": {
      "text/plain": [
       "{}"
      ]
     },
     "execution_count": 48,
     "metadata": {},
     "output_type": "execute_result"
    }
   ],
   "source": [
    "tweet_dict"
   ]
  },
  {
   "cell_type": "code",
   "execution_count": null,
   "metadata": {},
   "outputs": [],
   "source": []
  }
 ],
 "metadata": {
  "kernelspec": {
   "display_name": "Python 3",
   "language": "python",
   "name": "python3"
  },
  "language_info": {
   "codemirror_mode": {
    "name": "ipython",
    "version": 3
   },
   "file_extension": ".py",
   "mimetype": "text/x-python",
   "name": "python",
   "nbconvert_exporter": "python",
   "pygments_lexer": "ipython3",
   "version": "3.7.3"
  }
 },
 "nbformat": 4,
 "nbformat_minor": 2
}
