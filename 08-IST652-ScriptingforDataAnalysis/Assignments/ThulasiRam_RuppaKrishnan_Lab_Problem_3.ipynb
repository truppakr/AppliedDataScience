{
 "cells": [
  {
   "cell_type": "markdown",
   "metadata": {},
   "source": [
    "# ThulasiRam_RuppaKrishnan_Lab_Problem_3"
   ]
  },
  {
   "cell_type": "markdown",
   "metadata": {},
   "source": [
    "### Problem 1:\n",
    "\n",
    "What will the following Python program print out?\n",
    "\n",
    "def fred():\n",
    "print(\"Zapped\")\n",
    "def jane():\n",
    "print(\"ABCdef\")\n",
    "jane()\n",
    "fred()\n",
    "jane()\n",
    "\n",
    "a) Zapped ABCdef jane fred jane\n",
    "b) Zapped ABCdef Zapped\n",
    "c) ABCdef Zapped jane\n",
    "d) ABCdef Zapped ABCdef\n",
    "e) Zapped Zapped Zapped\n",
    "\n",
    "### Problem 2:\n",
    "\n",
    "Rewrite your pay computation with time-and-a-half for overtime and create a function called\n",
    "computepay that takes two parameters (hours and rate) and returns Gross pay.\n",
    "Make sure to display your results with the label of Gross pay:.\n",
    "\n",
    "Call the function 3 or 4 times and enter different values (at least one with over 40 hours).\n",
    "Enter Hours: 45\n",
    "Enter Rate: 10\n",
    "Gross Pay: 475.0\n",
    "\n",
    "Submit your answer to Problem 1, along with your code and output from the running of your\n",
    "code in Problem 2, in a Word document.\n"
   ]
  },
  {
   "cell_type": "markdown",
   "metadata": {},
   "source": [
    "## Solution"
   ]
  },
  {
   "cell_type": "markdown",
   "metadata": {},
   "source": [
    "### Problem 1."
   ]
  },
  {
   "cell_type": "code",
   "execution_count": 2,
   "metadata": {},
   "outputs": [
    {
     "name": "stdout",
     "output_type": "stream",
     "text": [
      "ABCdef\n",
      "Zapped\n",
      "ABCdef\n"
     ]
    }
   ],
   "source": [
    "def fred():\n",
    "    print(\"Zapped\")\n",
    "def jane():\n",
    "    print(\"ABCdef\")\n",
    "jane()\n",
    "fred()\n",
    "jane()"
   ]
  },
  {
   "cell_type": "markdown",
   "metadata": {},
   "source": [
    "### Problem 2:"
   ]
  },
  {
   "cell_type": "code",
   "execution_count": 8,
   "metadata": {},
   "outputs": [
    {
     "name": "stdout",
     "output_type": "stream",
     "text": [
      "Enter Hours: 45\n",
      "Enter Rate: 10\n",
      "Gross Pay: 525.0\n"
     ]
    }
   ],
   "source": [
    "def get_input():\n",
    "    hours=float(input(\"Enter Hours: \"))\n",
    "    rate=float(input(\"Enter Rate: \"))\n",
    "    print('Gross Pay: {}'.format(pay_cal(hours,rate)))\n",
    "    \n",
    "def pay_cal(hours,rate):\n",
    "    if hours>40:\n",
    "        overtime=hours-40\n",
    "    else:\n",
    "        overtime=0\n",
    "    pay=(hours*rate)+(overtime*1.5*rate)\n",
    "    return pay\n",
    "\n",
    "get_input()"
   ]
  },
  {
   "cell_type": "code",
   "execution_count": null,
   "metadata": {},
   "outputs": [],
   "source": []
  }
 ],
 "metadata": {
  "kernelspec": {
   "display_name": "Python 3",
   "language": "python",
   "name": "python3"
  },
  "language_info": {
   "codemirror_mode": {
    "name": "ipython",
    "version": 3
   },
   "file_extension": ".py",
   "mimetype": "text/x-python",
   "name": "python",
   "nbconvert_exporter": "python",
   "pygments_lexer": "ipython3",
   "version": "3.7.3"
  }
 },
 "nbformat": 4,
 "nbformat_minor": 2
}
