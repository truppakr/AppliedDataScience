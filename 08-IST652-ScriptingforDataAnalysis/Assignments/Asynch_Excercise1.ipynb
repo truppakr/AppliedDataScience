{
 "cells": [
  {
   "cell_type": "markdown",
   "metadata": {},
   "source": [
    "## Exercise 1 : JSON"
   ]
  },
  {
   "cell_type": "code",
   "execution_count": 6,
   "metadata": {},
   "outputs": [],
   "source": [
    "import urllib.request\n",
    "import json"
   ]
  },
  {
   "cell_type": "code",
   "execution_count": 3,
   "metadata": {},
   "outputs": [],
   "source": [
    "url=\"http://earthquake.usgs.gov/earthquakes/feed/v1.0/summary/significant_month.geojson\"\n",
    "response=urllib.request.urlopen(url)\n"
   ]
  },
  {
   "cell_type": "code",
   "execution_count": 4,
   "metadata": {},
   "outputs": [],
   "source": [
    "json_str =response.read().decode('utf-8')"
   ]
  },
  {
   "cell_type": "code",
   "execution_count": 8,
   "metadata": {},
   "outputs": [
    {
     "data": {
      "text/plain": [
       "dict_keys(['type', 'metadata', 'features', 'bbox'])"
      ]
     },
     "execution_count": 8,
     "metadata": {},
     "output_type": "execute_result"
    }
   ],
   "source": [
    "json_parsed_str=json.loads(json_str)\n",
    "json_parsed_str.keys()"
   ]
  },
  {
   "cell_type": "code",
   "execution_count": 9,
   "metadata": {},
   "outputs": [
    {
     "data": {
      "text/plain": [
       "{'generated': 1574136851000,\n",
       " 'url': 'https://earthquake.usgs.gov/earthquakes/feed/v1.0/summary/significant_month.geojson',\n",
       " 'title': 'USGS Significant Earthquakes, Past Month',\n",
       " 'status': 200,\n",
       " 'api': '1.8.1',\n",
       " 'count': 13}"
      ]
     },
     "execution_count": 9,
     "metadata": {},
     "output_type": "execute_result"
    }
   ],
   "source": [
    "json_parsed_str['metadata']"
   ]
  },
  {
   "cell_type": "code",
   "execution_count": 10,
   "metadata": {},
   "outputs": [
    {
     "data": {
      "text/plain": [
       "'USGS Significant Earthquakes, Past Month'"
      ]
     },
     "execution_count": 10,
     "metadata": {},
     "output_type": "execute_result"
    }
   ],
   "source": [
    "title=json_parsed_str['metadata']['title']\n",
    "title"
   ]
  },
  {
   "cell_type": "code",
   "execution_count": 12,
   "metadata": {},
   "outputs": [],
   "source": [
    "quakes=json_parsed_str['features']"
   ]
  },
  {
   "cell_type": "code",
   "execution_count": 14,
   "metadata": {},
   "outputs": [
    {
     "data": {
      "text/plain": [
       "dict_keys(['type', 'properties', 'geometry', 'id'])"
      ]
     },
     "execution_count": 14,
     "metadata": {},
     "output_type": "execute_result"
    }
   ],
   "source": [
    "quake1=quakes[0]\n",
    "quake1.keys()"
   ]
  },
  {
   "cell_type": "code",
   "execution_count": 21,
   "metadata": {},
   "outputs": [
    {
     "name": "stdout",
     "output_type": "stream",
     "text": [
      "{\n",
      "          \"type\": \"Feature\",\n",
      "          \"properties\": {\n",
      "                    \"mag\": 5.9,\n",
      "                    \"place\": \"2km N of Kadingilan, Philippines\",\n",
      "                    \"time\": 1574083329943,\n",
      "                    \"updated\": 1574132947083,\n",
      "                    \"tz\": 480,\n",
      "                    \"url\": \"https://earthquake.usgs.gov/earthquakes/eventpage/us700069f4\",\n",
      "                    \"detail\": \"https://earthquake.usgs.gov/earthquakes/feed/v1.0/detail/us700069f4.geojson\",\n",
      "                    \"felt\": 163,\n",
      "                    \"cdi\": 6.4,\n",
      "                    \"mmi\": 7.07,\n",
      "                    \"alert\": \"green\",\n",
      "                    \"status\": \"reviewed\",\n",
      "                    \"tsunami\": 0,\n",
      "                    \"sig\": 640,\n",
      "                    \"net\": \"us\",\n",
      "                    \"code\": \"700069f4\",\n",
      "                    \"ids\": \",us700069f4,\",\n",
      "                    \"sources\": \",us,\",\n",
      "                    \"types\": \",dyfi,geoserve,ground-failure,losspager,moment-tensor,origin,phase-data,shakemap,\",\n",
      "                    \"nst\": null,\n",
      "                    \"dmin\": 0.861,\n",
      "                    \"rms\": 0.74,\n",
      "                    \"gap\": 41,\n",
      "                    \"magType\": \"mww\",\n",
      "                    \"type\": \"earthquake\",\n",
      "                    \"title\": \"M 5.9 - 2km N of Kadingilan, Philippines\"\n",
      "          },\n",
      "          \"geometry\": {\n",
      "                    \"type\": \"Point\",\n",
      "                    \"coordinates\": [\n",
      "                              124.9124,\n",
      "                              7.6247,\n",
      "                              13.11\n",
      "                    ]\n",
      "          },\n",
      "          \"id\": \"us700069f4\"\n",
      "}\n"
     ]
    }
   ],
   "source": [
    "print(json.dumps(quake1,indent=10))"
   ]
  },
  {
   "cell_type": "markdown",
   "metadata": {},
   "source": [
    "## Exercise 2 : Unicode"
   ]
  },
  {
   "cell_type": "code",
   "execution_count": 1,
   "metadata": {},
   "outputs": [
    {
     "data": {
      "text/plain": [
       "15"
      ]
     },
     "execution_count": 1,
     "metadata": {},
     "output_type": "execute_result"
    }
   ],
   "source": [
    "15"
   ]
  },
  {
   "cell_type": "code",
   "execution_count": 2,
   "metadata": {},
   "outputs": [
    {
     "data": {
      "text/plain": [
       "255"
      ]
     },
     "execution_count": 2,
     "metadata": {},
     "output_type": "execute_result"
    }
   ],
   "source": [
    "0xFF"
   ]
  },
  {
   "cell_type": "code",
   "execution_count": 3,
   "metadata": {},
   "outputs": [
    {
     "data": {
      "text/plain": [
       "127"
      ]
     },
     "execution_count": 3,
     "metadata": {},
     "output_type": "execute_result"
    }
   ],
   "source": [
    "0x7F"
   ]
  },
  {
   "cell_type": "code",
   "execution_count": 4,
   "metadata": {},
   "outputs": [
    {
     "data": {
      "text/plain": [
       "15"
      ]
     },
     "execution_count": 4,
     "metadata": {},
     "output_type": "execute_result"
    }
   ],
   "source": [
    "0xF"
   ]
  },
  {
   "cell_type": "code",
   "execution_count": 5,
   "metadata": {},
   "outputs": [
    {
     "data": {
      "text/plain": [
       "'Δ'"
      ]
     },
     "execution_count": 5,
     "metadata": {},
     "output_type": "execute_result"
    }
   ],
   "source": [
    "'\\u0394'"
   ]
  },
  {
   "cell_type": "code",
   "execution_count": 6,
   "metadata": {},
   "outputs": [
    {
     "data": {
      "text/plain": [
       "'Δ'"
      ]
     },
     "execution_count": 6,
     "metadata": {},
     "output_type": "execute_result"
    }
   ],
   "source": [
    "\"\\U00000394\""
   ]
  },
  {
   "cell_type": "code",
   "execution_count": 7,
   "metadata": {},
   "outputs": [
    {
     "data": {
      "text/plain": [
       "'Δ'"
      ]
     },
     "execution_count": 7,
     "metadata": {},
     "output_type": "execute_result"
    }
   ],
   "source": [
    "\"\\N{GREEK CAPITAL LETTER DELTA}\""
   ]
  },
  {
   "cell_type": "code",
   "execution_count": 8,
   "metadata": {},
   "outputs": [
    {
     "data": {
      "text/plain": [
       "b'\\xffab'"
      ]
     },
     "execution_count": 8,
     "metadata": {},
     "output_type": "execute_result"
    }
   ],
   "source": [
    "b'\\xFFab'"
   ]
  },
  {
   "cell_type": "code",
   "execution_count": 9,
   "metadata": {},
   "outputs": [
    {
     "data": {
      "text/plain": [
       "bytes"
      ]
     },
     "execution_count": 9,
     "metadata": {},
     "output_type": "execute_result"
    }
   ],
   "source": [
    "type(b'ab')"
   ]
  },
  {
   "cell_type": "code",
   "execution_count": 10,
   "metadata": {},
   "outputs": [
    {
     "data": {
      "text/plain": [
       "bytes"
      ]
     },
     "execution_count": 10,
     "metadata": {},
     "output_type": "execute_result"
    }
   ],
   "source": [
    "type(b'\\xFFab')"
   ]
  },
  {
   "cell_type": "code",
   "execution_count": 11,
   "metadata": {},
   "outputs": [
    {
     "data": {
      "text/plain": [
       "3"
      ]
     },
     "execution_count": 11,
     "metadata": {},
     "output_type": "execute_result"
    }
   ],
   "source": [
    "len(b'\\xFFab')"
   ]
  },
  {
   "cell_type": "code",
   "execution_count": 12,
   "metadata": {},
   "outputs": [
    {
     "name": "stdout",
     "output_type": "stream",
     "text": [
      "ꀀabcd޴\n"
     ]
    }
   ],
   "source": [
    "u=chr(40960) + 'abcd' + chr(1972)\n",
    "\n",
    "type(u)\n",
    "\n",
    "u\n",
    "\n",
    "print(u)"
   ]
  },
  {
   "cell_type": "code",
   "execution_count": 13,
   "metadata": {},
   "outputs": [
    {
     "data": {
      "text/plain": [
       "b'abcd'"
      ]
     },
     "execution_count": 13,
     "metadata": {},
     "output_type": "execute_result"
    }
   ],
   "source": [
    "u.encode('ascii','ignore')"
   ]
  },
  {
   "cell_type": "code",
   "execution_count": 14,
   "metadata": {},
   "outputs": [
    {
     "data": {
      "text/plain": [
       "b'?abcd?'"
      ]
     },
     "execution_count": 14,
     "metadata": {},
     "output_type": "execute_result"
    }
   ],
   "source": [
    "u.encode('ascii','replace')"
   ]
  },
  {
   "cell_type": "code",
   "execution_count": 15,
   "metadata": {},
   "outputs": [
    {
     "data": {
      "text/plain": [
       "b'&#40960;abcd&#1972;'"
      ]
     },
     "execution_count": 15,
     "metadata": {},
     "output_type": "execute_result"
    }
   ],
   "source": [
    "u.encode('ascii', 'xmlcharrefreplace')"
   ]
  },
  {
   "cell_type": "code",
   "execution_count": 16,
   "metadata": {},
   "outputs": [
    {
     "data": {
      "text/plain": [
       "b'\\\\ua000abcd\\\\u07b4'"
      ]
     },
     "execution_count": 16,
     "metadata": {},
     "output_type": "execute_result"
    }
   ],
   "source": [
    "u.encode('ascii', 'backslashreplace')"
   ]
  },
  {
   "cell_type": "markdown",
   "metadata": {},
   "source": [
    "## Exercise 3 : Mongo DB"
   ]
  },
  {
   "cell_type": "code",
   "execution_count": 18,
   "metadata": {},
   "outputs": [],
   "source": [
    "from pymongo import MongoClient"
   ]
  },
  {
   "cell_type": "code",
   "execution_count": 19,
   "metadata": {},
   "outputs": [],
   "source": [
    "client = MongoClient('localhost', 27017)"
   ]
  },
  {
   "cell_type": "code",
   "execution_count": 21,
   "metadata": {},
   "outputs": [
    {
     "data": {
      "text/plain": [
       "['admin', 'config', 'local']"
      ]
     },
     "execution_count": 21,
     "metadata": {},
     "output_type": "execute_result"
    }
   ],
   "source": [
    "client.list_database_names()"
   ]
  },
  {
   "cell_type": "code",
   "execution_count": 22,
   "metadata": {},
   "outputs": [],
   "source": [
    "db=client.peopledb"
   ]
  },
  {
   "cell_type": "code",
   "execution_count": 34,
   "metadata": {},
   "outputs": [
    {
     "data": {
      "text/plain": [
       "['admin', 'config', 'local', 'peopledb']"
      ]
     },
     "execution_count": 34,
     "metadata": {},
     "output_type": "execute_result"
    }
   ],
   "source": [
    "client.list_database_names()"
   ]
  },
  {
   "cell_type": "code",
   "execution_count": 25,
   "metadata": {},
   "outputs": [
    {
     "data": {
      "text/plain": [
       "[]"
      ]
     },
     "execution_count": 25,
     "metadata": {},
     "output_type": "execute_result"
    }
   ],
   "source": [
    "db.list_collection_names()"
   ]
  },
  {
   "cell_type": "code",
   "execution_count": 27,
   "metadata": {},
   "outputs": [],
   "source": [
    "peoplecoll = db.people"
   ]
  },
  {
   "cell_type": "code",
   "execution_count": 28,
   "metadata": {},
   "outputs": [
    {
     "data": {
      "text/plain": [
       "pymongo.collection.Collection"
      ]
     },
     "execution_count": 28,
     "metadata": {},
     "output_type": "execute_result"
    }
   ],
   "source": [
    "type(peoplecoll)"
   ]
  },
  {
   "cell_type": "code",
   "execution_count": 30,
   "metadata": {},
   "outputs": [],
   "source": [
    "peoplelist = [{ \"name\": \"John Smith\", \"age\": 30 }, { \"name\": \"Bo\\\n",
    "Bennett\", \"age\": 23 }, { \"name\": \"Anna Jones\", \"age\": 25 }]"
   ]
  },
  {
   "cell_type": "code",
   "execution_count": 32,
   "metadata": {},
   "outputs": [
    {
     "data": {
      "text/plain": [
       "<pymongo.results.InsertOneResult at 0x22c5d5f73c8>"
      ]
     },
     "execution_count": 32,
     "metadata": {},
     "output_type": "execute_result"
    }
   ],
   "source": [
    "peoplecoll.insert_one({ \"name\": \"John Smith\", \"age\": 30 })"
   ]
  },
  {
   "cell_type": "code",
   "execution_count": 33,
   "metadata": {},
   "outputs": [
    {
     "data": {
      "text/plain": [
       "Collection(Database(MongoClient(host=['localhost:27017'], document_class=dict, tz_aware=False, connect=True), 'peopledb'), 'people')"
      ]
     },
     "execution_count": 33,
     "metadata": {},
     "output_type": "execute_result"
    }
   ],
   "source": [
    "db.people"
   ]
  },
  {
   "cell_type": "code",
   "execution_count": 35,
   "metadata": {},
   "outputs": [
    {
     "data": {
      "text/plain": [
       "<pymongo.results.InsertManyResult at 0x22c5db4c448>"
      ]
     },
     "execution_count": 35,
     "metadata": {},
     "output_type": "execute_result"
    }
   ],
   "source": [
    " peoplecoll.insert_many(peoplelist[1: ])"
   ]
  },
  {
   "cell_type": "code",
   "execution_count": 36,
   "metadata": {},
   "outputs": [],
   "source": [
    "docs = peoplecoll.find()"
   ]
  },
  {
   "cell_type": "code",
   "execution_count": 37,
   "metadata": {},
   "outputs": [
    {
     "data": {
      "text/plain": [
       "pymongo.cursor.Cursor"
      ]
     },
     "execution_count": 37,
     "metadata": {},
     "output_type": "execute_result"
    }
   ],
   "source": [
    "type(docs)"
   ]
  },
  {
   "cell_type": "code",
   "execution_count": 38,
   "metadata": {},
   "outputs": [
    {
     "name": "stdout",
     "output_type": "stream",
     "text": [
      "{'_id': ObjectId('5dd3d82d671414bbfb6923f0'), 'name': 'John Smith', 'age': 30}\n",
      "{'_id': ObjectId('5dd3d840671414bbfb6923f1'), 'name': 'John Smith', 'age': 30}\n",
      "{'_id': ObjectId('5dd3d888671414bbfb6923f2'), 'name': 'BoBennett', 'age': 23}\n",
      "{'_id': ObjectId('5dd3d888671414bbfb6923f3'), 'name': 'Anna Jones', 'age': 25}\n"
     ]
    }
   ],
   "source": [
    "for doc in docs:\n",
    "    print(doc)"
   ]
  },
  {
   "cell_type": "code",
   "execution_count": 39,
   "metadata": {},
   "outputs": [],
   "source": [
    "peoplelist2=[{ \"name\": \"Britney Sykes\", \"age\": 21 , 'position':'Guard'}, { \"name\": \"Briana Day\", \"age\": 19, 'position':'Center'}, { \"name\": \"Alexis Peterson\", \"age\": 21, 'position':'Guard' }, { \"name\": \"Gabby Cooper\", \"age\": 18, 'position':'Guard'}]"
   ]
  },
  {
   "cell_type": "code",
   "execution_count": 40,
   "metadata": {},
   "outputs": [
    {
     "data": {
      "text/plain": [
       "<pymongo.results.InsertManyResult at 0x22c5d926a48>"
      ]
     },
     "execution_count": 40,
     "metadata": {},
     "output_type": "execute_result"
    }
   ],
   "source": [
    " peoplecoll.insert_many(peoplelist2)"
   ]
  },
  {
   "cell_type": "code",
   "execution_count": 42,
   "metadata": {},
   "outputs": [
    {
     "name": "stdout",
     "output_type": "stream",
     "text": [
      "{'_id': ObjectId('5dd47719671414bbfb6923f5'), 'name': 'Briana Day', 'age': 19, 'position': 'Center'}\n",
      "{'_id': ObjectId('5dd47719671414bbfb6923f7'), 'name': 'Gabby Cooper', 'age': 18, 'position': 'Guard'}\n"
     ]
    }
   ],
   "source": [
    "docs = peoplecoll.find()\n",
    "for doc in docs:\n",
    "    if doc['age']<20:\n",
    "        print(doc)"
   ]
  },
  {
   "cell_type": "markdown",
   "metadata": {},
   "source": [
    "## Excercise 4: MongoDB and JSON"
   ]
  },
  {
   "cell_type": "code",
   "execution_count": 43,
   "metadata": {},
   "outputs": [
    {
     "name": "stdout",
     "output_type": "stream",
     "text": [
      "Collected data from USGS Significant Earthquakes, Past Month\n",
      "Connected successfully!!!\n",
      "Added 12 to earthquakes collection in usgs database\n"
     ]
    }
   ],
   "source": [
    "''' \n",
    "\tThis program accesses the USGS earthquake data feed. This URL is for\n",
    "       significant quakes in the last 30 days.\n",
    "\tIt then saves the earthquakes to a database named usgs and a collection called earthquakes.\n",
    "\tThe mongod server must be running for this program to work!\n",
    "'''\n",
    "\n",
    "import urllib.request\n",
    "import json\n",
    "import pymongo\n",
    "\n",
    "\n",
    "# get the bbc rss feed of news stories and connect to it\n",
    "earthquake_url = \"http://earthquake.usgs.gov/earthquakes/feed/v1.0/summary/significant_month.geojson\"\n",
    "\n",
    "try:\n",
    "\tresponse = urllib.request.urlopen(earthquake_url)\n",
    "except urllib.error.URLError as e:\n",
    "    if hasattr(e, 'reason'):\n",
    "        print('We failed to reach a server.')\n",
    "        print('Reason: ', e.reason)\n",
    "    elif hasattr(e, 'code'):\n",
    "        print('The server couldn\\'t fulfill the request.')\n",
    "        print('Error code: ', e.code)\n",
    "else:\n",
    "\t# the url request was successful - convert the response to a string\n",
    "\tjson_string = response.read().decode('utf-8')\n",
    "\n",
    "\t# the json package loads() converts the string to python dictionaries and lists\n",
    "\teq_json = json.loads(json_string)\n",
    "\t\n",
    "\t# from the json dictionary we get the title to print\n",
    "\ttitle = eq_json['metadata']['title']\n",
    "\tprint('Collected data from', title)\n",
    "\t#  and we get the list of earthquakes\n",
    "\tquakelist = eq_json['features']\n",
    "\n",
    "\t# Connection to Mongo DB\n",
    "\ttry:\n",
    "\t    client=pymongo.MongoClient('localhost', 27017)\n",
    "\t    print (\"Connected successfully!!!\")\n",
    "\texcept pymongo.errors.ConnectionFailure as e:\n",
    "\t   print (\"Could not connect to MongoDB: %s\" % e )\n",
    "\telse:\n",
    "\n",
    "\t\t# use database named usgs or create it if not there already\n",
    "\t\teqdb = client.usgs\n",
    "\t\t# create collection named earthquakes or create it if not there already\n",
    "\t\tquakecoll = eqdb.earthquakes\n",
    "\t\t# add all the earthquakes to the list\n",
    "\t\tquakecoll.insert_many(quakelist)\n",
    "\t\tprint(\"Added\", len(quakelist), \"to earthquakes collection in usgs database\")\n",
    "\t\t# close the database connection\n",
    "\t\tclient.close()\n",
    "\n"
   ]
  },
  {
   "cell_type": "code",
   "execution_count": 49,
   "metadata": {},
   "outputs": [
    {
     "name": "stdout",
     "output_type": "stream",
     "text": [
      "Place:2km N of Kadingilan, Philippines, Time:1574083329943\n",
      "Place:138km E of Bitung, Indonesia, Time:1573748260457\n",
      "Place:26km W of Pepeekeo, Hawaii, Time:1573490152790\n",
      "Place:167km SSW of Ndoi Island, Fiji, Time:1573209884876\n",
      "Place:57km NE of Hashtrud, Iran, Time:1573166825428\n",
      "Place:6km W of Ventura, CA, Time:1573131939400\n",
      "Place:East of the South Sandwich Islands, Time:1572987121296\n",
      "Place:136km W of Neiafu, Tonga, Time:1572907412280\n",
      "Place:30km SW of Illapel, Chile, Time:1572904405320\n",
      "Place:0km NW of Bulatukan, Philippines, Time:1572484279120\n",
      "Place:14km E of Bual, Philippines, Time:1572311084738\n",
      "Place:North of Ascension Island, Time:1571846894497\n"
     ]
    }
   ],
   "source": [
    "client=pymongo.MongoClient('localhost', 27017)\n",
    "eqdb = client.usgs\n",
    "quakecoll = eqdb.earthquakes\n",
    "docs=quakecoll.find()\n",
    "for doc in docs:\n",
    "    print('Place:{}, Time:{}'.format(doc['properties']['place'],doc['properties']['time']))"
   ]
  },
  {
   "cell_type": "code",
   "execution_count": 50,
   "metadata": {},
   "outputs": [
    {
     "data": {
      "text/plain": [
       "MongoClient(host=['localhost:27017'], document_class=dict, tz_aware=False, connect=True)"
      ]
     },
     "execution_count": 50,
     "metadata": {},
     "output_type": "execute_result"
    }
   ],
   "source": [
    "client"
   ]
  },
  {
   "cell_type": "code",
   "execution_count": null,
   "metadata": {},
   "outputs": [],
   "source": []
  }
 ],
 "metadata": {
  "kernelspec": {
   "display_name": "Python 3",
   "language": "python",
   "name": "python3"
  },
  "language_info": {
   "codemirror_mode": {
    "name": "ipython",
    "version": 3
   },
   "file_extension": ".py",
   "mimetype": "text/x-python",
   "name": "python",
   "nbconvert_exporter": "python",
   "pygments_lexer": "ipython3",
   "version": "3.7.3"
  }
 },
 "nbformat": 4,
 "nbformat_minor": 2
}
