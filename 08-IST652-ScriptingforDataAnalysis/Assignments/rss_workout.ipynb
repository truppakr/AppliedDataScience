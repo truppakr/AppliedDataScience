{
 "cells": [
  {
   "cell_type": "code",
   "execution_count": 1,
   "metadata": {},
   "outputs": [],
   "source": [
    "import urllib.request"
   ]
  },
  {
   "cell_type": "code",
   "execution_count": 3,
   "metadata": {},
   "outputs": [],
   "source": [
    "feed=\"http://feeds.feedburner.com/entrepreneur/ebiz\""
   ]
  },
  {
   "cell_type": "code",
   "execution_count": 8,
   "metadata": {},
   "outputs": [
    {
     "name": "stdout",
     "output_type": "stream",
     "text": [
      "<?xml version=\"1.0\" encoding=\"UTF-8\"?>\r\n",
      "<?xml-stylesheet type=\"text/xsl\" media=\"screen\" href=\"/~d/styles/rss2full.xsl\"?><?xml-stylesheet type=\"text/css\" media=\"screen\" href=\"http://feeds.feedburner.com/~d/styles/itemcontent.css\"?><rss xmlns:content=\"http://purl.org/rss/1.0/modules/content/\" xmlns:dc=\"http://purl.org/dc/elements/1.1/\" xmlns:media=\"http://search.yahoo.com/mrss/\" xmlns:feedburner=\"http://rssnamespace.org/feedburner/ext/1.0\" version=\"2.0\">\r\n",
      "\t<channel>\r\n",
      "\t\t<title>Entrepreneur: Online \n"
     ]
    }
   ],
   "source": [
    "with urllib.request.urlopen(feed) as response:\n",
    "    xmlstring=response.read().decode('utf8')\n",
    "    print(xmlstring[:500])"
   ]
  },
  {
   "cell_type": "code",
   "execution_count": 13,
   "metadata": {},
   "outputs": [
    {
     "data": {
      "text/plain": [
       "xml.etree.ElementTree.ElementTree"
      ]
     },
     "execution_count": 13,
     "metadata": {},
     "output_type": "execute_result"
    }
   ],
   "source": [
    "import xml.etree.ElementTree as etree\n",
    "import io\n",
    "xmlfile=io.StringIO(xmlstring)\n",
    "tree=etree.parse(xmlfile)\n",
    "type(tree)"
   ]
  },
  {
   "cell_type": "code",
   "execution_count": 14,
   "metadata": {},
   "outputs": [
    {
     "data": {
      "text/plain": [
       "<xml.etree.ElementTree.ElementTree at 0x2430cc11048>"
      ]
     },
     "execution_count": 14,
     "metadata": {},
     "output_type": "execute_result"
    }
   ],
   "source": [
    "root=tree.getroot()\n",
    "tree"
   ]
  },
  {
   "cell_type": "code",
   "execution_count": 16,
   "metadata": {},
   "outputs": [
    {
     "name": "stdout",
     "output_type": "stream",
     "text": [
      "tag: rss, attrib: {'version': '2.0'}, text: \n",
      "\t\n"
     ]
    }
   ],
   "source": [
    "print('tag: {}, attrib: {}, text: {}'.format(root.tag,root.attrib,root.text))"
   ]
  },
  {
   "cell_type": "code",
   "execution_count": 33,
   "metadata": {},
   "outputs": [
    {
     "name": "stdout",
     "output_type": "stream",
     "text": [
      "**************************************************\n",
      "Parents and Child\n",
      "**************************************************\n",
      "Child: 1,Length: 32, tag: channel, attrib: {}, text: \n",
      "\t\t\n",
      "Grandchild: 1,Length: 0, tag: title, attrib: {}, text: Entrepreneur: Online Business\n",
      "Grandchild: 2,Length: 0, tag: link, attrib: {}, text: https://www.entrepreneur.com/topic/online-business\n",
      "Grandchild: 3,Length: 0, tag: description, attrib: {}, text: Do you have an online business? With Entrepreneur.com's E-Business feed you will get the latest online business news and articles! \n",
      "Grandchild: 4,Length: 3, tag: image, attrib: {}, text: None\n",
      "Grandchild: 5,Length: 0, tag: language, attrib: {}, text: en-us\n",
      "**************************************************\n",
      "Items\n",
      "**************************************************\n",
      "Item: 1,Length: 12, tag: item, attrib: {}, text: \n",
      "\t\t\t\n",
      "Element: 1,Length: 0, tag: title, attrib: {}, text: 5 Tips to Keep Your Website Secure in 2020\n",
      "Element: 2,Length: 0, tag: description, attrib: {}, text: Your business site is where all the magic happens, and if it's compromised, you could lose a lot. Here's how to make sure that doesn't happen.<div class=\"feedflare\">\n",
      "<a href=\"http://feeds.feedburner.com/~ff/entrepreneur/ebiz?a=WeYS0xKMeYI:wTEMqqD-sx8:yIl2AUoC8zA\"><img src=\"http://feeds.feedburner.com/~ff/entrepreneur/ebiz?d=yIl2AUoC8zA\" border=\"0\"></img></a> <a href=\"http://feeds.feedburner.com/~ff/entrepreneur/ebiz?a=WeYS0xKMeYI:wTEMqqD-sx8:dnMXMwOfBR0\"><img src=\"http://feeds.feedburner.com/~ff/entrepreneur/ebiz?d=dnMXMwOfBR0\" border=\"0\"></img></a> <a href=\"http://feeds.feedburner.com/~ff/entrepreneur/ebiz?a=WeYS0xKMeYI:wTEMqqD-sx8:F7zBnMyn0Lo\"><img src=\"http://feeds.feedburner.com/~ff/entrepreneur/ebiz?i=WeYS0xKMeYI:wTEMqqD-sx8:F7zBnMyn0Lo\" border=\"0\"></img></a> <a href=\"http://feeds.feedburner.com/~ff/entrepreneur/ebiz?a=WeYS0xKMeYI:wTEMqqD-sx8:7Q72WNTAKBA\"><img src=\"http://feeds.feedburner.com/~ff/entrepreneur/ebiz?d=7Q72WNTAKBA\" border=\"0\"></img></a> <a href=\"http://feeds.feedburner.com/~ff/entrepreneur/ebiz?a=WeYS0xKMeYI:wTEMqqD-sx8:V_sGLiPBpWU\"><img src=\"http://feeds.feedburner.com/~ff/entrepreneur/ebiz?i=WeYS0xKMeYI:wTEMqqD-sx8:V_sGLiPBpWU\" border=\"0\"></img></a> <a href=\"http://feeds.feedburner.com/~ff/entrepreneur/ebiz?a=WeYS0xKMeYI:wTEMqqD-sx8:qj6IDK7rITs\"><img src=\"http://feeds.feedburner.com/~ff/entrepreneur/ebiz?d=qj6IDK7rITs\" border=\"0\"></img></a> <a href=\"http://feeds.feedburner.com/~ff/entrepreneur/ebiz?a=WeYS0xKMeYI:wTEMqqD-sx8:gIN9vFwOqvQ\"><img src=\"http://feeds.feedburner.com/~ff/entrepreneur/ebiz?i=WeYS0xKMeYI:wTEMqqD-sx8:gIN9vFwOqvQ\" border=\"0\"></img></a> <a href=\"http://feeds.feedburner.com/~ff/entrepreneur/ebiz?a=WeYS0xKMeYI:wTEMqqD-sx8:TzevzKxY174\"><img src=\"http://feeds.feedburner.com/~ff/entrepreneur/ebiz?d=TzevzKxY174\" border=\"0\"></img></a>\n",
      "</div><img src=\"http://feeds.feedburner.com/~r/entrepreneur/ebiz/~4/WeYS0xKMeYI\" height=\"1\" width=\"1\" alt=\"\"/>\n",
      "Element: 3,Length: 0, tag: pubDate, attrib: {}, text: Wed, 06 Nov 2019 15:00:00 GMT\n",
      "Element: 4,Length: 0, tag: {http://purl.org/dc/elements/1.1/}creator, attrib: {}, text: Pritom Das\n",
      "Element: 5,Length: 0, tag: {http://purl.org/dc/elements/1.1/}language, attrib: {}, text: en\n",
      "Item: 2,Length: 12, tag: item, attrib: {}, text: \n",
      "\t\t\t\n",
      "Element: 1,Length: 0, tag: title, attrib: {}, text: 7 Steps to Starting a Small Business Online\n",
      "Element: 2,Length: 0, tag: description, attrib: {}, text: Follow this plan for attracting visitors to your small business' site -- and getting them to buy.<div class=\"feedflare\">\n",
      "<a href=\"http://feeds.feedburner.com/~ff/entrepreneur/ebiz?a=Bfbt2n-7B_k:4hfZ-rnMhSA:yIl2AUoC8zA\"><img src=\"http://feeds.feedburner.com/~ff/entrepreneur/ebiz?d=yIl2AUoC8zA\" border=\"0\"></img></a> <a href=\"http://feeds.feedburner.com/~ff/entrepreneur/ebiz?a=Bfbt2n-7B_k:4hfZ-rnMhSA:dnMXMwOfBR0\"><img src=\"http://feeds.feedburner.com/~ff/entrepreneur/ebiz?d=dnMXMwOfBR0\" border=\"0\"></img></a> <a href=\"http://feeds.feedburner.com/~ff/entrepreneur/ebiz?a=Bfbt2n-7B_k:4hfZ-rnMhSA:F7zBnMyn0Lo\"><img src=\"http://feeds.feedburner.com/~ff/entrepreneur/ebiz?i=Bfbt2n-7B_k:4hfZ-rnMhSA:F7zBnMyn0Lo\" border=\"0\"></img></a> <a href=\"http://feeds.feedburner.com/~ff/entrepreneur/ebiz?a=Bfbt2n-7B_k:4hfZ-rnMhSA:7Q72WNTAKBA\"><img src=\"http://feeds.feedburner.com/~ff/entrepreneur/ebiz?d=7Q72WNTAKBA\" border=\"0\"></img></a> <a href=\"http://feeds.feedburner.com/~ff/entrepreneur/ebiz?a=Bfbt2n-7B_k:4hfZ-rnMhSA:V_sGLiPBpWU\"><img src=\"http://feeds.feedburner.com/~ff/entrepreneur/ebiz?i=Bfbt2n-7B_k:4hfZ-rnMhSA:V_sGLiPBpWU\" border=\"0\"></img></a> <a href=\"http://feeds.feedburner.com/~ff/entrepreneur/ebiz?a=Bfbt2n-7B_k:4hfZ-rnMhSA:qj6IDK7rITs\"><img src=\"http://feeds.feedburner.com/~ff/entrepreneur/ebiz?d=qj6IDK7rITs\" border=\"0\"></img></a> <a href=\"http://feeds.feedburner.com/~ff/entrepreneur/ebiz?a=Bfbt2n-7B_k:4hfZ-rnMhSA:gIN9vFwOqvQ\"><img src=\"http://feeds.feedburner.com/~ff/entrepreneur/ebiz?i=Bfbt2n-7B_k:4hfZ-rnMhSA:gIN9vFwOqvQ\" border=\"0\"></img></a> <a href=\"http://feeds.feedburner.com/~ff/entrepreneur/ebiz?a=Bfbt2n-7B_k:4hfZ-rnMhSA:TzevzKxY174\"><img src=\"http://feeds.feedburner.com/~ff/entrepreneur/ebiz?d=TzevzKxY174\" border=\"0\"></img></a>\n",
      "</div><img src=\"http://feeds.feedburner.com/~r/entrepreneur/ebiz/~4/Bfbt2n-7B_k\" height=\"1\" width=\"1\" alt=\"\"/>\n",
      "Element: 3,Length: 0, tag: pubDate, attrib: {}, text: Mon, 04 Nov 2019 16:00:00 GMT\n",
      "Element: 4,Length: 0, tag: {http://purl.org/dc/elements/1.1/}creator, attrib: {}, text: Allen Moon\n",
      "Element: 5,Length: 0, tag: {http://purl.org/dc/elements/1.1/}language, attrib: {}, text: en\n",
      "Item: 3,Length: 12, tag: item, attrib: {}, text: \n",
      "\t\t\t\n",
      "Element: 1,Length: 0, tag: title, attrib: {}, text: How to Give People What They Want Online\n",
      "Element: 2,Length: 0, tag: description, attrib: {}, text: Level up your customer experience by marrying tech and human capital.<div class=\"feedflare\">\n",
      "<a href=\"http://feeds.feedburner.com/~ff/entrepreneur/ebiz?a=sBhhIaSU2iU:VvrAcqf8vDY:yIl2AUoC8zA\"><img src=\"http://feeds.feedburner.com/~ff/entrepreneur/ebiz?d=yIl2AUoC8zA\" border=\"0\"></img></a> <a href=\"http://feeds.feedburner.com/~ff/entrepreneur/ebiz?a=sBhhIaSU2iU:VvrAcqf8vDY:dnMXMwOfBR0\"><img src=\"http://feeds.feedburner.com/~ff/entrepreneur/ebiz?d=dnMXMwOfBR0\" border=\"0\"></img></a> <a href=\"http://feeds.feedburner.com/~ff/entrepreneur/ebiz?a=sBhhIaSU2iU:VvrAcqf8vDY:F7zBnMyn0Lo\"><img src=\"http://feeds.feedburner.com/~ff/entrepreneur/ebiz?i=sBhhIaSU2iU:VvrAcqf8vDY:F7zBnMyn0Lo\" border=\"0\"></img></a> <a href=\"http://feeds.feedburner.com/~ff/entrepreneur/ebiz?a=sBhhIaSU2iU:VvrAcqf8vDY:7Q72WNTAKBA\"><img src=\"http://feeds.feedburner.com/~ff/entrepreneur/ebiz?d=7Q72WNTAKBA\" border=\"0\"></img></a> <a href=\"http://feeds.feedburner.com/~ff/entrepreneur/ebiz?a=sBhhIaSU2iU:VvrAcqf8vDY:V_sGLiPBpWU\"><img src=\"http://feeds.feedburner.com/~ff/entrepreneur/ebiz?i=sBhhIaSU2iU:VvrAcqf8vDY:V_sGLiPBpWU\" border=\"0\"></img></a> <a href=\"http://feeds.feedburner.com/~ff/entrepreneur/ebiz?a=sBhhIaSU2iU:VvrAcqf8vDY:qj6IDK7rITs\"><img src=\"http://feeds.feedburner.com/~ff/entrepreneur/ebiz?d=qj6IDK7rITs\" border=\"0\"></img></a> <a href=\"http://feeds.feedburner.com/~ff/entrepreneur/ebiz?a=sBhhIaSU2iU:VvrAcqf8vDY:gIN9vFwOqvQ\"><img src=\"http://feeds.feedburner.com/~ff/entrepreneur/ebiz?i=sBhhIaSU2iU:VvrAcqf8vDY:gIN9vFwOqvQ\" border=\"0\"></img></a> <a href=\"http://feeds.feedburner.com/~ff/entrepreneur/ebiz?a=sBhhIaSU2iU:VvrAcqf8vDY:TzevzKxY174\"><img src=\"http://feeds.feedburner.com/~ff/entrepreneur/ebiz?d=TzevzKxY174\" border=\"0\"></img></a>\n",
      "</div><img src=\"http://feeds.feedburner.com/~r/entrepreneur/ebiz/~4/sBhhIaSU2iU\" height=\"1\" width=\"1\" alt=\"\"/>\n",
      "Element: 3,Length: 0, tag: pubDate, attrib: {}, text: Wed, 30 Oct 2019 18:45:00 GMT\n",
      "Element: 4,Length: 0, tag: {http://purl.org/dc/elements/1.1/}creator, attrib: {}, text: Peter Daisyme\n",
      "Element: 5,Length: 0, tag: {http://purl.org/dc/elements/1.1/}language, attrib: {}, text: en\n",
      "Item: 4,Length: 12, tag: item, attrib: {}, text: \n",
      "\t\t\t\n",
      "Element: 1,Length: 0, tag: title, attrib: {}, text: Can AI Save Kids? A Former California Entrepreneur of the Year Says Yes\n",
      "Element: 2,Length: 0, tag: description, attrib: {}, text: Zohar Levkovitz offers insight into how tech can shield youth from online toxicity.<div class=\"feedflare\">\n",
      "<a href=\"http://feeds.feedburner.com/~ff/entrepreneur/ebiz?a=0ScomrBMihc:L7FsfQyUjCc:yIl2AUoC8zA\"><img src=\"http://feeds.feedburner.com/~ff/entrepreneur/ebiz?d=yIl2AUoC8zA\" border=\"0\"></img></a> <a href=\"http://feeds.feedburner.com/~ff/entrepreneur/ebiz?a=0ScomrBMihc:L7FsfQyUjCc:dnMXMwOfBR0\"><img src=\"http://feeds.feedburner.com/~ff/entrepreneur/ebiz?d=dnMXMwOfBR0\" border=\"0\"></img></a> <a href=\"http://feeds.feedburner.com/~ff/entrepreneur/ebiz?a=0ScomrBMihc:L7FsfQyUjCc:F7zBnMyn0Lo\"><img src=\"http://feeds.feedburner.com/~ff/entrepreneur/ebiz?i=0ScomrBMihc:L7FsfQyUjCc:F7zBnMyn0Lo\" border=\"0\"></img></a> <a href=\"http://feeds.feedburner.com/~ff/entrepreneur/ebiz?a=0ScomrBMihc:L7FsfQyUjCc:7Q72WNTAKBA\"><img src=\"http://feeds.feedburner.com/~ff/entrepreneur/ebiz?d=7Q72WNTAKBA\" border=\"0\"></img></a> <a href=\"http://feeds.feedburner.com/~ff/entrepreneur/ebiz?a=0ScomrBMihc:L7FsfQyUjCc:V_sGLiPBpWU\"><img src=\"http://feeds.feedburner.com/~ff/entrepreneur/ebiz?i=0ScomrBMihc:L7FsfQyUjCc:V_sGLiPBpWU\" border=\"0\"></img></a> <a href=\"http://feeds.feedburner.com/~ff/entrepreneur/ebiz?a=0ScomrBMihc:L7FsfQyUjCc:qj6IDK7rITs\"><img src=\"http://feeds.feedburner.com/~ff/entrepreneur/ebiz?d=qj6IDK7rITs\" border=\"0\"></img></a> <a href=\"http://feeds.feedburner.com/~ff/entrepreneur/ebiz?a=0ScomrBMihc:L7FsfQyUjCc:gIN9vFwOqvQ\"><img src=\"http://feeds.feedburner.com/~ff/entrepreneur/ebiz?i=0ScomrBMihc:L7FsfQyUjCc:gIN9vFwOqvQ\" border=\"0\"></img></a> <a href=\"http://feeds.feedburner.com/~ff/entrepreneur/ebiz?a=0ScomrBMihc:L7FsfQyUjCc:TzevzKxY174\"><img src=\"http://feeds.feedburner.com/~ff/entrepreneur/ebiz?d=TzevzKxY174\" border=\"0\"></img></a>\n",
      "</div><img src=\"http://feeds.feedburner.com/~r/entrepreneur/ebiz/~4/0ScomrBMihc\" height=\"1\" width=\"1\" alt=\"\"/>\n",
      "Element: 3,Length: 0, tag: pubDate, attrib: {}, text: Mon, 28 Oct 2019 18:00:00 GMT\n",
      "Element: 4,Length: 0, tag: {http://purl.org/dc/elements/1.1/}creator, attrib: {}, text: Jennifer Spencer\n",
      "Element: 5,Length: 0, tag: {http://purl.org/dc/elements/1.1/}language, attrib: {}, text: en\n",
      "Item: 5,Length: 12, tag: item, attrib: {}, text: \n",
      "\t\t\t\n",
      "Element: 1,Length: 0, tag: title, attrib: {}, text: How to Simply (and Effectively) Make Your E-Commerce Business Stand Out\n",
      "Element: 2,Length: 0, tag: description, attrib: {}, text: There's plenty of money to be had, but you need to distance yourself from your fiercest competitors.<div class=\"feedflare\">\n",
      "<a href=\"http://feeds.feedburner.com/~ff/entrepreneur/ebiz?a=GheNT05Ix9I:BsmMZXK430Y:yIl2AUoC8zA\"><img src=\"http://feeds.feedburner.com/~ff/entrepreneur/ebiz?d=yIl2AUoC8zA\" border=\"0\"></img></a> <a href=\"http://feeds.feedburner.com/~ff/entrepreneur/ebiz?a=GheNT05Ix9I:BsmMZXK430Y:dnMXMwOfBR0\"><img src=\"http://feeds.feedburner.com/~ff/entrepreneur/ebiz?d=dnMXMwOfBR0\" border=\"0\"></img></a> <a href=\"http://feeds.feedburner.com/~ff/entrepreneur/ebiz?a=GheNT05Ix9I:BsmMZXK430Y:F7zBnMyn0Lo\"><img src=\"http://feeds.feedburner.com/~ff/entrepreneur/ebiz?i=GheNT05Ix9I:BsmMZXK430Y:F7zBnMyn0Lo\" border=\"0\"></img></a> <a href=\"http://feeds.feedburner.com/~ff/entrepreneur/ebiz?a=GheNT05Ix9I:BsmMZXK430Y:7Q72WNTAKBA\"><img src=\"http://feeds.feedburner.com/~ff/entrepreneur/ebiz?d=7Q72WNTAKBA\" border=\"0\"></img></a> <a href=\"http://feeds.feedburner.com/~ff/entrepreneur/ebiz?a=GheNT05Ix9I:BsmMZXK430Y:V_sGLiPBpWU\"><img src=\"http://feeds.feedburner.com/~ff/entrepreneur/ebiz?i=GheNT05Ix9I:BsmMZXK430Y:V_sGLiPBpWU\" border=\"0\"></img></a> <a href=\"http://feeds.feedburner.com/~ff/entrepreneur/ebiz?a=GheNT05Ix9I:BsmMZXK430Y:qj6IDK7rITs\"><img src=\"http://feeds.feedburner.com/~ff/entrepreneur/ebiz?d=qj6IDK7rITs\" border=\"0\"></img></a> <a href=\"http://feeds.feedburner.com/~ff/entrepreneur/ebiz?a=GheNT05Ix9I:BsmMZXK430Y:gIN9vFwOqvQ\"><img src=\"http://feeds.feedburner.com/~ff/entrepreneur/ebiz?i=GheNT05Ix9I:BsmMZXK430Y:gIN9vFwOqvQ\" border=\"0\"></img></a> <a href=\"http://feeds.feedburner.com/~ff/entrepreneur/ebiz?a=GheNT05Ix9I:BsmMZXK430Y:TzevzKxY174\"><img src=\"http://feeds.feedburner.com/~ff/entrepreneur/ebiz?d=TzevzKxY174\" border=\"0\"></img></a>\n",
      "</div><img src=\"http://feeds.feedburner.com/~r/entrepreneur/ebiz/~4/GheNT05Ix9I\" height=\"1\" width=\"1\" alt=\"\"/>\n",
      "Element: 3,Length: 0, tag: pubDate, attrib: {}, text: Thu, 24 Oct 2019 20:30:00 GMT\n",
      "Element: 4,Length: 0, tag: {http://purl.org/dc/elements/1.1/}creator, attrib: {}, text: Tom Popomaronis\n",
      "Element: 5,Length: 0, tag: {http://purl.org/dc/elements/1.1/}language, attrib: {}, text: en\n",
      "Element: 1,Length: 0, tag: title, attrib: {}, text: 4 Video Platforms Attempting to Challenge YouTube's Dominance\n",
      "Element: 2,Length: 0, tag: description, attrib: {}, text: For independent creators unhappy with YouTube's algorithms, here's a quartet of video platform alternatives.<div class=\"feedflare\">\n",
      "<a href=\"http://feeds.feedburner.com/~ff/entrepreneur/ebiz?a=_MaatfY44xc:luQ8oOY-ucY:yIl2AUoC8zA\"><img src=\"http://feeds.feedburner.com/~ff/entrepreneur/ebiz?d=yIl2AUoC8zA\" border=\"0\"></img></a> <a href=\"http://feeds.feedburner.com/~ff/entrepreneur/ebiz?a=_MaatfY44xc:luQ8oOY-ucY:dnMXMwOfBR0\"><img src=\"http://feeds.feedburner.com/~ff/entrepreneur/ebiz?d=dnMXMwOfBR0\" border=\"0\"></img></a> <a href=\"http://feeds.feedburner.com/~ff/entrepreneur/ebiz?a=_MaatfY44xc:luQ8oOY-ucY:F7zBnMyn0Lo\"><img src=\"http://feeds.feedburner.com/~ff/entrepreneur/ebiz?i=_MaatfY44xc:luQ8oOY-ucY:F7zBnMyn0Lo\" border=\"0\"></img></a> <a href=\"http://feeds.feedburner.com/~ff/entrepreneur/ebiz?a=_MaatfY44xc:luQ8oOY-ucY:7Q72WNTAKBA\"><img src=\"http://feeds.feedburner.com/~ff/entrepreneur/ebiz?d=7Q72WNTAKBA\" border=\"0\"></img></a> <a href=\"http://feeds.feedburner.com/~ff/entrepreneur/ebiz?a=_MaatfY44xc:luQ8oOY-ucY:V_sGLiPBpWU\"><img src=\"http://feeds.feedburner.com/~ff/entrepreneur/ebiz?i=_MaatfY44xc:luQ8oOY-ucY:V_sGLiPBpWU\" border=\"0\"></img></a> <a href=\"http://feeds.feedburner.com/~ff/entrepreneur/ebiz?a=_MaatfY44xc:luQ8oOY-ucY:qj6IDK7rITs\"><img src=\"http://feeds.feedburner.com/~ff/entrepreneur/ebiz?d=qj6IDK7rITs\" border=\"0\"></img></a> <a href=\"http://feeds.feedburner.com/~ff/entrepreneur/ebiz?a=_MaatfY44xc:luQ8oOY-ucY:gIN9vFwOqvQ\"><img src=\"http://feeds.feedburner.com/~ff/entrepreneur/ebiz?i=_MaatfY44xc:luQ8oOY-ucY:gIN9vFwOqvQ\" border=\"0\"></img></a> <a href=\"http://feeds.feedburner.com/~ff/entrepreneur/ebiz?a=_MaatfY44xc:luQ8oOY-ucY:TzevzKxY174\"><img src=\"http://feeds.feedburner.com/~ff/entrepreneur/ebiz?d=TzevzKxY174\" border=\"0\"></img></a>\n",
      "</div><img src=\"http://feeds.feedburner.com/~r/entrepreneur/ebiz/~4/_MaatfY44xc\" height=\"1\" width=\"1\" alt=\"\"/>\n",
      "Element: 3,Length: 0, tag: pubDate, attrib: {}, text: Tue, 15 Oct 2019 18:01:00 GMT\n",
      "Element: 4,Length: 0, tag: {http://purl.org/dc/elements/1.1/}creator, attrib: {}, text: Jonathan Jeffery\n",
      "Element: 5,Length: 0, tag: {http://purl.org/dc/elements/1.1/}language, attrib: {}, text: en\n",
      "Element: 1,Length: 0, tag: title, attrib: {}, text: How to Make Your E-commerce Site More Trustworthy\n",
      "Element: 2,Length: 0, tag: description, attrib: {}, text: Here are some tricks to keeping customers around in the online-shopping trade.<div class=\"feedflare\">\n",
      "<a href=\"http://feeds.feedburner.com/~ff/entrepreneur/ebiz?a=MR0p7e6kfHo:ldajQ74C4lg:yIl2AUoC8zA\"><img src=\"http://feeds.feedburner.com/~ff/entrepreneur/ebiz?d=yIl2AUoC8zA\" border=\"0\"></img></a> <a href=\"http://feeds.feedburner.com/~ff/entrepreneur/ebiz?a=MR0p7e6kfHo:ldajQ74C4lg:dnMXMwOfBR0\"><img src=\"http://feeds.feedburner.com/~ff/entrepreneur/ebiz?d=dnMXMwOfBR0\" border=\"0\"></img></a> <a href=\"http://feeds.feedburner.com/~ff/entrepreneur/ebiz?a=MR0p7e6kfHo:ldajQ74C4lg:F7zBnMyn0Lo\"><img src=\"http://feeds.feedburner.com/~ff/entrepreneur/ebiz?i=MR0p7e6kfHo:ldajQ74C4lg:F7zBnMyn0Lo\" border=\"0\"></img></a> <a href=\"http://feeds.feedburner.com/~ff/entrepreneur/ebiz?a=MR0p7e6kfHo:ldajQ74C4lg:7Q72WNTAKBA\"><img src=\"http://feeds.feedburner.com/~ff/entrepreneur/ebiz?d=7Q72WNTAKBA\" border=\"0\"></img></a> <a href=\"http://feeds.feedburner.com/~ff/entrepreneur/ebiz?a=MR0p7e6kfHo:ldajQ74C4lg:V_sGLiPBpWU\"><img src=\"http://feeds.feedburner.com/~ff/entrepreneur/ebiz?i=MR0p7e6kfHo:ldajQ74C4lg:V_sGLiPBpWU\" border=\"0\"></img></a> <a href=\"http://feeds.feedburner.com/~ff/entrepreneur/ebiz?a=MR0p7e6kfHo:ldajQ74C4lg:qj6IDK7rITs\"><img src=\"http://feeds.feedburner.com/~ff/entrepreneur/ebiz?d=qj6IDK7rITs\" border=\"0\"></img></a> <a href=\"http://feeds.feedburner.com/~ff/entrepreneur/ebiz?a=MR0p7e6kfHo:ldajQ74C4lg:gIN9vFwOqvQ\"><img src=\"http://feeds.feedburner.com/~ff/entrepreneur/ebiz?i=MR0p7e6kfHo:ldajQ74C4lg:gIN9vFwOqvQ\" border=\"0\"></img></a> <a href=\"http://feeds.feedburner.com/~ff/entrepreneur/ebiz?a=MR0p7e6kfHo:ldajQ74C4lg:TzevzKxY174\"><img src=\"http://feeds.feedburner.com/~ff/entrepreneur/ebiz?d=TzevzKxY174\" border=\"0\"></img></a>\n",
      "</div><img src=\"http://feeds.feedburner.com/~r/entrepreneur/ebiz/~4/MR0p7e6kfHo\" height=\"1\" width=\"1\" alt=\"\"/>\n",
      "Element: 3,Length: 0, tag: pubDate, attrib: {}, text: Fri, 04 Oct 2019 18:15:00 GMT\n",
      "Element: 4,Length: 0, tag: {http://purl.org/dc/elements/1.1/}creator, attrib: {}, text: Syed Balkhi\n",
      "Element: 5,Length: 0, tag: {http://purl.org/dc/elements/1.1/}language, attrib: {}, text: en\n",
      "Element: 1,Length: 0, tag: title, attrib: {}, text: Danielle Bernstein of WeWoreWhat Desperately Needed a Project Management System Geared Towards Influencers, so She Raised Over $1 Million and Built It Herself. Here's How.\n",
      "Element: 2,Length: 0, tag: description, attrib: {}, text: The Instagram influencer leveraged 2.2 million Instagram followers and $1.2 million in seed funding from investors like fashion designer Rebecca Minkoff.<div class=\"feedflare\">\n",
      "<a href=\"http://feeds.feedburner.com/~ff/entrepreneur/ebiz?a=SAaznt2SUoI:TLfEsPmC9dM:yIl2AUoC8zA\"><img src=\"http://feeds.feedburner.com/~ff/entrepreneur/ebiz?d=yIl2AUoC8zA\" border=\"0\"></img></a> <a href=\"http://feeds.feedburner.com/~ff/entrepreneur/ebiz?a=SAaznt2SUoI:TLfEsPmC9dM:dnMXMwOfBR0\"><img src=\"http://feeds.feedburner.com/~ff/entrepreneur/ebiz?d=dnMXMwOfBR0\" border=\"0\"></img></a> <a href=\"http://feeds.feedburner.com/~ff/entrepreneur/ebiz?a=SAaznt2SUoI:TLfEsPmC9dM:F7zBnMyn0Lo\"><img src=\"http://feeds.feedburner.com/~ff/entrepreneur/ebiz?i=SAaznt2SUoI:TLfEsPmC9dM:F7zBnMyn0Lo\" border=\"0\"></img></a> <a href=\"http://feeds.feedburner.com/~ff/entrepreneur/ebiz?a=SAaznt2SUoI:TLfEsPmC9dM:7Q72WNTAKBA\"><img src=\"http://feeds.feedburner.com/~ff/entrepreneur/ebiz?d=7Q72WNTAKBA\" border=\"0\"></img></a> <a href=\"http://feeds.feedburner.com/~ff/entrepreneur/ebiz?a=SAaznt2SUoI:TLfEsPmC9dM:V_sGLiPBpWU\"><img src=\"http://feeds.feedburner.com/~ff/entrepreneur/ebiz?i=SAaznt2SUoI:TLfEsPmC9dM:V_sGLiPBpWU\" border=\"0\"></img></a> <a href=\"http://feeds.feedburner.com/~ff/entrepreneur/ebiz?a=SAaznt2SUoI:TLfEsPmC9dM:qj6IDK7rITs\"><img src=\"http://feeds.feedburner.com/~ff/entrepreneur/ebiz?d=qj6IDK7rITs\" border=\"0\"></img></a> <a href=\"http://feeds.feedburner.com/~ff/entrepreneur/ebiz?a=SAaznt2SUoI:TLfEsPmC9dM:gIN9vFwOqvQ\"><img src=\"http://feeds.feedburner.com/~ff/entrepreneur/ebiz?i=SAaznt2SUoI:TLfEsPmC9dM:gIN9vFwOqvQ\" border=\"0\"></img></a> <a href=\"http://feeds.feedburner.com/~ff/entrepreneur/ebiz?a=SAaznt2SUoI:TLfEsPmC9dM:TzevzKxY174\"><img src=\"http://feeds.feedburner.com/~ff/entrepreneur/ebiz?d=TzevzKxY174\" border=\"0\"></img></a>\n",
      "</div><img src=\"http://feeds.feedburner.com/~r/entrepreneur/ebiz/~4/SAaznt2SUoI\" height=\"1\" width=\"1\" alt=\"\"/>\n",
      "Element: 3,Length: 0, tag: pubDate, attrib: {}, text: Wed, 02 Oct 2019 16:27:00 GMT\n",
      "Element: 4,Length: 0, tag: {http://purl.org/dc/elements/1.1/}creator, attrib: {}, text: Hayden Field\n",
      "Element: 5,Length: 0, tag: {http://purl.org/dc/elements/1.1/}language, attrib: {}, text: en\n",
      "Element: 1,Length: 0, tag: title, attrib: {}, text: 4 Simple Web-Design Tips to Boost Conversions\n",
      "Element: 2,Length: 0, tag: description, attrib: {}, text: An attractive site is half the battle.<div class=\"feedflare\">\n",
      "<a href=\"http://feeds.feedburner.com/~ff/entrepreneur/ebiz?a=AeY5MAjQ8yY:Hlzz0-v7iKs:yIl2AUoC8zA\"><img src=\"http://feeds.feedburner.com/~ff/entrepreneur/ebiz?d=yIl2AUoC8zA\" border=\"0\"></img></a> <a href=\"http://feeds.feedburner.com/~ff/entrepreneur/ebiz?a=AeY5MAjQ8yY:Hlzz0-v7iKs:dnMXMwOfBR0\"><img src=\"http://feeds.feedburner.com/~ff/entrepreneur/ebiz?d=dnMXMwOfBR0\" border=\"0\"></img></a> <a href=\"http://feeds.feedburner.com/~ff/entrepreneur/ebiz?a=AeY5MAjQ8yY:Hlzz0-v7iKs:F7zBnMyn0Lo\"><img src=\"http://feeds.feedburner.com/~ff/entrepreneur/ebiz?i=AeY5MAjQ8yY:Hlzz0-v7iKs:F7zBnMyn0Lo\" border=\"0\"></img></a> <a href=\"http://feeds.feedburner.com/~ff/entrepreneur/ebiz?a=AeY5MAjQ8yY:Hlzz0-v7iKs:7Q72WNTAKBA\"><img src=\"http://feeds.feedburner.com/~ff/entrepreneur/ebiz?d=7Q72WNTAKBA\" border=\"0\"></img></a> <a href=\"http://feeds.feedburner.com/~ff/entrepreneur/ebiz?a=AeY5MAjQ8yY:Hlzz0-v7iKs:V_sGLiPBpWU\"><img src=\"http://feeds.feedburner.com/~ff/entrepreneur/ebiz?i=AeY5MAjQ8yY:Hlzz0-v7iKs:V_sGLiPBpWU\" border=\"0\"></img></a> <a href=\"http://feeds.feedburner.com/~ff/entrepreneur/ebiz?a=AeY5MAjQ8yY:Hlzz0-v7iKs:qj6IDK7rITs\"><img src=\"http://feeds.feedburner.com/~ff/entrepreneur/ebiz?d=qj6IDK7rITs\" border=\"0\"></img></a> <a href=\"http://feeds.feedburner.com/~ff/entrepreneur/ebiz?a=AeY5MAjQ8yY:Hlzz0-v7iKs:gIN9vFwOqvQ\"><img src=\"http://feeds.feedburner.com/~ff/entrepreneur/ebiz?i=AeY5MAjQ8yY:Hlzz0-v7iKs:gIN9vFwOqvQ\" border=\"0\"></img></a> <a href=\"http://feeds.feedburner.com/~ff/entrepreneur/ebiz?a=AeY5MAjQ8yY:Hlzz0-v7iKs:TzevzKxY174\"><img src=\"http://feeds.feedburner.com/~ff/entrepreneur/ebiz?d=TzevzKxY174\" border=\"0\"></img></a>\n",
      "</div><img src=\"http://feeds.feedburner.com/~r/entrepreneur/ebiz/~4/AeY5MAjQ8yY\" height=\"1\" width=\"1\" alt=\"\"/>\n",
      "Element: 3,Length: 0, tag: pubDate, attrib: {}, text: Mon, 30 Sep 2019 13:36:00 GMT\n",
      "Element: 4,Length: 0, tag: {http://purl.org/dc/elements/1.1/}creator, attrib: {}, text: Syed Balkhi\n",
      "Element: 5,Length: 0, tag: {http://purl.org/dc/elements/1.1/}language, attrib: {}, text: en\n",
      "Element: 1,Length: 0, tag: title, attrib: {}, text: How to Choose Your First E-Commerce Product\n",
      "Element: 2,Length: 0, tag: description, attrib: {}, text: And do it without taking too big a risk.<div class=\"feedflare\">\n",
      "<a href=\"http://feeds.feedburner.com/~ff/entrepreneur/ebiz?a=9KjOJfixWp4:KzL-L6xCgm0:yIl2AUoC8zA\"><img src=\"http://feeds.feedburner.com/~ff/entrepreneur/ebiz?d=yIl2AUoC8zA\" border=\"0\"></img></a> <a href=\"http://feeds.feedburner.com/~ff/entrepreneur/ebiz?a=9KjOJfixWp4:KzL-L6xCgm0:dnMXMwOfBR0\"><img src=\"http://feeds.feedburner.com/~ff/entrepreneur/ebiz?d=dnMXMwOfBR0\" border=\"0\"></img></a> <a href=\"http://feeds.feedburner.com/~ff/entrepreneur/ebiz?a=9KjOJfixWp4:KzL-L6xCgm0:F7zBnMyn0Lo\"><img src=\"http://feeds.feedburner.com/~ff/entrepreneur/ebiz?i=9KjOJfixWp4:KzL-L6xCgm0:F7zBnMyn0Lo\" border=\"0\"></img></a> <a href=\"http://feeds.feedburner.com/~ff/entrepreneur/ebiz?a=9KjOJfixWp4:KzL-L6xCgm0:7Q72WNTAKBA\"><img src=\"http://feeds.feedburner.com/~ff/entrepreneur/ebiz?d=7Q72WNTAKBA\" border=\"0\"></img></a> <a href=\"http://feeds.feedburner.com/~ff/entrepreneur/ebiz?a=9KjOJfixWp4:KzL-L6xCgm0:V_sGLiPBpWU\"><img src=\"http://feeds.feedburner.com/~ff/entrepreneur/ebiz?i=9KjOJfixWp4:KzL-L6xCgm0:V_sGLiPBpWU\" border=\"0\"></img></a> <a href=\"http://feeds.feedburner.com/~ff/entrepreneur/ebiz?a=9KjOJfixWp4:KzL-L6xCgm0:qj6IDK7rITs\"><img src=\"http://feeds.feedburner.com/~ff/entrepreneur/ebiz?d=qj6IDK7rITs\" border=\"0\"></img></a> <a href=\"http://feeds.feedburner.com/~ff/entrepreneur/ebiz?a=9KjOJfixWp4:KzL-L6xCgm0:gIN9vFwOqvQ\"><img src=\"http://feeds.feedburner.com/~ff/entrepreneur/ebiz?i=9KjOJfixWp4:KzL-L6xCgm0:gIN9vFwOqvQ\" border=\"0\"></img></a> <a href=\"http://feeds.feedburner.com/~ff/entrepreneur/ebiz?a=9KjOJfixWp4:KzL-L6xCgm0:TzevzKxY174\"><img src=\"http://feeds.feedburner.com/~ff/entrepreneur/ebiz?d=TzevzKxY174\" border=\"0\"></img></a>\n",
      "</div><img src=\"http://feeds.feedburner.com/~r/entrepreneur/ebiz/~4/9KjOJfixWp4\" height=\"1\" width=\"1\" alt=\"\"/>\n",
      "Element: 3,Length: 0, tag: pubDate, attrib: {}, text: Sun, 29 Sep 2019 13:00:00 GMT\n",
      "Element: 4,Length: 0, tag: {http://purl.org/dc/elements/1.1/}creator, attrib: {}, text: Aimee Tariq\n",
      "Element: 5,Length: 0, tag: {http://purl.org/dc/elements/1.1/}language, attrib: {}, text: en\n",
      "Element: 1,Length: 0, tag: title, attrib: {}, text: How Accessibility Can Make (or Break) Your Small-Business Website\n",
      "Element: 2,Length: 0, tag: description, attrib: {}, text: If you've yet to have familiarize yourself with web accessibility, now's the time to make it a priority.<div class=\"feedflare\">\n",
      "<a href=\"http://feeds.feedburner.com/~ff/entrepreneur/ebiz?a=A0HKrWBkWhw:dEOb-0APC7k:yIl2AUoC8zA\"><img src=\"http://feeds.feedburner.com/~ff/entrepreneur/ebiz?d=yIl2AUoC8zA\" border=\"0\"></img></a> <a href=\"http://feeds.feedburner.com/~ff/entrepreneur/ebiz?a=A0HKrWBkWhw:dEOb-0APC7k:dnMXMwOfBR0\"><img src=\"http://feeds.feedburner.com/~ff/entrepreneur/ebiz?d=dnMXMwOfBR0\" border=\"0\"></img></a> <a href=\"http://feeds.feedburner.com/~ff/entrepreneur/ebiz?a=A0HKrWBkWhw:dEOb-0APC7k:F7zBnMyn0Lo\"><img src=\"http://feeds.feedburner.com/~ff/entrepreneur/ebiz?i=A0HKrWBkWhw:dEOb-0APC7k:F7zBnMyn0Lo\" border=\"0\"></img></a> <a href=\"http://feeds.feedburner.com/~ff/entrepreneur/ebiz?a=A0HKrWBkWhw:dEOb-0APC7k:7Q72WNTAKBA\"><img src=\"http://feeds.feedburner.com/~ff/entrepreneur/ebiz?d=7Q72WNTAKBA\" border=\"0\"></img></a> <a href=\"http://feeds.feedburner.com/~ff/entrepreneur/ebiz?a=A0HKrWBkWhw:dEOb-0APC7k:V_sGLiPBpWU\"><img src=\"http://feeds.feedburner.com/~ff/entrepreneur/ebiz?i=A0HKrWBkWhw:dEOb-0APC7k:V_sGLiPBpWU\" border=\"0\"></img></a> <a href=\"http://feeds.feedburner.com/~ff/entrepreneur/ebiz?a=A0HKrWBkWhw:dEOb-0APC7k:qj6IDK7rITs\"><img src=\"http://feeds.feedburner.com/~ff/entrepreneur/ebiz?d=qj6IDK7rITs\" border=\"0\"></img></a> <a href=\"http://feeds.feedburner.com/~ff/entrepreneur/ebiz?a=A0HKrWBkWhw:dEOb-0APC7k:gIN9vFwOqvQ\"><img src=\"http://feeds.feedburner.com/~ff/entrepreneur/ebiz?i=A0HKrWBkWhw:dEOb-0APC7k:gIN9vFwOqvQ\" border=\"0\"></img></a> <a href=\"http://feeds.feedburner.com/~ff/entrepreneur/ebiz?a=A0HKrWBkWhw:dEOb-0APC7k:TzevzKxY174\"><img src=\"http://feeds.feedburner.com/~ff/entrepreneur/ebiz?d=TzevzKxY174\" border=\"0\"></img></a>\n",
      "</div><img src=\"http://feeds.feedburner.com/~r/entrepreneur/ebiz/~4/A0HKrWBkWhw\" height=\"1\" width=\"1\" alt=\"\"/>\n",
      "Element: 3,Length: 0, tag: pubDate, attrib: {}, text: Thu, 26 Sep 2019 14:00:00 GMT\n",
      "Element: 4,Length: 0, tag: {http://purl.org/dc/elements/1.1/}creator, attrib: {}, text: Aimee Tariq\n",
      "Element: 5,Length: 0, tag: {http://purl.org/dc/elements/1.1/}language, attrib: {}, text: en\n",
      "Element: 1,Length: 0, tag: title, attrib: {}, text: Here's Why This Bedding Company Expanded Into the Hyper-Competitive World of Online Mattresses (Podcast)\n",
      "Element: 2,Length: 0, tag: description, attrib: {}, text: Boll & Branch's married co-founders, Scott and Missy Tannen, didn't pay attention to the naysayers.<div class=\"feedflare\">\n",
      "<a href=\"http://feeds.feedburner.com/~ff/entrepreneur/ebiz?a=tOPOg0Xackg:h3owmkWhcTU:yIl2AUoC8zA\"><img src=\"http://feeds.feedburner.com/~ff/entrepreneur/ebiz?d=yIl2AUoC8zA\" border=\"0\"></img></a> <a href=\"http://feeds.feedburner.com/~ff/entrepreneur/ebiz?a=tOPOg0Xackg:h3owmkWhcTU:dnMXMwOfBR0\"><img src=\"http://feeds.feedburner.com/~ff/entrepreneur/ebiz?d=dnMXMwOfBR0\" border=\"0\"></img></a> <a href=\"http://feeds.feedburner.com/~ff/entrepreneur/ebiz?a=tOPOg0Xackg:h3owmkWhcTU:F7zBnMyn0Lo\"><img src=\"http://feeds.feedburner.com/~ff/entrepreneur/ebiz?i=tOPOg0Xackg:h3owmkWhcTU:F7zBnMyn0Lo\" border=\"0\"></img></a> <a href=\"http://feeds.feedburner.com/~ff/entrepreneur/ebiz?a=tOPOg0Xackg:h3owmkWhcTU:7Q72WNTAKBA\"><img src=\"http://feeds.feedburner.com/~ff/entrepreneur/ebiz?d=7Q72WNTAKBA\" border=\"0\"></img></a> <a href=\"http://feeds.feedburner.com/~ff/entrepreneur/ebiz?a=tOPOg0Xackg:h3owmkWhcTU:V_sGLiPBpWU\"><img src=\"http://feeds.feedburner.com/~ff/entrepreneur/ebiz?i=tOPOg0Xackg:h3owmkWhcTU:V_sGLiPBpWU\" border=\"0\"></img></a> <a href=\"http://feeds.feedburner.com/~ff/entrepreneur/ebiz?a=tOPOg0Xackg:h3owmkWhcTU:qj6IDK7rITs\"><img src=\"http://feeds.feedburner.com/~ff/entrepreneur/ebiz?d=qj6IDK7rITs\" border=\"0\"></img></a> <a href=\"http://feeds.feedburner.com/~ff/entrepreneur/ebiz?a=tOPOg0Xackg:h3owmkWhcTU:gIN9vFwOqvQ\"><img src=\"http://feeds.feedburner.com/~ff/entrepreneur/ebiz?i=tOPOg0Xackg:h3owmkWhcTU:gIN9vFwOqvQ\" border=\"0\"></img></a> <a href=\"http://feeds.feedburner.com/~ff/entrepreneur/ebiz?a=tOPOg0Xackg:h3owmkWhcTU:TzevzKxY174\"><img src=\"http://feeds.feedburner.com/~ff/entrepreneur/ebiz?d=TzevzKxY174\" border=\"0\"></img></a>\n",
      "</div><img src=\"http://feeds.feedburner.com/~r/entrepreneur/ebiz/~4/tOPOg0Xackg\" height=\"1\" width=\"1\" alt=\"\"/>\n",
      "Element: 3,Length: 0, tag: pubDate, attrib: {}, text: Thu, 29 Aug 2019 13:00:00 GMT\n",
      "Element: 4,Length: 0, tag: {http://purl.org/dc/elements/1.1/}creator, attrib: {}, text: Patrick Carone\n",
      "Element: 5,Length: 0, tag: {http://purl.org/dc/elements/1.1/}language, attrib: {}, text: en\n",
      "Element: 1,Length: 0, tag: title, attrib: {}, text: How Brands Can Use Affiliate Marketing to Increase Their Marketing ROI\n",
      "Element: 2,Length: 0, tag: description, attrib: {}, text: Marketing is essential but never cheap, so upping your ROI is the name of the game.<div class=\"feedflare\">\n",
      "<a href=\"http://feeds.feedburner.com/~ff/entrepreneur/ebiz?a=xTQ-m--vDAw:_UGKV0Q53Pg:yIl2AUoC8zA\"><img src=\"http://feeds.feedburner.com/~ff/entrepreneur/ebiz?d=yIl2AUoC8zA\" border=\"0\"></img></a> <a href=\"http://feeds.feedburner.com/~ff/entrepreneur/ebiz?a=xTQ-m--vDAw:_UGKV0Q53Pg:dnMXMwOfBR0\"><img src=\"http://feeds.feedburner.com/~ff/entrepreneur/ebiz?d=dnMXMwOfBR0\" border=\"0\"></img></a> <a href=\"http://feeds.feedburner.com/~ff/entrepreneur/ebiz?a=xTQ-m--vDAw:_UGKV0Q53Pg:F7zBnMyn0Lo\"><img src=\"http://feeds.feedburner.com/~ff/entrepreneur/ebiz?i=xTQ-m--vDAw:_UGKV0Q53Pg:F7zBnMyn0Lo\" border=\"0\"></img></a> <a href=\"http://feeds.feedburner.com/~ff/entrepreneur/ebiz?a=xTQ-m--vDAw:_UGKV0Q53Pg:7Q72WNTAKBA\"><img src=\"http://feeds.feedburner.com/~ff/entrepreneur/ebiz?d=7Q72WNTAKBA\" border=\"0\"></img></a> <a href=\"http://feeds.feedburner.com/~ff/entrepreneur/ebiz?a=xTQ-m--vDAw:_UGKV0Q53Pg:V_sGLiPBpWU\"><img src=\"http://feeds.feedburner.com/~ff/entrepreneur/ebiz?i=xTQ-m--vDAw:_UGKV0Q53Pg:V_sGLiPBpWU\" border=\"0\"></img></a> <a href=\"http://feeds.feedburner.com/~ff/entrepreneur/ebiz?a=xTQ-m--vDAw:_UGKV0Q53Pg:qj6IDK7rITs\"><img src=\"http://feeds.feedburner.com/~ff/entrepreneur/ebiz?d=qj6IDK7rITs\" border=\"0\"></img></a> <a href=\"http://feeds.feedburner.com/~ff/entrepreneur/ebiz?a=xTQ-m--vDAw:_UGKV0Q53Pg:gIN9vFwOqvQ\"><img src=\"http://feeds.feedburner.com/~ff/entrepreneur/ebiz?i=xTQ-m--vDAw:_UGKV0Q53Pg:gIN9vFwOqvQ\" border=\"0\"></img></a> <a href=\"http://feeds.feedburner.com/~ff/entrepreneur/ebiz?a=xTQ-m--vDAw:_UGKV0Q53Pg:TzevzKxY174\"><img src=\"http://feeds.feedburner.com/~ff/entrepreneur/ebiz?d=TzevzKxY174\" border=\"0\"></img></a>\n",
      "</div><img src=\"http://feeds.feedburner.com/~r/entrepreneur/ebiz/~4/xTQ-m--vDAw\" height=\"1\" width=\"1\" alt=\"\"/>\n",
      "Element: 3,Length: 0, tag: pubDate, attrib: {}, text: Tue, 04 Jun 2019 12:00:00 GMT\n",
      "Element: 4,Length: 0, tag: {http://purl.org/dc/elements/1.1/}creator, attrib: {}, text: Angela Ruth\n",
      "Element: 5,Length: 0, tag: {http://purl.org/dc/elements/1.1/}language, attrib: {}, text: en\n",
      "Element: 1,Length: 0, tag: title, attrib: {}, text: 6 Ways to Identify Profitable Products and Make Money With Your Online Store\n",
      "Element: 2,Length: 0, tag: description, attrib: {}, text: Here are some powerful tactics to build and grow a successful online shopping business.<div class=\"feedflare\">\n",
      "<a href=\"http://feeds.feedburner.com/~ff/entrepreneur/ebiz?a=-2FT_mD4obA:BKUrVCT_qwo:yIl2AUoC8zA\"><img src=\"http://feeds.feedburner.com/~ff/entrepreneur/ebiz?d=yIl2AUoC8zA\" border=\"0\"></img></a> <a href=\"http://feeds.feedburner.com/~ff/entrepreneur/ebiz?a=-2FT_mD4obA:BKUrVCT_qwo:dnMXMwOfBR0\"><img src=\"http://feeds.feedburner.com/~ff/entrepreneur/ebiz?d=dnMXMwOfBR0\" border=\"0\"></img></a> <a href=\"http://feeds.feedburner.com/~ff/entrepreneur/ebiz?a=-2FT_mD4obA:BKUrVCT_qwo:F7zBnMyn0Lo\"><img src=\"http://feeds.feedburner.com/~ff/entrepreneur/ebiz?i=-2FT_mD4obA:BKUrVCT_qwo:F7zBnMyn0Lo\" border=\"0\"></img></a> <a href=\"http://feeds.feedburner.com/~ff/entrepreneur/ebiz?a=-2FT_mD4obA:BKUrVCT_qwo:7Q72WNTAKBA\"><img src=\"http://feeds.feedburner.com/~ff/entrepreneur/ebiz?d=7Q72WNTAKBA\" border=\"0\"></img></a> <a href=\"http://feeds.feedburner.com/~ff/entrepreneur/ebiz?a=-2FT_mD4obA:BKUrVCT_qwo:V_sGLiPBpWU\"><img src=\"http://feeds.feedburner.com/~ff/entrepreneur/ebiz?i=-2FT_mD4obA:BKUrVCT_qwo:V_sGLiPBpWU\" border=\"0\"></img></a> <a href=\"http://feeds.feedburner.com/~ff/entrepreneur/ebiz?a=-2FT_mD4obA:BKUrVCT_qwo:qj6IDK7rITs\"><img src=\"http://feeds.feedburner.com/~ff/entrepreneur/ebiz?d=qj6IDK7rITs\" border=\"0\"></img></a> <a href=\"http://feeds.feedburner.com/~ff/entrepreneur/ebiz?a=-2FT_mD4obA:BKUrVCT_qwo:gIN9vFwOqvQ\"><img src=\"http://feeds.feedburner.com/~ff/entrepreneur/ebiz?i=-2FT_mD4obA:BKUrVCT_qwo:gIN9vFwOqvQ\" border=\"0\"></img></a> <a href=\"http://feeds.feedburner.com/~ff/entrepreneur/ebiz?a=-2FT_mD4obA:BKUrVCT_qwo:TzevzKxY174\"><img src=\"http://feeds.feedburner.com/~ff/entrepreneur/ebiz?d=TzevzKxY174\" border=\"0\"></img></a>\n",
      "</div><img src=\"http://feeds.feedburner.com/~r/entrepreneur/ebiz/~4/-2FT_mD4obA\" height=\"1\" width=\"1\" alt=\"\"/>\n",
      "Element: 3,Length: 0, tag: pubDate, attrib: {}, text: Fri, 17 May 2019 14:50:00 GMT\n",
      "Element: 4,Length: 0, tag: {http://purl.org/dc/elements/1.1/}creator, attrib: {}, text: Imran Tariq\n",
      "Element: 5,Length: 0, tag: {http://purl.org/dc/elements/1.1/}language, attrib: {}, text: en\n",
      "Element: 1,Length: 0, tag: title, attrib: {}, text: Rafael Romis Says This Is the No. 1 Mistake That Online Businesses Make\n",
      "Element: 2,Length: 0, tag: description, attrib: {}, text: It's all about the 'Unicorn Principle.'<div class=\"feedflare\">\n",
      "<a href=\"http://feeds.feedburner.com/~ff/entrepreneur/ebiz?a=V9qhu6rl-Qg:pkIhpO-Z0FE:yIl2AUoC8zA\"><img src=\"http://feeds.feedburner.com/~ff/entrepreneur/ebiz?d=yIl2AUoC8zA\" border=\"0\"></img></a> <a href=\"http://feeds.feedburner.com/~ff/entrepreneur/ebiz?a=V9qhu6rl-Qg:pkIhpO-Z0FE:dnMXMwOfBR0\"><img src=\"http://feeds.feedburner.com/~ff/entrepreneur/ebiz?d=dnMXMwOfBR0\" border=\"0\"></img></a> <a href=\"http://feeds.feedburner.com/~ff/entrepreneur/ebiz?a=V9qhu6rl-Qg:pkIhpO-Z0FE:F7zBnMyn0Lo\"><img src=\"http://feeds.feedburner.com/~ff/entrepreneur/ebiz?i=V9qhu6rl-Qg:pkIhpO-Z0FE:F7zBnMyn0Lo\" border=\"0\"></img></a> <a href=\"http://feeds.feedburner.com/~ff/entrepreneur/ebiz?a=V9qhu6rl-Qg:pkIhpO-Z0FE:7Q72WNTAKBA\"><img src=\"http://feeds.feedburner.com/~ff/entrepreneur/ebiz?d=7Q72WNTAKBA\" border=\"0\"></img></a> <a href=\"http://feeds.feedburner.com/~ff/entrepreneur/ebiz?a=V9qhu6rl-Qg:pkIhpO-Z0FE:V_sGLiPBpWU\"><img src=\"http://feeds.feedburner.com/~ff/entrepreneur/ebiz?i=V9qhu6rl-Qg:pkIhpO-Z0FE:V_sGLiPBpWU\" border=\"0\"></img></a> <a href=\"http://feeds.feedburner.com/~ff/entrepreneur/ebiz?a=V9qhu6rl-Qg:pkIhpO-Z0FE:qj6IDK7rITs\"><img src=\"http://feeds.feedburner.com/~ff/entrepreneur/ebiz?d=qj6IDK7rITs\" border=\"0\"></img></a> <a href=\"http://feeds.feedburner.com/~ff/entrepreneur/ebiz?a=V9qhu6rl-Qg:pkIhpO-Z0FE:gIN9vFwOqvQ\"><img src=\"http://feeds.feedburner.com/~ff/entrepreneur/ebiz?i=V9qhu6rl-Qg:pkIhpO-Z0FE:gIN9vFwOqvQ\" border=\"0\"></img></a> <a href=\"http://feeds.feedburner.com/~ff/entrepreneur/ebiz?a=V9qhu6rl-Qg:pkIhpO-Z0FE:TzevzKxY174\"><img src=\"http://feeds.feedburner.com/~ff/entrepreneur/ebiz?d=TzevzKxY174\" border=\"0\"></img></a>\n",
      "</div><img src=\"http://feeds.feedburner.com/~r/entrepreneur/ebiz/~4/V9qhu6rl-Qg\" height=\"1\" width=\"1\" alt=\"\"/>\n",
      "Element: 3,Length: 0, tag: pubDate, attrib: {}, text: Wed, 08 May 2019 18:00:00 GMT\n",
      "Element: 4,Length: 0, tag: {http://purl.org/dc/elements/1.1/}creator, attrib: {}, text: The Oracles\n",
      "Element: 5,Length: 0, tag: {http://purl.org/dc/elements/1.1/}language, attrib: {}, text: en\n",
      "**************************************************\n",
      "Titles\n",
      "**************************************************\n",
      "Entrepreneur: Online Business\n",
      "Entrepreneur.com\n",
      "5 Tips to Keep Your Website Secure in 2020\n",
      "7 Steps to Starting a Small Business Online\n",
      "How to Give People What They Want Online\n",
      "Can AI Save Kids? A Former California Entrepreneur of the Year Says Yes\n",
      "**************************************************\n"
     ]
    }
   ],
   "source": [
    "for ix,child in enumerate(root):\n",
    "    # Take a look on the tree structure from root to grandchild\n",
    "    print('*'*50)\n",
    "    print('Parents and Child')\n",
    "    print('*'*50)\n",
    "    if ix < 5:\n",
    "        print('Child: {},Length: {}, tag: {}, attrib: {}, text: {}'.format(ix+1,len(child),child.tag,child.attrib,child.text))\n",
    "        for idx,grandchild in enumerate(child):\n",
    "            if idx < 5:\n",
    "                print('Grandchild: {},Length: {}, tag: {}, attrib: {}, text: {}'.format(idx+1,len(grandchild),grandchild.tag,grandchild.attrib,grandchild.text))\n",
    "    # Grab all the items from the child and print the result\n",
    "        print('*'*50)\n",
    "        print('Items')\n",
    "        print('*'*50)\n",
    "        itemlist = child.findall('item')\n",
    "        for ix1,item in enumerate(itemlist):\n",
    "            if ix1 <5:\n",
    "                print('Item: {},Length: {}, tag: {}, attrib: {}, text: {}'.format(ix1+1,len(item),item.tag,item.attrib,item.text))\n",
    "            for idx1,element in enumerate(item):\n",
    "                if idx1 < 5:\n",
    "                    print('Element: {},Length: {}, tag: {}, attrib: {}, text: {}'.format(idx1+1,len(element),element.tag,element.attrib,element.text))\n",
    "    # Grab all the titles from the root and print the result\n",
    "        print('*'*50)\n",
    "        print('Titles')\n",
    "        print('*'*50)\n",
    "        alltitles = root.findall('.//title')\n",
    "        for title in alltitles[:6]:\n",
    "            print(title.text)\n",
    "        print('*'*50)"
   ]
  },
  {
   "cell_type": "code",
   "execution_count": null,
   "metadata": {},
   "outputs": [],
   "source": []
  }
 ],
 "metadata": {
  "kernelspec": {
   "display_name": "Python 3",
   "language": "python",
   "name": "python3"
  },
  "language_info": {
   "codemirror_mode": {
    "name": "ipython",
    "version": 3
   },
   "file_extension": ".py",
   "mimetype": "text/x-python",
   "name": "python",
   "nbconvert_exporter": "python",
   "pygments_lexer": "ipython3",
   "version": "3.7.3"
  }
 },
 "nbformat": 4,
 "nbformat_minor": 2
}
