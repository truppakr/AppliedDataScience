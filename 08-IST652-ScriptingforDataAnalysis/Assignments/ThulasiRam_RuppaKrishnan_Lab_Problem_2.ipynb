{
 "cells": [
  {
   "cell_type": "markdown",
   "metadata": {},
   "source": [
    "# ThulasiRam_RuppaKrishnan_Lab_Problem_2"
   ]
  },
  {
   "cell_type": "markdown",
   "metadata": {},
   "source": [
    "### Dictionaries: You may wish to write the code for parts a–d in one Python file.\n",
    "### Consider the following two dictionaries:\n",
    "\n",
    "stock = {\"banana\": 6, \"apple\": 0, \"orange\": 32, \"pear\": 15}\n",
    "\n",
    "prices = {\"banana\": 4, \"apple\": 2, \"orange\": 1.5, \"pear\": 3}\n",
    "\n",
    "a. Show the expression that gets the value of the stock dictionary at the key ‘orange’.\n",
    "Show a statement that adds an item to the stock dictionary called ‘cherry’ with some integer\n",
    "value and that adds ‘cherry’ to the prices dictionary with a numeric value. (Or pick your own\n",
    "fruit name.)\n",
    "\n",
    "b. Write the code for a loop that iterates over the stock dictionary and prints each key and value.\n",
    "\n",
    "c. Suppose that we have a list:\n",
    "groceries = [‘apple’, ‘banana’, ‘pear’]\n",
    "Write the code that will sum the total number in stock of the items in the groceries list.\n",
    "\n",
    "\n",
    "d. Write the code that can print out the total value in stock of all the items. This program can\n",
    "iterate over the stock dictionary and for each item multiply the number in stock times the price of\n",
    "that item in the prices dictionary. (This can include the items for ‘cherry’ or not, as you choose.)"
   ]
  },
  {
   "cell_type": "markdown",
   "metadata": {},
   "source": [
    "## Solution"
   ]
  },
  {
   "cell_type": "markdown",
   "metadata": {},
   "source": [
    "### a."
   ]
  },
  {
   "cell_type": "code",
   "execution_count": 18,
   "metadata": {},
   "outputs": [
    {
     "name": "stdout",
     "output_type": "stream",
     "text": [
      "32\n",
      "{'banana': 6, 'apple': 0, 'orange': 32, 'pear': 15, 'cherry': 10}\n",
      "{'banana': 4, 'apple': 2, 'orange': 1.5, 'pear': 3, 'cherry': 3.5}\n"
     ]
    }
   ],
   "source": [
    "stock = {\"banana\": 6, \"apple\": 0, \"orange\": 32, \"pear\": 15}\n",
    "prices = {\"banana\": 4, \"apple\": 2, \"orange\": 1.5, \"pear\": 3}\n",
    "\n",
    "#  value of the stock dictionary at the key ‘orange’\n",
    "print(stock['orange'])\n",
    "\n",
    "# adds an item to the stock dictionary called ‘cherry’\n",
    "stock['cherry']=10\n",
    "# adds ‘cherry’ to the prices dictionary with a numeric value.\n",
    "prices['cherry']=3.5\n",
    "\n",
    "# Display stock and prices dictionary\n",
    "print(stock)\n",
    "print(prices)"
   ]
  },
  {
   "cell_type": "markdown",
   "metadata": {},
   "source": [
    "### b."
   ]
  },
  {
   "cell_type": "code",
   "execution_count": 6,
   "metadata": {},
   "outputs": [
    {
     "name": "stdout",
     "output_type": "stream",
     "text": [
      "banana 6\n",
      "apple 0\n",
      "orange 32\n",
      "pear 15\n",
      "cherry 10\n"
     ]
    }
   ],
   "source": [
    "for key,value in stock.items():\n",
    "    print (key,value)"
   ]
  },
  {
   "cell_type": "markdown",
   "metadata": {},
   "source": [
    "### c."
   ]
  },
  {
   "cell_type": "code",
   "execution_count": 10,
   "metadata": {},
   "outputs": [
    {
     "name": "stdout",
     "output_type": "stream",
     "text": [
      "Total number of stocks from groceries are 21\n"
     ]
    }
   ],
   "source": [
    "groceries = ['apple', 'banana', 'pear']\n",
    "\n",
    "stock_sum=0\n",
    "for grocery in groceries:\n",
    "    stock_sum=stock_sum+stock[grocery]\n",
    "\n",
    "print('Total number of stocks from groceries are {}'.format(stock_sum))"
   ]
  },
  {
   "cell_type": "markdown",
   "metadata": {},
   "source": [
    "### d."
   ]
  },
  {
   "cell_type": "code",
   "execution_count": 24,
   "metadata": {},
   "outputs": [
    {
     "name": "stdout",
     "output_type": "stream",
     "text": [
      "('banana', 6) ('banana', 4)\n",
      "('apple', 0) ('apple', 2)\n",
      "('orange', 32) ('orange', 1.5)\n",
      "('pear', 15) ('pear', 3)\n",
      "('cherry', 10) ('cherry', 3.5)\n",
      "\n",
      "total value in stock of all the items: 152.0\n"
     ]
    }
   ],
   "source": [
    "for inventory,price in zip(stock.items(),prices.items()):\n",
    "    print(inventory,price)\n",
    "\n",
    "value=0\n",
    "for inventory,price in zip(stock.items(),prices.items()):\n",
    "    value=value+inventory[1]*price[1]\n",
    "print('\\nTotal value in stock of all the items: {}'.format(value))"
   ]
  },
  {
   "cell_type": "code",
   "execution_count": null,
   "metadata": {},
   "outputs": [],
   "source": []
  }
 ],
 "metadata": {
  "kernelspec": {
   "display_name": "Python 3",
   "language": "python",
   "name": "python3"
  },
  "language_info": {
   "codemirror_mode": {
    "name": "ipython",
    "version": 3
   },
   "file_extension": ".py",
   "mimetype": "text/x-python",
   "name": "python",
   "nbconvert_exporter": "python",
   "pygments_lexer": "ipython3",
   "version": "3.7.3"
  }
 },
 "nbformat": 4,
 "nbformat_minor": 2
}
