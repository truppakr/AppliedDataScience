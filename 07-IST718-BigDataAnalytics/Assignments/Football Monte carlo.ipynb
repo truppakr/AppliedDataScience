{
 "cells": [
  {
   "cell_type": "code",
   "execution_count": 7,
   "metadata": {},
   "outputs": [
    {
     "name": "stdout",
     "output_type": "stream",
     "text": [
      "Calculating chances for Middlesbrough\n",
      "Iteration #50000: 0.1109\n",
      "Iteration #100000: 0.11002\n",
      "Iteration #150000: 0.11087333333333334\n",
      "======================\n",
      "======= FINAL ========\n",
      "======================\n",
      "Iteration #150000: 0.11087333333333334\n",
      "Calculating chances for Sunderland\n",
      "Iteration #50000: 0.44698\n",
      "Iteration #100000: 0.44741\n",
      "Iteration #150000: 0.44870666666666664\n",
      "======================\n",
      "======= FINAL ========\n",
      "======================\n",
      "Iteration #150000: 0.44870666666666664\n"
     ]
    },
    {
     "data": {
      "text/plain": [
       "0.44870666666666664"
      ]
     },
     "execution_count": 7,
     "metadata": {},
     "output_type": "execute_result"
    }
   ],
   "source": [
    "from random import random\n",
    "\n",
    "class montecarlo:\n",
    "    def __init__(self, func, setup=None, teardown=None):\n",
    "        self.func = func\n",
    "        self.setup = setup\n",
    "        self.teardown = teardown\n",
    "\n",
    "    @staticmethod\n",
    "    def probability(success, iterations):\n",
    "        return float(success)/iterations\n",
    "\n",
    "    @staticmethod\n",
    "    def print_results(success, iterations, final=False):\n",
    "        if final:\n",
    "            print('======================')\n",
    "            print('======= FINAL ========')\n",
    "            print('======================')\n",
    "        print('Iteration #' + str(iterations) + ': ' + str(montecarlo.probability(success, iterations)))\n",
    "\n",
    "    def run(self, iterations=1000000, print_every=10000):\n",
    "        g = {}\n",
    "        if self.setup is not None:\n",
    "            g = self.setup()\n",
    "\n",
    "        success = 0\n",
    "        for i in range(1, iterations+1):\n",
    "            if self.func(g):\n",
    "                success += 1\n",
    "            if (i % print_every == 0):\n",
    "                self.print_results(success, i)\n",
    "        self.print_results(success, iterations, final=True)\n",
    "\n",
    "        if self.teardown is not None:\n",
    "            self.teardown()\n",
    "\n",
    "        return self.probability(success, iterations)\n",
    "\n",
    "#This is the function to calculate the final points\n",
    "#Generally 37 points is the survival minimum\n",
    "\n",
    "def final_points(g):\n",
    "    '''\n",
    "    Pass a dictionary with the values needed for the simulation\n",
    "    '''\n",
    "    points=g['points']\n",
    "    for n in range(0,g['games']):\n",
    "        result=random()\n",
    "        if result <= g['winpct']:\n",
    "            points += 3\n",
    "        elif result <= g['drawpct']+g['winpct']:\n",
    "            points += 1\n",
    "    if points > 37:\n",
    "        return True\n",
    "    else:\n",
    "        return False\n",
    "\n",
    "#Setup the array for Middlebrough\n",
    "def setup_vals_boro():\n",
    "    return {'team':'Middlesbrough','points':25,'games':10,'winpct':0.15,'drawpct':0.4}\n",
    "\n",
    "#Setup the array for Sunderland\n",
    "def setup_vals_sund():\n",
    "    return {'team':'Sunderland','points':23,'games':10,'winpct':0.4,'drawpct':0.2}\n",
    "\n",
    "\n",
    "def output_result(success, iterations, final=False):\n",
    "    if final:\n",
    "        print(\"After {} Iterations chance of reaching 37 points {:3.2F}% \".format(iterations,montecarlo.probability(success, iterations)*100.0))\n",
    "        \n",
    "mc = montecarlo(final_points,setup=setup_vals_boro)\n",
    "print(\"Calculating chances for Middlesbrough\")\n",
    "mc.run(iterations=150000,print_every=50000)\n",
    "\n",
    "mc = montecarlo(final_points,setup=setup_vals_sund)\n",
    "print(\"Calculating chances for Sunderland\")\n",
    "mc.run(iterations=150000,print_every=50000)"
   ]
  },
  {
   "cell_type": "code",
   "execution_count": null,
   "metadata": {
    "collapsed": true
   },
   "outputs": [],
   "source": []
  }
 ],
 "metadata": {
  "kernelspec": {
   "display_name": "Python 3",
   "language": "python",
   "name": "python3"
  },
  "language_info": {
   "codemirror_mode": {
    "name": "ipython",
    "version": 3
   },
   "file_extension": ".py",
   "mimetype": "text/x-python",
   "name": "python",
   "nbconvert_exporter": "python",
   "pygments_lexer": "ipython3",
   "version": "3.7.3"
  }
 },
 "nbformat": 4,
 "nbformat_minor": 2
}
