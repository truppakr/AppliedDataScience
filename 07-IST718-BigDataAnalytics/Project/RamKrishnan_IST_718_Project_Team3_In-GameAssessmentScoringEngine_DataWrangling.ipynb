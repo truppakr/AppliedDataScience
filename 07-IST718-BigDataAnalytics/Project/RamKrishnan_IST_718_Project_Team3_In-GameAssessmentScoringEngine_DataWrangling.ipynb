{
 "cells": [
  {
   "cell_type": "markdown",
   "metadata": {},
   "source": [
    "# <center>IST-718 Final Project</center>\n",
    "# <center>In-Game Assessment Scoring Engine</center>"
   ]
  },
  {
   "cell_type": "markdown",
   "metadata": {},
   "source": [
    "### Prepared By \n",
    "#### Jagannathan Govindan <br> Jason Min-Liang Kang <br> Ram Krishnan <br> Steve DeVito "
   ]
  },
  {
   "cell_type": "markdown",
   "metadata": {},
   "source": [
    "## Introduction"
   ]
  },
  {
   "cell_type": "markdown",
   "metadata": {},
   "source": [
    "#### PBS Kids is the brand for most of the children's programming aired by the Public Broadcasting Service (PBS) in the United States. PBS produces curriculum-based entertainment for children. PBS KIDS leverages the full spectrum of media and technology to build knowledge, critical thinking, imagination and curiosity. By involving parents, teachers, caregivers and communities as learning partners, PBS KIDS helps to empower children for success in school and in life.\n"
   ]
  },
  {
   "cell_type": "markdown",
   "metadata": {},
   "source": [
    "## Data Munging"
   ]
  },
  {
   "cell_type": "markdown",
   "metadata": {},
   "source": [
    "### About the Data"
   ]
  },
  {
   "cell_type": "code",
   "execution_count": 1,
   "metadata": {},
   "outputs": [],
   "source": [
    "import pandas as pd\n",
    "import numpy as np\n",
    "import json as js\n",
    "import matplotlib.pyplot as plt  # 2D plotting\n",
    "import seaborn as sns  # PROVIDES TRELLIS AND SMALL MULTIPLE PLOTTING\n",
    "import json\n",
    "import glob\n",
    "import os"
   ]
  },
  {
   "cell_type": "markdown",
   "metadata": {},
   "source": [
    "### Get the training dataset for analysis and view the top 5 rows"
   ]
  },
  {
   "cell_type": "code",
   "execution_count": 27,
   "metadata": {},
   "outputs": [],
   "source": [
    "filename='train.csv'"
   ]
  },
  {
   "cell_type": "code",
   "execution_count": 3,
   "metadata": {},
   "outputs": [
    {
     "name": "stdout",
     "output_type": "stream",
     "text": [
      "event_id,game_session,timestamp,event_data,installation_id,event_count,event_code,game_time,title,type,world\n",
      "\n",
      "27253bdc,45bb1e1b6b50c07b,2019-09-06T17:53:46.937Z,\"{\"\"event_code\"\": 2000, \"\"event_count\"\": 1}\",0001e90f,1,2000,0,Welcome to Lost Lagoon!,Clip,NONE\n",
      "\n",
      "27253bdc,17eeb7f223665f53,2019-09-06T17:54:17.519Z,\"{\"\"event_code\"\": 2000, \"\"event_count\"\": 1}\",0001e90f,1,2000,0,Magma Peak - Level 1,Clip,MAGMAPEAK\n",
      "\n",
      "77261ab5,0848ef14a8dc6892,2019-09-06T17:54:56.302Z,\"{\"\"version\"\":\"\"1.0\"\",\"\"event_count\"\":1,\"\"game_time\"\":0,\"\"event_code\"\":2000}\",0001e90f,1,2000,0,Sandcastle Builder (Activity),Activity,MAGMAPEAK\n",
      "\n",
      "b2dba42b,0848ef14a8dc6892,2019-09-06T17:54:56.387Z,\"{\"\"description\"\":\"\"Let's build a sandcastle! First, fill up your mold with sand! You can use the shovel here. The mold gives the sand its shape!\"\",\"\"identifier\"\":\"\"Dot_LetsSandcastle,Dot_FillMold,Dot_MoldShape\"\",\"\"media_type\"\":\"\"audio\"\",\"\"total_duration\"\":6758,\"\"event_count\"\":2,\"\"game_time\"\":53,\"\"event_code\"\":3010}\",0001e90f,2,3010,53,Sandcastle Builder (Activity),Activity,MAGMAPEAK\n",
      "\n",
      "1bb5fbdb,0848ef14a8dc6892,2019-09-06T17:55:03.253Z,\"{\"\"description\"\":\"\"Let's build a sandcastle! First, fill up your mold with sand! You can use the shovel here. The mold gives the sand its shape!\"\",\"\"identifier\"\":\"\"Dot_LetsSandcastle,Dot_FillMold,Dot_MoldShape\"\",\"\"media_type\"\":\"\"audio\"\",\"\"duration\"\":6919,\"\"event_count\"\":3,\"\"game_time\"\":6972,\"\"event_code\"\":3110}\",0001e90f,3,3110,6972,Sandcastle Builder (Activity),Activity,MAGMAPEAK\n",
      "\n"
     ]
    }
   ],
   "source": [
    "with open(filename,'r') as file_handler:\n",
    "    file =file_handler.readlines()\n",
    "    i=0\n",
    "    for line in file:\n",
    "        print(line)\n",
    "        if i==5:\n",
    "            break\n",
    "        i+=1"
   ]
  },
  {
   "cell_type": "markdown",
   "metadata": {},
   "source": [
    "### Read the complete trainging dataset as a dataframe"
   ]
  },
  {
   "cell_type": "code",
   "execution_count": 28,
   "metadata": {},
   "outputs": [],
   "source": [
    "df_train = pd.read_csv(filename)"
   ]
  },
  {
   "cell_type": "code",
   "execution_count": 29,
   "metadata": {
    "scrolled": true
   },
   "outputs": [
    {
     "data": {
      "text/html": [
       "<div>\n",
       "<style scoped>\n",
       "    .dataframe tbody tr th:only-of-type {\n",
       "        vertical-align: middle;\n",
       "    }\n",
       "\n",
       "    .dataframe tbody tr th {\n",
       "        vertical-align: top;\n",
       "    }\n",
       "\n",
       "    .dataframe thead th {\n",
       "        text-align: right;\n",
       "    }\n",
       "</style>\n",
       "<table border=\"1\" class=\"dataframe\">\n",
       "  <thead>\n",
       "    <tr style=\"text-align: right;\">\n",
       "      <th></th>\n",
       "      <th>event_id</th>\n",
       "      <th>game_session</th>\n",
       "      <th>timestamp</th>\n",
       "      <th>event_data</th>\n",
       "      <th>installation_id</th>\n",
       "      <th>event_count</th>\n",
       "      <th>event_code</th>\n",
       "      <th>game_time</th>\n",
       "      <th>title</th>\n",
       "      <th>type</th>\n",
       "      <th>world</th>\n",
       "    </tr>\n",
       "  </thead>\n",
       "  <tbody>\n",
       "    <tr>\n",
       "      <td>0</td>\n",
       "      <td>27253bdc</td>\n",
       "      <td>45bb1e1b6b50c07b</td>\n",
       "      <td>2019-09-06T17:53:46.937Z</td>\n",
       "      <td>{\"event_code\": 2000, \"event_count\": 1}</td>\n",
       "      <td>0001e90f</td>\n",
       "      <td>1</td>\n",
       "      <td>2000</td>\n",
       "      <td>0</td>\n",
       "      <td>Welcome to Lost Lagoon!</td>\n",
       "      <td>Clip</td>\n",
       "      <td>NONE</td>\n",
       "    </tr>\n",
       "    <tr>\n",
       "      <td>1</td>\n",
       "      <td>27253bdc</td>\n",
       "      <td>17eeb7f223665f53</td>\n",
       "      <td>2019-09-06T17:54:17.519Z</td>\n",
       "      <td>{\"event_code\": 2000, \"event_count\": 1}</td>\n",
       "      <td>0001e90f</td>\n",
       "      <td>1</td>\n",
       "      <td>2000</td>\n",
       "      <td>0</td>\n",
       "      <td>Magma Peak - Level 1</td>\n",
       "      <td>Clip</td>\n",
       "      <td>MAGMAPEAK</td>\n",
       "    </tr>\n",
       "    <tr>\n",
       "      <td>2</td>\n",
       "      <td>77261ab5</td>\n",
       "      <td>0848ef14a8dc6892</td>\n",
       "      <td>2019-09-06T17:54:56.302Z</td>\n",
       "      <td>{\"version\":\"1.0\",\"event_count\":1,\"game_time\":0...</td>\n",
       "      <td>0001e90f</td>\n",
       "      <td>1</td>\n",
       "      <td>2000</td>\n",
       "      <td>0</td>\n",
       "      <td>Sandcastle Builder (Activity)</td>\n",
       "      <td>Activity</td>\n",
       "      <td>MAGMAPEAK</td>\n",
       "    </tr>\n",
       "    <tr>\n",
       "      <td>3</td>\n",
       "      <td>b2dba42b</td>\n",
       "      <td>0848ef14a8dc6892</td>\n",
       "      <td>2019-09-06T17:54:56.387Z</td>\n",
       "      <td>{\"description\":\"Let's build a sandcastle! Firs...</td>\n",
       "      <td>0001e90f</td>\n",
       "      <td>2</td>\n",
       "      <td>3010</td>\n",
       "      <td>53</td>\n",
       "      <td>Sandcastle Builder (Activity)</td>\n",
       "      <td>Activity</td>\n",
       "      <td>MAGMAPEAK</td>\n",
       "    </tr>\n",
       "    <tr>\n",
       "      <td>4</td>\n",
       "      <td>1bb5fbdb</td>\n",
       "      <td>0848ef14a8dc6892</td>\n",
       "      <td>2019-09-06T17:55:03.253Z</td>\n",
       "      <td>{\"description\":\"Let's build a sandcastle! Firs...</td>\n",
       "      <td>0001e90f</td>\n",
       "      <td>3</td>\n",
       "      <td>3110</td>\n",
       "      <td>6972</td>\n",
       "      <td>Sandcastle Builder (Activity)</td>\n",
       "      <td>Activity</td>\n",
       "      <td>MAGMAPEAK</td>\n",
       "    </tr>\n",
       "  </tbody>\n",
       "</table>\n",
       "</div>"
      ],
      "text/plain": [
       "   event_id      game_session                 timestamp  \\\n",
       "0  27253bdc  45bb1e1b6b50c07b  2019-09-06T17:53:46.937Z   \n",
       "1  27253bdc  17eeb7f223665f53  2019-09-06T17:54:17.519Z   \n",
       "2  77261ab5  0848ef14a8dc6892  2019-09-06T17:54:56.302Z   \n",
       "3  b2dba42b  0848ef14a8dc6892  2019-09-06T17:54:56.387Z   \n",
       "4  1bb5fbdb  0848ef14a8dc6892  2019-09-06T17:55:03.253Z   \n",
       "\n",
       "                                          event_data installation_id  \\\n",
       "0             {\"event_code\": 2000, \"event_count\": 1}        0001e90f   \n",
       "1             {\"event_code\": 2000, \"event_count\": 1}        0001e90f   \n",
       "2  {\"version\":\"1.0\",\"event_count\":1,\"game_time\":0...        0001e90f   \n",
       "3  {\"description\":\"Let's build a sandcastle! Firs...        0001e90f   \n",
       "4  {\"description\":\"Let's build a sandcastle! Firs...        0001e90f   \n",
       "\n",
       "   event_count  event_code  game_time                          title  \\\n",
       "0            1        2000          0        Welcome to Lost Lagoon!   \n",
       "1            1        2000          0           Magma Peak - Level 1   \n",
       "2            1        2000          0  Sandcastle Builder (Activity)   \n",
       "3            2        3010         53  Sandcastle Builder (Activity)   \n",
       "4            3        3110       6972  Sandcastle Builder (Activity)   \n",
       "\n",
       "       type      world  \n",
       "0      Clip       NONE  \n",
       "1      Clip  MAGMAPEAK  \n",
       "2  Activity  MAGMAPEAK  \n",
       "3  Activity  MAGMAPEAK  \n",
       "4  Activity  MAGMAPEAK  "
      ]
     },
     "execution_count": 29,
     "metadata": {},
     "output_type": "execute_result"
    }
   ],
   "source": [
    "df_train.head()"
   ]
  },
  {
   "cell_type": "markdown",
   "metadata": {},
   "source": [
    "### This training dataset is very large and has more than 11 million records"
   ]
  },
  {
   "cell_type": "code",
   "execution_count": 30,
   "metadata": {},
   "outputs": [
    {
     "data": {
      "text/plain": [
       "(11341042, 11)"
      ]
     },
     "execution_count": 30,
     "metadata": {},
     "output_type": "execute_result"
    }
   ],
   "source": [
    "df_train.shape"
   ]
  },
  {
   "cell_type": "markdown",
   "metadata": {},
   "source": [
    "### Now read the training label "
   ]
  },
  {
   "cell_type": "code",
   "execution_count": 40,
   "metadata": {},
   "outputs": [
    {
     "data": {
      "text/plain": [
       "(17690, 7)"
      ]
     },
     "execution_count": 40,
     "metadata": {},
     "output_type": "execute_result"
    }
   ],
   "source": [
    "train_label_file='train_labels.csv'\n",
    "train_label=pd.read_csv(train_label_file)\n",
    "train_label.shape"
   ]
  },
  {
   "cell_type": "code",
   "execution_count": 42,
   "metadata": {},
   "outputs": [
    {
     "data": {
      "text/html": [
       "<div>\n",
       "<style scoped>\n",
       "    .dataframe tbody tr th:only-of-type {\n",
       "        vertical-align: middle;\n",
       "    }\n",
       "\n",
       "    .dataframe tbody tr th {\n",
       "        vertical-align: top;\n",
       "    }\n",
       "\n",
       "    .dataframe thead th {\n",
       "        text-align: right;\n",
       "    }\n",
       "</style>\n",
       "<table border=\"1\" class=\"dataframe\">\n",
       "  <thead>\n",
       "    <tr style=\"text-align: right;\">\n",
       "      <th></th>\n",
       "      <th>game_session</th>\n",
       "      <th>installation_id</th>\n",
       "      <th>title</th>\n",
       "      <th>num_correct</th>\n",
       "      <th>num_incorrect</th>\n",
       "      <th>accuracy</th>\n",
       "      <th>accuracy_group</th>\n",
       "    </tr>\n",
       "  </thead>\n",
       "  <tbody>\n",
       "    <tr>\n",
       "      <td>0</td>\n",
       "      <td>6bdf9623adc94d89</td>\n",
       "      <td>0006a69f</td>\n",
       "      <td>Mushroom Sorter (Assessment)</td>\n",
       "      <td>1</td>\n",
       "      <td>0</td>\n",
       "      <td>1.0</td>\n",
       "      <td>3</td>\n",
       "    </tr>\n",
       "    <tr>\n",
       "      <td>1</td>\n",
       "      <td>77b8ee947eb84b4e</td>\n",
       "      <td>0006a69f</td>\n",
       "      <td>Bird Measurer (Assessment)</td>\n",
       "      <td>0</td>\n",
       "      <td>11</td>\n",
       "      <td>0.0</td>\n",
       "      <td>0</td>\n",
       "    </tr>\n",
       "    <tr>\n",
       "      <td>2</td>\n",
       "      <td>901acc108f55a5a1</td>\n",
       "      <td>0006a69f</td>\n",
       "      <td>Mushroom Sorter (Assessment)</td>\n",
       "      <td>1</td>\n",
       "      <td>0</td>\n",
       "      <td>1.0</td>\n",
       "      <td>3</td>\n",
       "    </tr>\n",
       "    <tr>\n",
       "      <td>3</td>\n",
       "      <td>9501794defd84e4d</td>\n",
       "      <td>0006a69f</td>\n",
       "      <td>Mushroom Sorter (Assessment)</td>\n",
       "      <td>1</td>\n",
       "      <td>1</td>\n",
       "      <td>0.5</td>\n",
       "      <td>2</td>\n",
       "    </tr>\n",
       "    <tr>\n",
       "      <td>4</td>\n",
       "      <td>a9ef3ecb3d1acc6a</td>\n",
       "      <td>0006a69f</td>\n",
       "      <td>Bird Measurer (Assessment)</td>\n",
       "      <td>1</td>\n",
       "      <td>0</td>\n",
       "      <td>1.0</td>\n",
       "      <td>3</td>\n",
       "    </tr>\n",
       "  </tbody>\n",
       "</table>\n",
       "</div>"
      ],
      "text/plain": [
       "       game_session installation_id                         title  \\\n",
       "0  6bdf9623adc94d89        0006a69f  Mushroom Sorter (Assessment)   \n",
       "1  77b8ee947eb84b4e        0006a69f    Bird Measurer (Assessment)   \n",
       "2  901acc108f55a5a1        0006a69f  Mushroom Sorter (Assessment)   \n",
       "3  9501794defd84e4d        0006a69f  Mushroom Sorter (Assessment)   \n",
       "4  a9ef3ecb3d1acc6a        0006a69f    Bird Measurer (Assessment)   \n",
       "\n",
       "   num_correct  num_incorrect  accuracy  accuracy_group  \n",
       "0            1              0       1.0               3  \n",
       "1            0             11       0.0               0  \n",
       "2            1              0       1.0               3  \n",
       "3            1              1       0.5               2  \n",
       "4            1              0       1.0               3  "
      ]
     },
     "execution_count": 42,
     "metadata": {},
     "output_type": "execute_result"
    }
   ],
   "source": [
    "train_label[train_label.installation_id=='0006a69f']"
   ]
  },
  {
   "cell_type": "markdown",
   "metadata": {},
   "source": [
    "### Training label has got only 17,690 records but we have more than 11 million training records . So lets check how many unique installations are available in both label data and the training data"
   ]
  },
  {
   "cell_type": "code",
   "execution_count": 33,
   "metadata": {},
   "outputs": [],
   "source": [
    "installation_with_labels=train_label[['installation_id']].drop_duplicates()"
   ]
  },
  {
   "cell_type": "code",
   "execution_count": 34,
   "metadata": {},
   "outputs": [
    {
     "data": {
      "text/plain": [
       "(3614, 1)"
      ]
     },
     "execution_count": 34,
     "metadata": {},
     "output_type": "execute_result"
    }
   ],
   "source": [
    "installation_with_labels.shape"
   ]
  },
  {
   "cell_type": "markdown",
   "metadata": {},
   "source": [
    "### Based on the below chart, the inferences are given below <br> 1. 0% accuracy belong to group 0 <br> 2. less than 50% accuracy belongs to group 1 <br> 3. 50% accuracy belongs to group 2 <br> 4. 100% accuracy belongs to group 3"
   ]
  },
  {
   "cell_type": "code",
   "execution_count": 35,
   "metadata": {},
   "outputs": [
    {
     "data": {
      "image/png": "[encoded data removed]",
      "text/plain": [
       "<Figure size 929.3x216 with 4 Axes>"
      ]
     },
     "metadata": {},
     "output_type": "display_data"
    }
   ],
   "source": [
    "sns.set(style=\"darkgrid\")\n",
    "g = sns.FacetGrid(train_label[['num_correct','num_incorrect','accuracy','accuracy_group']].drop_duplicates(), col=\"accuracy_group\", col_wrap=4,hue=\"num_correct\")\n",
    "g.map(plt.scatter, \"accuracy\", \"num_incorrect\", alpha=1)\n",
    "g.set_xticklabels(rotation=30)\n",
    "g.add_legend();\n",
    "plt.show()"
   ]
  },
  {
   "cell_type": "markdown",
   "metadata": {},
   "source": [
    "### Let us check the installation_id 0006a69f, The mean value of the accuracy is 0.7 which is above 0.5 and assuming that this installation_id can be mapped to accuracy_group 3 based on the above inferences"
   ]
  },
  {
   "cell_type": "code",
   "execution_count": 36,
   "metadata": {},
   "outputs": [
    {
     "data": {
      "text/html": [
       "<div>\n",
       "<style scoped>\n",
       "    .dataframe tbody tr th:only-of-type {\n",
       "        vertical-align: middle;\n",
       "    }\n",
       "\n",
       "    .dataframe tbody tr th {\n",
       "        vertical-align: top;\n",
       "    }\n",
       "\n",
       "    .dataframe thead th {\n",
       "        text-align: right;\n",
       "    }\n",
       "</style>\n",
       "<table border=\"1\" class=\"dataframe\">\n",
       "  <thead>\n",
       "    <tr style=\"text-align: right;\">\n",
       "      <th></th>\n",
       "      <th>num_correct</th>\n",
       "      <th>num_incorrect</th>\n",
       "      <th>accuracy</th>\n",
       "      <th>accuracy_group</th>\n",
       "    </tr>\n",
       "  </thead>\n",
       "  <tbody>\n",
       "    <tr>\n",
       "      <td>count</td>\n",
       "      <td>5.000000</td>\n",
       "      <td>5.000000</td>\n",
       "      <td>5.000000</td>\n",
       "      <td>5.00000</td>\n",
       "    </tr>\n",
       "    <tr>\n",
       "      <td>mean</td>\n",
       "      <td>0.800000</td>\n",
       "      <td>2.400000</td>\n",
       "      <td>0.700000</td>\n",
       "      <td>2.20000</td>\n",
       "    </tr>\n",
       "    <tr>\n",
       "      <td>std</td>\n",
       "      <td>0.447214</td>\n",
       "      <td>4.827007</td>\n",
       "      <td>0.447214</td>\n",
       "      <td>1.30384</td>\n",
       "    </tr>\n",
       "    <tr>\n",
       "      <td>min</td>\n",
       "      <td>0.000000</td>\n",
       "      <td>0.000000</td>\n",
       "      <td>0.000000</td>\n",
       "      <td>0.00000</td>\n",
       "    </tr>\n",
       "    <tr>\n",
       "      <td>25%</td>\n",
       "      <td>1.000000</td>\n",
       "      <td>0.000000</td>\n",
       "      <td>0.500000</td>\n",
       "      <td>2.00000</td>\n",
       "    </tr>\n",
       "    <tr>\n",
       "      <td>50%</td>\n",
       "      <td>1.000000</td>\n",
       "      <td>0.000000</td>\n",
       "      <td>1.000000</td>\n",
       "      <td>3.00000</td>\n",
       "    </tr>\n",
       "    <tr>\n",
       "      <td>75%</td>\n",
       "      <td>1.000000</td>\n",
       "      <td>1.000000</td>\n",
       "      <td>1.000000</td>\n",
       "      <td>3.00000</td>\n",
       "    </tr>\n",
       "    <tr>\n",
       "      <td>max</td>\n",
       "      <td>1.000000</td>\n",
       "      <td>11.000000</td>\n",
       "      <td>1.000000</td>\n",
       "      <td>3.00000</td>\n",
       "    </tr>\n",
       "  </tbody>\n",
       "</table>\n",
       "</div>"
      ],
      "text/plain": [
       "       num_correct  num_incorrect  accuracy  accuracy_group\n",
       "count     5.000000       5.000000  5.000000         5.00000\n",
       "mean      0.800000       2.400000  0.700000         2.20000\n",
       "std       0.447214       4.827007  0.447214         1.30384\n",
       "min       0.000000       0.000000  0.000000         0.00000\n",
       "25%       1.000000       0.000000  0.500000         2.00000\n",
       "50%       1.000000       0.000000  1.000000         3.00000\n",
       "75%       1.000000       1.000000  1.000000         3.00000\n",
       "max       1.000000      11.000000  1.000000         3.00000"
      ]
     },
     "execution_count": 36,
     "metadata": {},
     "output_type": "execute_result"
    }
   ],
   "source": [
    "train_label[train_label.installation_id=='0006a69f'].describe()"
   ]
  },
  {
   "cell_type": "markdown",
   "metadata": {},
   "source": [
    "### we have 17,690 unique game_session in the training label which is same as the total number for training label we have got, the grain is at game_session level"
   ]
  },
  {
   "cell_type": "code",
   "execution_count": 37,
   "metadata": {},
   "outputs": [
    {
     "data": {
      "text/plain": [
       "17690"
      ]
     },
     "execution_count": 37,
     "metadata": {},
     "output_type": "execute_result"
    }
   ],
   "source": [
    "len(set(train_label['game_session']))"
   ]
  },
  {
   "cell_type": "markdown",
   "metadata": {},
   "source": [
    "### There are only 3614 installations in label data. Let's use only the data which has labels to build a model, other records can be dropped for now"
   ]
  },
  {
   "cell_type": "code",
   "execution_count": 38,
   "metadata": {},
   "outputs": [],
   "source": [
    "installation_with_asesment=df_train[df_train.type=='Assessment'][['installation_id']].drop_duplicates()"
   ]
  },
  {
   "cell_type": "code",
   "execution_count": 39,
   "metadata": {},
   "outputs": [
    {
     "data": {
      "text/plain": [
       "(4242, 1)"
      ]
     },
     "execution_count": 39,
     "metadata": {},
     "output_type": "execute_result"
    }
   ],
   "source": [
    "installation_with_asesment.shape"
   ]
  },
  {
   "cell_type": "code",
   "execution_count": 40,
   "metadata": {},
   "outputs": [],
   "source": [
    "df_train_clean=pd.merge(left=df_train,right=installation_with_labels, left_on='installation_id', right_on='installation_id')"
   ]
  },
  {
   "cell_type": "markdown",
   "metadata": {},
   "source": [
    "### Now, the training set is smaller and has got about 7 million record and the grain is not same as game session , so we need to aggregate acitivities to match the grain of training label."
   ]
  },
  {
   "cell_type": "code",
   "execution_count": 14,
   "metadata": {},
   "outputs": [
    {
     "data": {
      "text/plain": [
       "(7734558, 11)"
      ]
     },
     "execution_count": 14,
     "metadata": {},
     "output_type": "execute_result"
    }
   ],
   "source": [
    "df_train_clean.shape"
   ]
  },
  {
   "cell_type": "code",
   "execution_count": 15,
   "metadata": {},
   "outputs": [
    {
     "data": {
      "text/plain": [
       "175467"
      ]
     },
     "execution_count": 15,
     "metadata": {},
     "output_type": "execute_result"
    }
   ],
   "source": [
    "len(set(df_train_clean['game_session']))"
   ]
  },
  {
   "cell_type": "markdown",
   "metadata": {},
   "source": [
    "### Let us collect the event data from the dictionaries and extract the useful features for predicting the assesment accuracy"
   ]
  },
  {
   "cell_type": "code",
   "execution_count": 20,
   "metadata": {},
   "outputs": [
    {
     "data": {
      "text/plain": [
       "Index(['event_id', 'game_session', 'timestamp', 'event_data',\n",
       "       'installation_id', 'event_count', 'event_code', 'game_time', 'title',\n",
       "       'type', 'world'],\n",
       "      dtype='object')"
      ]
     },
     "execution_count": 20,
     "metadata": {},
     "output_type": "execute_result"
    }
   ],
   "source": [
    "df_train_clean.columns"
   ]
  },
  {
   "cell_type": "code",
   "execution_count": 21,
   "metadata": {},
   "outputs": [
    {
     "data": {
      "text/html": [
       "<div>\n",
       "<style scoped>\n",
       "    .dataframe tbody tr th:only-of-type {\n",
       "        vertical-align: middle;\n",
       "    }\n",
       "\n",
       "    .dataframe tbody tr th {\n",
       "        vertical-align: top;\n",
       "    }\n",
       "\n",
       "    .dataframe thead th {\n",
       "        text-align: right;\n",
       "    }\n",
       "</style>\n",
       "<table border=\"1\" class=\"dataframe\">\n",
       "  <thead>\n",
       "    <tr style=\"text-align: right;\">\n",
       "      <th></th>\n",
       "      <th>event_id</th>\n",
       "      <th>game_session</th>\n",
       "      <th>timestamp</th>\n",
       "      <th>event_data</th>\n",
       "      <th>installation_id</th>\n",
       "      <th>event_count</th>\n",
       "      <th>event_code</th>\n",
       "      <th>game_time</th>\n",
       "      <th>title</th>\n",
       "      <th>type</th>\n",
       "      <th>world</th>\n",
       "    </tr>\n",
       "  </thead>\n",
       "  <tbody>\n",
       "    <tr>\n",
       "      <td>0</td>\n",
       "      <td>27253bdc</td>\n",
       "      <td>34ba1a28d02ba8ba</td>\n",
       "      <td>2019-08-06T04:57:18.904Z</td>\n",
       "      <td>{\"event_code\": 2000, \"event_count\": 1}</td>\n",
       "      <td>0006a69f</td>\n",
       "      <td>1</td>\n",
       "      <td>2000</td>\n",
       "      <td>0</td>\n",
       "      <td>Welcome to Lost Lagoon!</td>\n",
       "      <td>Clip</td>\n",
       "      <td>NONE</td>\n",
       "    </tr>\n",
       "    <tr>\n",
       "      <td>1</td>\n",
       "      <td>27253bdc</td>\n",
       "      <td>4b57c9a59474a1b9</td>\n",
       "      <td>2019-08-06T04:57:45.301Z</td>\n",
       "      <td>{\"event_code\": 2000, \"event_count\": 1}</td>\n",
       "      <td>0006a69f</td>\n",
       "      <td>1</td>\n",
       "      <td>2000</td>\n",
       "      <td>0</td>\n",
       "      <td>Magma Peak - Level 1</td>\n",
       "      <td>Clip</td>\n",
       "      <td>MAGMAPEAK</td>\n",
       "    </tr>\n",
       "    <tr>\n",
       "      <td>2</td>\n",
       "      <td>77261ab5</td>\n",
       "      <td>2b9d5af79bcdb79f</td>\n",
       "      <td>2019-08-06T04:58:14.538Z</td>\n",
       "      <td>{\"version\":\"1.0\",\"event_count\":1,\"game_time\":0...</td>\n",
       "      <td>0006a69f</td>\n",
       "      <td>1</td>\n",
       "      <td>2000</td>\n",
       "      <td>0</td>\n",
       "      <td>Sandcastle Builder (Activity)</td>\n",
       "      <td>Activity</td>\n",
       "      <td>MAGMAPEAK</td>\n",
       "    </tr>\n",
       "    <tr>\n",
       "      <td>3</td>\n",
       "      <td>b2dba42b</td>\n",
       "      <td>2b9d5af79bcdb79f</td>\n",
       "      <td>2019-08-06T04:58:14.615Z</td>\n",
       "      <td>{\"description\":\"Let's build a sandcastle! Firs...</td>\n",
       "      <td>0006a69f</td>\n",
       "      <td>2</td>\n",
       "      <td>3010</td>\n",
       "      <td>29</td>\n",
       "      <td>Sandcastle Builder (Activity)</td>\n",
       "      <td>Activity</td>\n",
       "      <td>MAGMAPEAK</td>\n",
       "    </tr>\n",
       "    <tr>\n",
       "      <td>4</td>\n",
       "      <td>1325467d</td>\n",
       "      <td>2b9d5af79bcdb79f</td>\n",
       "      <td>2019-08-06T04:58:16.680Z</td>\n",
       "      <td>{\"coordinates\":{\"x\":273,\"y\":650,\"stage_width\":...</td>\n",
       "      <td>0006a69f</td>\n",
       "      <td>3</td>\n",
       "      <td>4070</td>\n",
       "      <td>2137</td>\n",
       "      <td>Sandcastle Builder (Activity)</td>\n",
       "      <td>Activity</td>\n",
       "      <td>MAGMAPEAK</td>\n",
       "    </tr>\n",
       "  </tbody>\n",
       "</table>\n",
       "</div>"
      ],
      "text/plain": [
       "   event_id      game_session                 timestamp  \\\n",
       "0  27253bdc  34ba1a28d02ba8ba  2019-08-06T04:57:18.904Z   \n",
       "1  27253bdc  4b57c9a59474a1b9  2019-08-06T04:57:45.301Z   \n",
       "2  77261ab5  2b9d5af79bcdb79f  2019-08-06T04:58:14.538Z   \n",
       "3  b2dba42b  2b9d5af79bcdb79f  2019-08-06T04:58:14.615Z   \n",
       "4  1325467d  2b9d5af79bcdb79f  2019-08-06T04:58:16.680Z   \n",
       "\n",
       "                                          event_data installation_id  \\\n",
       "0             {\"event_code\": 2000, \"event_count\": 1}        0006a69f   \n",
       "1             {\"event_code\": 2000, \"event_count\": 1}        0006a69f   \n",
       "2  {\"version\":\"1.0\",\"event_count\":1,\"game_time\":0...        0006a69f   \n",
       "3  {\"description\":\"Let's build a sandcastle! Firs...        0006a69f   \n",
       "4  {\"coordinates\":{\"x\":273,\"y\":650,\"stage_width\":...        0006a69f   \n",
       "\n",
       "   event_count  event_code  game_time                          title  \\\n",
       "0            1        2000          0        Welcome to Lost Lagoon!   \n",
       "1            1        2000          0           Magma Peak - Level 1   \n",
       "2            1        2000          0  Sandcastle Builder (Activity)   \n",
       "3            2        3010         29  Sandcastle Builder (Activity)   \n",
       "4            3        4070       2137  Sandcastle Builder (Activity)   \n",
       "\n",
       "       type      world  \n",
       "0      Clip       NONE  \n",
       "1      Clip  MAGMAPEAK  \n",
       "2  Activity  MAGMAPEAK  \n",
       "3  Activity  MAGMAPEAK  \n",
       "4  Activity  MAGMAPEAK  "
      ]
     },
     "execution_count": 21,
     "metadata": {},
     "output_type": "execute_result"
    }
   ],
   "source": [
    "df_train_clean.head()"
   ]
  },
  {
   "cell_type": "code",
   "execution_count": 2,
   "metadata": {},
   "outputs": [
    {
     "ename": "NameError",
     "evalue": "name 'df_train_clean' is not defined",
     "output_type": "error",
     "traceback": [
      "\u001b[1;31m---------------------------------------------------------------------------\u001b[0m",
      "\u001b[1;31mNameError\u001b[0m                                 Traceback (most recent call last)",
      "\u001b[1;32m<ipython-input-2-7b4ee64cde49>\u001b[0m in \u001b[0;36m<module>\u001b[1;34m\u001b[0m\n\u001b[1;32m----> 1\u001b[1;33m \u001b[0mdf_train_clean\u001b[0m\u001b[1;33m[\u001b[0m\u001b[1;34m'event_data'\u001b[0m\u001b[1;33m]\u001b[0m\u001b[1;33m.\u001b[0m\u001b[0mto_pickle\u001b[0m\u001b[1;33m(\u001b[0m\u001b[1;34m'event_data.pkl'\u001b[0m\u001b[1;33m)\u001b[0m\u001b[1;33m\u001b[0m\u001b[1;33m\u001b[0m\u001b[0m\n\u001b[0m",
      "\u001b[1;31mNameError\u001b[0m: name 'df_train_clean' is not defined"
     ]
    }
   ],
   "source": [
    "df_train_clean['event_data'].to_pickle('event_data.pkl')"
   ]
  },
  {
   "cell_type": "code",
   "execution_count": 3,
   "metadata": {},
   "outputs": [],
   "source": [
    "df_event=pd.read_pickle('event_data.pkl')"
   ]
  },
  {
   "cell_type": "code",
   "execution_count": 3,
   "metadata": {},
   "outputs": [
    {
     "data": {
      "text/plain": [
       "10    {\"description\":\"Fill it up!\",\"identifier\":\"Dot...\n",
       "11    {\"size\":3,\"sand\":1,\"duration\":300,\"coordinates...\n",
       "12    {\"coordinates\":{\"x\":841,\"y\":406,\"stage_width\":...\n",
       "13    {\"description\":\"Fill it up!\",\"identifier\":\"Dot...\n",
       "14    {\"size\":0,\"coordinates\":{\"x\":782,\"y\":207,\"stag...\n",
       "15    {\"size\":3,\"sand\":2,\"duration\":526,\"coordinates...\n",
       "16    {\"coordinates\":{\"x\":842,\"y\":131,\"stage_width\":...\n",
       "17    {\"size\":0,\"coordinates\":{\"x\":782,\"y\":207,\"stag...\n",
       "18    {\"description\":\"Drag your mold to the sand to ...\n",
       "19    {\"size\":3,\"sand\":3,\"duration\":558,\"coordinates...\n",
       "Name: event_data, dtype: object"
      ]
     },
     "execution_count": 3,
     "metadata": {},
     "output_type": "execute_result"
    }
   ],
   "source": [
    "df_event[10:20]"
   ]
  },
  {
   "cell_type": "code",
   "execution_count": 6,
   "metadata": {},
   "outputs": [],
   "source": [
    "path='C:\\\\Users\\\\rkrishnan\\\\Documents\\\\01 Personal\\\\MS\\\\IST 718\\\\Project\\\\data-science-bowl-2019\\\\event_data'"
   ]
  },
  {
   "cell_type": "code",
   "execution_count": 11,
   "metadata": {},
   "outputs": [
    {
     "name": "stdout",
     "output_type": "stream",
     "text": [
      "Wall time: 2min 26s\n"
     ]
    }
   ],
   "source": [
    "%%time\n",
    "df_event_clean_batch1 = pd.io.json.json_normalize(df_event[0:2000000].apply(json.loads))"
   ]
  },
  {
   "cell_type": "code",
   "execution_count": 12,
   "metadata": {},
   "outputs": [],
   "source": [
    "df_event_clean_batch1.to_pickle(path+'\\\\df_event_clean_batch1.pkl')"
   ]
  },
  {
   "cell_type": "code",
   "execution_count": 13,
   "metadata": {},
   "outputs": [
    {
     "name": "stdout",
     "output_type": "stream",
     "text": [
      "Wall time: 2min 37s\n"
     ]
    }
   ],
   "source": [
    "%%time\n",
    "df_event_clean_batch2 = pd.io.json.json_normalize(df_event[2000000:4000000].apply(json.loads))\n",
    "df_event_clean_batch2.index +=2000000"
   ]
  },
  {
   "cell_type": "code",
   "execution_count": 14,
   "metadata": {},
   "outputs": [],
   "source": [
    "df_event_clean_batch2.to_pickle(path+'\\\\df_event_clean_batch2.pkl')"
   ]
  },
  {
   "cell_type": "code",
   "execution_count": 4,
   "metadata": {},
   "outputs": [
    {
     "name": "stdout",
     "output_type": "stream",
     "text": [
      "Wall time: 5min 22s\n"
     ]
    }
   ],
   "source": [
    "%%time\n",
    "df_event_clean_batch3 = pd.io.json.json_normalize(df_event[4000000:].apply(json.loads))\n",
    "df_event_clean_batch3.index +=4000000"
   ]
  },
  {
   "cell_type": "code",
   "execution_count": 7,
   "metadata": {},
   "outputs": [],
   "source": [
    "df_event_clean_batch3.to_pickle(path+'\\\\df_event_clean_batch3.pkl')"
   ]
  },
  {
   "cell_type": "code",
   "execution_count": 8,
   "metadata": {},
   "outputs": [],
   "source": [
    "df_event_clean = pd.DataFrame()\n",
    "for file in glob.glob(os.path.join(path,'*.pkl')):\n",
    "    temp = pd.read_pickle(file)\n",
    "    df_event_clean = df_event_clean.append(temp,sort=False)"
   ]
  },
  {
   "cell_type": "code",
   "execution_count": 9,
   "metadata": {},
   "outputs": [
    {
     "data": {
      "text/plain": [
       "(7734558, 136)"
      ]
     },
     "execution_count": 9,
     "metadata": {},
     "output_type": "execute_result"
    }
   ],
   "source": [
    "df_event_clean.reset_index(drop=True)\n",
    "df_event_clean.shape"
   ]
  },
  {
   "cell_type": "code",
   "execution_count": 24,
   "metadata": {},
   "outputs": [
    {
     "data": {
      "text/html": [
       "<div>\n",
       "<style scoped>\n",
       "    .dataframe tbody tr th:only-of-type {\n",
       "        vertical-align: middle;\n",
       "    }\n",
       "\n",
       "    .dataframe tbody tr th {\n",
       "        vertical-align: top;\n",
       "    }\n",
       "\n",
       "    .dataframe thead th {\n",
       "        text-align: right;\n",
       "    }\n",
       "</style>\n",
       "<table border=\"1\" class=\"dataframe\">\n",
       "  <thead>\n",
       "    <tr style=\"text-align: right;\">\n",
       "      <th></th>\n",
       "      <th>event_code</th>\n",
       "      <th>event_count</th>\n",
       "      <th>version</th>\n",
       "      <th>game_time</th>\n",
       "      <th>description</th>\n",
       "      <th>identifier</th>\n",
       "      <th>media_type</th>\n",
       "      <th>total_duration</th>\n",
       "      <th>coordinates</th>\n",
       "      <th>duration</th>\n",
       "      <th>...</th>\n",
       "      <th>scale_weights</th>\n",
       "      <th>weights</th>\n",
       "      <th>nest</th>\n",
       "      <th>pillars</th>\n",
       "      <th>max_position</th>\n",
       "      <th>end_position</th>\n",
       "      <th>gate</th>\n",
       "      <th>dinosaur_weight</th>\n",
       "      <th>dinosaur_count</th>\n",
       "      <th>chests</th>\n",
       "    </tr>\n",
       "  </thead>\n",
       "  <tbody>\n",
       "    <tr>\n",
       "      <td>0</td>\n",
       "      <td>2000</td>\n",
       "      <td>1</td>\n",
       "      <td>NaN</td>\n",
       "      <td>NaN</td>\n",
       "      <td>NaN</td>\n",
       "      <td>NaN</td>\n",
       "      <td>NaN</td>\n",
       "      <td>NaN</td>\n",
       "      <td>NaN</td>\n",
       "      <td>NaN</td>\n",
       "      <td>...</td>\n",
       "      <td>NaN</td>\n",
       "      <td>NaN</td>\n",
       "      <td>NaN</td>\n",
       "      <td>NaN</td>\n",
       "      <td>NaN</td>\n",
       "      <td>NaN</td>\n",
       "      <td>NaN</td>\n",
       "      <td>NaN</td>\n",
       "      <td>NaN</td>\n",
       "      <td>NaN</td>\n",
       "    </tr>\n",
       "    <tr>\n",
       "      <td>1</td>\n",
       "      <td>2000</td>\n",
       "      <td>1</td>\n",
       "      <td>NaN</td>\n",
       "      <td>NaN</td>\n",
       "      <td>NaN</td>\n",
       "      <td>NaN</td>\n",
       "      <td>NaN</td>\n",
       "      <td>NaN</td>\n",
       "      <td>NaN</td>\n",
       "      <td>NaN</td>\n",
       "      <td>...</td>\n",
       "      <td>NaN</td>\n",
       "      <td>NaN</td>\n",
       "      <td>NaN</td>\n",
       "      <td>NaN</td>\n",
       "      <td>NaN</td>\n",
       "      <td>NaN</td>\n",
       "      <td>NaN</td>\n",
       "      <td>NaN</td>\n",
       "      <td>NaN</td>\n",
       "      <td>NaN</td>\n",
       "    </tr>\n",
       "    <tr>\n",
       "      <td>2</td>\n",
       "      <td>2000</td>\n",
       "      <td>1</td>\n",
       "      <td>1.0</td>\n",
       "      <td>0.0</td>\n",
       "      <td>NaN</td>\n",
       "      <td>NaN</td>\n",
       "      <td>NaN</td>\n",
       "      <td>NaN</td>\n",
       "      <td>NaN</td>\n",
       "      <td>NaN</td>\n",
       "      <td>...</td>\n",
       "      <td>NaN</td>\n",
       "      <td>NaN</td>\n",
       "      <td>NaN</td>\n",
       "      <td>NaN</td>\n",
       "      <td>NaN</td>\n",
       "      <td>NaN</td>\n",
       "      <td>NaN</td>\n",
       "      <td>NaN</td>\n",
       "      <td>NaN</td>\n",
       "      <td>NaN</td>\n",
       "    </tr>\n",
       "    <tr>\n",
       "      <td>3</td>\n",
       "      <td>3010</td>\n",
       "      <td>2</td>\n",
       "      <td>NaN</td>\n",
       "      <td>29.0</td>\n",
       "      <td>Let's build a sandcastle! First, fill up your ...</td>\n",
       "      <td>Dot_LetsSandcastle,Dot_FillMold,Dot_MoldShape</td>\n",
       "      <td>audio</td>\n",
       "      <td>6758.0</td>\n",
       "      <td>NaN</td>\n",
       "      <td>NaN</td>\n",
       "      <td>...</td>\n",
       "      <td>NaN</td>\n",
       "      <td>NaN</td>\n",
       "      <td>NaN</td>\n",
       "      <td>NaN</td>\n",
       "      <td>NaN</td>\n",
       "      <td>NaN</td>\n",
       "      <td>NaN</td>\n",
       "      <td>NaN</td>\n",
       "      <td>NaN</td>\n",
       "      <td>NaN</td>\n",
       "    </tr>\n",
       "    <tr>\n",
       "      <td>4</td>\n",
       "      <td>4070</td>\n",
       "      <td>3</td>\n",
       "      <td>NaN</td>\n",
       "      <td>2137.0</td>\n",
       "      <td>NaN</td>\n",
       "      <td>NaN</td>\n",
       "      <td>NaN</td>\n",
       "      <td>NaN</td>\n",
       "      <td>{'x': 273, 'y': 650, 'stage_width': 1015, 'sta...</td>\n",
       "      <td>NaN</td>\n",
       "      <td>...</td>\n",
       "      <td>NaN</td>\n",
       "      <td>NaN</td>\n",
       "      <td>NaN</td>\n",
       "      <td>NaN</td>\n",
       "      <td>NaN</td>\n",
       "      <td>NaN</td>\n",
       "      <td>NaN</td>\n",
       "      <td>NaN</td>\n",
       "      <td>NaN</td>\n",
       "      <td>NaN</td>\n",
       "    </tr>\n",
       "  </tbody>\n",
       "</table>\n",
       "<p>5 rows × 122 columns</p>\n",
       "</div>"
      ],
      "text/plain": [
       "   event_code  event_count version  game_time  \\\n",
       "0        2000            1     NaN        NaN   \n",
       "1        2000            1     NaN        NaN   \n",
       "2        2000            1     1.0        0.0   \n",
       "3        3010            2     NaN       29.0   \n",
       "4        4070            3     NaN     2137.0   \n",
       "\n",
       "                                         description  \\\n",
       "0                                                NaN   \n",
       "1                                                NaN   \n",
       "2                                                NaN   \n",
       "3  Let's build a sandcastle! First, fill up your ...   \n",
       "4                                                NaN   \n",
       "\n",
       "                                      identifier media_type  total_duration  \\\n",
       "0                                            NaN        NaN             NaN   \n",
       "1                                            NaN        NaN             NaN   \n",
       "2                                            NaN        NaN             NaN   \n",
       "3  Dot_LetsSandcastle,Dot_FillMold,Dot_MoldShape      audio          6758.0   \n",
       "4                                            NaN        NaN             NaN   \n",
       "\n",
       "                                         coordinates  duration  ...  \\\n",
       "0                                                NaN       NaN  ...   \n",
       "1                                                NaN       NaN  ...   \n",
       "2                                                NaN       NaN  ...   \n",
       "3                                                NaN       NaN  ...   \n",
       "4  {'x': 273, 'y': 650, 'stage_width': 1015, 'sta...       NaN  ...   \n",
       "\n",
       "   scale_weights  weights nest pillars max_position  end_position  gate  \\\n",
       "0            NaN      NaN  NaN     NaN          NaN           NaN   NaN   \n",
       "1            NaN      NaN  NaN     NaN          NaN           NaN   NaN   \n",
       "2            NaN      NaN  NaN     NaN          NaN           NaN   NaN   \n",
       "3            NaN      NaN  NaN     NaN          NaN           NaN   NaN   \n",
       "4            NaN      NaN  NaN     NaN          NaN           NaN   NaN   \n",
       "\n",
       "  dinosaur_weight  dinosaur_count chests  \n",
       "0             NaN             NaN    NaN  \n",
       "1             NaN             NaN    NaN  \n",
       "2             NaN             NaN    NaN  \n",
       "3             NaN             NaN    NaN  \n",
       "4             NaN             NaN    NaN  \n",
       "\n",
       "[5 rows x 122 columns]"
      ]
     },
     "execution_count": 24,
     "metadata": {},
     "output_type": "execute_result"
    }
   ],
   "source": [
    "# Another approach to extract the event data in a column format and seems to be not much efficient . This approach couldn't extract nested dict\n",
    "event_lst=[js.loads(x) for x in df_train_clean['event_data']]\n",
    "df_event_clean= pd.DataFrame(event_lst)\n",
    "df_event_clean.head()"
   ]
  },
  {
   "cell_type": "code",
   "execution_count": 44,
   "metadata": {},
   "outputs": [],
   "source": [
    "path='C:\\\\Users\\\\rkrishnan\\\\Documents\\\\01 Personal\\\\MS\\\\IST 718\\\\Project\\\\data-science-bowl-2019\\\\train'\n",
    "df_train_clean[0:2000000].to_pickle(path+'\\\\df_train_clean_batch1.pkl')\n",
    "df_train_clean[2000000:4000000].to_pickle(path+'\\\\df_train_clean_batch2.pkl')\n",
    "df_train_clean[4000000:].to_pickle(path+'\\\\df_train_clean_batch3.pkl')"
   ]
  },
  {
   "cell_type": "code",
   "execution_count": 2,
   "metadata": {},
   "outputs": [],
   "source": [
    "path='C:\\\\Users\\\\rkrishnan\\\\Documents\\\\01 Personal\\\\MS\\\\IST 718\\\\Project\\\\data-science-bowl-2019\\\\event_data'\n",
    "df_event_clean_batch1=pd.read_pickle(path+'\\\\df_event_clean_batch1.pkl')\n",
    "path='C:\\\\Users\\\\rkrishnan\\\\Documents\\\\01 Personal\\\\MS\\\\IST 718\\\\Project\\\\data-science-bowl-2019\\\\train'\n",
    "df_train_clean_batch1=pd.read_pickle(path+'\\\\df_train_clean_batch1.pkl')\n",
    "\n",
    "df_train_working_batch1 = pd.concat([df_train_clean_batch1, df_event_clean_batch1], axis=1, sort=False)\n",
    "df_train_working_batch1=df_train_working_batch1.drop(['event_data'],axis=1)\n",
    "df_train_working_batch1.to_pickle('df_train_working_batch1.pkl')"
   ]
  },
  {
   "cell_type": "code",
   "execution_count": 7,
   "metadata": {},
   "outputs": [],
   "source": [
    "path='C:\\\\Users\\\\rkrishnan\\\\Documents\\\\01 Personal\\\\MS\\\\IST 718\\\\Project\\\\data-science-bowl-2019\\\\event_data'\n",
    "df_event_clean_batch2=pd.read_pickle(path+'\\\\df_event_clean_batch2.pkl')\n",
    "path='C:\\\\Users\\\\rkrishnan\\\\Documents\\\\01 Personal\\\\MS\\\\IST 718\\\\Project\\\\data-science-bowl-2019\\\\train'\n",
    "df_train_clean_batch2=pd.read_pickle(path+'\\\\df_train_clean_batch2.pkl')\n",
    "\n",
    "df_train_working_batch2 = pd.concat([df_train_clean_batch2, df_event_clean_batch2], axis=1, sort=False)\n",
    "df_train_working_batch2=df_train_working_batch2.drop(['event_data'],axis=1)\n",
    "df_train_working_batch2.to_pickle('df_train_working_batch2.pkl')"
   ]
  },
  {
   "cell_type": "code",
   "execution_count": 2,
   "metadata": {},
   "outputs": [],
   "source": [
    "path='C:\\\\Users\\\\rkrishnan\\\\Documents\\\\01 Personal\\\\MS\\\\IST 718\\\\Project\\\\data-science-bowl-2019\\\\event_data'\n",
    "df_event_clean_batch3=pd.read_pickle(path+'\\\\df_event_clean_batch3.pkl')\n",
    "path='C:\\\\Users\\\\rkrishnan\\\\Documents\\\\01 Personal\\\\MS\\\\IST 718\\\\Project\\\\data-science-bowl-2019\\\\train'\n",
    "df_train_clean_batch3=pd.read_pickle(path+'\\\\df_train_clean_batch3.pkl')\n",
    "\n",
    "df_train_working_batch3 = pd.concat([df_train_clean_batch3, df_event_clean_batch3], axis=1, sort=False)\n",
    "df_train_working_batch3=df_train_working_batch3.drop(['event_data'],axis=1)\n",
    "df_train_working_batch3.to_pickle('df_train_working_batch3.pkl')"
   ]
  },
  {
   "cell_type": "code",
   "execution_count": 4,
   "metadata": {},
   "outputs": [
    {
     "data": {
      "text/html": [
       "<div>\n",
       "<style scoped>\n",
       "    .dataframe tbody tr th:only-of-type {\n",
       "        vertical-align: middle;\n",
       "    }\n",
       "\n",
       "    .dataframe tbody tr th {\n",
       "        vertical-align: top;\n",
       "    }\n",
       "\n",
       "    .dataframe thead th {\n",
       "        text-align: right;\n",
       "    }\n",
       "</style>\n",
       "<table border=\"1\" class=\"dataframe\">\n",
       "  <thead>\n",
       "    <tr style=\"text-align: right;\">\n",
       "      <th></th>\n",
       "      <th>event_id</th>\n",
       "      <th>game_session</th>\n",
       "      <th>timestamp</th>\n",
       "      <th>installation_id</th>\n",
       "      <th>event_count</th>\n",
       "      <th>event_code</th>\n",
       "      <th>game_time</th>\n",
       "      <th>title</th>\n",
       "      <th>type</th>\n",
       "      <th>world</th>\n",
       "      <th>...</th>\n",
       "      <th>nest</th>\n",
       "      <th>pillars</th>\n",
       "      <th>max_position</th>\n",
       "      <th>end_position</th>\n",
       "      <th>gate.row</th>\n",
       "      <th>gate.column</th>\n",
       "      <th>gate.side</th>\n",
       "      <th>dinosaur_weight</th>\n",
       "      <th>dinosaur_count</th>\n",
       "      <th>chests</th>\n",
       "    </tr>\n",
       "  </thead>\n",
       "  <tbody>\n",
       "    <tr>\n",
       "      <td>0</td>\n",
       "      <td>27253bdc</td>\n",
       "      <td>34ba1a28d02ba8ba</td>\n",
       "      <td>2019-08-06T04:57:18.904Z</td>\n",
       "      <td>0006a69f</td>\n",
       "      <td>1</td>\n",
       "      <td>2000</td>\n",
       "      <td>0</td>\n",
       "      <td>Welcome to Lost Lagoon!</td>\n",
       "      <td>Clip</td>\n",
       "      <td>NONE</td>\n",
       "      <td>...</td>\n",
       "      <td>NaN</td>\n",
       "      <td>NaN</td>\n",
       "      <td>NaN</td>\n",
       "      <td>NaN</td>\n",
       "      <td>NaN</td>\n",
       "      <td>NaN</td>\n",
       "      <td>NaN</td>\n",
       "      <td>NaN</td>\n",
       "      <td>NaN</td>\n",
       "      <td>NaN</td>\n",
       "    </tr>\n",
       "    <tr>\n",
       "      <td>1</td>\n",
       "      <td>27253bdc</td>\n",
       "      <td>4b57c9a59474a1b9</td>\n",
       "      <td>2019-08-06T04:57:45.301Z</td>\n",
       "      <td>0006a69f</td>\n",
       "      <td>1</td>\n",
       "      <td>2000</td>\n",
       "      <td>0</td>\n",
       "      <td>Magma Peak - Level 1</td>\n",
       "      <td>Clip</td>\n",
       "      <td>MAGMAPEAK</td>\n",
       "      <td>...</td>\n",
       "      <td>NaN</td>\n",
       "      <td>NaN</td>\n",
       "      <td>NaN</td>\n",
       "      <td>NaN</td>\n",
       "      <td>NaN</td>\n",
       "      <td>NaN</td>\n",
       "      <td>NaN</td>\n",
       "      <td>NaN</td>\n",
       "      <td>NaN</td>\n",
       "      <td>NaN</td>\n",
       "    </tr>\n",
       "    <tr>\n",
       "      <td>2</td>\n",
       "      <td>77261ab5</td>\n",
       "      <td>2b9d5af79bcdb79f</td>\n",
       "      <td>2019-08-06T04:58:14.538Z</td>\n",
       "      <td>0006a69f</td>\n",
       "      <td>1</td>\n",
       "      <td>2000</td>\n",
       "      <td>0</td>\n",
       "      <td>Sandcastle Builder (Activity)</td>\n",
       "      <td>Activity</td>\n",
       "      <td>MAGMAPEAK</td>\n",
       "      <td>...</td>\n",
       "      <td>NaN</td>\n",
       "      <td>NaN</td>\n",
       "      <td>NaN</td>\n",
       "      <td>NaN</td>\n",
       "      <td>NaN</td>\n",
       "      <td>NaN</td>\n",
       "      <td>NaN</td>\n",
       "      <td>NaN</td>\n",
       "      <td>NaN</td>\n",
       "      <td>NaN</td>\n",
       "    </tr>\n",
       "    <tr>\n",
       "      <td>3</td>\n",
       "      <td>b2dba42b</td>\n",
       "      <td>2b9d5af79bcdb79f</td>\n",
       "      <td>2019-08-06T04:58:14.615Z</td>\n",
       "      <td>0006a69f</td>\n",
       "      <td>2</td>\n",
       "      <td>3010</td>\n",
       "      <td>29</td>\n",
       "      <td>Sandcastle Builder (Activity)</td>\n",
       "      <td>Activity</td>\n",
       "      <td>MAGMAPEAK</td>\n",
       "      <td>...</td>\n",
       "      <td>NaN</td>\n",
       "      <td>NaN</td>\n",
       "      <td>NaN</td>\n",
       "      <td>NaN</td>\n",
       "      <td>NaN</td>\n",
       "      <td>NaN</td>\n",
       "      <td>NaN</td>\n",
       "      <td>NaN</td>\n",
       "      <td>NaN</td>\n",
       "      <td>NaN</td>\n",
       "    </tr>\n",
       "    <tr>\n",
       "      <td>4</td>\n",
       "      <td>1325467d</td>\n",
       "      <td>2b9d5af79bcdb79f</td>\n",
       "      <td>2019-08-06T04:58:16.680Z</td>\n",
       "      <td>0006a69f</td>\n",
       "      <td>3</td>\n",
       "      <td>4070</td>\n",
       "      <td>2137</td>\n",
       "      <td>Sandcastle Builder (Activity)</td>\n",
       "      <td>Activity</td>\n",
       "      <td>MAGMAPEAK</td>\n",
       "      <td>...</td>\n",
       "      <td>NaN</td>\n",
       "      <td>NaN</td>\n",
       "      <td>NaN</td>\n",
       "      <td>NaN</td>\n",
       "      <td>NaN</td>\n",
       "      <td>NaN</td>\n",
       "      <td>NaN</td>\n",
       "      <td>NaN</td>\n",
       "      <td>NaN</td>\n",
       "      <td>NaN</td>\n",
       "    </tr>\n",
       "  </tbody>\n",
       "</table>\n",
       "<p>5 rows × 146 columns</p>\n",
       "</div>"
      ],
      "text/plain": [
       "   event_id      game_session                 timestamp installation_id  \\\n",
       "0  27253bdc  34ba1a28d02ba8ba  2019-08-06T04:57:18.904Z        0006a69f   \n",
       "1  27253bdc  4b57c9a59474a1b9  2019-08-06T04:57:45.301Z        0006a69f   \n",
       "2  77261ab5  2b9d5af79bcdb79f  2019-08-06T04:58:14.538Z        0006a69f   \n",
       "3  b2dba42b  2b9d5af79bcdb79f  2019-08-06T04:58:14.615Z        0006a69f   \n",
       "4  1325467d  2b9d5af79bcdb79f  2019-08-06T04:58:16.680Z        0006a69f   \n",
       "\n",
       "   event_count  event_code  game_time                          title  \\\n",
       "0            1        2000          0        Welcome to Lost Lagoon!   \n",
       "1            1        2000          0           Magma Peak - Level 1   \n",
       "2            1        2000          0  Sandcastle Builder (Activity)   \n",
       "3            2        3010         29  Sandcastle Builder (Activity)   \n",
       "4            3        4070       2137  Sandcastle Builder (Activity)   \n",
       "\n",
       "       type      world  ...  nest  pillars max_position  end_position  \\\n",
       "0      Clip       NONE  ...   NaN      NaN          NaN           NaN   \n",
       "1      Clip  MAGMAPEAK  ...   NaN      NaN          NaN           NaN   \n",
       "2  Activity  MAGMAPEAK  ...   NaN      NaN          NaN           NaN   \n",
       "3  Activity  MAGMAPEAK  ...   NaN      NaN          NaN           NaN   \n",
       "4  Activity  MAGMAPEAK  ...   NaN      NaN          NaN           NaN   \n",
       "\n",
       "  gate.row gate.column gate.side  dinosaur_weight  dinosaur_count  chests  \n",
       "0      NaN         NaN       NaN              NaN             NaN     NaN  \n",
       "1      NaN         NaN       NaN              NaN             NaN     NaN  \n",
       "2      NaN         NaN       NaN              NaN             NaN     NaN  \n",
       "3      NaN         NaN       NaN              NaN             NaN     NaN  \n",
       "4      NaN         NaN       NaN              NaN             NaN     NaN  \n",
       "\n",
       "[5 rows x 146 columns]"
      ]
     },
     "execution_count": 4,
     "metadata": {},
     "output_type": "execute_result"
    }
   ],
   "source": [
    "df_train_working_batch1=pd.read_pickle('df_train_working_batch1.pkl')\n",
    "df_train_working_batch1.head()"
   ]
  },
  {
   "cell_type": "code",
   "execution_count": 28,
   "metadata": {},
   "outputs": [],
   "source": [
    "def desc_wide(df):\n",
    "    total = df.isnull().sum()\n",
    "    percent = (df.isnull().sum()/df.isnull().count()*100)\n",
    "    result = pd.concat([total, percent], axis=1, keys=['total', 'percentage'])\n",
    "    result['types'] = list(df.dtypes)\n",
    "    return(np.transpose(result))\n",
    "\n",
    "def desc_long(df):\n",
    "    total = df.isnull().sum()\n",
    "    percent = (df.isnull().sum()/df.isnull().count()*100)\n",
    "    result = pd.concat([total, percent], axis=1, keys=['total', 'percentage'])\n",
    "    result['types'] = list(df.dtypes)\n",
    "    return result"
   ]
  },
  {
   "cell_type": "code",
   "execution_count": 47,
   "metadata": {},
   "outputs": [],
   "source": [
    "df_long=desc_long(df_train_working_batch1[df_train_working_batch1.installation_id=='0006a69f'])\n",
    "df_train_working_batch1_0006a69f=df_train_working_batch1[df_train_working_batch1.installation_id=='0006a69f'][list(df_long[df_long.percentage<100].index)]\n",
    "df_train_working_batch1_0006a69f=pd.merge(left=df_train_working_batch1_0006a69f,right=train_label[train_label.installation_id=='0006a69f'], left_on='game_session', right_on='game_session')\n",
    "df_train_working_batch1_0006a69f.to_csv('df_train_working_batch1_0006a69f.csv')"
   ]
  },
  {
   "cell_type": "code",
   "execution_count": 51,
   "metadata": {},
   "outputs": [],
   "source": [
    "df_train_final_batch1=pd.merge(left=df_train_working_batch1,right=train_label, left_on='game_session', right_on='game_session')"
   ]
  },
  {
   "cell_type": "code",
   "execution_count": 53,
   "metadata": {},
   "outputs": [],
   "source": [
    "df_train_final_batch1.to_pickle('df_train_final_batch1.pkl')"
   ]
  },
  {
   "cell_type": "code",
   "execution_count": 55,
   "metadata": {},
   "outputs": [],
   "source": [
    "df_train_working_batch2=pd.read_pickle('df_train_working_batch2.pkl')\n",
    "df_train_final_batch2=pd.merge(left=df_train_working_batch2,right=train_label, left_on='game_session', right_on='game_session')"
   ]
  },
  {
   "cell_type": "code",
   "execution_count": 56,
   "metadata": {},
   "outputs": [],
   "source": [
    "df_train_final_batch2.to_pickle('df_train_final_batch2.pkl')"
   ]
  },
  {
   "cell_type": "code",
   "execution_count": null,
   "metadata": {},
   "outputs": [],
   "source": [
    "df_train_final_batch2= pd.read_pickle('df_train_final_batch2.pkl')"
   ]
  },
  {
   "cell_type": "code",
   "execution_count": null,
   "metadata": {},
   "outputs": [],
   "source": [
    "df_train_working_batch3= pd.read_pickle(directory+'df_train_working_batch3.pkl')\n",
    "df_train_working_batch3=df_train_final_batch3[df_train_working_batch3.event_id.notnull()]\n",
    "df_train_working_batch3.to_pickle('df_train_working_batch3_v2.pkl')"
   ]
  },
  {
   "cell_type": "code",
   "execution_count": null,
   "metadata": {},
   "outputs": [],
   "source": [
    "df_train_working_batch3=pd.read_pickle('df_train_working_batch3_v2.pkl')\n",
    "df_train_final_batch3=pd.merge(left=df_train_working_batch3,right=train_label, left_on='game_session', right_on='game_session')"
   ]
  },
  {
   "cell_type": "code",
   "execution_count": null,
   "metadata": {},
   "outputs": [],
   "source": [
    "df_train_final_batch3.to_pickle('df_train_final_batch3.pkl')"
   ]
  },
  {
   "cell_type": "code",
   "execution_count": null,
   "metadata": {},
   "outputs": [],
   "source": [
    "df_train_final_batch3= pd.read_pickle('df_train_final_batch3.pkl')"
   ]
  }
 ],
 "metadata": {
  "kernelspec": {
   "display_name": "Python 3",
   "language": "python",
   "name": "python3"
  },
  "language_info": {
   "codemirror_mode": {
    "name": "ipython",
    "version": 3
   },
   "file_extension": ".py",
   "mimetype": "text/x-python",
   "name": "python",
   "nbconvert_exporter": "python",
   "pygments_lexer": "ipython3",
   "version": "3.7.3"
  }
 },
 "nbformat": 4,
 "nbformat_minor": 2
}
